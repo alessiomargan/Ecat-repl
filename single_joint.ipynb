{
 "cells": [
  {
   "cell_type": "code",
   "execution_count": 15,
   "metadata": {},
   "outputs": [],
   "source": [
    "import socket\n",
    "import yaml\n",
    "import argparse\n",
    "from protobuf_to_dict import protobuf_to_dict, dict_to_protobuf\n",
    "\n",
    "import repl_cmd_pb2 as repl_cmd\n",
    "from repl_in import repl_option\n",
    "from zmsg_io import ZmsgIO\n",
    "from base_io import ctrl_cmd_start, ctrl_cmd_stop, ctrl_cmd_set_home, ctrl_cmd_set_zero \n",
    "\n",
    "\n",
    "uri = socket.gethostname()+\".local:5555\"\n",
    "#uri = \"localhost:5555\"\n",
    "io = ZmsgIO(uri)\n",
    "\n",
    "id = 1\n",
    "ids = [id]\n",
    "\n",
    "homing = {\"type\": \"TRJ_CMD\",\n",
    "          \"trajectory_cmd\": {\"type\": \"HOMING\", \"name\": \"homing\", \"board_id\": 1,\n",
    "                             \"homing_par\": {\"x\": [0,3]}}}\n",
    "\n",
    "xs = [0,1,2,3,4]\n",
    "smooth = {\"type\": \"TRJ_CMD\",\n",
    "             \"trajectory_cmd\": {\"type\": \"SMOOTHER\", \"name\": \"smooth\", \"board_id\": 1,\n",
    "                                \"smooth_par\": {\"x\": xs, \"y\": [0, 0.5, 0, -0.5, 0]}}} \n",
    "\n",
    "add_homing = {\"type\": \"TRJ_QUEUE_CMD\",\n",
    "              \"trj_queue_cmd\": {\"type\": \"PUSH_QUE\", \"trj_names\": [\"homing\"]}}\n",
    "add_smooth = {\"type\": \"TRJ_QUEUE_CMD\",\n",
    "              \"trj_queue_cmd\": {\"type\": \"PUSH_QUE\", \"trj_names\": [\"smooth\"]}}\n",
    "\n",
    "io.debug=0"
   ]
  },
  {
   "cell_type": "code",
   "execution_count": 16,
   "metadata": {},
   "outputs": [],
   "source": [
    "reply = io.doit4ids(ids,ctrl_cmd_set_home())"
   ]
  },
  {
   "cell_type": "code",
   "execution_count": 17,
   "metadata": {},
   "outputs": [],
   "source": [
    "reply = io.doit4ids(ids,ctrl_cmd_start())"
   ]
  },
  {
   "cell_type": "code",
   "execution_count": 18,
   "metadata": {},
   "outputs": [],
   "source": [
    "# define trajectories\n",
    "reply = io.doit4ids(ids,homing)\n",
    "reply = io.doit(smooth)\n"
   ]
  },
  {
   "cell_type": "code",
   "execution_count": 19,
   "metadata": {},
   "outputs": [],
   "source": [
    "reply = io.doit(add_homing)"
   ]
  },
  {
   "cell_type": "code",
   "execution_count": 20,
   "metadata": {},
   "outputs": [],
   "source": [
    "reply = io.doit(add_smooth)"
   ]
  },
  {
   "cell_type": "code",
   "execution_count": 21,
   "metadata": {},
   "outputs": [],
   "source": [
    "reply = io.doit4ids(ids,ctrl_cmd_stop())"
   ]
  },
  {
   "cell_type": "code",
   "execution_count": 8,
   "metadata": {},
   "outputs": [
    {
     "name": "stdout",
     "output_type": "stream",
     "text": [
      "type: CTRL_CMD\n",
      "ctrl_cmd {\n",
      "  type: CTRL_CMD_START\n",
      "  board_id: 1\n",
      "  value: 212.0\n",
      "}\n",
      "\n"
     ]
    }
   ],
   "source": [
    "reply = io.doit4ids(ids,ctrl_cmd_start(value=0xD4))"
   ]
  },
  {
   "cell_type": "code",
   "execution_count": 25,
   "metadata": {},
   "outputs": [
    {
     "name": "stdout",
     "output_type": "stream",
     "text": [
      "type: CTRL_CMD\n",
      "ctrl_cmd {\n",
      "  type: CTRL_CMD_START\n",
      "  board_id: 1\n",
      "  gains {\n",
      "    type: IMPEDANCE\n",
      "    kp: 0.5\n",
      "    ki: 0.0\n",
      "    kd: 0.0\n",
      "    kkp: 5.0\n",
      "    kki: 0.8\n",
      "    kkd: 0.01\n",
      "  }\n",
      "}\n",
      "\n"
     ]
    }
   ],
   "source": [
    "io.debug=1\n",
    "gains = {}\n",
    "gains['type'] = \"IMPEDANCE\"\n",
    "gains['kp'] = 1\n",
    "gains['kd'] = 0\n",
    "gains['ki'] = 0\n",
    "gains['kkp'] = 5\n",
    "gains['kkd'] = 0.01\n",
    "gains['kki'] = 0.8\n",
    "reply = io.doit(ctrl_cmd_start(bId=1,gains=gains))"
   ]
  },
  {
   "cell_type": "code",
   "execution_count": 17,
   "metadata": {},
   "outputs": [
    {
     "data": {
      "text/plain": [
       "{'type': 'CTRL_CMD',\n",
       " 'ctrl_cmd': {'type': 'CTRL_CMD_START',\n",
       "  'board_id': 1,\n",
       "  'value': 212,\n",
       "  'gains': {'type': 'IMPEDANCE',\n",
       "   'kp': 10,\n",
       "   'kd': 1,\n",
       "   'ki': 0,\n",
       "   'kkp': 2,\n",
       "   'kkd': 0.01,\n",
       "   'kki': 0.8}}}"
      ]
     },
     "execution_count": 17,
     "metadata": {},
     "output_type": "execute_result"
    }
   ],
   "source": [
    "cmd"
   ]
  },
  {
   "cell_type": "code",
   "execution_count": null,
   "metadata": {},
   "outputs": [],
   "source": []
  }
 ],
 "metadata": {
  "kernelspec": {
   "display_name": "Python 3",
   "language": "python",
   "name": "python3"
  },
  "language_info": {
   "codemirror_mode": {
    "name": "ipython",
    "version": 3
   },
   "file_extension": ".py",
   "mimetype": "text/x-python",
   "name": "python",
   "nbconvert_exporter": "python",
   "pygments_lexer": "ipython3",
   "version": "3.7.3rc1"
  }
 },
 "nbformat": 4,
 "nbformat_minor": 2
}
