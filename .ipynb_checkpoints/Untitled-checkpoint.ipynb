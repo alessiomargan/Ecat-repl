{
 "cells": [
  {
   "cell_type": "code",
   "execution_count": 22,
   "metadata": {},
   "outputs": [],
   "source": [
    "import yaml\n",
    "import argparse\n",
    "from protobuf_to_dict import protobuf_to_dict, dict_to_protobuf\n",
    "\n",
    "from repl_in import repl_option, gen_cmds\n",
    "from zmsg_io import ZmsgIO\n",
    "import repl_cmd_pb2 as repl_cmd\n",
    "\n",
    "uri = \"com-exp.local:5555\"\n",
    "#uri = \"localhost:5555\"\n",
    "io = ZmsgIO(uri)"
   ]
  },
  {
   "cell_type": "code",
   "execution_count": 30,
   "metadata": {},
   "outputs": [
    {
     "name": "stdout",
     "output_type": "stream",
     "text": [
      "type: ACK\n",
      "cmd_type: CTRL_CMD\n",
      "msg: \"Ok google\"\n",
      "\n",
      "\"Ok google\"\n"
     ]
    }
   ],
   "source": [
    "cmd = {\"type\": \"CTRL_CMD\",\n",
    "       \"ctrl_cmd\": {\"type\": \"CTRL_CMD_START\",\"board_id\": 1}}\n",
    "''' send cmd '''\n",
    "io.send_to(cmd)\n",
    "''' wait reply ... blocking'''\n",
    "reply = io.recv_from()"
   ]
  },
  {
   "cell_type": "code",
   "execution_count": 37,
   "metadata": {},
   "outputs": [
    {
     "name": "stdout",
     "output_type": "stream",
     "text": [
      "type: ACK\n",
      "cmd_type: SEND_TRAJECTORY\n",
      "msg: \"Ok google\"\n",
      "\n",
      "\"Ok google\"\n"
     ]
    }
   ],
   "source": [
    "cmd = {\"type\": \"SEND_TRAJECTORY\",\n",
    "       \"trajectory_cmd\": {\"type\": \"HOME\",\"name\": \"homing\",\n",
    "                          \"board_id\": 1, \"x\": [0,1,2,3,4], \"y\": [0,1,2,1,0]}}\n",
    "''' send cmd '''\n",
    "io.send_to(cmd)\n",
    "''' wait reply ... blocking'''\n",
    "reply = io.recv_from()"
   ]
  },
  {
   "cell_type": "code",
   "execution_count": null,
   "metadata": {},
   "outputs": [],
   "source": []
  }
 ],
 "metadata": {
  "kernelspec": {
   "display_name": "Python 3",
   "language": "python",
   "name": "python3"
  },
  "language_info": {
   "codemirror_mode": {
    "name": "ipython",
    "version": 3
   },
   "file_extension": ".py",
   "mimetype": "text/x-python",
   "name": "python",
   "nbconvert_exporter": "python",
   "pygments_lexer": "ipython3",
   "version": "3.7.1"
  }
 },
 "nbformat": 4,
 "nbformat_minor": 2
}
