{
 "cells": [
  {
   "cell_type": "code",
   "execution_count": 1,
   "metadata": {
    "pycharm": {
     "is_executing": false
    }
   },
   "outputs": [],
   "source": [
    "import yaml\n",
    "import argparse\n",
    "from protobuf_to_dict import protobuf_to_dict, dict_to_protobuf\n",
    "\n",
    "from ecat_repl import gen_cmds\n",
    "from ecat_repl import repl_cmd\n",
    "from ecat_repl import ZmsgIO\n"
   ]
  },
  {
   "cell_type": "code",
   "execution_count": 2,
   "metadata": {
    "pycharm": {
     "is_executing": false
    }
   },
   "outputs": [
    {
     "name": "stdout",
     "output_type": "stream",
     "text": [
      "type: FLASH_CMD\n",
      "flash_cmd {\n",
      "  type: LOAD_DEFAULT_PARAMS\n",
      "  board_id: 696\n",
      "}\n",
      "\n"
     ]
    }
   ],
   "source": [
    "d = {\"type\": \"FLASH_CMD\", \"flash_cmd\": {\"type\": \"LOAD_DEFAULT_PARAMS\", \"board_id\": 696}}\n",
    "m = dict_to_protobuf(repl_cmd.Repl_cmd, values=d)\n",
    "print(m)"
   ]
  },
  {
   "cell_type": "code",
   "execution_count": 29,
   "metadata": {
    "pycharm": {
     "is_executing": false
    }
   },
   "outputs": [],
   "source": [
    "d = yaml.load(open(\"repl.yaml\", 'r'),Loader=yaml.FullLoader)\n",
    "#print(d)\n",
    "#print(d['uri'])\n",
    "#io = ZmsgIO(d['uri'])\n",
    "io = ZmsgIO(\"localhost:5555\")"
   ]
  },
  {
   "cell_type": "code",
   "execution_count": 21,
   "metadata": {
    "pycharm": {
     "is_executing": false
    }
   },
   "outputs": [
    {
     "data": {
      "text/plain": [
       "[{'type': 'ECAT_MASTER_CMD', 'ecat_master_cmd': {'type': 'STOP_MASTER'}},\n",
       " {'type': 'ECAT_MASTER_CMD', 'ecat_master_cmd': {'type': 'START_MASTER'}},\n",
       " {'type': 'ECAT_MASTER_CMD', 'ecat_master_cmd': {'type': 'GET_SLAVES_DESCR'}}]"
      ]
     },
     "execution_count": 21,
     "metadata": {},
     "output_type": "execute_result"
    }
   ],
   "source": [
    "list(gen_cmds(d['cmds']))"
   ]
  },
  {
   "cell_type": "code",
   "execution_count": 22,
   "metadata": {
    "pycharm": {}
   },
   "outputs": [],
   "source": [
    "for cmd_dict in gen_cmds(d['cmds']):\n",
    "    ''' send cmd '''\n",
    "    io.send_to(cmd_dict)\n",
    "    ''' wait reply ... blocking'''\n",
    "    reply = io.recv_from()\n"
   ]
  },
  {
   "cell_type": "code",
   "execution_count": 24,
   "metadata": {
    "pycharm": {}
   },
   "outputs": [
    {
     "name": "stdout",
     "output_type": "stream",
     "text": [
      "{'type': 1, 'cmd_type': 5, 'msg': '[{696: {active_ports: 1, esc_type: 36, poistion: 1, robot_id: 696, topology: 1}}]'}\n"
     ]
    }
   ],
   "source": [
    "d = {\"type\": \"ECAT_MASTER_CMD\", \"ecat_master_cmd\": {\"type\": \"GET_SLAVES_DESCR\"}}\n",
    "''' send cmd '''\n",
    "io.send_to(d)\n",
    "''' wait reply ... blocking'''\n",
    "reply = io.recv_from()\n",
    "print(reply)"
   ]
  },
  {
   "cell_type": "code",
   "execution_count": null,
   "metadata": {
    "pycharm": {
     "is_executing": false
    }
   },
   "outputs": [],
   "source": [
    "import socket"
   ]
  },
  {
   "cell_type": "code",
   "execution_count": null,
   "metadata": {
    "pycharm": {
     "is_executing": false
    }
   },
   "outputs": [],
   "source": [
    "socket.gethostname()"
   ]
  },
  {
   "cell_type": "code",
   "execution_count": 16,
   "metadata": {
    "pycharm": {
     "is_executing": false
    }
   },
   "outputs": [],
   "source": [
    "from subprocess import PIPE, Popen"
   ]
  },
  {
   "cell_type": "code",
   "execution_count": 19,
   "metadata": {},
   "outputs": [],
   "source": [
    "proc = Popen([\"basic\", \"/home/amargan/work/code/ecat_dev/ec_master_test/configs/nrt_config.yaml\"], stdout=PIPE, stderr=PIPE)\n"
   ]
  },
  {
   "cell_type": "code",
   "execution_count": 26,
   "metadata": {},
   "outputs": [
    {
     "name": "stdout",
     "output_type": "stream",
     "text": [
      "[b'## Set sig_handler ##\\n', b' .... open /tmp/nrt_pipes/emergency\\n', b' .... open /tmp/nrt_pipes/repl_in\\n', b' .... open /tmp/nrt_pipes/repl_out\\n', b' .... open /tmp/nrt_pipes/debugOut\\n', b' .... open /tmp/nrt_pipes/EC_board_input\\n', b'[0MQ Rep] bind to tcp://*:5555, zmq_rcvtimeo_ms 500\\n', b'[0MQ Rep] Opening xddp /tmp/nrt_pipes/repl_in\\n', b'[0MQ Rep] Opening xddp /tmp/nrt_pipes/repl_out\\n', b'th_init config_mode\\n', b'[ECat_master] Using enp35s0\\n', b'[ECat_master] POWER ON slaves.\\n', b'slavecnt wkc = 1\\n', b'[ECat_master] 1 EtherCAT slaves identified.\\n', b'[ECat_master] Request 0x02 state for all slaves\\n', b'>> factory 298 id 0x0024 : conf_addr 1001 pos 1 rev 0 alias 0\\n', b'\\tsupport DC 1\\n', b'\\ttopology 1 port act 1\\n', b'\\tIbytes 28 Obytes 2\\n', b'\\tUsing config Ft6Msp432ESC_X\\n', b' .... open /tmp/nrt_pipes/NoNe@Ft_id_696\\n', b'Ctor pos 1 id 696\\n', b'\\tBoard id 696\\n', b'\\tfw_ver \\n', b'>>find_root id 696\\n', b'found 0 pows\\n', b'found 0 powF28M36s\\n', b'found 0 powCmns\\n', b'found 0 motors\\n', b'found 0 fts\\n', b'found 1 ftsMsp\\n', b'found 0 foot_10x5\\n', b'found 0 skin_8x3\\n', b'found 0 tests\\n', b'non_periodic_thread EC_boards_basic, period 1 us\\n', b'non_periodic_thread EC_boards_basic : start looping ...\\n', b'th_init config_mode\\n', b'[0MQ Pub] publisher bind to tcp://*:9696\\n', b'[0MQ Pub] Opening xddp_socket /tmp/nrt_pipes/NoNe@Ft_id_696\\n', b'non_periodic_thread ZMQ_Pub_thread, period 1 us\\n', b'non_periodic_thread ZMQ_Pub_thread : start looping ...\\n', b'[0MQ Rep] hdr MASTER_CMD \\n', b'[0MQ Rep] pb_msg\\n', b'type: ECAT_MASTER_CMD\\n', b'ecat_master_cmd {\\n', b'  type: STOP_MASTER\\n', b'}\\n', b'\\n', b'non_periodic_thread ZMQ_Pub_thread : exit thread ...\\n', b'~P15SimplePublisher\\n', b'\\tCount 11\\n', b'\\tMean 1.00015e+09\\tMin 1000062017\\tMax 1000876321\\tVar 5.35312e+10\\tErrOfMean 73165\\n', b'~P11Thread_hook ZMQ_Pub_thread\\n', b'non_periodic_thread EC_boards_basic : exit thread ...\\n', b'~P15Ec_Boards_basic\\n', b' .... close /tmp/nrt_pipes/EC_board_input\\n', b'~P21Ec_Thread_Boards_base\\n', b'\\tCount 10511\\n', b'\\tMean 1.04666e+06\\tMin 11461\\tMax 1859222\\tVar 8.83237e+09\\tErrOfMean 916.721\\n', b' .... close /tmp/nrt_pipes/debugOut\\n', b' .... close /tmp/nrt_pipes/repl_out\\n', b' .... close /tmp/nrt_pipes/repl_in\\n', b' .... close /tmp/nrt_pipes/emergency\\n', b'~PN3iit4ecat4advr14Ec_Boards_ctrlE\\n', b'[ECat_master] Stop ecat_thread\\n', b'[ECat_master] Request 0x02 state for all slaves\\n', b'[ECat_master] Request 0x01 state for all slaves\\n', b'[ECat_master] close\\n', b'~PN3iit4ecat4advr12Ft6Msp432ESCE pos 1\\n', b'No data ...\\n', b' .... close /tmp/nrt_pipes/NoNe@Ft_id_696\\n', b'~P11Thread_hook EC_boards_basic\\n', b'[0MQ Rep] pb_reply\\n', b'type: ACK\\n', b'cmd_type: ECAT_MASTER_CMD\\n', b'msg: \"Success\"\\n', b'\\n', b'[0MQ Rep] hdr MASTER_CMD \\n', b'[0MQ Rep] pb_msg\\n', b'type: ECAT_MASTER_CMD\\n', b'ecat_master_cmd {\\n', b'  type: START_MASTER\\n', b'}\\n', b'\\n', b' .... open /tmp/nrt_pipes/emergency\\n', b' .... open /tmp/nrt_pipes/repl_in\\n', b' .... open /tmp/nrt_pipes/repl_out\\n', b' .... open /tmp/nrt_pipes/debugOut\\n', b' .... open /tmp/nrt_pipes/EC_board_input\\n', b'th_init config_mode\\n', b'[ECat_master] Using enp35s0\\n', b'[ECat_master] POWER ON slaves.\\n', b'slavecnt wkc = 1\\n', b'[ECat_master] 1 EtherCAT slaves identified.\\n', b'[ECat_master] Request 0x02 state for all slaves\\n', b'>> factory 298 id 0x0024 : conf_addr 1001 pos 1 rev 0 alias 0\\n', b'\\tsupport DC 1\\n', b'\\ttopology 1 port act 1\\n', b'\\tIbytes 28 Obytes 2\\n', b'\\tUsing config Ft6Msp432ESC_X\\n', b' .... open /tmp/nrt_pipes/NoNe@Ft_id_696\\n', b'Ctor pos 1 id 696\\n', b'\\tBoard id 696\\n', b'\\tfw_ver \\n', b'>>find_root id 696\\n', b'found 0 pows\\n', b'found 0 powF28M36s\\n', b'found 0 powCmns\\n', b'found 0 motors\\n', b'found 0 fts\\n', b'found 1 ftsMsp\\n', b'found 0 foot_10x5\\n', b'found 0 skin_8x3\\n', b'found 0 tests\\n', b'non_periodic_thread EC_boards_basic, period 1 us\\n', b'non_periodic_thread EC_boards_basic : start looping ...\\n', b'[0MQ Rep] Opening xddp /tmp/nrt_pipes/repl_in\\n', b'[0MQ Rep] Opening xddp /tmp/nrt_pipes/repl_out\\n', b'[0MQ Rep] pb_reply\\n', b'type: ACK\\n', b'cmd_type: ECAT_MASTER_CMD\\n', b'msg: \"Success\"\\n', b'\\n', b'th_init config_mode\\n', b'[0MQ Pub] publisher bind to tcp://*:9696\\n', b'[0MQ Pub] Opening xddp_socket /tmp/nrt_pipes/NoNe@Ft_id_696\\n', b'non_periodic_thread ZMQ_Pub_thread, period 1 us\\n', b'non_periodic_thread ZMQ_Pub_thread : start looping ...\\n', b'[0MQ Rep] hdr MASTER_CMD \\n', b'[0MQ Rep] pb_msg\\n', b'type: ECAT_MASTER_CMD\\n', b'ecat_master_cmd {\\n', b'  type: GET_SLAVES_DESCR\\n', b'}\\n', b'\\n', b'[0MQ Rep] pb_reply\\n', b'type: ACK\\n', b'cmd_type: ECAT_MASTER_CMD\\n', b'msg: \"[{696: {active_ports: 1, esc_type: 36, poistion: 1, robot_id: 696, topology: 1}}]\"\\n', b'\\n', b'[0MQ Rep] hdr MASTER_CMD \\n', b'[0MQ Rep] pb_msg\\n', b'type: ECAT_MASTER_CMD\\n', b'ecat_master_cmd {\\n', b'  type: GET_SLAVES_DESCR\\n', b'}\\n', b'\\n', b'[0MQ Rep] pb_reply\\n', b'type: ACK\\n', b'cmd_type: ECAT_MASTER_CMD\\n', b'msg: \"[{696: {active_ports: 1, esc_type: 36, poistion: 1, robot_id: 696, topology: 1}}]\"\\n', b'\\n', b'[0MQ Rep] hdr MASTER_CMD \\n', b'[0MQ Rep] pb_msg\\n', b'type: ECAT_MASTER_CMD\\n', b'ecat_master_cmd {\\n', b'  type: GET_SLAVES_DESCR\\n', b'}\\n', b'\\n', b'[0MQ Rep] pb_reply\\n', b'type: ACK\\n', b'cmd_type: ECAT_MASTER_CMD\\n', b'msg: \"[{696: {active_ports: 1, esc_type: 36, poistion: 1, robot_id: 696, topology: 1}}]\"\\n', b'\\n', b'Handling signal 15\\n', b'catching .... Interrupted system call\\n', b'join threads .... \\n', b'non_periodic_thread ZMQ_Pub_thread : exit thread ...\\n', b'~P15SimplePublisher\\n', b'\\tCount 49\\n', b'\\tMean 1.00009e+09\\tMin 1000057764\\tMax 1000257404\\tVar -7.52928e+17\\tErrOfMean -nan\\n', b'~P11Thread_hook ZMQ_Pub_thread\\n', b'non_periodic_thread EC_boards_basic : exit thread ...\\n', b'~P15Ec_Boards_basic\\n', b' .... close /tmp/nrt_pipes/EC_board_input\\n', b'~P21Ec_Thread_Boards_base\\n', b'\\tCount 46798\\n', b'\\tMean 1.04714e+06\\tMin 5901\\tMax 1878613\\tVar 8.72653e+09\\tErrOfMean 431.829\\n', b' .... close /tmp/nrt_pipes/debugOut\\n', b' .... close /tmp/nrt_pipes/repl_out\\n', b' .... close /tmp/nrt_pipes/repl_in\\n', b' .... close /tmp/nrt_pipes/emergency\\n', b'~PN3iit4ecat4advr14Ec_Boards_ctrlE\\n', b'[ECat_master] Stop ecat_thread\\n', b'[ECat_master] Request 0x02 state for all slaves\\n', b'[ECat_master] Request 0x01 state for all slaves\\n', b'[ECat_master] close\\n', b'~PN3iit4ecat4advr12Ft6Msp432ESCE pos 1\\n', b'No data ...\\n', b' .... close /tmp/nrt_pipes/NoNe@Ft_id_696\\n', b'~P11Thread_hook EC_boards_basic\\n', b'Exit main\\n', b'~P11Thread_hook ZMQ_Rep_thread\\n']\n"
     ]
    }
   ],
   "source": [
    "print(proc.stdout.readlines())\n"
   ]
  },
  {
   "cell_type": "code",
   "execution_count": null,
   "metadata": {},
   "outputs": [],
   "source": [
    "proc"
   ]
  },
  {
   "cell_type": "code",
   "execution_count": null,
   "metadata": {},
   "outputs": [],
   "source": []
  },
  {
   "cell_type": "code",
   "execution_count": null,
   "metadata": {},
   "outputs": [],
   "source": [
    "proc"
   ]
  },
  {
   "cell_type": "code",
   "execution_count": 25,
   "metadata": {},
   "outputs": [],
   "source": [
    "proc.terminate()"
   ]
  },
  {
   "cell_type": "code",
   "execution_count": null,
   "metadata": {},
   "outputs": [],
   "source": [
    "proc.signal(9)"
   ]
  },
  {
   "cell_type": "code",
   "execution_count": null,
   "metadata": {},
   "outputs": [],
   "source": []
  },
  {
   "cell_type": "code",
   "execution_count": null,
   "metadata": {},
   "outputs": [],
   "source": []
  },
  {
   "cell_type": "code",
   "execution_count": null,
   "metadata": {},
   "outputs": [],
   "source": []
  }
 ],
 "metadata": {
  "kernelspec": {
   "display_name": "Python 3",
   "language": "python",
   "name": "python3"
  },
  "language_info": {
   "codemirror_mode": {
    "name": "ipython",
    "version": 3
   },
   "file_extension": ".py",
   "mimetype": "text/x-python",
   "name": "python",
   "nbconvert_exporter": "python",
   "pygments_lexer": "ipython3",
   "version": "3.7.3"
  }
 },
 "nbformat": 4,
 "nbformat_minor": 4
}
