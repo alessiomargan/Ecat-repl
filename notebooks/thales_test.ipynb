{
 "cells": [
  {
   "cell_type": "code",
   "execution_count": null,
   "metadata": {
    "pycharm": {}
   },
   "outputs": [],
   "source": [
    "%run my_import\n",
    "#from my_import import *\n",
    "import numpy as np\n",
    "\n",
    "#uri = socket.gethostname()+\".local:5555\"\n",
    "#uri = \"localhost:5555\"\n",
    "uri = \"com-exp.local:5555\"\n",
    "#uri = \"mio-thales.local:5555\"\n",
    "#uri = \"mirror-ecat-srv.local:5555\"\n",
    "#uri = \"192.168.99.10:5555\"\n",
    "\n",
    "io = set_uri(uri)\n",
    "io.debug = False\n",
    "scan_ids = []\n",
    "\n",
    "\n",
    "# all \n",
    "robot_ids = [11,12,13,14,15,16,17]\n",
    "#robot_ids = [4]\n",
    "\n",
    "home = { iD: 0 for iD in robot_ids }\n",
    "#home[14] = -1.45\n",
    "\n",
    "homing = {\"type\": \"TRJ_CMD\",\n",
    "          \"trajectory_cmd\": {\"type\": \"HOMING\", \"name\": \"homing\", \"board_id\": 1, \"homing_par\": {\"x\": [0,3]}}}\n",
    "\n",
    "xs = list(range(9))\n",
    "xs = np.multiply(xs,2)\n",
    "smooth = {\"type\": \"TRJ_CMD\",\n",
    "          \"trajectory_cmd\": {\"type\": \"SMOOTHER\", \"name\": \"smooth\", \"board_id\": 1,\n",
    "                             \"smooth_par\": {\"x\": xs,\n",
    "                                            \"y\": [0,-0.5, 0, 0.5, 0, -1.3, 0, 1.3, 0]}\n",
    "                                            #\"y\": [0,-0.2, 0, 0.2, 0, -0.2, 0, 0.2, 0]}\n",
    "                            }\n",
    "         } \n",
    "\n",
    "xss = list(range(5))\n",
    "xss = np.multiply(xss,2)\n",
    "pitch = {\"type\": \"TRJ_CMD\",\n",
    "             \"trajectory_cmd\": {\"type\": \"SMOOTHER\", \"name\": \"pitch_smooth\", \"board_id\": -1,\n",
    "                               \"smooth_par\": {\"x\": xss,\n",
    "                                            \"y\": [0,-0.7, 0, 1.0, 0]}\n",
    "                            }\n",
    "         } \n",
    "\n",
    "\n",
    "park_x6 = {\"type\": \"TRJ_CMD\",\n",
    "             \"trajectory_cmd\": {\"type\": \"SMOOTHER\", \"name\": \"park_smooth\", \"board_id\": -1,\n",
    "                                \"smooth_par\": {\"x\": [0,3],\n",
    "                                               \"y\": [0, -0.7]}\n",
    "                               }\n",
    "    }\n",
    "park_x4 = {\"type\": \"TRJ_CMD\",\n",
    "             \"trajectory_cmd\": {\"type\": \"SMOOTHER\", \"name\": \"park_smooth\", \"board_id\": -1,\n",
    "                                \"smooth_par\": {\"x\": [0,3],\n",
    "                                               \"y\": [0, -1.8]}\n",
    "                               }\n",
    "    }\n",
    "park_x2 = {\"type\": \"TRJ_CMD\",\n",
    "             \"trajectory_cmd\": {\"type\": \"SMOOTHER\", \"name\": \"park_smooth\", \"board_id\": -1,\n",
    "                                \"smooth_par\": {\"x\": [0,3],\n",
    "                                               \"y\": [0, 1.3]}\n",
    "                               }\n",
    "    }\n",
    "\n",
    "\n",
    "add_homing = {\"type\": \"TRJ_QUEUE_CMD\",\n",
    "              \"trj_queue_cmd\": {\"type\": \"PUSH_QUE\", \"trj_names\": [\"homing\"]}}\n",
    "\n",
    "add_smooth = {\"type\": \"TRJ_QUEUE_CMD\",\n",
    "              \"trj_queue_cmd\": {\"type\": \"PUSH_QUE\", \"trj_names\": [\"smooth\"]}}\n",
    "\n",
    "add_park = {\"type\": \"TRJ_QUEUE_CMD\",\n",
    "              \"trj_queue_cmd\": {\"type\": \"PUSH_QUE\", \"trj_names\": [\"park_smooth\"]}}\n",
    "\n",
    "add_pitch = {\"type\": \"TRJ_QUEUE_CMD\",\n",
    "              \"trj_queue_cmd\": {\"type\": \"PUSH_QUE\", \"trj_names\": [\"pitch_smooth\"]}}\n",
    "\n"
   ]
  },
  {
   "cell_type": "code",
   "execution_count": null,
   "metadata": {
    "pycharm": {}
   },
   "outputs": [],
   "source": [
    "reply = io.doit(master_cmd_get_slave_descr)\n",
    "slave_descr = yaml.safe_load(reply['msg'])\n",
    "scan_ids = slave_descr.keys()\n",
    "scan_ids"
   ]
  },
  {
   "cell_type": "markdown",
   "metadata": {},
   "source": [
    "# Define trajectories"
   ]
  },
  {
   "cell_type": "code",
   "execution_count": null,
   "metadata": {
    "pycharm": {}
   },
   "outputs": [],
   "source": [
    "# define trajectories\n",
    "# reset trj names ???\n",
    "[g for g in io.doit4ids(robot_ids,homing)]\n",
    "[g for g in io.doit4ids(robot_ids,smooth)]\n",
    "# overwrite \"smooth\" for pitch(s) \n",
    "#[g for g in io.doit4ids([4],smooth_x4)]\n",
    "#\n",
    "[g for g in io.doit4ids([12],park_x2)]\n",
    "[g for g in io.doit4ids([14],park_x4)]\n",
    "[g for g in io.doit4ids([16],park_x6)]\n",
    "# pitch \n",
    "[g for g in io.doit4ids([12,14,16],pitch)]\n"
   ]
  },
  {
   "cell_type": "code",
   "execution_count": null,
   "metadata": {
    "pycharm": {}
   },
   "outputs": [],
   "source": [
    "#[g for g in io.doit4ids(robot_ids,ctrl_cmd_set_home)]\n",
    "for iD in robot_ids :\n",
    "    io.doit(ctrl_cmd_set_home.set_value(home[iD]).set_bid(iD))"
   ]
  },
  {
   "cell_type": "markdown",
   "metadata": {},
   "source": [
    "# Position test"
   ]
  },
  {
   "cell_type": "code",
   "execution_count": null,
   "metadata": {},
   "outputs": [],
   "source": [
    "# start motors in POSITION\n",
    "[g for g in io.doit4ids(robot_ids,ctrl_cmd_start().set_value(0x3B).set_gains(u'POSITION',220,35,0,0,0))]\n",
    "#[g for g in io.doit4ids(robot_ids,ctrl_cmd_start().set_value(0x4D).set_gains(u'IMPEDANCE',2000,40,1,0.4,0.01))]\n"
   ]
  },
  {
   "cell_type": "code",
   "execution_count": null,
   "metadata": {},
   "outputs": [],
   "source": [
    "for iD in robot_ids :\n",
    "    ctrl_status_cmd_str('RELEASE_BRAKE', iD)"
   ]
  },
  {
   "cell_type": "code",
   "execution_count": null,
   "metadata": {
    "pycharm": {}
   },
   "outputs": [],
   "source": [
    "reply = io.doit(add_homing)"
   ]
  },
  {
   "cell_type": "code",
   "execution_count": null,
   "metadata": {
    "pycharm": {}
   },
   "outputs": [],
   "source": [
    "reply = io.doit(add_smooth)"
   ]
  },
  {
   "cell_type": "code",
   "execution_count": null,
   "metadata": {},
   "outputs": [],
   "source": [
    "reply = io.doit(add_pitch)"
   ]
  },
  {
   "cell_type": "code",
   "execution_count": null,
   "metadata": {},
   "outputs": [],
   "source": [
    "reply = io.doit(add_park)"
   ]
  },
  {
   "cell_type": "code",
   "execution_count": null,
   "metadata": {
    "pycharm": {}
   },
   "outputs": [],
   "source": [
    "for i in range(3):\n",
    "    reply = io.doit(add_smooth)\n",
    "    reply = io.doit(add_pitch)\n",
    "    reply = io.doit(add_homing)\n",
    "    reply = io.doit(add_park)\n",
    "    reply = io.doit(add_homing)\n",
    "    print (\"CICLO \", i)\n",
    "    #time.sleep(1)"
   ]
  },
  {
   "cell_type": "code",
   "execution_count": null,
   "metadata": {},
   "outputs": [],
   "source": [
    "reply = io.doit(add_park)"
   ]
  },
  {
   "cell_type": "code",
   "execution_count": null,
   "metadata": {},
   "outputs": [],
   "source": [
    "for iD in robot_ids :\n",
    "    ctrl_status_cmd_str('ENGAGE_BRAKE', iD)"
   ]
  },
  {
   "cell_type": "code",
   "execution_count": null,
   "metadata": {
    "pycharm": {}
   },
   "outputs": [],
   "source": [
    "[g for g in io.doit4ids(robot_ids,ctrl_cmd_stop)]"
   ]
  },
  {
   "cell_type": "code",
   "execution_count": null,
   "metadata": {},
   "outputs": [],
   "source": []
  },
  {
   "cell_type": "code",
   "execution_count": null,
   "metadata": {},
   "outputs": [],
   "source": [
    "io.debug=0\n",
    "gains = {}\n",
    "gains['type'] = \"POSITION\"\n",
    "gains['pos_kp'] = 200\n",
    "gains['pos_kd'] = 10\n",
    "gains['tor_kp'] = 0\n",
    "gains['tor_kd'] = 0\n",
    "gains['tor_ki'] = 0\n",
    "#[g for g in io.doit4ids(robot_ids,ctrl_cmd_start().set_value(0x3B).set_gains(u'POSITION',200,15,0,0,0))]\n",
    "[g for g in io.doit4ids(robot_ids,ctrl_cmd_start().set_value(0x4D).set_gains(u'IMPEDANCE',300,10,1,0.75,0.005))]\n",
    "#[g for g in io.doit4ids(robot_ids,ctrl_cmd_start().set_value(0x3B).set_gains(*gains))]"
   ]
  },
  {
   "cell_type": "code",
   "execution_count": null,
   "metadata": {},
   "outputs": [],
   "source": [
    "rd_sdo=['motor_pos','motor_vel','link_pos','fault','master_cmd_status_copy']\n",
    "ret=read_sdo(rd_sdo,robot_ids)\n",
    "pp(ret)\n",
    "rd_sdo=['gain_0','gain_1','gain_2','gain_','gain_4']\n",
    "#ret=read_sdo(rd_sdo,robot_ids)\n",
    "#pp(ret)"
   ]
  },
  {
   "cell_type": "code",
   "execution_count": null,
   "metadata": {},
   "outputs": [],
   "source": [
    "io.debug=0\n",
    "for iD in robot_ids:\n",
    "    reply = io.doit(SdoCmd(rd_sdo=['gain_0','gain_1','gain_2','gain_','gain_4'],wr_sdo={}).set_bid(iD))\n",
    "    yaml_msg = yaml.safe_load(reply['msg'])\n",
    "    print(iD,yaml_msg)"
   ]
  },
  {
   "cell_type": "markdown",
   "metadata": {},
   "source": [
    "# Impedance"
   ]
  },
  {
   "cell_type": "code",
   "execution_count": null,
   "metadata": {},
   "outputs": [],
   "source": [
    "# start motors in IMPEDANCE\n",
    "# 1st yaws stiff 200 or 70 damp 10\n",
    "[g for g in io.doit4ids([12],ctrl_cmd_start().set_value(0x4D).set_gains(u'IMPEDANCE',700,10,1,0.85,0.007))]\n",
    "[g for g in io.doit4ids([14],ctrl_cmd_start().set_value(0x4D).set_gains(u'IMPEDANCE',500,10,1,0.85,0.007))]\n",
    "[g for g in io.doit4ids([16],ctrl_cmd_start().set_value(0x4D).set_gains(u'IMPEDANCE',100,10,1,0.85,0.007))]\n",
    "# other yaws + last pitch stiff 100 or 30 damp 10\n",
    "[g for g in io.doit4ids([11,13,15],ctrl_cmd_start().set_value(0x4D).set_gains(u'IMPEDANCE',200,10,1,0.85,0.007))]\n",
    "[g for g in io.doit4ids([17],ctrl_cmd_start().set_value(0x4D).set_gains(u'IMPEDANCE',100,10,1,0.85,0.01))]\n",
    "# 1st 2nd pitches stiff 700 or 250 damp 10\n",
    "#[g for g in io.doit4ids([12,13,22,23,32,33],ctrl_cmd_start().set_value(0x4D).set_gains(u'IMPEDANCE',700,10,1,0.75,0.007))]\n",
    "# 3rd leg\n",
    "#[g for g in io.doit4ids(_3rdL,ctrl_cmd_stop)]\n",
    "#[g for g in io.doit4ids(_3rdL,ctrl_cmd_start().set_value(0x4D).set_gains(u'IMPEDANCE',0,2,1,0.85,0.005))]\n"
   ]
  },
  {
   "cell_type": "code",
   "execution_count": null,
   "metadata": {},
   "outputs": [],
   "source": [
    "for iD in robot_ids :\n",
    "    ctrl_status_cmd_str('RELEASE_BRAKE', iD)"
   ]
  },
  {
   "cell_type": "code",
   "execution_count": null,
   "metadata": {},
   "outputs": [],
   "source": [
    "reply = io.doit(add_homing)"
   ]
  },
  {
   "cell_type": "code",
   "execution_count": null,
   "metadata": {},
   "outputs": [],
   "source": [
    "reply = io.doit(add_park)"
   ]
  },
  {
   "cell_type": "code",
   "execution_count": null,
   "metadata": {},
   "outputs": [],
   "source": [
    "reply = io.doit(add_pitch)"
   ]
  },
  {
   "cell_type": "code",
   "execution_count": null,
   "metadata": {},
   "outputs": [],
   "source": [
    "for i in range(2):\n",
    "    reply = io.doit(add_smooth)\n",
    "    rreply = io.doit(add_pitch)\n",
    "    reply = io.doit(add_homing)\n",
    "    print (\"CICLO \", i)"
   ]
  },
  {
   "cell_type": "code",
   "execution_count": null,
   "metadata": {},
   "outputs": [],
   "source": [
    "reply = io.doit(add_park)"
   ]
  },
  {
   "cell_type": "code",
   "execution_count": null,
   "metadata": {},
   "outputs": [],
   "source": [
    "for iD in robot_ids :\n",
    "    ctrl_status_cmd_str('ENGAGE_BRAKE', iD)"
   ]
  },
  {
   "cell_type": "code",
   "execution_count": null,
   "metadata": {},
   "outputs": [],
   "source": [
    "[g for g in io.doit4ids(robot_ids,ctrl_cmd_stop)]"
   ]
  },
  {
   "cell_type": "code",
   "execution_count": null,
   "metadata": {},
   "outputs": [],
   "source": [
    "np.multiply(list(range(9)),10)"
   ]
  },
  {
   "cell_type": "code",
   "execution_count": null,
   "metadata": {},
   "outputs": [],
   "source": [
    "home[4]"
   ]
  },
  {
   "cell_type": "code",
   "execution_count": null,
   "metadata": {},
   "outputs": [],
   "source": [
    "sdo_names = reply_cmd(SdoInfo(u'SDO_NAME').set_bid(11))\n",
    "sdo_dict = reply_cmd(SdoCmd(rd_sdo=sdo_names,wr_sdo={}).set_bid(17))"
   ]
  },
  {
   "cell_type": "code",
   "execution_count": null,
   "metadata": {},
   "outputs": [],
   "source": [
    "sdo_dict"
   ]
  },
  {
   "cell_type": "code",
   "execution_count": null,
   "metadata": {},
   "outputs": [],
   "source": []
  }
 ],
 "metadata": {
  "kernelspec": {
   "display_name": "repl",
   "language": "python",
   "name": "repl"
  },
  "language_info": {
   "codemirror_mode": {
    "name": "ipython",
    "version": 3
   },
   "file_extension": ".py",
   "mimetype": "text/x-python",
   "name": "python",
   "nbconvert_exporter": "python",
   "pygments_lexer": "ipython3",
   "version": "3.7.3"
  }
 },
 "nbformat": 4,
 "nbformat_minor": 4
}
