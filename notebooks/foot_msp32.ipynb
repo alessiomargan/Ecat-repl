{
 "cells": [
  {
   "cell_type": "code",
   "execution_count": 1,
   "metadata": {},
   "outputs": [],
   "source": [
    "%run my_import\n",
    "\n",
    "#uri = socket.gethostname()+\".local:5555\"\n",
    "uri = \"localhost:5555\"\n",
    "#uri = \"nuc-i7.local:5555\"\n",
    "#uri = \"com-exp.local:5555\"\n",
    "#uri = \"advantech.local:5555\"\n",
    "io = ZmsgIO(uri)\n",
    "io.debug = False\n",
    "scan_ids = []\n"
   ]
  },
  {
   "cell_type": "code",
   "execution_count": 20,
   "metadata": {},
   "outputs": [
    {
     "data": {
      "text/plain": [
       "[696]"
      ]
     },
     "execution_count": 20,
     "metadata": {},
     "output_type": "execute_result"
    }
   ],
   "source": [
    "reply = io.doit(master_cmd_get_slave_descr)\n",
    "yaml_msg = yaml.safe_load(reply['msg'])\n",
    "scan_ids = yaml_msg.keys()\n",
    "ids=list(scan_ids)\n",
    "ids"
   ]
  },
  {
   "cell_type": "code",
   "execution_count": 21,
   "metadata": {},
   "outputs": [
    {
     "data": {
      "text/plain": [
       "['force_x',\n",
       " 'force_y',\n",
       " 'force_z',\n",
       " 'torque_x',\n",
       " 'torque_y',\n",
       " 'torque_z',\n",
       " 'fault',\n",
       " 'rtt',\n",
       " 'ts',\n",
       " 'board_id',\n",
       " 'analog_sample_freq_HZ',\n",
       " 'dac_tune_bitflag',\n",
       " 'module_params',\n",
       " 'dac_tune_debouce',\n",
       " 'fw_ver',\n",
       " 'ctrl_status_cmd',\n",
       " 'ctrl_status_cmd_ack',\n",
       " 'flash_params_cmd',\n",
       " 'flash_params_cmd_ack',\n",
       " 'fault_ack',\n",
       " 'temperature',\n",
       " 'adc_idx',\n",
       " 'adc_conv',\n",
       " 'adc_raw',\n",
       " 'dac_offset']"
      ]
     },
     "execution_count": 21,
     "metadata": {},
     "output_type": "execute_result"
    }
   ],
   "source": [
    "reply = io.doit(SdoInfo(u'SDO_NAME').set_bid(ids[0]))\n",
    "yaml_msg = yaml.safe_load(reply['msg'])\n",
    "sdo_names = yaml_msg\n",
    "sdo_names"
   ]
  },
  {
   "cell_type": "code",
   "execution_count": 22,
   "metadata": {},
   "outputs": [
    {
     "data": {
      "text/plain": [
       "{'adc_conv': 0.0,\n",
       " 'adc_idx': 0,\n",
       " 'adc_raw': 0,\n",
       " 'analog_sample_freq_HZ': 10000,\n",
       " 'board_id': 696,\n",
       " 'ctrl_status_cmd': 0,\n",
       " 'ctrl_status_cmd_ack': 0,\n",
       " 'dac_offset': 0,\n",
       " 'dac_tune_bitflag': 0,\n",
       " 'dac_tune_debouce': 5,\n",
       " 'fault': 1,\n",
       " 'fault_ack': 0,\n",
       " 'flash_params_cmd': 0,\n",
       " 'flash_params_cmd_ack': 0,\n",
       " 'force_x': 0.90097,\n",
       " 'force_y': 1.85745,\n",
       " 'force_z': 1.178977,\n",
       " 'fw_ver': 20091716,\n",
       " 'module_params': 0,\n",
       " 'rtt': 39271,\n",
       " 'temperature': 0.0,\n",
       " 'torque_x': 1.419165,\n",
       " 'torque_y': 0.0,\n",
       " 'torque_z': 0.0,\n",
       " 'ts': 39271}"
      ]
     },
     "execution_count": 22,
     "metadata": {},
     "output_type": "execute_result"
    }
   ],
   "source": [
    "reply = io.doit(SdoCmd(rd_sdo=sdo_names,wr_sdo={}).set_bid(ids[0]))\n",
    "yaml_msg = yaml.safe_load(reply['msg'])\n",
    "yaml_msg"
   ]
  },
  {
   "cell_type": "code",
   "execution_count": 45,
   "metadata": {},
   "outputs": [
    {
     "data": {
      "text/plain": [
       "{'type': 1, 'cmd_type': 2, 'msg': 'Ok !!!'}"
      ]
     },
     "execution_count": 45,
     "metadata": {},
     "output_type": "execute_result"
    }
   ],
   "source": [
    "io.doit(ctrl_cmd_dac_tune.set_bid(696))"
   ]
  },
  {
   "cell_type": "code",
   "execution_count": 46,
   "metadata": {},
   "outputs": [
    {
     "data": {
      "text/plain": [
       "{'type': 1,\n",
       " 'cmd_type': 7,\n",
       " 'msg': '{analog_sample_freq_HZ: 10000, fw_ver: 20091716}'}"
      ]
     },
     "execution_count": 46,
     "metadata": {},
     "output_type": "execute_result"
    }
   ],
   "source": [
    "s=SdoCmd(rd_sdo=['fw_ver','analog_sample_freq_HZ'],wr_sdo={'adc_idx': 0}).set_bid(ids[0])\n",
    "asdict(s)\n",
    "io.doit(s)"
   ]
  },
  {
   "cell_type": "code",
   "execution_count": 25,
   "metadata": {},
   "outputs": [
    {
     "data": {
      "text/plain": [
       "{'type': 1, 'cmd_type': 7, 'msg': '{adc_conv: 0.900665, adc_raw: 5906}'}"
      ]
     },
     "execution_count": 25,
     "metadata": {},
     "output_type": "execute_result"
    }
   ],
   "source": [
    "io.doit(SdoCmd(rd_sdo=[],wr_sdo={'adc_idx': 0}).set_bid(ids[0]))\n",
    "io.doit(ctrl_cmd_get_adc.set_bid(ids[0]))\n",
    "io.doit(SdoCmd(rd_sdo=['adc_conv','adc_raw'],wr_sdo={}).set_bid(ids[0]))"
   ]
  },
  {
   "cell_type": "code",
   "execution_count": 26,
   "metadata": {},
   "outputs": [
    {
     "name": "stdout",
     "output_type": "stream",
     "text": [
      "{adc_conv: 0.901885, adc_raw: 5914}\n",
      "{adc_conv: 1.857145, adc_raw: 12178}\n",
      "{adc_conv: 1.177452, adc_raw: 7721}\n",
      "{adc_conv: 1.416115, adc_raw: 9286}\n"
     ]
    },
    {
     "data": {
      "text/plain": [
       "['0x171a', '0x2f92', '0x1e29', '0x2446']"
      ]
     },
     "execution_count": 26,
     "metadata": {},
     "output_type": "execute_result"
    }
   ],
   "source": [
    "import time, sys\n",
    "adc_conv = list()\n",
    "adc_raw = list()\n",
    "for j in range(1):\n",
    "    for i in range(4):\n",
    "        io.doit(SdoCmd(rd_sdo=[],wr_sdo={'adc_idx': i}).set_bid(ids[0]))\n",
    "        io.doit(ctrl_cmd_get_adc.set_bid(ids[0]))\n",
    "        reply=io.doit(SdoCmd(rd_sdo=['adc_conv','adc_raw'],wr_sdo={}).set_bid(ids[0]))\n",
    "        yaml_msg = yaml.safe_load(reply['msg'])\n",
    "        adc_raw.append(yaml_msg['adc_raw'])\n",
    "        adc_conv.append(yaml_msg['adc_conv'])\n",
    "        print(reply['msg'])\n",
    "        time.sleep(0.1)\n",
    "        \n",
    "[hex(x) for x in adc_raw]"
   ]
  },
  {
   "cell_type": "code",
   "execution_count": 17,
   "metadata": {
    "pycharm": {
     "name": "#%%\n"
    }
   },
   "outputs": [],
   "source": [
    "import time, sys\n",
    "def tune_adc_chan(adc_idx) :\n",
    "    dac_offset = 0x7FFF\n",
    "    hister = 2\n",
    "    tuned = False\n",
    "    while ( not tuned ):\n",
    "        io.doit(SdoCmd(rd_sdo=[],wr_sdo={'adc_idx': adc_idx, 'dac_offset':dac_offset}).set_bid(ids[0]))\n",
    "        io.doit(ctrl_cmd_set_dac.set_bid(ids[0]))\n",
    "        io.doit(ctrl_cmd_get_adc.set_bid(ids[0]))\n",
    "        reply=io.doit(SdoCmd(rd_sdo=['adc_conv','adc_raw'],wr_sdo={}).set_bid(ids[0]))\n",
    "        yaml_msg = yaml.safe_load(reply['msg'])\n",
    "        adc_raw = yaml_msg['adc_raw']\n",
    "        adc_conv = yaml_msg['adc_conv']\n",
    "        if ( adc_raw > 0x1FFF+hister ) :\n",
    "            if ( dac_offset < 0xFFFF ) :\n",
    "                dac_offset += 1\n",
    "        elif ( adc_raw < 0x1FFF-hister ) :\n",
    "            if ( dac_offset > 0 ) :\n",
    "                dac_offset -= 1\n",
    "        else : \n",
    "            tuned = True\n",
    "        time.sleep(0.01)\n",
    "        yield(adc_raw, adc_conv)\n"
   ]
  },
  {
   "cell_type": "code",
   "execution_count": 28,
   "metadata": {},
   "outputs": [
    {
     "name": "stdout",
     "output_type": "stream",
     "text": [
      "--- 0 ---\n",
      "1.248822 0x1FFD\n",
      "--- 1 ---\n",
      "1.249432 0x2001\n",
      "--- 2 ---\n",
      "1.248822 0x1FFD\n",
      "--- 3 ---\n",
      "1.248822 0x1FFD\n"
     ]
    }
   ],
   "source": [
    "for ch in range(4) :\n",
    "    print(\"--- {0} ---\".format(ch))\n",
    "    for adc_raw, adc_conv in tune_adc_chan(ch) :\n",
    "        print(\"\\r%f 0x%X\"%(adc_conv, adc_raw), end=\"\")\n",
    "    print()"
   ]
  },
  {
   "cell_type": "code",
   "execution_count": null,
   "metadata": {},
   "outputs": [],
   "source": [
    "tune_adc_chan(1)"
   ]
  },
  {
   "cell_type": "code",
   "execution_count": null,
   "metadata": {},
   "outputs": [],
   "source": [
    "tune_adc_chan(2)"
   ]
  },
  {
   "cell_type": "code",
   "execution_count": 28,
   "metadata": {},
   "outputs": [
    {
     "name": "stdout",
     "output_type": "stream",
     "text": [
      "1.44021 0x24e4\n",
      "1.436397 0x24cb\n",
      "1.439752 0x24e1\n",
      "1.428772 0x2499\n",
      "1.423435 0x2476\n",
      "1.426332 0x2489\n",
      "1.414895 0x243e\n",
      "1.41276 0x2430\n",
      "1.41032 0x2420\n",
      "1.405745 0x2402\n",
      "1.394612 0x23b9\n",
      "1.391105 0x23a2\n",
      "1.394155 0x23b6\n",
      "1.39812 0x23d0\n",
      "1.393698 0x23b3\n",
      "1.389275 0x2396\n",
      "1.383785 0x2372\n",
      "1.364875 0x22f6\n",
      "1.369602 0x2315\n",
      "1.3664 0x2300\n",
      "1.362893 0x22e9\n",
      "1.358775 0x22ce\n",
      "1.353437 0x22ab\n",
      "1.36091 0x22dc\n",
      "1.339103 0x224d\n",
      "1.333917 0x222b\n",
      "1.335442 0x2235\n",
      "1.344898 0x2273\n",
      "1.324615 0x21ee\n",
      "1.3359 0x2238\n",
      "1.327665 0x2202\n",
      "1.31821 0x21c4\n",
      "1.310585 0x2192\n",
      "1.309212 0x2189\n",
      "1.315617 0x21b3\n",
      "1.30479 0x216c\n",
      "1.29991 0x214c\n",
      "1.29625 0x2134\n",
      "1.30052 0x2150\n",
      "1.281915 0x20d6\n",
      "1.285575 0x20ee\n",
      "1.291065 0x2112\n",
      "1.27856 0x20c0\n",
      "1.269105 0x2082\n",
      "1.26636 0x2070\n",
      "1.276577 0x20b3\n",
      "1.260565 0x204a\n",
      "1.259345 0x2042\n",
      "1.247908 0x1ff7\n",
      "1.259802 0x2045\n",
      "1.256142 0x202d\n",
      "1.254465 0x2022\n",
      "1.246382 0x1fed\n",
      "1.243942 0x1fdd\n",
      "1.257515 0x2036\n",
      "1.25172 0x2010\n",
      "1.247298 0x1ff3\n",
      "1.252635 0x2016\n",
      "1.24623 0x1fec\n",
      "1.252635 0x2016\n",
      "1.247298 0x1ff3\n",
      "1.24562 0x1fe8\n",
      "1.257057 0x2033\n",
      "1.253245 0x201a\n",
      "1.2383 0x1fb8\n",
      "1.253397 0x201b\n",
      "1.245315 0x1fe6\n",
      "1.261175 0x204e\n",
      "1.240587 0x1fc7\n",
      "1.251872 0x2011\n",
      "1.247908 0x1ff7\n",
      "1.245315 0x1fe6\n",
      "1.25538 0x2028\n",
      "1.243333 0x1fd9\n",
      "1.264987 0x2067\n",
      "1.25294 0x2018\n",
      "1.248365 0x1ffa\n",
      "1.253093 0x2019\n",
      "1.255075 0x2026\n",
      "1.2444 0x1fe0\n",
      "1.239215 0x1fbe\n",
      "1.25233 0x2014\n",
      "1.24867 0x1ffc\n",
      "1.247755 0x1ff6\n",
      "1.254923 0x2025\n",
      "1.25172 0x2010\n",
      "1.252483 0x2015\n",
      "1.243637 0x1fdb\n",
      "1.248822 0x1ffd\n"
     ]
    }
   ],
   "source": [
    "tune_adc_chan(3)"
   ]
  },
  {
   "cell_type": "code",
   "execution_count": null,
   "metadata": {},
   "outputs": [],
   "source": []
  }
 ],
 "metadata": {
  "kernelspec": {
   "display_name": "Python 3 (ipykernel)",
   "language": "python",
   "name": "python3"
  },
  "language_info": {
   "codemirror_mode": {
    "name": "ipython",
    "version": 3
   },
   "file_extension": ".py",
   "mimetype": "text/x-python",
   "name": "python",
   "nbconvert_exporter": "python",
   "pygments_lexer": "ipython3",
   "version": "3.7.9"
  }
 },
 "nbformat": 4,
 "nbformat_minor": 4
}
