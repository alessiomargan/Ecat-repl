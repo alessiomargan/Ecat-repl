{
 "cells": [
  {
   "cell_type": "code",
   "execution_count": 36,
   "metadata": {
    "pycharm": {}
   },
   "outputs": [
    {
     "name": "stdout",
     "output_type": "stream",
     "text": [
      "Python path : /home/amargan/work/anaconda3/envs/repl/bin/python\n",
      "Python version : 3.11.0 | packaged by conda-forge | (main, Jan 14 2023, 12:28:47) [GCC 11.3.0]\n",
      "new uri com-exp.local:5555\n"
     ]
    }
   ],
   "source": [
    "#from my_import import *\n",
    "%run my_import\n",
    "import numpy as np\n",
    "\n",
    "#uri = socket.gethostname()+\".local:5555\"\n",
    "#uri = \"localhost:5555\"\n",
    "uri = \"com-exp.local:5555\"\n",
    "#uri = \"mirror-ecat-srv.local:5555\"\n",
    "#uri = \"192.168.99.10:5555\"\n",
    "#uri = \"10.240.23.59:5555\"\n",
    "\n",
    "io = set_uri(uri)\n",
    "\n",
    "_1stL = [11,12,13,14,15,16]\n",
    "\n",
    "mk_ids = lambda s,v: [s+x for x in v] \n",
    "mk_pitch = lambda s : mk_ids(s, [2,3,5])\n",
    "mk_yaw = lambda s: mk_ids(s, [1,4,6])\n",
    "legs_pitch_ids =  mk_pitch(10) + mk_pitch(20) + mk_pitch(30)  \n",
    "legs_yaw_ids =  mk_yaw(10) + mk_yaw(20)+ mk_yaw(30)  \n",
    "\n",
    "\n",
    "# all \n",
    "robot_ids = _1stL\n",
    "#robot_ids = legs_pitch_ids\n",
    "#robot_ids = [13]\n",
    "\n",
    "homing = {\"type\": \"TRJ_CMD\",\n",
    "          \"trajectory_cmd\": {\"type\": \"HOMING\", \"name\": \"homing\", \"board_id\": 1, \"homing_par\": {\"x\": [0,5]}}}\n",
    "\n",
    "xs = list(range(9))\n",
    "xs = np.multiply(xs,3)\n",
    "smooth = {\"type\": \"TRJ_CMD\",\n",
    "          \"trajectory_cmd\": {\"type\": \"SMOOTHER\", \"name\": \"smooth\", \"board_id\": 1,\n",
    "                             \"smooth_par\": {\"x\": xs,\n",
    "                                            #\"y\": [0,-0.5, 0, 0.5, 0, -0.8, 0, 0.8, 0]}\n",
    "                                            \"y\": [0,-0.2, 0, 0.2, 0, -0.2, 0, 0.2, 0]}\n",
    "                            }\n",
    "         } \n",
    "\n",
    "xss = [0,4,8]\n",
    "xss = np.multiply(xss,3)\n",
    "smooth_x2 = {\"type\": \"TRJ_CMD\",\n",
    "             \"trajectory_cmd\": {\"type\": \"SMOOTHER\", \"name\": \"smooth\", \"board_id\": 12,\n",
    "                                \"smooth_par\": {\"x\": xss,\n",
    "                                               \"y\": [0, 0.5, 0]}  # relax\n",
    "                               }\n",
    "            } \n",
    "smooth_x3 = {\"type\": \"TRJ_CMD\",\n",
    "             \"trajectory_cmd\": {\"type\": \"SMOOTHER\", \"name\": \"smooth\", \"board_id\": 13,\n",
    "                                \"smooth_par\": {\"x\": xss,\n",
    "                                               \"y\": [0, 1, 0]} #relax\n",
    "                               }\n",
    "            } \n",
    "smooth_x5 = {\"type\": \"TRJ_CMD\",\n",
    "             \"trajectory_cmd\": {\"type\": \"SMOOTHER\", \"name\": \"smooth\", \"board_id\": 15,\n",
    "                                \"smooth_par\": {\"x\": xss,\n",
    "                                               #\"y\": [0, 1.75, 0]}\n",
    "                                               \"y\": [0, 1.25, 0]}\n",
    "                               }\n",
    "            } \n",
    "\n",
    "up_x2 = {\"type\": \"TRJ_CMD\",\n",
    "             \"trajectory_cmd\": {\"type\": \"SMOOTHER\", \"name\": \"up_smooth\", \"board_id\": 12,\n",
    "                                \"smooth_par\": {\"x\": xss,\n",
    "                                               \"y\": [0, -math.radians(120), 0]}\n",
    "                               }\n",
    "        } \n",
    "up_x3 = {\"type\": \"TRJ_CMD\",\n",
    "             \"trajectory_cmd\": {\"type\": \"SMOOTHER\", \"name\": \"up_smooth\", \"board_id\": 13,\n",
    "                                \"smooth_par\": {\"x\": xss,\n",
    "                                               \"y\": [0, math.radians(60), 0]}\n",
    "                               }\n",
    "        } \n",
    "up_x5 = {\"type\": \"TRJ_CMD\",\n",
    "             \"trajectory_cmd\": {\"type\": \"SMOOTHER\", \"name\": \"up_smooth\", \"board_id\": 15,\n",
    "                                \"smooth_par\": {\"x\": xss,\n",
    "                                               \"y\": [0, -math.radians(45), 0]}\n",
    "                               }\n",
    "        } \n",
    "\n",
    "park_x3 = {\"type\": \"TRJ_CMD\",\n",
    "             \"trajectory_cmd\": {\"type\": \"SMOOTHER\", \"name\": \"park_smooth\", \"board_id\": 13,\n",
    "                                \"smooth_par\": {\"x\": [0,3],\n",
    "                                               \"y\": [0, -math.radians(45)]} # relax\n",
    "                               }\n",
    "    }\n",
    "\n",
    "\n",
    "add_homing = {\"type\": \"TRJ_QUEUE_CMD\",\n",
    "              \"trj_queue_cmd\": {\"type\": \"PUSH_QUE\", \"trj_names\": [\"homing\"]}}\n",
    "\n",
    "add_smooth = {\"type\": \"TRJ_QUEUE_CMD\",\n",
    "              \"trj_queue_cmd\": {\"type\": \"PUSH_QUE\",\n",
    "                                \"trj_names\": [\"smooth\"]}} # relax\n",
    "\n",
    "add_park = {\"type\": \"TRJ_QUEUE_CMD\",\n",
    "              \"trj_queue_cmd\": {\"type\": \"PUSH_QUE\", \"trj_names\": [\"park_smooth\"]}}\n",
    "\n",
    "\n",
    "io.debug=0\n",
    "\n"
   ]
  },
  {
   "cell_type": "code",
   "execution_count": 37,
   "metadata": {
    "pycharm": {}
   },
   "outputs": [
    {
     "data": {
      "text/plain": [
       "dict_keys([11, 12, 13, 14, 15, 16])"
      ]
     },
     "execution_count": 37,
     "metadata": {},
     "output_type": "execute_result"
    }
   ],
   "source": [
    "reply = io.doit(master_cmd_get_slave_descr)\n",
    "slave_descr = yaml.safe_load(reply['msg'])\n",
    "scan_ids = slave_descr.keys()\n",
    "scan_ids"
   ]
  },
  {
   "cell_type": "markdown",
   "metadata": {},
   "source": [
    "# Define trajectories"
   ]
  },
  {
   "cell_type": "code",
   "execution_count": 38,
   "metadata": {
    "pycharm": {}
   },
   "outputs": [
    {
     "data": {
      "text/plain": [
       "[{'type': 1, 'cmd_type': 1, 'msg': 'Ok !!!'}]"
      ]
     },
     "execution_count": 38,
     "metadata": {},
     "output_type": "execute_result"
    }
   ],
   "source": [
    "# define trajectories\n",
    "# reset trj names ???\n",
    "[g for g in io.doit4ids(robot_ids,homing)]\n",
    "[g for g in io.doit4ids(robot_ids,smooth)]\n",
    "# overwrite \"smooth\" for pitch(s) \n",
    "[g for g in io.doit4ids([12],smooth_x2)]\n",
    "[g for g in io.doit4ids([13],smooth_x3)]\n",
    "[g for g in io.doit4ids([15],smooth_x5)]\n",
    "#\n",
    "[g for g in io.doit4ids([13],park_x3)]\n"
   ]
  },
  {
   "cell_type": "code",
   "execution_count": 39,
   "metadata": {
    "pycharm": {}
   },
   "outputs": [],
   "source": [
    "#[g for g in io.doit4ids(robot_ids,ctrl_cmd_set_home)]\n",
    "for iD in robot_ids :\n",
    "    io.doit(ctrl_cmd_set_home.set_value(0).set_bid(iD))"
   ]
  },
  {
   "cell_type": "markdown",
   "metadata": {},
   "source": [
    "# Position test"
   ]
  },
  {
   "cell_type": "code",
   "execution_count": 49,
   "metadata": {},
   "outputs": [
    {
     "data": {
      "text/plain": [
       "[{'type': 1, 'cmd_type': 2, 'msg': 'Ok !!!'},\n",
       " {'type': 1, 'cmd_type': 2, 'msg': 'Ok !!!'},\n",
       " {'type': 1, 'cmd_type': 2, 'msg': 'Ok !!!'},\n",
       " {'type': 1, 'cmd_type': 2, 'msg': 'Ok !!!'},\n",
       " {'type': 1, 'cmd_type': 2, 'msg': 'Ok !!!'},\n",
       " {'type': 1, 'cmd_type': 2, 'msg': 'Ok !!!'}]"
      ]
     },
     "execution_count": 49,
     "metadata": {},
     "output_type": "execute_result"
    }
   ],
   "source": [
    "# start motors in POSITION\n",
    "[g for g in io.doit4ids(robot_ids,ctrl_cmd_start().set_value(0x3B).set_gains(u'POSITION',1500,75,0,0,0))]\n",
    "#[g for g in io.doit4ids(robot_ids,ctrl_cmd_start().set_value(0x4D).set_gains(u'IMPEDANCE',2000,40,1,0.4,0.01))]\n"
   ]
  },
  {
   "cell_type": "code",
   "execution_count": 50,
   "metadata": {},
   "outputs": [
    {
     "name": "stdout",
     "output_type": "stream",
     "text": [
      "0x78bd\n",
      "0x78bd\n",
      "0x78bd\n",
      "0x78bd\n",
      "0x78bd\n",
      "0x78bd\n"
     ]
    }
   ],
   "source": [
    "for iD in robot_ids :\n",
    "    ctrl_status_cmd_str('RELEASE_BRAKE', iD)"
   ]
  },
  {
   "cell_type": "code",
   "execution_count": 51,
   "metadata": {
    "pycharm": {}
   },
   "outputs": [],
   "source": [
    "reply = io.doit(add_homing)"
   ]
  },
  {
   "cell_type": "code",
   "execution_count": 52,
   "metadata": {
    "pycharm": {}
   },
   "outputs": [],
   "source": [
    "reply = io.doit(add_smooth)"
   ]
  },
  {
   "cell_type": "code",
   "execution_count": null,
   "metadata": {
    "pycharm": {}
   },
   "outputs": [],
   "source": [
    "for i in range(3):\n",
    "    reply = io.doit(add_smooth)\n",
    "    reply = io.doit(add_homing)\n",
    "    reply = io.doit(add_park)\n",
    "    reply = io.doit(add_homing)\n",
    "    print (\"CICLO \", i)\n",
    "    #time.sleep(1)"
   ]
  },
  {
   "cell_type": "code",
   "execution_count": 53,
   "metadata": {},
   "outputs": [],
   "source": [
    "reply = io.doit(add_park)"
   ]
  },
  {
   "cell_type": "code",
   "execution_count": 56,
   "metadata": {},
   "outputs": [
    {
     "name": "stdout",
     "output_type": "stream",
     "text": [
      "0x78db\n",
      "0x78db\n",
      "0x78db\n",
      "0x78db\n",
      "0x78db\n",
      "0x78db\n"
     ]
    }
   ],
   "source": [
    "for iD in robot_ids :\n",
    "    ctrl_status_cmd_str('ENGAGE_BRAKE', iD)"
   ]
  },
  {
   "cell_type": "code",
   "execution_count": 58,
   "metadata": {
    "pycharm": {}
   },
   "outputs": [
    {
     "data": {
      "text/plain": [
       "[{'type': 1, 'cmd_type': 2, 'msg': 'Ok !!!'},\n",
       " {'type': 1, 'cmd_type': 2, 'msg': 'Ok !!!'},\n",
       " {'type': 1, 'cmd_type': 2, 'msg': 'Ok !!!'},\n",
       " {'type': 1, 'cmd_type': 2, 'msg': 'Ok !!!'},\n",
       " {'type': 1, 'cmd_type': 2, 'msg': 'Ok !!!'},\n",
       " {'type': 1, 'cmd_type': 2, 'msg': 'Ok !!!'}]"
      ]
     },
     "execution_count": 58,
     "metadata": {},
     "output_type": "execute_result"
    }
   ],
   "source": [
    "[g for g in io.doit4ids(robot_ids,ctrl_cmd_stop)]"
   ]
  },
  {
   "cell_type": "code",
   "execution_count": null,
   "metadata": {},
   "outputs": [],
   "source": []
  },
  {
   "cell_type": "code",
   "execution_count": null,
   "metadata": {},
   "outputs": [],
   "source": [
    "io.debug=0\n",
    "gains = {}\n",
    "gains['type'] = \"POSITION\"\n",
    "gains['pos_kp'] = 200\n",
    "gains['pos_kd'] = 10\n",
    "gains['tor_kp'] = 0\n",
    "gains['tor_kd'] = 0\n",
    "gains['tor_ki'] = 0\n",
    "#[g for g in io.doit4ids(robot_ids,ctrl_cmd_start().set_value(0x3B).set_gains(u'POSITION',200,15,0,0,0))]\n",
    "[g for g in io.doit4ids(robot_ids,ctrl_cmd_start().set_value(0x4D).set_gains(u'IMPEDANCE',300,10,1,0.75,0.005))]\n",
    "#[g for g in io.doit4ids(robot_ids,ctrl_cmd_start().set_value(0x3B).set_gains(*gains))]"
   ]
  },
  {
   "cell_type": "code",
   "execution_count": null,
   "metadata": {},
   "outputs": [],
   "source": [
    "for iD in robot_ids:\n",
    "    reply = io.doit(SdoCmd(rd_sdo=['motor_pos','motor_vel','link_pos','fault'],wr_sdo={}).set_bid(iD))\n",
    "    yaml_msg = yaml.safe_load(reply['msg'])\n",
    "    print(iD,yaml_msg)"
   ]
  },
  {
   "cell_type": "code",
   "execution_count": null,
   "metadata": {},
   "outputs": [],
   "source": [
    "io.debug=0\n",
    "for iD in robot_ids:\n",
    "    reply = io.doit(SdoCmd(rd_sdo=['gain_0','gain_1','gain_2','gain_','gain_4'],wr_sdo={}).set_bid(iD))\n",
    "    yaml_msg = yaml.safe_load(reply['msg'])\n",
    "    print(iD,yaml_msg)"
   ]
  },
  {
   "cell_type": "code",
   "execution_count": null,
   "metadata": {},
   "outputs": [],
   "source": [
    "reply = io.doit(SdoInfo(u'SDO_NAME').set_bid(robot_ids[0]))\n",
    "yaml_msg = yaml.safe_load(reply['msg'])\n",
    "sdo_names = yaml_msg\n",
    "sdo_names"
   ]
  },
  {
   "cell_type": "markdown",
   "metadata": {},
   "source": [
    "# Impedance"
   ]
  },
  {
   "cell_type": "code",
   "execution_count": null,
   "metadata": {},
   "outputs": [],
   "source": [
    "# start motors in IMPEDANCE\n",
    "# 1st yaws stiff 200 or 70 damp 10\n",
    "[g for g in io.doit4ids([11,21,31],ctrl_cmd_start().set_value(0x4D).set_gains(u'IMPEDANCE',200,10,1,0.75,0.007))]\n",
    "# other yaws + last pitch stiff 100 or 30 damp 10\n",
    "[g for g in io.doit4ids([14,16,24,26,34,36]+[15,25,35],ctrl_cmd_start().set_value(0x4D).set_gains(u'IMPEDANCE',100,10,1,0.75,0.007))]\n",
    "# 1st 2nd pitches stiff 700 or 250 damp 10\n",
    "[g for g in io.doit4ids([12,13,22,23,32,33],ctrl_cmd_start().set_value(0x4D).set_gains(u'IMPEDANCE',700,10,1,0.75,0.007))]\n",
    "# 3rd leg\n",
    "#[g for g in io.doit4ids(_3rdL,ctrl_cmd_stop)]\n",
    "#[g for g in io.doit4ids(_3rdL,ctrl_cmd_start().set_value(0x4D).set_gains(u'IMPEDANCE',0,2,1,0.85,0.005))]\n"
   ]
  },
  {
   "cell_type": "code",
   "execution_count": 16,
   "metadata": {},
   "outputs": [
    {
     "name": "stdout",
     "output_type": "stream",
     "text": [
      "0x78bd\n",
      "0x78bd\n",
      "0x78bd\n",
      "0x78bd\n",
      "0x78bd\n",
      "0x78bd\n"
     ]
    }
   ],
   "source": [
    "for iD in robot_ids :\n",
    "    ctrl_status_cmd_str('RELEASE_BRAKE', iD)"
   ]
  },
  {
   "cell_type": "code",
   "execution_count": null,
   "metadata": {},
   "outputs": [],
   "source": [
    "reply = io.doit(add_homing)"
   ]
  },
  {
   "cell_type": "code",
   "execution_count": null,
   "metadata": {},
   "outputs": [],
   "source": [
    "reply = io.doit(add_smooth)"
   ]
  },
  {
   "cell_type": "code",
   "execution_count": null,
   "metadata": {},
   "outputs": [],
   "source": [
    "reply = io.doit(add_sup)"
   ]
  },
  {
   "cell_type": "code",
   "execution_count": null,
   "metadata": {},
   "outputs": [],
   "source": [
    "for i in range(5):\n",
    "    reply = io.doit(add_smooth)\n",
    "    reply = io.doit(add_homing)\n",
    "    print (\"CICLO \", i)"
   ]
  },
  {
   "cell_type": "code",
   "execution_count": 13,
   "metadata": {},
   "outputs": [
    {
     "name": "stdout",
     "output_type": "stream",
     "text": [
      "0x78db\n",
      "0x78db\n",
      "0x78db\n",
      "0x78db\n",
      "0x78db\n",
      "0x78db\n"
     ]
    }
   ],
   "source": [
    "for iD in robot_ids :\n",
    "    ctrl_status_cmd_str('ENGAGE_BRAKE', iD)"
   ]
  },
  {
   "cell_type": "code",
   "execution_count": 15,
   "metadata": {},
   "outputs": [
    {
     "data": {
      "text/plain": [
       "[{'type': 1, 'cmd_type': 2, 'msg': 'Ok !!!'},\n",
       " {'type': 1, 'cmd_type': 2, 'msg': 'Ok !!!'},\n",
       " {'type': 1, 'cmd_type': 2, 'msg': 'Ok !!!'},\n",
       " {'type': 1, 'cmd_type': 2, 'msg': 'Ok !!!'},\n",
       " {'type': 1, 'cmd_type': 2, 'msg': 'Ok !!!'},\n",
       " {'type': 1, 'cmd_type': 2, 'msg': 'Ok !!!'}]"
      ]
     },
     "execution_count": 15,
     "metadata": {},
     "output_type": "execute_result"
    }
   ],
   "source": [
    "[g for g in io.doit4ids(robot_ids,ctrl_cmd_stop)]"
   ]
  },
  {
   "cell_type": "code",
   "execution_count": null,
   "metadata": {},
   "outputs": [],
   "source": [
    "sdo_names = reply_cmd(SdoInfo(u'SDO_NAME').set_bid(11))\n",
    "sdo_names"
   ]
  },
  {
   "cell_type": "code",
   "execution_count": null,
   "metadata": {},
   "outputs": [],
   "source": [
    "rd_sdo=['Max_cur','Max_tor','backEmfCompensation']\n",
    "ret=read_sdo(rd_sdo,robot_ids)\n",
    "pp(ret)"
   ]
  },
  {
   "cell_type": "code",
   "execution_count": null,
   "metadata": {},
   "outputs": [],
   "source": [
    "wr_sdo={'Max_cur': 29,'Max_tor':420}\n",
    "A_size_ids = [11,12,13,21,22,23,31,32,33]\n",
    "ret=write_sdo(wr_sdo,A_size_ids)\n",
    "ret=read_sdo(rd_sdo,A_size_ids)\n",
    "pp(ret)"
   ]
  },
  {
   "cell_type": "code",
   "execution_count": null,
   "metadata": {},
   "outputs": [],
   "source": [
    "wr_sdo={'Max_cur': 25,'Max_tor':270}\n",
    "B_size_ids = [14,15,16,24,25,26,34,35,36]\n",
    "ret=write_sdo(wr_sdo,B_size_ids)\n",
    "ret=read_sdo(rd_sdo,B_size_ids)\n",
    "pp(ret)"
   ]
  },
  {
   "cell_type": "code",
   "execution_count": null,
   "metadata": {},
   "outputs": [],
   "source": [
    "wr_sdo={'backEmfCompensation': 0}\n",
    "ret=write_sdo(wr_sdo,robot_ids)\n",
    "ret=read_sdo(rd_sdo,robot_ids)\n",
    "pp(ret)"
   ]
  },
  {
   "cell_type": "code",
   "execution_count": null,
   "metadata": {},
   "outputs": [],
   "source": [
    "for iD in robot_ids :\n",
    "    io.doit(flash_cmd_save_flash.set_bid(iD))"
   ]
  },
  {
   "cell_type": "code",
   "execution_count": null,
   "metadata": {},
   "outputs": [],
   "source": []
  }
 ],
 "metadata": {
  "kernelspec": {
   "display_name": "repl",
   "language": "python",
   "name": "python3"
  },
  "language_info": {
   "codemirror_mode": {
    "name": "ipython",
    "version": 3
   },
   "file_extension": ".py",
   "mimetype": "text/x-python",
   "name": "python",
   "nbconvert_exporter": "python",
   "pygments_lexer": "ipython3",
   "version": "3.11.0"
  }
 },
 "nbformat": 4,
 "nbformat_minor": 4
}
