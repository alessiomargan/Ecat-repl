{
 "cells": [
  {
   "cell_type": "code",
   "execution_count": null,
   "metadata": {},
   "outputs": [],
   "source": [
    "%run my_import\n",
    "\n",
    "#uri = socket.gethostname()+\".local:5555\"\n",
    "#uri = \"localhost:5555\"\n",
    "#uri = \"nuc-i7.local:5555\"\n",
    "uri = \"com-exp.local:5555\"\n",
    "#uri = \"cogimon-rt-exp:5555\"\n",
    "io = ZmsgIO(uri)\n",
    "io.debug = False"
   ]
  },
  {
   "cell_type": "code",
   "execution_count": null,
   "metadata": {},
   "outputs": [],
   "source": [
    "reply = io.doit(master_cmd_get_slave_descr)\n",
    "yaml_msg = yaml.safe_load(reply['msg'])\n",
    "scan_ids = yaml_msg.keys()\n",
    "ids=list(scan_ids)\n",
    "ids"
   ]
  },
  {
   "cell_type": "code",
   "execution_count": null,
   "metadata": {},
   "outputs": [],
   "source": [
    "reply = io.doit(SdoInfo(u'SDO_NAME').set_bid(123))\n",
    "yaml_msg = yaml.safe_load(reply['msg'])\n",
    "sdo_names = yaml_msg\n",
    "sdo_names"
   ]
  },
  {
   "cell_type": "code",
   "execution_count": null,
   "metadata": {},
   "outputs": [],
   "source": [
    "reply = io.doit(SdoInfo(u'SDO_OBJD').set_bid(123))\n",
    "yaml_msg = yaml.safe_load(reply['msg'])\n",
    "sdo_objd = yaml_msg\n",
    "sdo_objd"
   ]
  },
  {
   "cell_type": "code",
   "execution_count": null,
   "metadata": {},
   "outputs": [],
   "source": [
    "s=SdoCmd(rd_sdo=['m3_fw_ver','c28_fw_ver','module_params'],wr_sdo={}).set_bid(123)\n",
    "io.doit(s)"
   ]
  },
  {
   "cell_type": "code",
   "execution_count": null,
   "metadata": {},
   "outputs": [],
   "source": [
    "s=SdoCmd(rd_sdo=sdo_names,wr_sdo={}).set_bid(123)\n",
    "io.doit(s)"
   ]
  },
  {
   "cell_type": "code",
   "execution_count": null,
   "metadata": {},
   "outputs": [],
   "source": [
    "s=SdoCmd(rd_sdo=['fw_ver'],wr_sdo={'analog_sample_freq_HZ': 10000}).set_bid(696)\n",
    "io.doit(s)"
   ]
  },
  {
   "cell_type": "code",
   "execution_count": null,
   "metadata": {},
   "outputs": [],
   "source": []
  },
  {
   "cell_type": "code",
   "execution_count": null,
   "metadata": {},
   "outputs": [],
   "source": [
    "import time\n",
    "for i in range(100):\n",
    "    G = io.doit4ids([101,102,321],ctrl_cmd_test_done)\n",
    "    #[g for g in G ]\n",
    "    for g in G :\n",
    "        print(g['msg'])\n",
    "    #time.sleep(0.001)"
   ]
  },
  {
   "cell_type": "code",
   "execution_count": null,
   "metadata": {},
   "outputs": [],
   "source": [
    "io.doit(SdoCmd(rd_sdo=['fw_ver'],wr_sdo={'board_id': 102}).set_bid(3))"
   ]
  },
  {
   "cell_type": "code",
   "execution_count": null,
   "metadata": {},
   "outputs": [],
   "source": [
    "g=io.doit4ids([101,102],ctrl_cmd_test_done)"
   ]
  },
  {
   "cell_type": "code",
   "execution_count": null,
   "metadata": {},
   "outputs": [],
   "source": [
    "next(g)"
   ]
  },
  {
   "cell_type": "code",
   "execution_count": null,
   "metadata": {},
   "outputs": [],
   "source": [
    "s=SdoCmd(rd_sdo=['var_int8'],wr_sdo={}).set_bid(3)\n",
    "io.doit(s)"
   ]
  },
  {
   "cell_type": "code",
   "execution_count": null,
   "metadata": {},
   "outputs": [],
   "source": [
    "s=SdoCmd(rd_sdo=['m3_fw_ver'],wr_sdo={'module_params': 0x102 }).set_bid(ids[0])\n",
    "io.doit(s)\n"
   ]
  },
  {
   "cell_type": "code",
   "execution_count": null,
   "metadata": {},
   "outputs": [],
   "source": [
    "io.doit(flash_cmd_save_flash.set_bid(ids[0]))"
   ]
  },
  {
   "cell_type": "code",
   "execution_count": null,
   "metadata": {},
   "outputs": [],
   "source": [
    "reply = io.doit(SdoCmd(rd_sdo=sdo_names,wr_sdo={}).set_bid(1))\n",
    "yaml_msg = yaml.safe_load(reply['msg'])\n",
    "yaml_msg"
   ]
  },
  {
   "cell_type": "code",
   "execution_count": null,
   "metadata": {},
   "outputs": [],
   "source": []
  }
 ],
 "metadata": {
  "kernelspec": {
   "display_name": "Python 3 (ipykernel)",
   "language": "python",
   "name": "python3"
  },
  "language_info": {
   "codemirror_mode": {
    "name": "ipython",
    "version": 3
   },
   "file_extension": ".py",
   "mimetype": "text/x-python",
   "name": "python",
   "nbconvert_exporter": "python",
   "pygments_lexer": "ipython3",
   "version": "3.7.3"
  }
 },
 "nbformat": 4,
 "nbformat_minor": 4
}
