{
 "cells": [
  {
   "cell_type": "code",
   "execution_count": 14,
   "metadata": {},
   "outputs": [],
   "source": [
    "%run my_import\n",
    "\n",
    "#uri = socket.gethostname()+\".local:5555\"\n",
    "uri = \"localhost:5555\"\n",
    "#uri = \"nuc-i7.local:5555\"\n",
    "#uri = \"com-exp.wrt:5555\"\n",
    "io = ZmsgIO(uri)\n",
    "io.debug = False"
   ]
  },
  {
   "cell_type": "code",
   "execution_count": 15,
   "metadata": {},
   "outputs": [
    {
     "data": {
      "text/plain": [
       "{'type': 1,\n",
       " 'cmd_type': 5,\n",
       " 'msg': '[{1: {active_ports: 9, esc_type: -2147483646, mod_id: 0, mod_rev: 0, mod_size: 0, mod_type: 0, poistion: 1, robot_id: 1, topology: 2}}, {2: {active_ports: 9, esc_type: -2147483646, mod_id: 0, mod_rev: 0, mod_size: 0, mod_type: 0, poistion: 2, robot_id: 2, topology: 2}}, {3: {active_ports: 1, esc_type: -2147483644, mod_id: 0, mod_rev: 0, mod_size: 0, mod_type: 0, poistion: 3, robot_id: 3, topology: 1}}]'}"
      ]
     },
     "execution_count": 15,
     "metadata": {},
     "output_type": "execute_result"
    }
   ],
   "source": [
    "io.doit(master_cmd_get_slave_descr)"
   ]
  },
  {
   "cell_type": "code",
   "execution_count": 3,
   "metadata": {},
   "outputs": [
    {
     "data": {
      "text/plain": [
       "{'type': 1, 'cmd_type': 8, 'msg': 'fw_ver: \"\"'}"
      ]
     },
     "execution_count": 3,
     "metadata": {},
     "output_type": "execute_result"
    }
   ],
   "source": [
    "s=SdoCmd(rd_sdo=['fw_ver'],wr_sdo={}).set_bid(1)\n",
    "io.doit(s)"
   ]
  },
  {
   "cell_type": "code",
   "execution_count": null,
   "metadata": {},
   "outputs": [],
   "source": [
    "s=SdoCmd(rd_sdo=['fw_ver'],wr_sdo={'analog_sample_freq_HZ': 10000}).set_bid(696)\n",
    "s"
   ]
  },
  {
   "cell_type": "code",
   "execution_count": null,
   "metadata": {},
   "outputs": [],
   "source": [
    "io.doit(s)"
   ]
  },
  {
   "cell_type": "code",
   "execution_count": null,
   "metadata": {},
   "outputs": [],
   "source": [
    "import time\n",
    "for i in range(100):\n",
    "    G = io.doit4ids([101,102,321],ctrl_cmd_test_done)\n",
    "    #[g for g in G ]\n",
    "    for g in G :\n",
    "        print(g['msg'])\n",
    "    #time.sleep(0.001)"
   ]
  },
  {
   "cell_type": "code",
   "execution_count": null,
   "metadata": {},
   "outputs": [],
   "source": [
    "io.doit(SdoCmd(rd_sdo=['fw_ver'],wr_sdo={'board_id': 102}).set_bid(3))"
   ]
  },
  {
   "cell_type": "code",
   "execution_count": null,
   "metadata": {},
   "outputs": [],
   "source": [
    "g=io.doit4ids([101,102],ctrl_cmd_test_done)"
   ]
  },
  {
   "cell_type": "code",
   "execution_count": null,
   "metadata": {},
   "outputs": [],
   "source": [
    "next(g)"
   ]
  },
  {
   "cell_type": "code",
   "execution_count": 17,
   "metadata": {},
   "outputs": [
    {
     "data": {
      "text/plain": [
       "{'type': 1, 'cmd_type': 8, 'msg': 'var_int8: \"\"'}"
      ]
     },
     "execution_count": 17,
     "metadata": {},
     "output_type": "execute_result"
    }
   ],
   "source": [
    "s=SdoCmd(rd_sdo=['var_int8'],wr_sdo={}).set_bid(3)\n",
    "io.doit(s)"
   ]
  },
  {
   "cell_type": "code",
   "execution_count": null,
   "metadata": {},
   "outputs": [],
   "source": []
  }
 ],
 "metadata": {
  "kernelspec": {
   "display_name": "Python 3",
   "language": "python",
   "name": "python3"
  },
  "language_info": {
   "codemirror_mode": {
    "name": "ipython",
    "version": 3
   },
   "file_extension": ".py",
   "mimetype": "text/x-python",
   "name": "python",
   "nbconvert_exporter": "python",
   "pygments_lexer": "ipython3",
   "version": "3.7.1"
  }
 },
 "nbformat": 4,
 "nbformat_minor": 4
}
