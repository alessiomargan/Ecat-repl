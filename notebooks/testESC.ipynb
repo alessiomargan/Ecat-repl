{
 "cells": [
  {
   "cell_type": "code",
   "execution_count": 12,
   "metadata": {},
   "outputs": [],
   "source": [
    "%run my_import\n",
    "\n",
    "#uri = socket.gethostname()+\".local:5555\"\n",
    "uri = \"localhost:5555\"\n",
    "#uri = \"nuc-i7.local:5555\"\n",
    "#uri = \"com-exp.wrt:5555\"\n",
    "io = ZmsgIO(uri)\n",
    "io.debug = False"
   ]
  },
  {
   "cell_type": "code",
   "execution_count": 13,
   "metadata": {},
   "outputs": [
    {
     "data": {
      "text/plain": [
       "[1]"
      ]
     },
     "execution_count": 13,
     "metadata": {},
     "output_type": "execute_result"
    }
   ],
   "source": [
    "reply = io.doit(master_cmd_get_slave_descr)\n",
    "yaml_msg = yaml.safe_load(reply['msg'])\n",
    "scan_ids = yaml_msg.keys()\n",
    "ids=list(scan_ids)\n",
    "ids"
   ]
  },
  {
   "cell_type": "code",
   "execution_count": 17,
   "metadata": {},
   "outputs": [
    {
     "data": {
      "text/plain": [
       "['V_batt',\n",
       " 'V_load',\n",
       " 'I_load',\n",
       " 'Temp_pcb',\n",
       " 'Temp_heatsink',\n",
       " 'Temp_batt',\n",
       " 'status',\n",
       " 'fault',\n",
       " 'op_idx_ack',\n",
       " 'tx_aux',\n",
       " 'master_cmd',\n",
       " 'fault_ack',\n",
       " 'op_idx_aux',\n",
       " 'rx_aux',\n",
       " 'Hardware_config',\n",
       " 'Serial_Number_A',\n",
       " 'module_params',\n",
       " 'TA_LEM_Offset',\n",
       " 'TA_LEM_Sign',\n",
       " 'm3_fw_ver',\n",
       " 'c28_fw_ver',\n",
       " 'ctrl_status_cmd',\n",
       " 'ctrl_status_cmd_ack',\n",
       " 'flash_params_cmd',\n",
       " 'flash_params_cmd_ack',\n",
       " 'v_batt',\n",
       " 'v_load',\n",
       " 'i_load',\n",
       " 't_board',\n",
       " 't_heat',\n",
       " 't_batt',\n",
       " 'board_status',\n",
       " 'board_fault',\n",
       " 'FSM',\n",
       " 'rtt',\n",
       " 'ts']"
      ]
     },
     "execution_count": 17,
     "metadata": {},
     "output_type": "execute_result"
    }
   ],
   "source": [
    "reply = io.doit(SdoInfo(u'SDO_NAME').set_bid(ids[0]))\n",
    "yaml_msg = yaml.safe_load(reply['msg'])\n",
    "sdo_names = yaml_msg\n",
    "sdo_names"
   ]
  },
  {
   "cell_type": "code",
   "execution_count": 18,
   "metadata": {},
   "outputs": [
    {
     "data": {
      "text/plain": [
       "[{'access': 17,\n",
       "  'bitlength': 16,\n",
       "  'datatype': 6,\n",
       "  'index': 24576,\n",
       "  'name': 'V_batt',\n",
       "  'subindex': 1},\n",
       " {'access': 17,\n",
       "  'bitlength': 16,\n",
       "  'datatype': 6,\n",
       "  'index': 24576,\n",
       "  'name': 'V_load',\n",
       "  'subindex': 2},\n",
       " {'access': 17,\n",
       "  'bitlength': 16,\n",
       "  'datatype': 3,\n",
       "  'index': 24576,\n",
       "  'name': 'I_load',\n",
       "  'subindex': 3},\n",
       " {'access': 17,\n",
       "  'bitlength': 16,\n",
       "  'datatype': 6,\n",
       "  'index': 24576,\n",
       "  'name': 'Temp_pcb',\n",
       "  'subindex': 4},\n",
       " {'access': 17,\n",
       "  'bitlength': 16,\n",
       "  'datatype': 6,\n",
       "  'index': 24576,\n",
       "  'name': 'Temp_heatsink',\n",
       "  'subindex': 5},\n",
       " {'access': 17,\n",
       "  'bitlength': 16,\n",
       "  'datatype': 6,\n",
       "  'index': 24576,\n",
       "  'name': 'Temp_batt',\n",
       "  'subindex': 6},\n",
       " {'access': 17,\n",
       "  'bitlength': 16,\n",
       "  'datatype': 6,\n",
       "  'index': 24576,\n",
       "  'name': 'status',\n",
       "  'subindex': 7},\n",
       " {'access': 17,\n",
       "  'bitlength': 16,\n",
       "  'datatype': 6,\n",
       "  'index': 24576,\n",
       "  'name': 'fault',\n",
       "  'subindex': 8},\n",
       " {'access': 17,\n",
       "  'bitlength': 16,\n",
       "  'datatype': 6,\n",
       "  'index': 24576,\n",
       "  'name': 'op_idx_ack',\n",
       "  'subindex': 9},\n",
       " {'access': 17,\n",
       "  'bitlength': 32,\n",
       "  'datatype': 8,\n",
       "  'index': 24576,\n",
       "  'name': 'tx_aux',\n",
       "  'subindex': 10},\n",
       " {'access': 18,\n",
       "  'bitlength': 16,\n",
       "  'datatype': 6,\n",
       "  'index': 28672,\n",
       "  'name': 'master_cmd',\n",
       "  'subindex': 1},\n",
       " {'access': 18,\n",
       "  'bitlength': 16,\n",
       "  'datatype': 6,\n",
       "  'index': 28672,\n",
       "  'name': 'fault_ack',\n",
       "  'subindex': 2},\n",
       " {'access': 18,\n",
       "  'bitlength': 16,\n",
       "  'datatype': 6,\n",
       "  'index': 28672,\n",
       "  'name': 'op_idx_aux',\n",
       "  'subindex': 3},\n",
       " {'access': 18,\n",
       "  'bitlength': 32,\n",
       "  'datatype': 8,\n",
       "  'index': 28672,\n",
       "  'name': 'rx_aux',\n",
       "  'subindex': 4},\n",
       " {'access': 17,\n",
       "  'bitlength': 16,\n",
       "  'datatype': 6,\n",
       "  'index': 32768,\n",
       "  'name': 'Hardware_config',\n",
       "  'subindex': 1},\n",
       " {'access': 17,\n",
       "  'bitlength': 16,\n",
       "  'datatype': 3,\n",
       "  'index': 32768,\n",
       "  'name': 'Serial_Number_A',\n",
       "  'subindex': 2},\n",
       " {'access': 18,\n",
       "  'bitlength': 32,\n",
       "  'datatype': 7,\n",
       "  'index': 32768,\n",
       "  'name': 'module_params',\n",
       "  'subindex': 3},\n",
       " {'access': 18,\n",
       "  'bitlength': 32,\n",
       "  'datatype': 8,\n",
       "  'index': 32768,\n",
       "  'name': 'TA_LEM_Offset',\n",
       "  'subindex': 4},\n",
       " {'access': 18,\n",
       "  'bitlength': 32,\n",
       "  'datatype': 8,\n",
       "  'index': 32768,\n",
       "  'name': 'TA_LEM_Sign',\n",
       "  'subindex': 5},\n",
       " {'access': 17,\n",
       "  'bitlength': 64,\n",
       "  'datatype': 9,\n",
       "  'index': 32769,\n",
       "  'name': 'm3_fw_ver',\n",
       "  'subindex': 1},\n",
       " {'access': 17,\n",
       "  'bitlength': 64,\n",
       "  'datatype': 9,\n",
       "  'index': 32769,\n",
       "  'name': 'c28_fw_ver',\n",
       "  'subindex': 2},\n",
       " {'access': 18,\n",
       "  'bitlength': 16,\n",
       "  'datatype': 6,\n",
       "  'index': 32769,\n",
       "  'name': 'ctrl_status_cmd',\n",
       "  'subindex': 3},\n",
       " {'access': 17,\n",
       "  'bitlength': 16,\n",
       "  'datatype': 6,\n",
       "  'index': 32769,\n",
       "  'name': 'ctrl_status_cmd_ack',\n",
       "  'subindex': 4},\n",
       " {'access': 18,\n",
       "  'bitlength': 16,\n",
       "  'datatype': 6,\n",
       "  'index': 32769,\n",
       "  'name': 'flash_params_cmd',\n",
       "  'subindex': 5},\n",
       " {'access': 17,\n",
       "  'bitlength': 16,\n",
       "  'datatype': 6,\n",
       "  'index': 32769,\n",
       "  'name': 'flash_params_cmd_ack',\n",
       "  'subindex': 6},\n",
       " {'access': 17,\n",
       "  'bitlength': 32,\n",
       "  'datatype': 8,\n",
       "  'index': 32769,\n",
       "  'name': 'v_batt',\n",
       "  'subindex': 7},\n",
       " {'access': 17,\n",
       "  'bitlength': 32,\n",
       "  'datatype': 8,\n",
       "  'index': 32769,\n",
       "  'name': 'v_load',\n",
       "  'subindex': 8},\n",
       " {'access': 17,\n",
       "  'bitlength': 32,\n",
       "  'datatype': 8,\n",
       "  'index': 32769,\n",
       "  'name': 'i_load',\n",
       "  'subindex': 9},\n",
       " {'access': 17,\n",
       "  'bitlength': 32,\n",
       "  'datatype': 8,\n",
       "  'index': 32769,\n",
       "  'name': 't_board',\n",
       "  'subindex': 10},\n",
       " {'access': 17,\n",
       "  'bitlength': 32,\n",
       "  'datatype': 8,\n",
       "  'index': 32769,\n",
       "  'name': 't_heat',\n",
       "  'subindex': 11},\n",
       " {'access': 17,\n",
       "  'bitlength': 32,\n",
       "  'datatype': 8,\n",
       "  'index': 32769,\n",
       "  'name': 't_batt',\n",
       "  'subindex': 12},\n",
       " {'access': 17,\n",
       "  'bitlength': 16,\n",
       "  'datatype': 6,\n",
       "  'index': 32769,\n",
       "  'name': 'board_status',\n",
       "  'subindex': 13},\n",
       " {'access': 17,\n",
       "  'bitlength': 16,\n",
       "  'datatype': 6,\n",
       "  'index': 32769,\n",
       "  'name': 'board_fault',\n",
       "  'subindex': 14},\n",
       " {'access': 17,\n",
       "  'bitlength': 16,\n",
       "  'datatype': 6,\n",
       "  'index': 32769,\n",
       "  'name': 'FSM',\n",
       "  'subindex': 15},\n",
       " {'access': 17,\n",
       "  'bitlength': 32,\n",
       "  'datatype': 8,\n",
       "  'index': 32770,\n",
       "  'name': 'rtt',\n",
       "  'subindex': 1},\n",
       " {'access': 18,\n",
       "  'bitlength': 32,\n",
       "  'datatype': 8,\n",
       "  'index': 32771,\n",
       "  'name': 'ts',\n",
       "  'subindex': 1}]"
      ]
     },
     "execution_count": 18,
     "metadata": {},
     "output_type": "execute_result"
    }
   ],
   "source": [
    "reply = io.doit(SdoInfo(u'SDO_OBJD').set_bid(ids[0]))\n",
    "yaml_msg = yaml.safe_load(reply['msg'])\n",
    "sdo_objd = yaml_msg\n",
    "sdo_objd"
   ]
  },
  {
   "cell_type": "code",
   "execution_count": 19,
   "metadata": {},
   "outputs": [
    {
     "data": {
      "text/plain": [
       "{'type': 1,\n",
       " 'cmd_type': 7,\n",
       " 'msg': '{c28_fw_ver: 19071714, m3_fw_ver: 20061111, module_params: 258}'}"
      ]
     },
     "execution_count": 19,
     "metadata": {},
     "output_type": "execute_result"
    }
   ],
   "source": [
    "s=SdoCmd(rd_sdo=['m3_fw_ver','c28_fw_ver','module_params'],wr_sdo={}).set_bid(ids[0])\n",
    "io.doit(s)"
   ]
  },
  {
   "cell_type": "code",
   "execution_count": 6,
   "metadata": {},
   "outputs": [
    {
     "data": {
      "text/plain": [
       "{'type': 1,\n",
       " 'cmd_type': 7,\n",
       " 'msg': '{FSM: 2, Hardware_config: 0, I_load: 0, Serial_Number_A: 0, TA_LEM_Offset: 0.000000, TA_LEM_Sign: 0.000000, Temp_batt: 65526, Temp_heatsink: 250, Temp_pcb: 440, V_batt: 480, V_load: 0, board_fault: 0, board_status: 3, c28_fw_ver: 19071714, ctrl_status_cmd: 39, ctrl_status_cmd_ack: 30759, fault: 0, fault_ack: 0, flash_params_cmd: 0, flash_params_cmd_ack: 0, i_load: 0.000000, m3_fw_ver: 20061111, master_cmd: 0, module_params: 0, op_idx_ack: 257, op_idx_aux: 257, rtt: 0.000000, rx_aux: 0.000000, status: 3, t_batt: inf, t_board: 44.092243, t_heat: 25.887054, ts: 0.000000, tx_aux: 0.000000, v_batt: 48.832642, v_load: 0.042440}'}"
      ]
     },
     "execution_count": 6,
     "metadata": {},
     "output_type": "execute_result"
    }
   ],
   "source": [
    "s=SdoCmd(rd_sdo=sdo_names,wr_sdo={}).set_bid(ids[0])\n",
    "io.doit(s)"
   ]
  },
  {
   "cell_type": "code",
   "execution_count": null,
   "metadata": {},
   "outputs": [],
   "source": [
    "s=SdoCmd(rd_sdo=['fw_ver'],wr_sdo={'analog_sample_freq_HZ': 10000}).set_bid(696)\n",
    "io.doit(s)"
   ]
  },
  {
   "cell_type": "code",
   "execution_count": null,
   "metadata": {},
   "outputs": [],
   "source": []
  },
  {
   "cell_type": "code",
   "execution_count": null,
   "metadata": {},
   "outputs": [],
   "source": [
    "import time\n",
    "for i in range(100):\n",
    "    G = io.doit4ids([101,102,321],ctrl_cmd_test_done)\n",
    "    #[g for g in G ]\n",
    "    for g in G :\n",
    "        print(g['msg'])\n",
    "    #time.sleep(0.001)"
   ]
  },
  {
   "cell_type": "code",
   "execution_count": null,
   "metadata": {},
   "outputs": [],
   "source": [
    "io.doit(SdoCmd(rd_sdo=['fw_ver'],wr_sdo={'board_id': 102}).set_bid(3))"
   ]
  },
  {
   "cell_type": "code",
   "execution_count": null,
   "metadata": {},
   "outputs": [],
   "source": [
    "g=io.doit4ids([101,102],ctrl_cmd_test_done)"
   ]
  },
  {
   "cell_type": "code",
   "execution_count": null,
   "metadata": {},
   "outputs": [],
   "source": [
    "next(g)"
   ]
  },
  {
   "cell_type": "code",
   "execution_count": null,
   "metadata": {},
   "outputs": [],
   "source": [
    "s=SdoCmd(rd_sdo=['var_int8'],wr_sdo={}).set_bid(3)\n",
    "io.doit(s)"
   ]
  },
  {
   "cell_type": "code",
   "execution_count": 15,
   "metadata": {},
   "outputs": [
    {
     "data": {
      "text/plain": [
       "{'type': 1, 'cmd_type': 7, 'msg': '{m3_fw_ver: 20061111}'}"
      ]
     },
     "execution_count": 15,
     "metadata": {},
     "output_type": "execute_result"
    }
   ],
   "source": [
    "s=SdoCmd(rd_sdo=['m3_fw_ver'],wr_sdo={'module_params': 0x102 }).set_bid(ids[0])\n",
    "io.doit(s)\n"
   ]
  },
  {
   "cell_type": "code",
   "execution_count": 16,
   "metadata": {},
   "outputs": [
    {
     "data": {
      "text/plain": [
       "{'type': 1, 'cmd_type': 3, 'msg': 'Ok !!!'}"
      ]
     },
     "execution_count": 16,
     "metadata": {},
     "output_type": "execute_result"
    }
   ],
   "source": [
    "io.doit(flash_cmd_save_flash.set_bid(ids[0]))"
   ]
  },
  {
   "cell_type": "code",
   "execution_count": null,
   "metadata": {},
   "outputs": [],
   "source": []
  }
 ],
 "metadata": {
  "kernelspec": {
   "display_name": "Python 3",
   "language": "python",
   "name": "python3"
  },
  "language_info": {
   "codemirror_mode": {
    "name": "ipython",
    "version": 3
   },
   "file_extension": ".py",
   "mimetype": "text/x-python",
   "name": "python",
   "nbconvert_exporter": "python",
   "pygments_lexer": "ipython3",
   "version": "3.7.9"
  }
 },
 "nbformat": 4,
 "nbformat_minor": 4
}
