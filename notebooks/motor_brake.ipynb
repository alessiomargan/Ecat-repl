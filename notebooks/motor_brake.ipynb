{
 "cells": [
  {
   "cell_type": "code",
   "execution_count": 1,
   "metadata": {},
   "outputs": [
    {
     "name": "stdout",
     "output_type": "stream",
     "text": [
      "/home/amargan/work/anaconda3/envs/repl/bin/python\n",
      "new uri amargan-ryzen.local:5555\n"
     ]
    }
   ],
   "source": [
    "%run my_import\n",
    "\n",
    "uri = socket.gethostname()+\".local:5555\"\n",
    "#uri = \"localhost:5555\"\n",
    "#uri = \"nuc-i7.local:5555\"\n",
    "#uri = \"com-exp.local:5555\"\n",
    "#uri = \"ipc3-xeno.local:5555\"\n",
    "#uri = \"192.168.99.10:5555\"\n",
    "#uri = \"mirror-ecat-srv.local:5555\"\n",
    "\n",
    "io = set_uri(uri)\n",
    "io.debug = False\n"
   ]
  },
  {
   "cell_type": "code",
   "execution_count": 2,
   "metadata": {},
   "outputs": [
    {
     "name": "stdout",
     "output_type": "stream",
     "text": [
      "[1]\n"
     ]
    }
   ],
   "source": [
    "scan_ids = reply_cmd(master_cmd_get_slave_descr).keys()\n",
    "ids=list(scan_ids)\n",
    "print(ids)\n",
    "#assert(iD in ids)"
   ]
  },
  {
   "cell_type": "code",
   "execution_count": 5,
   "metadata": {},
   "outputs": [],
   "source": [
    "iD = 1\n",
    "sdo_objd = reply_cmd(SdoInfo(u'SDO_OBJD').set_bid(iD))\n",
    "sdo_names = reply_cmd(SdoInfo(u'SDO_NAME').set_bid(iD))\n",
    "sdo_dict = reply_cmd(SdoCmd(rd_sdo=sdo_names,wr_sdo={}).set_bid(iD))"
   ]
  },
  {
   "cell_type": "code",
   "execution_count": 6,
   "metadata": {},
   "outputs": [
    {
     "name": "stdout",
     "output_type": "stream",
     "text": [
      "{'m3_fw_ver': 22121314, 'c28_fw_ver': 21122115, 'hw_config_low': 21527, 'hw_config_high': 21248}\n"
     ]
    },
    {
     "data": {
      "text/plain": [
       "'0x53005417'"
      ]
     },
     "execution_count": 6,
     "metadata": {},
     "output_type": "execute_result"
    }
   ],
   "source": [
    "sf =sdo_filter(['m3_fw_ver','c28_fw_ver','hw_config_low','hw_config_high'],sdo_dict)\n",
    "print(sf)\n",
    "hex( (sf['hw_config_high']<<16) + sf['hw_config_low'] )"
   ]
  },
  {
   "cell_type": "code",
   "execution_count": 9,
   "metadata": {},
   "outputs": [
    {
     "name": "stdout",
     "output_type": "stream",
     "text": [
      "1 0.0\n"
     ]
    }
   ],
   "source": [
    "# release all ids brakes using aux_pdo command\n",
    "from struct import pack, unpack\n",
    "brk_rel = unpack('f',pack('i',1))[0]\n",
    "for _id in ids :\n",
    "    #reply_cmd(SdoCmd(rd_sdo=[],wr_sdo={'master_cmd_control': brk_rel}).set_bid(_id))\n",
    "    #time.sleep(0.2)\n",
    "    ret = reply_cmd(SdoCmd(rd_sdo=['master_cmd_status'],wr_sdo={}).set_bid(iD))['master_cmd_status']\n",
    "    print(_id, ret)"
   ]
  },
  {
   "cell_type": "code",
   "execution_count": 10,
   "metadata": {},
   "outputs": [
    {
     "name": "stdout",
     "output_type": "stream",
     "text": [
      "1 0.0\n"
     ]
    }
   ],
   "source": [
    "# engage all ids brakes using aux_pdo command\n",
    "brk_eng = unpack('f',pack('i',2))[0]\n",
    "for _id in ids :\n",
    "    reply_cmd(SdoCmd(rd_sdo=[],wr_sdo={'master_cmd_control': brk_eng}).set_bid(_id))\n",
    "    time.sleep(0.2)\n",
    "    ret = reply_cmd(SdoCmd(rd_sdo=['master_cmd_status'],wr_sdo={}).set_bid(_id))['master_cmd_status']\n",
    "    print(_id, ret)"
   ]
  },
  {
   "cell_type": "code",
   "execution_count": 7,
   "metadata": {},
   "outputs": [
    {
     "name": "stdout",
     "output_type": "stream",
     "text": [
      "{absLinkEncErr: 0, fault: 0, linkEncBadReadPPM: 0.000000, link_pos: 0.036181}\n",
      "{absLinkEncErr: 0, fault: 0, linkEncBadReadPPM: 0.000000, link_pos: 0.036175}\n"
     ]
    }
   ],
   "source": [
    "sdo = ['torque','motor_pos','link_pos','Min_pos','Max_pos','Max_cur']\n",
    "sdo = ['link_pos','fault','linkEncBadReadPPM','absLinkEncErr']\n",
    "for i in range(2):\n",
    "    G = io.doit4ids([iD],SdoCmd(rd_sdo=sdo,wr_sdo={}))\n",
    "    #[g for g in G ]\n",
    "    for g in G :\n",
    "        print(g['msg'])\n",
    "    time.sleep(0.2)"
   ]
  },
  {
   "cell_type": "code",
   "execution_count": 8,
   "metadata": {},
   "outputs": [
    {
     "data": {
      "text/plain": [
       "{'type': 1, 'cmd_type': 2, 'msg': 'Ok !!!'}"
      ]
     },
     "execution_count": 8,
     "metadata": {},
     "output_type": "execute_result"
    }
   ],
   "source": [
    "io.doit(ctrl_cmd_start().set_bid(iD).set_value(0x3B))"
   ]
  },
  {
   "cell_type": "code",
   "execution_count": null,
   "metadata": {},
   "outputs": [],
   "source": [
    "io.doit(ctrl_cmd_stop.set_bid(iD))"
   ]
  },
  {
   "cell_type": "code",
   "execution_count": null,
   "metadata": {},
   "outputs": [],
   "source": [
    "io.doit(ctrl_cmd_start().set_bid(iD).set_value(0xD4))"
   ]
  },
  {
   "cell_type": "code",
   "execution_count": null,
   "metadata": {},
   "outputs": [],
   "source": [
    "io.debug=0\n",
    "gains = {}\n",
    "gains['type'] = \"IMPEDANCE\"\n",
    "gains['kp'] = 250\n",
    "gains['kd'] = 5\n",
    "#gains['ki'] = 0\n",
    "gains['kkp'] = 2\n",
    "gains['kkd'] = 0.001\n",
    "gains['kki'] = 0.08\n",
    "#io.doit(ctrl_cmd_start().set_bid(iD).set_value(0xD4).set_gains(*gains.values()))\n",
    "io.doit(ctrl_cmd_start().set_bid(iD).set_value(0xD4).set_gains(u'IMPEDANCE',2000,10,2,0.001,0))\n",
    "#io.doit(ctrl_cmd_start().set_bid(iD).set_value(0xD4).set_gains(u'IMPEDANCE',0,0,5,0.001,0.08))"
   ]
  },
  {
   "cell_type": "code",
   "execution_count": null,
   "metadata": {},
   "outputs": [],
   "source": [
    "io.doit(ctrl_cmd_stop.set_bid(iD))"
   ]
  },
  {
   "cell_type": "code",
   "execution_count": 15,
   "metadata": {},
   "outputs": [
    {
     "name": "stdout",
     "output_type": "stream",
     "text": [
      "0x78bd\n"
     ]
    }
   ],
   "source": [
    "for _id in ids :\n",
    "    ctrl_status_cmd_str('RELEASE_BRAKE', _id)"
   ]
  },
  {
   "cell_type": "code",
   "execution_count": 12,
   "metadata": {},
   "outputs": [
    {
     "name": "stdout",
     "output_type": "stream",
     "text": [
      "0x78db\n"
     ]
    }
   ],
   "source": [
    "for _id in ids :\n",
    "    ctrl_status_cmd_str('ENGAGE_BRAKE', _id)"
   ]
  },
  {
   "cell_type": "code",
   "execution_count": 13,
   "metadata": {},
   "outputs": [
    {
     "name": "stdout",
     "output_type": "stream",
     "text": [
      "0xaa26\n"
     ]
    },
    {
     "data": {
      "text/plain": [
       "False"
      ]
     },
     "execution_count": 13,
     "metadata": {},
     "output_type": "execute_result"
    }
   ],
   "source": [
    "ctrl_status_cmd_str('FAN_ON', iD)"
   ]
  },
  {
   "cell_type": "code",
   "execution_count": 14,
   "metadata": {},
   "outputs": [
    {
     "name": "stdout",
     "output_type": "stream",
     "text": [
      "0xaa62\n"
     ]
    },
    {
     "data": {
      "text/plain": [
       "False"
      ]
     },
     "execution_count": 14,
     "metadata": {},
     "output_type": "execute_result"
    }
   ],
   "source": [
    "ctrl_status_cmd_str('FAN_OFF', iD)"
   ]
  },
  {
   "cell_type": "code",
   "execution_count": null,
   "metadata": {},
   "outputs": [],
   "source": [
    "io.doit(SdoCmd(rd_sdo=[],wr_sdo={'Max_cur': 10}).set_bid(iD))"
   ]
  },
  {
   "cell_type": "code",
   "execution_count": null,
   "metadata": {},
   "outputs": [],
   "source": [
    "io.doit(flash_cmd_save_flash.set_bid(iD))"
   ]
  },
  {
   "cell_type": "code",
   "execution_count": null,
   "metadata": {},
   "outputs": [],
   "source": []
  },
  {
   "cell_type": "code",
   "execution_count": 11,
   "metadata": {},
   "outputs": [],
   "source": [
    "sdo_names = reply_cmd(SdoInfo(u'SDO_NAME').set_bid(123))\n",
    "sdo_dict = reply_cmd(SdoCmd(rd_sdo=sdo_names,wr_sdo={}).set_bid(123))"
   ]
  },
  {
   "cell_type": "code",
   "execution_count": 26,
   "metadata": {},
   "outputs": [
    {
     "data": {
      "text/plain": [
       "{'type': 1, 'cmd_type': 7, 'msg': '{}'}"
      ]
     },
     "execution_count": 26,
     "metadata": {},
     "output_type": "execute_result"
    }
   ],
   "source": [
    "io.doit(SdoCmd(rd_sdo=[],wr_sdo={'hw_config_low': 0x6106,'hw_config_high': 0x1100, 'motor_velocity_constant': 122}).set_bid(123))"
   ]
  },
  {
   "cell_type": "code",
   "execution_count": 24,
   "metadata": {},
   "outputs": [
    {
     "data": {
      "text/plain": [
       "{'type': 1, 'cmd_type': 3, 'msg': 'Ok !!!'}"
      ]
     },
     "execution_count": 24,
     "metadata": {},
     "output_type": "execute_result"
    }
   ],
   "source": [
    "io.doit(flash_cmd_save_flash.set_bid(123))"
   ]
  },
  {
   "cell_type": "code",
   "execution_count": 27,
   "metadata": {},
   "outputs": [
    {
     "data": {
      "text/plain": [
       "{'Calib_angle': 3.14159,\n",
       " 'CurrGainI': 0.01,\n",
       " 'CurrGainP': 0.2,\n",
       " 'DOB_filterFrequencyHz': 10.0,\n",
       " 'DacChA': 1,\n",
       " 'DacChB': 15,\n",
       " 'Direct_ref': 0.0,\n",
       " 'Enc_offset': -0.414693,\n",
       " 'Joint_robot_id': 123,\n",
       " 'Max_cur': 4.0,\n",
       " 'Max_pos': 2.891593,\n",
       " 'Max_tor': 147.0,\n",
       " 'Max_vel': 3.86,\n",
       " 'Min_pos': -2.891593,\n",
       " 'Motor_el_ph_angle': 5.3,\n",
       " 'Motor_gear_ratio': 160,\n",
       " 'Serial_Number_A': 128,\n",
       " 'Torsion_bar_stiff': 5520.924316,\n",
       " 'absDeflEncErr': 0,\n",
       " 'absDeflEncWarn': 188389,\n",
       " 'absLinkEncErr': 0,\n",
       " 'absLinkEncWarn': 0,\n",
       " 'absMotorEncErr': 0,\n",
       " 'absMotorEncWarn': 0,\n",
       " 'backEmfCompensation': 0.8,\n",
       " 'board_faults': 385,\n",
       " 'board_temp': 41.857533,\n",
       " 'board_temp_fb': 41.852642,\n",
       " 'c28_fw_ver': 21122115,\n",
       " 'crossTermCCGain': 0.0,\n",
       " 'ctrl_status_cmd': 90,\n",
       " 'ctrl_status_cmd_ack': 30810,\n",
       " 'deflEncBadReadPPM': 0.0,\n",
       " 'deflEncRoughRead': 0,\n",
       " 'defl_enc_err': 0.0,\n",
       " 'defl_enc_warn': 0.0,\n",
       " 'deflection_encoder': 0.0,\n",
       " 'directTorqueFeedbackGain': 1.0,\n",
       " 'fault': 385,\n",
       " 'faultPowerOff': 0,\n",
       " 'fault_ack': 0,\n",
       " 'flash_params_cmd': 0,\n",
       " 'flash_params_cmd_ack': 0,\n",
       " 'float_motor_gear_ratio': '-nan',\n",
       " 'gain_0': 0,\n",
       " 'gain_1': 0,\n",
       " 'gain_2': 0,\n",
       " 'gain_3': 0,\n",
       " 'gain_4': 0,\n",
       " 'gearedMotorInertia': 1.327,\n",
       " 'hall_motor_position': 0.785398,\n",
       " 'hall_omega_motor': 0.0,\n",
       " 'hall_omega_motor_filt': 0.0,\n",
       " 'hall_sector': 0.0,\n",
       " 'hw_config_high': 4352,\n",
       " 'hw_config_low': 24838,\n",
       " 'i_batt': -0.008479,\n",
       " 'i_batt_fb': -0.012918,\n",
       " 'id_out_fb': 0.0,\n",
       " 'id_ref_fb': 0.0,\n",
       " 'iq_offset': 0.0,\n",
       " 'iq_out_fb': 0.0,\n",
       " 'iq_ref_fb': 0.0,\n",
       " 'linkEncBadReadPPM': 1000000.0,\n",
       " 'linkEncRoughRead': 0,\n",
       " 'link_enc_err': 188542.0,\n",
       " 'link_enc_warn': 0.0,\n",
       " 'link_encoder': 0.0,\n",
       " 'link_pos': -3.141593,\n",
       " 'link_vel': 0,\n",
       " 'link_vel_filt': 0.0,\n",
       " 'm3_fw_ver': 22121314,\n",
       " 'master_cmd_control': 0.0,\n",
       " 'master_cmd_status': 0.0,\n",
       " 'master_cmd_status_copy': 0,\n",
       " 'maxLimitedCurr': 4.0,\n",
       " 'module_params': 0,\n",
       " 'motorDirectInductance': 0.0,\n",
       " 'motorEncBadReadPPM': 'inf',\n",
       " 'motorEncRoughRead': 0,\n",
       " 'motorQuadratureInductance': 0.0,\n",
       " 'motorTorqueConstant': 0.078,\n",
       " 'motorVelArrayDim': 8,\n",
       " 'motor_enc_err': 0.0,\n",
       " 'motor_enc_warn': 0.0,\n",
       " 'motor_encoder': 123456792.0,\n",
       " 'motor_pos': 123456792.0,\n",
       " 'motor_temp': 32.529301,\n",
       " 'motor_temp_fb': 32.52953,\n",
       " 'motor_vel': 0,\n",
       " 'motor_vel_filt': 0.0,\n",
       " 'motor_vel_no_filt': 987654336.0,\n",
       " 'motor_velocity_constant': 122.0,\n",
       " 'op_idx_ack': 0,\n",
       " 'op_idx_aux': 0,\n",
       " 'posRefFiltAcoeff': 0.987512,\n",
       " 'posRefFiltBcoeff': 0.012488,\n",
       " 'posRefFilterFreq': 1.0,\n",
       " 'pos_ref': 123456792.0,\n",
       " 'pos_ref_fb': 0.0,\n",
       " 'position_ref_filtered': 123456792.0,\n",
       " 'rtt': 0.0,\n",
       " 'rx_aux': 0.0,\n",
       " 'rx_ts': 22057,\n",
       " 'sandBoxAngle': 0.05,\n",
       " 'sandBoxFriction': 0.5,\n",
       " 'sandBoxHysteresis': 0.0025,\n",
       " 'temperature': 8233,\n",
       " 'tor_ref': 0,\n",
       " 'torque': 0.0,\n",
       " 'torqueCalibArrayDim': 1256,\n",
       " 'torqueDerArrayDim': 8,\n",
       " 'torqueFixedOffset': 0.0,\n",
       " 'torqueSensTemp': 0.0,\n",
       " 'torque_calib_angle_max': '-nan',\n",
       " 'torque_calib_angle_min': '-nan',\n",
       " 'torque_calib_fill_value': '-nan',\n",
       " 'torque_no_average': 0.0,\n",
       " 'torque_no_calibrated': 0.0,\n",
       " 'torque_read': 0.0,\n",
       " 'ts': 0.0,\n",
       " 'tx_aux': 0.0,\n",
       " 'tx_rtt': 22057,\n",
       " 'v_batt': 48.639053,\n",
       " 'vel_ref': 0,\n",
       " 'voltageFeedforward': 1.0,\n",
       " 'voltage_ref_fb': 0.0,\n",
       " 'windingResistance': 0.32}"
      ]
     },
     "execution_count": 27,
     "metadata": {},
     "output_type": "execute_result"
    }
   ],
   "source": [
    "sdo_dict"
   ]
  },
  {
   "cell_type": "code",
   "execution_count": null,
   "metadata": {},
   "outputs": [],
   "source": []
  }
 ],
 "metadata": {
  "kernelspec": {
   "display_name": "Python 3.7.3 ('repl')",
   "language": "python",
   "name": "python3"
  },
  "language_info": {
   "codemirror_mode": {
    "name": "ipython",
    "version": 3
   },
   "file_extension": ".py",
   "mimetype": "text/x-python",
   "name": "python",
   "nbconvert_exporter": "python",
   "pygments_lexer": "ipython3",
   "version": "3.7.3"
  },
  "vscode": {
   "interpreter": {
    "hash": "47f44d7afcc8b4ecba503cf9a87ab3ab3759046872e9df0e037ccc3bf9e01e14"
   }
  }
 },
 "nbformat": 4,
 "nbformat_minor": 4
}
