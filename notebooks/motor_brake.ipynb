{
 "cells": [
  {
   "cell_type": "code",
   "execution_count": null,
   "metadata": {},
   "outputs": [],
   "source": [
    "%run my_import\n",
    "\n",
    "#uri = socket.gethostname()+\".local:5555\"\n",
    "#uri = \"localhost:5555\"\n",
    "#uri = \"nuc-i7.local:5555\"\n",
    "uri = \"com-exp.local:5555\"\n",
    "#uri = \"ipc3-xeno.local:5555\"\n",
    "io = ZmsgIO(uri)\n",
    "io.debug = False\n",
    "\n",
    "def reply_cmd(cmd):\n",
    "    reply = io.doit(cmd)\n",
    "    yaml_msg = yaml.safe_load(reply['msg'])\n",
    "    return yaml_msg\n",
    "\n",
    "status_cmds = {\n",
    "    'FAN_ON':           0x0026,\n",
    "    'FAN_OFF':\t\t\t0x0062,\n",
    "    'LED_ON':           0x0019,\n",
    "    'LED_OFF':          0x0091,\n",
    "    'RELEASE_BRAKE':    0x00BD,\n",
    "    'ENGAGE_BRAKE':     0x00DB,\n",
    "}\n",
    "reply_cmds = {\n",
    "    'CMD_DONE':         0x7800,\n",
    "    'CMD_WORKING':\t\t0xD000,\n",
    "    'CMD_ERROR':\t\t0xAA00,\n",
    "    'CMD_NOCOND':       0xBB00,\n",
    "}\n",
    "\n",
    "def ctrl_status_cmd(ctrl_cmd: int, bid: int):\n",
    "    msg = reply_cmd(SdoCmd(rd_sdo=[],wr_sdo={'ctrl_status_cmd': ctrl_cmd}).set_bid(bid))\n",
    "    msg = reply_cmd(SdoCmd(rd_sdo=['ctrl_status_cmd_ack'],wr_sdo={}).set_bid(bid))\n",
    "    print(hex(msg['ctrl_status_cmd_ack']))\n",
    "    return msg['ctrl_status_cmd_ack'] == ctrl_cmd + reply_cmds['CMD_DONE']\n",
    "\n",
    "def ctrl_status_cmd_str(ctrl_cmd: str, bid: int):\n",
    "    return ctrl_status_cmd(status_cmds[ctrl_cmd], bid) \n",
    "\n",
    "def sdo_filter(snames:list, sdos:dict):\n",
    "    return {key:sdos[key] for key in snames}"
   ]
  },
  {
   "cell_type": "code",
   "execution_count": null,
   "metadata": {},
   "outputs": [],
   "source": [
    "scan_ids = reply_cmd(master_cmd_get_slave_descr).keys()\n",
    "ids=list(scan_ids)\n",
    "print(ids)\n",
    "#assert(iD in ids)"
   ]
  },
  {
   "cell_type": "code",
   "execution_count": null,
   "metadata": {},
   "outputs": [],
   "source": [
    "iD = 69\n",
    "sdo_objd = reply_cmd(SdoInfo(u'SDO_OBJD').set_bid(iD))\n",
    "sdo_names = reply_cmd(SdoInfo(u'SDO_NAME').set_bid(iD))\n",
    "sdo_dict = reply_cmd(SdoCmd(rd_sdo=sdo_names,wr_sdo={}).set_bid(iD))"
   ]
  },
  {
   "cell_type": "code",
   "execution_count": null,
   "metadata": {},
   "outputs": [],
   "source": [
    "sf =sdo_filter(['m3_fw_ver','c28_fw_ver','hw_config_low','hw_config_high'],sdo_dict)\n",
    "print(sf)\n",
    "hex( (sf['hw_config_high']<<16) + sf['hw_config_low'] )"
   ]
  },
  {
   "cell_type": "code",
   "execution_count": null,
   "metadata": {},
   "outputs": [],
   "source": [
    "# release all ids brakes using aux_pdo command\n",
    "for iD in ids :\n",
    "    reply_cmd(SdoCmd(rd_sdo=[],wr_sdo={'master_command_pdo': 1.0}).set_bid(iD))\n",
    "    time.sleep(0.2)\n",
    "    ret = reply_cmd(SdoCmd(rd_sdo=['master_command_pdo_ack'],wr_sdo={}).set_bid(iD))['master_command_pdo_ack']\n",
    "    print(iD, ret)"
   ]
  },
  {
   "cell_type": "code",
   "execution_count": null,
   "metadata": {},
   "outputs": [],
   "source": [
    "# engage all ids brakes using aux_pdo command\n",
    "for iD in ids :\n",
    "    reply_cmd(SdoCmd(rd_sdo=[],wr_sdo={'master_command_pdo': 2.0}).set_bid(iD))\n",
    "    time.sleep(0.2)\n",
    "    ret = reply_cmd(SdoCmd(rd_sdo=['master_command_pdo_ack'],wr_sdo={}).set_bid(iD))['master_command_pdo_ack']\n",
    "    print(iD, ret)"
   ]
  },
  {
   "cell_type": "code",
   "execution_count": null,
   "metadata": {},
   "outputs": [],
   "source": []
  },
  {
   "cell_type": "code",
   "execution_count": null,
   "metadata": {},
   "outputs": [],
   "source": [
    "for iD in ids :\n",
    "    ctrl_status_cmd_str('RELEASE_BRAKE', iD)"
   ]
  },
  {
   "cell_type": "code",
   "execution_count": null,
   "metadata": {},
   "outputs": [],
   "source": [
    "for iD in ids :\n",
    "    ctrl_status_cmd_str('ENGAGE_BRAKE', iD)"
   ]
  },
  {
   "cell_type": "code",
   "execution_count": null,
   "metadata": {},
   "outputs": [],
   "source": [
    "ctrl_status_cmd_str('FAN_ON', iD)"
   ]
  },
  {
   "cell_type": "code",
   "execution_count": null,
   "metadata": {},
   "outputs": [],
   "source": [
    "ctrl_status_cmd_str('FAN_OFF', iD)"
   ]
  },
  {
   "cell_type": "code",
   "execution_count": null,
   "metadata": {},
   "outputs": [],
   "source": [
    "io.doit(SdoCmd(rd_sdo=[],wr_sdo={'hw_config_high': 0x5300}).set_bid(iD))"
   ]
  },
  {
   "cell_type": "code",
   "execution_count": null,
   "metadata": {},
   "outputs": [],
   "source": [
    "io.doit(flash_cmd_save_flash.set_bid(iD))"
   ]
  },
  {
   "cell_type": "code",
   "execution_count": null,
   "metadata": {},
   "outputs": [],
   "source": [
    "\n"
   ]
  },
  {
   "cell_type": "code",
   "execution_count": null,
   "metadata": {},
   "outputs": [],
   "source": []
  }
 ],
 "metadata": {
  "kernelspec": {
   "display_name": "Python 3 (ipykernel)",
   "language": "python",
   "name": "python3"
  },
  "language_info": {
   "codemirror_mode": {
    "name": "ipython",
    "version": 3
   },
   "file_extension": ".py",
   "mimetype": "text/x-python",
   "name": "python",
   "nbconvert_exporter": "python",
   "pygments_lexer": "ipython3",
   "version": "3.7.9"
  }
 },
 "nbformat": 4,
 "nbformat_minor": 4
}
