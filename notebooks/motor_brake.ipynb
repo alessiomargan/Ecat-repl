{
 "cells": [
  {
   "cell_type": "code",
   "execution_count": null,
   "metadata": {},
   "outputs": [],
   "source": [
    "from my_import import *\n",
    "\n",
    "#uri = socket.gethostname()+\".local:5555\"\n",
    "#uri = \"localhost:5555\"\n",
    "#uri = \"nuc-i7.local:5555\"\n",
    "uri = \"com-exp.local:5555\"\n",
    "#uri = \"ipc3-xeno.local:5555\"\n",
    "#uri = \"192.168.99.10:5555\"\n",
    "#uri = \"mirror-ecat-srv.local:5555\"\n",
    "\n",
    "io = ZmsgIO(uri)\n",
    "io.debug = False\n",
    "\n",
    "def reply_cmd(cmd):\n",
    "    reply = io.doit(cmd)\n",
    "    yaml_msg = yaml.safe_load(reply['msg'])\n",
    "    return yaml_msg\n",
    "\n",
    "status_cmds = {\n",
    "    'FAN_ON':           0x0026,\n",
    "    'FAN_OFF':\t\t\t0x0062,\n",
    "    'LED_ON':           0x0019,\n",
    "    'LED_OFF':          0x0091,\n",
    "    'RELEASE_BRAKE':    0x00BD,\n",
    "    'ENGAGE_BRAKE':     0x00DB,\n",
    "}\n",
    "reply_cmds = {\n",
    "    'CMD_DONE':         0x7800,\n",
    "    'CMD_WORKING':\t\t0xD000,\n",
    "    'CMD_ERROR':\t\t0xAA00,\n",
    "    'CMD_NOCOND':       0xBB00,\n",
    "}\n",
    "\n",
    "def ctrl_status_cmd(ctrl_cmd: int, bid: int):\n",
    "    msg = reply_cmd(SdoCmd(rd_sdo=[],wr_sdo={'ctrl_status_cmd': ctrl_cmd}).set_bid(bid))\n",
    "    msg = reply_cmd(SdoCmd(rd_sdo=['ctrl_status_cmd_ack'],wr_sdo={}).set_bid(bid))\n",
    "    print(hex(msg['ctrl_status_cmd_ack']))\n",
    "    return msg['ctrl_status_cmd_ack'] == ctrl_cmd + reply_cmds['CMD_DONE']\n",
    "\n",
    "def ctrl_status_cmd_str(ctrl_cmd: str, bid: int):\n",
    "    return ctrl_status_cmd(status_cmds[ctrl_cmd], bid) \n",
    "\n",
    "def sdo_filter(snames:list, sdos:dict):\n",
    "    return {key:sdos[key] for key in snames}"
   ]
  },
  {
   "cell_type": "code",
   "execution_count": null,
   "metadata": {},
   "outputs": [],
   "source": [
    "scan_ids = reply_cmd(master_cmd_get_slave_descr).keys()\n",
    "ids=list(scan_ids)\n",
    "print(ids)\n",
    "#assert(iD in ids)"
   ]
  },
  {
   "cell_type": "code",
   "execution_count": null,
   "metadata": {},
   "outputs": [],
   "source": [
    "iD = 1\n",
    "sdo_objd = reply_cmd(SdoInfo(u'SDO_OBJD').set_bid(iD))\n",
    "sdo_names = reply_cmd(SdoInfo(u'SDO_NAME').set_bid(iD))\n",
    "sdo_dict = reply_cmd(SdoCmd(rd_sdo=sdo_names,wr_sdo={}).set_bid(iD))"
   ]
  },
  {
   "cell_type": "code",
   "execution_count": null,
   "metadata": {},
   "outputs": [],
   "source": [
    "sf =sdo_filter(['m3_fw_ver','c28_fw_ver','hw_config_low','hw_config_high'],sdo_dict)\n",
    "print(sf)\n",
    "hex( (sf['hw_config_high']<<16) + sf['hw_config_low'] )"
   ]
  },
  {
   "cell_type": "code",
   "execution_count": null,
   "metadata": {},
   "outputs": [],
   "source": [
    "# release all ids brakes using aux_pdo command\n",
    "brk_rel = unpack('f',pack('i',1))[0]\n",
    "for _id in ids :\n",
    "    reply_cmd(SdoCmd(rd_sdo=[],wr_sdo={'master_cmd_control': brk_rel}).set_bid(_id))\n",
    "    time.sleep(0.2)\n",
    "    ret = reply_cmd(SdoCmd(rd_sdo=['master_cmd_status'],wr_sdo={}).set_bid(_id))['master_cmd_status']\n",
    "    print(_id, ret)"
   ]
  },
  {
   "cell_type": "code",
   "execution_count": null,
   "metadata": {},
   "outputs": [],
   "source": [
    "# engage all ids brakes using aux_pdo command\n",
    "brk_eng = unpack('f',pack('i',2))[0]\n",
    "for _id in ids :\n",
    "    reply_cmd(SdoCmd(rd_sdo=[],wr_sdo={'master_cmd_control': brk_eng}).set_bid(_id))\n",
    "    time.sleep(0.2)\n",
    "    ret = reply_cmd(SdoCmd(rd_sdo=['master_cmd_status'],wr_sdo={}).set_bid(_id))['master_cmd_status']\n",
    "    print(_id, ret)"
   ]
  },
  {
   "cell_type": "code",
   "execution_count": null,
   "metadata": {},
   "outputs": [],
   "source": [
    "sdo = ['torque','motor_pos','link_pos','Min_pos','Max_pos','Max_cur']\n",
    "sdo = ['link_pos','fault','linkEncBadReadPPM','absLinkEncErr']\n",
    "for i in range(2):\n",
    "    G = io.doit4ids([iD],SdoCmd(rd_sdo=sdo,wr_sdo={}))\n",
    "    #[g for g in G ]\n",
    "    for g in G :\n",
    "        print(g['msg'])\n",
    "    time.sleep(0.2)"
   ]
  },
  {
   "cell_type": "code",
   "execution_count": null,
   "metadata": {},
   "outputs": [],
   "source": [
    "io.doit(ctrl_cmd_start().set_bid(iD).set_value(0x3B))"
   ]
  },
  {
   "cell_type": "code",
   "execution_count": null,
   "metadata": {},
   "outputs": [],
   "source": [
    "io.doit(ctrl_cmd_stop.set_bid(iD))"
   ]
  },
  {
   "cell_type": "code",
   "execution_count": null,
   "metadata": {},
   "outputs": [],
   "source": [
    "io.doit(ctrl_cmd_start().set_bid(iD).set_value(0xD4))"
   ]
  },
  {
   "cell_type": "code",
   "execution_count": null,
   "metadata": {},
   "outputs": [],
   "source": [
    "io.debug=0\n",
    "gains = {}\n",
    "gains['type'] = \"IMPEDANCE\"\n",
    "gains['kp'] = 250\n",
    "gains['kd'] = 5\n",
    "#gains['ki'] = 0\n",
    "gains['kkp'] = 2\n",
    "gains['kkd'] = 0.001\n",
    "gains['kki'] = 0.08\n",
    "#io.doit(ctrl_cmd_start().set_bid(iD).set_value(0xD4).set_gains(*gains.values()))\n",
    "io.doit(ctrl_cmd_start().set_bid(iD).set_value(0xD4).set_gains(u'IMPEDANCE',2000,10,2,0.001,0))\n",
    "#io.doit(ctrl_cmd_start().set_bid(iD).set_value(0xD4).set_gains(u'IMPEDANCE',0,0,5,0.001,0.08))"
   ]
  },
  {
   "cell_type": "code",
   "execution_count": null,
   "metadata": {},
   "outputs": [],
   "source": [
    "io.doit(ctrl_cmd_stop.set_bid(iD))"
   ]
  },
  {
   "cell_type": "code",
   "execution_count": null,
   "metadata": {},
   "outputs": [],
   "source": [
    "for _id in ids :\n",
    "    ctrl_status_cmd_str('RELEASE_BRAKE', _id)"
   ]
  },
  {
   "cell_type": "code",
   "execution_count": null,
   "metadata": {},
   "outputs": [],
   "source": [
    "for _id in ids :\n",
    "    ctrl_status_cmd_str('ENGAGE_BRAKE', _id)"
   ]
  },
  {
   "cell_type": "code",
   "execution_count": null,
   "metadata": {},
   "outputs": [],
   "source": [
    "ctrl_status_cmd_str('FAN_ON', iD)"
   ]
  },
  {
   "cell_type": "code",
   "execution_count": null,
   "metadata": {},
   "outputs": [],
   "source": [
    "ctrl_status_cmd_str('FAN_OFF', iD)"
   ]
  },
  {
   "cell_type": "code",
   "execution_count": null,
   "metadata": {},
   "outputs": [],
   "source": [
    "io.doit(SdoCmd(rd_sdo=[],wr_sdo={'Max_cur': 10}).set_bid(iD))"
   ]
  },
  {
   "cell_type": "code",
   "execution_count": null,
   "metadata": {},
   "outputs": [],
   "source": [
    "io.doit(flash_cmd_save_flash.set_bid(iD))"
   ]
  },
  {
   "cell_type": "code",
   "execution_count": null,
   "metadata": {},
   "outputs": [],
   "source": [
    "iD\n"
   ]
  },
  {
   "cell_type": "code",
   "execution_count": null,
   "metadata": {},
   "outputs": [],
   "source": [
    "sdo_names = reply_cmd(SdoInfo(u'SDO_NAME').set_bid(16))\n",
    "sdo_dict = reply_cmd(SdoCmd(rd_sdo=sdo_names,wr_sdo={}).set_bid(16))"
   ]
  },
  {
   "cell_type": "code",
   "execution_count": null,
   "metadata": {},
   "outputs": [],
   "source": []
  }
 ],
 "metadata": {
  "kernelspec": {
   "display_name": "repl",
   "language": "python",
   "name": "repl"
  },
  "language_info": {
   "codemirror_mode": {
    "name": "ipython",
    "version": 3
   },
   "file_extension": ".py",
   "mimetype": "text/x-python",
   "name": "python",
   "nbconvert_exporter": "python",
   "pygments_lexer": "ipython3",
   "version": "3.7.3"
  }
 },
 "nbformat": 4,
 "nbformat_minor": 4
}
