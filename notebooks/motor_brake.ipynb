{
 "cells": [
  {
   "cell_type": "code",
   "execution_count": null,
   "metadata": {},
   "outputs": [],
   "source": [
    "%run my_import\n",
    "\n",
    "#uri = socket.gethostname()+\".local:5555\"\n",
    "#uri = \"localhost:5555\"\n",
    "#uri = \"nuc-i7.local:5555\"\n",
    "#uri = \"com-exp.local:5555\"\n",
    "#uri = \"ipc3-xeno.local:5555\"\n",
    "#uri = \"192.168.99.10:5555\"\n",
    "#uri = \"mirror-ecat-srv.local:5555\"\n",
    "uri = \"192.168.1.100:5555\"\n",
    "\n",
    "io = set_uri(uri)\n",
    "io.debug = False\n"
   ]
  },
  {
   "cell_type": "code",
   "execution_count": null,
   "metadata": {},
   "outputs": [],
   "source": [
    "scan_ids = reply_cmd(master_cmd_get_slave_descr).keys()\n",
    "ids=list(scan_ids)\n",
    "print(ids)\n",
    "#assert(iD in ids)"
   ]
  },
  {
   "cell_type": "code",
   "execution_count": null,
   "metadata": {},
   "outputs": [],
   "source": [
    "iD = ids[0]\n",
    "sdo_objd = reply_cmd(SdoInfo(u'SDO_OBJD').set_bid(iD))\n",
    "sdo_names = reply_cmd(SdoInfo(u'SDO_NAME').set_bid(iD))\n",
    "sdo_dict = reply_cmd(SdoCmd(rd_sdo=sdo_names,wr_sdo={}).set_bid(iD))"
   ]
  },
  {
   "cell_type": "code",
   "execution_count": null,
   "metadata": {},
   "outputs": [],
   "source": [
    "sf =sdo_filter(['m3_fw_ver','c28_fw_ver','hw_config_low','hw_config_high','Max_vel'],sdo_dict)\n",
    "print(sf)\n",
    "hex( (sf['hw_config_high']<<16) + sf['hw_config_low'] )"
   ]
  },
  {
   "cell_type": "code",
   "execution_count": null,
   "metadata": {},
   "outputs": [],
   "source": [
    "# release all ids brakes using aux_pdo command\n",
    "from struct import pack, unpack\n",
    "brk_rel = unpack('f',pack('i',1))[0]\n",
    "for _id in ids :\n",
    "    #reply_cmd(SdoCmd(rd_sdo=[],wr_sdo={'master_cmd_control': brk_rel}).set_bid(_id))\n",
    "    #time.sleep(0.2)\n",
    "    ret = reply_cmd(SdoCmd(rd_sdo=['master_cmd_status'],wr_sdo={}).set_bid(iD))['master_cmd_status']\n",
    "    print(_id, ret)"
   ]
  },
  {
   "cell_type": "code",
   "execution_count": null,
   "metadata": {},
   "outputs": [],
   "source": [
    "# engage all ids brakes using aux_pdo command\n",
    "brk_eng = unpack('f',pack('i',2))[0]\n",
    "for _id in ids :\n",
    "    reply_cmd(SdoCmd(rd_sdo=[],wr_sdo={'master_cmd_control': brk_eng}).set_bid(_id))\n",
    "    time.sleep(0.2)\n",
    "    ret = reply_cmd(SdoCmd(rd_sdo=['master_cmd_status'],wr_sdo={}).set_bid(_id))['master_cmd_status']\n",
    "    print(_id, ret)"
   ]
  },
  {
   "cell_type": "code",
   "execution_count": null,
   "metadata": {},
   "outputs": [],
   "source": [
    "sdo = ['torque','motor_pos','link_pos','Min_pos','Max_pos','Max_cur']\n",
    "#sdo = ['link_pos','fault','linkEncBadReadPPM','absLinkEncErr']\n",
    "for i in range(5):\n",
    "    G = io.doit4ids([iD],SdoCmd(rd_sdo=sdo,wr_sdo={}))\n",
    "    #[g for g in G ]\n",
    "    for g in G :\n",
    "        print(g['msg'])\n",
    "    time.sleep(0.2)"
   ]
  },
  {
   "cell_type": "code",
   "execution_count": null,
   "metadata": {},
   "outputs": [],
   "source": [
    "io.doit(ctrl_cmd_start().set_bid(iD).set_value(0x3B))"
   ]
  },
  {
   "cell_type": "code",
   "execution_count": null,
   "metadata": {},
   "outputs": [],
   "source": [
    "io.doit(ctrl_cmd_stop.set_bid(iD))"
   ]
  },
  {
   "cell_type": "code",
   "execution_count": null,
   "metadata": {},
   "outputs": [],
   "source": [
    "io.doit(ctrl_cmd_start().set_bid(iD).set_value(0xD4))"
   ]
  },
  {
   "cell_type": "code",
   "execution_count": null,
   "metadata": {},
   "outputs": [],
   "source": [
    "io.debug=0\n",
    "gains = {}\n",
    "gains['type'] = \"IMPEDANCE\"\n",
    "gains['kp'] = 250\n",
    "gains['kd'] = 5\n",
    "#gains['ki'] = 0\n",
    "gains['kkp'] = 2\n",
    "gains['kkd'] = 0.001\n",
    "gains['kki'] = 0.08\n",
    "#io.doit(ctrl_cmd_start().set_bid(iD).set_value(0xD4).set_gains(*gains.values()))\n",
    "io.doit(ctrl_cmd_start().set_bid(iD).set_value(0xD4).set_gains(u'IMPEDANCE',2000,10,2,0.001,0))\n",
    "#io.doit(ctrl_cmd_start().set_bid(iD).set_value(0xD4).set_gains(u'IMPEDANCE',0,0,5,0.001,0.08))"
   ]
  },
  {
   "cell_type": "code",
   "execution_count": null,
   "metadata": {},
   "outputs": [],
   "source": [
    "io.doit(ctrl_cmd_stop.set_bid(iD))"
   ]
  },
  {
   "cell_type": "code",
   "execution_count": null,
   "metadata": {},
   "outputs": [],
   "source": [
    "for _id in ids :\n",
    "    ctrl_status_cmd_str('RELEASE_BRAKE', _id)"
   ]
  },
  {
   "cell_type": "code",
   "execution_count": null,
   "metadata": {},
   "outputs": [],
   "source": [
    "for _id in ids :\n",
    "    ctrl_status_cmd_str('ENGAGE_BRAKE', _id)"
   ]
  },
  {
   "cell_type": "code",
   "execution_count": null,
   "metadata": {},
   "outputs": [],
   "source": [
    "ctrl_status_cmd_str('FAN_ON', iD)"
   ]
  },
  {
   "cell_type": "code",
   "execution_count": null,
   "metadata": {},
   "outputs": [],
   "source": [
    "ctrl_status_cmd_str('FAN_OFF', iD)"
   ]
  },
  {
   "cell_type": "code",
   "execution_count": null,
   "metadata": {},
   "outputs": [],
   "source": [
    "for id in [12,22,32,42] :\n",
    "    io.doit(SdoCmd(rd_sdo=[],wr_sdo={'Max_vel': 9.5}).set_bid(id))"
   ]
  },
  {
   "cell_type": "code",
   "execution_count": null,
   "metadata": {},
   "outputs": [],
   "source": [
    "for id in [12,22,32,42] :\n",
    "    io.doit(flash_cmd_save_flash.set_bid(id))"
   ]
  },
  {
   "cell_type": "code",
   "execution_count": null,
   "metadata": {},
   "outputs": [],
   "source": [
    "read_sdo(['hw_config_high'],[x for x in scan_ids if x < 200])"
   ]
  },
  {
   "cell_type": "code",
   "execution_count": null,
   "metadata": {},
   "outputs": [],
   "source": [
    "write_sdo({'hw_config_high': 0x5300+1},[11,12,13,21,22,23,31,32,33])"
   ]
  },
  {
   "cell_type": "code",
   "execution_count": null,
   "metadata": {},
   "outputs": [],
   "source": [
    "write_sdo({'hw_config_high': 0x5300+2},[14,15,16,24,25,26,34,35,36])"
   ]
  },
  {
   "cell_type": "code",
   "execution_count": null,
   "metadata": {},
   "outputs": [],
   "source": [
    "sdo_names = reply_cmd(SdoInfo(u'SDO_NAME').set_bid(123))\n",
    "sdo_dict = reply_cmd(SdoCmd(rd_sdo=sdo_names,wr_sdo={}).set_bid(123))"
   ]
  },
  {
   "cell_type": "code",
   "execution_count": null,
   "metadata": {},
   "outputs": [],
   "source": [
    "for id in [x for x in scan_ids if x < 200]:\n",
    "    reply_cmd(flash_cmd_save_flash.set_bid(id))"
   ]
  },
  {
   "cell_type": "code",
   "execution_count": null,
   "metadata": {},
   "outputs": [],
   "source": []
  },
  {
   "cell_type": "code",
   "execution_count": null,
   "metadata": {},
   "outputs": [],
   "source": []
  },
  {
   "cell_type": "code",
   "execution_count": null,
   "metadata": {},
   "outputs": [],
   "source": [
    "io.doit(SdoCmd(rd_sdo=[],wr_sdo={'hw_config_low': 0x6106,'hw_config_high': 0x1100, 'motor_velocity_constant': 122}).set_bid(123))"
   ]
  },
  {
   "cell_type": "code",
   "execution_count": null,
   "metadata": {},
   "outputs": [],
   "source": [
    "io.doit(flash_cmd_save_flash.set_bid(123))"
   ]
  },
  {
   "cell_type": "code",
   "execution_count": null,
   "metadata": {},
   "outputs": [],
   "source": [
    "sdo_dict"
   ]
  },
  {
   "cell_type": "code",
   "execution_count": null,
   "metadata": {},
   "outputs": [],
   "source": [
    "[x for x in scan_ids if x < 200]"
   ]
  },
  {
   "cell_type": "code",
   "execution_count": null,
   "metadata": {},
   "outputs": [],
   "source": [
    "sdo_dict"
   ]
  },
  {
   "cell_type": "code",
   "execution_count": null,
   "metadata": {},
   "outputs": [],
   "source": []
  }
 ],
 "metadata": {
  "kernelspec": {
   "display_name": "Python 3 (ipykernel)",
   "language": "python",
   "name": "python3"
  },
  "language_info": {
   "codemirror_mode": {
    "name": "ipython",
    "version": 3
   },
   "file_extension": ".py",
   "mimetype": "text/x-python",
   "name": "python",
   "nbconvert_exporter": "python",
   "pygments_lexer": "ipython3",
   "version": "3.7.3"
  },
  "vscode": {
   "interpreter": {
    "hash": "47f44d7afcc8b4ecba503cf9a87ab3ab3759046872e9df0e037ccc3bf9e01e14"
   }
  }
 },
 "nbformat": 4,
 "nbformat_minor": 4
}
