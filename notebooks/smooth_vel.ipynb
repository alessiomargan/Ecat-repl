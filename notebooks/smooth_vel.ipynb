{
 "cells": [
  {
   "cell_type": "code",
   "execution_count": 34,
   "metadata": {},
   "outputs": [
    {
     "name": "stdout",
     "output_type": "stream",
     "text": [
      "/home/amargan/work/anaconda3/envs/repl/bin/python\n"
     ]
    }
   ],
   "source": [
    "%run my_import\n",
    "\n",
    "#uri = socket.gethostname()+\".local:5555\"\n",
    "uri = \"com-exp.local:5555\"\n",
    "#uri = \"localhost:5555\"\n",
    "io = ZmsgIO(uri)\n",
    "\n",
    "bId = 123\n",
    "\n",
    "io.debug=0"
   ]
  },
  {
   "cell_type": "code",
   "execution_count": 37,
   "metadata": {},
   "outputs": [
    {
     "data": {
      "text/plain": [
       "[1, 123, 203]"
      ]
     },
     "execution_count": 37,
     "metadata": {},
     "output_type": "execute_result"
    }
   ],
   "source": [
    "reply = io.doit(master_cmd_get_slave_descr)\n",
    "yaml_msg = yaml.safe_load(reply['msg'])\n",
    "scan_ids = yaml_msg.keys()\n",
    "ids=list(scan_ids)\n",
    "ids"
   ]
  },
  {
   "cell_type": "code",
   "execution_count": 42,
   "metadata": {},
   "outputs": [
    {
     "data": {
      "text/plain": [
       "{'type': 1, 'cmd_type': 2, 'msg': 'Ok !!!'}"
      ]
     },
     "execution_count": 42,
     "metadata": {},
     "output_type": "execute_result"
    }
   ],
   "source": [
    "io.doit(ctrl_cmd_start().set_bid(bId).set_value(0x3B))"
   ]
  },
  {
   "cell_type": "code",
   "execution_count": 43,
   "metadata": {},
   "outputs": [],
   "source": [
    "for i in range(10):\n",
    "    ds = 0.5 if i%2 else -0.5\n",
    "    magic = -0.033 if i%2 else 0.033\n",
    "    ######################################\n",
    "    #reply = io.doit(SdoCmd(rd_sdo=['motor_pos','motor_vel'],wr_sdo={}).set_bid(bId))\n",
    "    #yaml_msg = yaml.safe_load(reply['msg'])\n",
    "    #motor_pos = yaml_msg['motor_pos']\n",
    "    #motor_vel = yaml_msg['motor_vel']/1000\n",
    "    #smooth_vel_par = {\"p0\": motor_pos, \"v0\": motor_vel, \"pt\": motor_pos+ds, \"vt\": 0, \"dt\": 1.0}\n",
    "    ######################################\n",
    "    #reply = io.doit(SdoCmd(rd_sdo=['motor_pos'],wr_sdo={}).set_bid(bId))\n",
    "    #yaml_msg = yaml.safe_load(reply['msg'])\n",
    "    #motor_pos = yaml_msg['motor_pos']\n",
    "    #smooth_vel_par = {\"p0\": motor_pos, \"pt\": motor_pos+ds, \"dt\": 1.0}\n",
    "    ######################################\n",
    "    smooth_vel_par = {\"ds\": ds, \"dt\": 1.0, \"magic\": magic}\n",
    "    smooth_vel = {\"type\": \"TRJ_CMD\", \n",
    "                  \"trajectory_cmd\": {\"type\": \"SMOOTHER_VEL\", \"name\": \"smooth_vel\", \"board_id\": bId,\n",
    "                                     \"smooth_vel_par\": smooth_vel_par}} \n",
    "    reply = io.doit(smooth_vel)\n",
    "    time.sleep(0.7)\n"
   ]
  },
  {
   "cell_type": "code",
   "execution_count": 40,
   "metadata": {},
   "outputs": [],
   "source": [
    "for i in range(1000):\n",
    "    reply = io.doit(SdoCmd(rd_sdo=['motor_pos','motor_vel'],wr_sdo={}).set_bid(bId))\n",
    "    yaml_msg = yaml.safe_load(reply['msg'])"
   ]
  },
  {
   "cell_type": "code",
   "execution_count": 39,
   "metadata": {},
   "outputs": [
    {
     "data": {
      "text/plain": [
       "{'type': 1, 'cmd_type': 2, 'msg': 'Ok !!!'}"
      ]
     },
     "execution_count": 39,
     "metadata": {},
     "output_type": "execute_result"
    }
   ],
   "source": [
    "io.doit(ctrl_cmd_stop.set_bid(bId))"
   ]
  },
  {
   "cell_type": "code",
   "execution_count": null,
   "metadata": {},
   "outputs": [],
   "source": []
  }
 ],
 "metadata": {
  "kernelspec": {
   "display_name": "repl",
   "language": "python",
   "name": "repl"
  },
  "language_info": {
   "codemirror_mode": {
    "name": "ipython",
    "version": 3
   },
   "file_extension": ".py",
   "mimetype": "text/x-python",
   "name": "python",
   "nbconvert_exporter": "python",
   "pygments_lexer": "ipython3",
   "version": "3.7.3"
  }
 },
 "nbformat": 4,
 "nbformat_minor": 4
}
