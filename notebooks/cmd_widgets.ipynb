{
 "cells": [
  {
   "cell_type": "code",
   "execution_count": 1,
   "metadata": {},
   "outputs": [],
   "source": [
    "import socket\n",
    "\n",
    "import ipywidgets.widgets as widgets\n",
    "from IPython.display import display\n",
    "\n",
    "from ecat_repl import ZmsgIO\n",
    "from ecat_repl import CtrlCmd\n",
    "from ecat_repl import (\n",
    "    ctrl_cmd_start,\n",
    "    ctrl_cmd_stop,\n",
    "    ctrl_cmd_fan,\n",
    "    ctrl_cmd_led,\n",
    "    ctrl_cmd_set_zero,\n",
    "    ctrl_cmd_set_min_pos,\n",
    "    ctrl_cmd_set_max_pos,\n",
    ")\n",
    "\n",
    "uri = socket.gethostname()+\".local:5555\"\n",
    "#uri = \"localhost:5555\"\n",
    "io = ZmsgIO(uri)\n",
    "io.debug = False\n",
    "id = 1 "
   ]
  },
  {
   "cell_type": "code",
   "execution_count": 2,
   "metadata": {},
   "outputs": [
    {
     "data": {
      "application/vnd.jupyter.widget-view+json": {
       "model_id": "6582eea3f8c64b3d8fc6114066d453d0",
       "version_major": 2,
       "version_minor": 0
      },
      "text/plain": [
       "VBox(children=(HBox(children=(Button(description='fan on', layout=Layout(align_self='center', height='80px', w…"
      ]
     },
     "metadata": {},
     "output_type": "display_data"
    }
   ],
   "source": [
    "# create buttons\n",
    "button_layout = widgets.Layout(width='100px', height='80px', align_self='center')\n",
    "fan_on_btn = widgets.Button(description='fan on', layout=button_layout)\n",
    "fan_off_btn = widgets.Button(description='fan off', layout=button_layout)\n",
    "start_btn = widgets.Button(description='start ctrl', layout=button_layout)\n",
    "stop_btn = widgets.Button(description='stop ctrl', layout=button_layout)\n",
    "\n",
    "# display buttons\n",
    "hbox_1 = widgets.HBox([fan_on_btn, fan_off_btn])\n",
    "hbox_2 = widgets.HBox([start_btn, stop_btn])\n",
    "vbox = widgets.VBox([hbox_1, hbox_2], layout=widgets.Layout(align_self='center'))\n",
    "display(vbox)\n",
    "\n",
    "# define cb\n",
    "def start_fan(change):\n",
    "    io.doit(ctrl_cmd_fan.set_bid(id).set_value(1))\n",
    "    \n",
    "def stop_fan(change):\n",
    "    io.doit(ctrl_cmd_fan.set_bid(id).set_value(0))\n",
    "\n",
    "def start_ctrl(change):\n",
    "    io.doit(ctrl_cmd_start.set_bid(id).set_value(0x3b))\n",
    "\n",
    "def stop_ctrl(change):\n",
    "    io.doit(ctrl_cmd_stop.set_bid(id))\n",
    "    \n",
    "# attach cb\n",
    "fan_on_btn.on_click(start_fan)\n",
    "fan_off_btn.on_click(stop_fan) \n",
    "start_btn.on_click(start_ctrl)\n",
    "stop_btn.on_click(stop_ctrl) "
   ]
  },
  {
   "cell_type": "code",
   "execution_count": 3,
   "metadata": {},
   "outputs": [],
   "source": [
    "%qtconsole"
   ]
  },
  {
   "cell_type": "code",
   "execution_count": 6,
   "metadata": {},
   "outputs": [
    {
     "data": {
      "text/plain": [
       "10"
      ]
     },
     "execution_count": 6,
     "metadata": {},
     "output_type": "execute_result"
    }
   ],
   "source": [
    "a"
   ]
  },
  {
   "cell_type": "code",
   "execution_count": null,
   "metadata": {},
   "outputs": [],
   "source": []
  }
 ],
 "metadata": {
  "kernelspec": {
   "display_name": "repl",
   "language": "python",
   "name": "repl"
  },
  "language_info": {
   "codemirror_mode": {
    "name": "ipython",
    "version": 3
   },
   "file_extension": ".py",
   "mimetype": "text/x-python",
   "name": "python",
   "nbconvert_exporter": "python",
   "pygments_lexer": "ipython3",
   "version": "3.7.3"
  }
 },
 "nbformat": 4,
 "nbformat_minor": 2
}
