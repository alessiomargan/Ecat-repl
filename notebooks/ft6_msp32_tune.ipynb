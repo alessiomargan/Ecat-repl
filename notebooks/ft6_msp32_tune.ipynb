{
 "cells": [
  {
   "cell_type": "code",
   "execution_count": 6,
   "metadata": {},
   "outputs": [
    {
     "name": "stdout",
     "output_type": "stream",
     "text": [
      "Python path : /home/amargan/work/anaconda3/envs/repl/bin/python\n",
      "Python version : 3.9.13 | packaged by conda-forge | (main, May 27 2022, 16:56:21) \n",
      "[GCC 10.3.0]\n",
      "new uri com-exp.local:5555\n",
      "Found ESC ids [696]\n"
     ]
    }
   ],
   "source": [
    "%run my_import\n",
    "\n",
    "#uri = socket.gethostname()+\".local:5555\"\n",
    "#uri = \"localhost:5555\"\n",
    "#uri = \"nuc-i7.local:5555\"\n",
    "uri = \"com-exp.local:5555\"\n",
    "#uri = \"advantech.local:5555\"\n",
    "#uri = \"192.168.1.100:5555\"\n",
    "\n",
    "io = set_uri(uri)\n",
    "io.debug = False\n",
    "scan_ids = list(reply_cmd(master_cmd_get_slave_descr).keys())\n",
    "print('Found ESC ids {}'.format(scan_ids))\n"
   ]
  },
  {
   "cell_type": "code",
   "execution_count": 51,
   "metadata": {},
   "outputs": [],
   "source": [
    "from simple_pid import PID\n",
    "\n",
    "ch_map = {\n",
    "    0: 'force_x',\n",
    "    1: 'force_y',\n",
    "    2: 'force_z',\n",
    "    3: 'torque_x',\n",
    "    4: 'torque_y',\n",
    "    5: 'torque_z',\n",
    "}\n",
    "\n",
    "def read_channel(bid:int, ch:int)->dict:\n",
    "    write_sdo({'adc_idx':ch},[bid])\n",
    "    reply_cmd(ctrl_cmd_get_adc.set_bid(bid))\n",
    "    return read_sdo(['adc_conv','adc_raw'],[bid])[bid]\n",
    "\n",
    "def read_channel_dac_offset(bid:int, ch:int, offset:int) :\n",
    "    write_sdo({'adc_idx': ch,'dac_offset':offset},[bid])\n",
    "    reply_cmd(ctrl_cmd_set_dac.set_bid(bid))\n",
    "    reply_cmd(ctrl_cmd_get_adc.set_bid(bid))\n",
    "    return read_sdo(['adc_conv','adc_raw'],[bid])[bid]\n",
    "\n",
    "def read_channel_adc_offset(bid:int, ch:int, offset:float) :\n",
    "    write_sdo({'adc_idx': ch,'adc_conv_offset':offset},[bid])\n",
    "    # call Set_adc_offset_flash :\n",
    "    #  - sdo.flash.adc_conv_offs[sdo.ram.adc_idx] = sdo.ram.adc_conv_offset;\n",
    "    ctrl_status_cmd(0x00AF, bid)\n",
    "    reply_cmd(ctrl_cmd_get_adc.set_bid(bid))\n",
    "    return read_sdo([ch_map[ch],'adc_conv','adc_raw'],[bid])[bid]\n",
    "\n",
    "def reset_DAC() :\n",
    "    for ch in range(6) :\n",
    "        ret = read_channel_offset(iD,ch,0x7FFF)\n",
    "        print(ret)\n",
    "\n",
    "def tune_adc_chan(bid:int, adc_idx:int) :\n",
    "    dac_offset = 0x7FFF\n",
    "    hister = 5\n",
    "    tuned = False\n",
    "    while ( not tuned ):\n",
    "        yaml_msg = read_channel_dac_offset(bid,adc_idx,dac_offset)\n",
    "        adc_raw = yaml_msg['adc_raw']\n",
    "        adc_conv = yaml_msg['adc_conv']\n",
    "        if ( adc_raw > 0x1FFF+hister ) :\n",
    "            if ( dac_offset < 0xFFFF ) :\n",
    "                # old pcb see github ticket #56\n",
    "                #dac_offset += 2\n",
    "                dac_offset -= 2\n",
    "        elif ( adc_raw < 0x1FFF-hister ) :\n",
    "            if ( dac_offset > 0 ) :\n",
    "                # old pcb see github ticket #56\n",
    "                #dac_offset -= 2\n",
    "                dac_offset += 2\n",
    "        else : \n",
    "            tuned = True\n",
    "        time.sleep(0.001)\n",
    "        yield(tuned, adc_raw, adc_conv, dac_offset)\n",
    "        \n",
    "def tune_adc_offset(bid:int, adc_idx:int, set_point:float) :\n",
    "    adc_offset = 0.0\n",
    "    hister = 0.5\n",
    "    tuned = False\n",
    "    while ( not tuned ):\n",
    "        yaml_msg = read_channel_adc_offset(bid,adc_idx,adc_offset)\n",
    "        adc_raw = yaml_msg['adc_raw']\n",
    "        adc_conv = yaml_msg['adc_conv']\n",
    "        adc = yaml_msg[ch_map[adc_idx]]\n",
    "        adc_offset = adc_conv\n",
    "        if abs(adc) < hister :\n",
    "            tuned = True\n",
    "        time.sleep(0.001)\n",
    "        yield(tuned, adc_raw, adc_conv, adc_offset)"
   ]
  },
  {
   "cell_type": "code",
   "execution_count": 8,
   "metadata": {},
   "outputs": [
    {
     "data": {
      "text/plain": [
       "{'adc_conv': 0.038125,\n",
       " 'adc_conv_coeff': 1.0,\n",
       " 'adc_conv_offset': 0.0,\n",
       " 'adc_idx': 0,\n",
       " 'adc_raw': 8441,\n",
       " 'analog_sample_freq_HZ': 20000,\n",
       " 'aux_get': 4568.0,\n",
       " 'aux_set': 4568.0,\n",
       " 'board_id': 696,\n",
       " 'control': 0.0,\n",
       " 'ctrl_status_cmd': 173,\n",
       " 'ctrl_status_cmd_ack': 30893,\n",
       " 'dac_offset': 33223,\n",
       " 'dac_tune_bitflag': 0,\n",
       " 'dac_tune_hysteresis': 5,\n",
       " 'fault_ack': 0,\n",
       " 'flash_params_cmd': 86,\n",
       " 'flash_params_cmd_ack': 30806,\n",
       " 'force_x': 0.038125,\n",
       " 'force_y': 0.015708,\n",
       " 'force_z': -0.001677,\n",
       " 'fw_ver': 23041718,\n",
       " 'module_params': 0,\n",
       " 'offset': 0.0,\n",
       " 'op_idx_ack': 257,\n",
       " 'op_idx_aux': 257,\n",
       " 'rtt': 4568.0,\n",
       " 'smpl_num_pow2': 5,\n",
       " 'status': 0.0,\n",
       " 'temperature': 0.0,\n",
       " 'torque_x': 0.047885,\n",
       " 'torque_y': -0.015097,\n",
       " 'torque_z': 0.046665,\n",
       " 'ts': 4568.0}"
      ]
     },
     "execution_count": 8,
     "metadata": {},
     "output_type": "execute_result"
    }
   ],
   "source": [
    "iD = scan_ids[0]\n",
    "sdo_objd = reply_cmd(SdoInfo(u'SDO_OBJD').set_bid(iD))\n",
    "sdo_names = reply_cmd(SdoInfo(u'SDO_NAME').set_bid(iD))\n",
    "sdo_dict = reply_cmd(SdoCmd(rd_sdo=sdo_names,wr_sdo={}).set_bid(iD))\n",
    "sdo_dict"
   ]
  },
  {
   "cell_type": "code",
   "execution_count": 9,
   "metadata": {},
   "outputs": [
    {
     "data": {
      "text/plain": [
       "{'fw_ver': 23041718,\n",
       " 'analog_sample_freq_HZ': 20000,\n",
       " 'dac_tune_bitflag': 0,\n",
       " 'smpl_num_pow2': 5,\n",
       " 'dac_tune_hysteresis': 5,\n",
       " 'adc_conv_coeff': 1.0}"
      ]
     },
     "execution_count": 9,
     "metadata": {},
     "output_type": "execute_result"
    }
   ],
   "source": [
    "flash_param = ['fw_ver','analog_sample_freq_HZ','dac_tune_bitflag',\n",
    "               'smpl_num_pow2','dac_tune_hysteresis','adc_conv_coeff']\n",
    "sdo_filter(flash_param, sdo_dict)"
   ]
  },
  {
   "cell_type": "code",
   "execution_count": 10,
   "metadata": {},
   "outputs": [
    {
     "data": {
      "text/plain": [
       "{696: {'smpl_num_pow2': 5}}"
      ]
     },
     "execution_count": 10,
     "metadata": {},
     "output_type": "execute_result"
    }
   ],
   "source": [
    "read_sdo(['smpl_num_pow2'],[iD])"
   ]
  },
  {
   "cell_type": "code",
   "execution_count": null,
   "metadata": {},
   "outputs": [],
   "source": [
    "write_sdo({'smpl_num_pow2': 1},[iD])"
   ]
  },
  {
   "cell_type": "code",
   "execution_count": 22,
   "metadata": {},
   "outputs": [
    {
     "data": {
      "text/plain": [
       "{696: {'adc_conv_coeff': 1.0}}"
      ]
     },
     "execution_count": 22,
     "metadata": {},
     "output_type": "execute_result"
    }
   ],
   "source": [
    "\n",
    "write_sdo({'adc_conv_coeff': 1.0},[iD])"
   ]
  },
  {
   "cell_type": "markdown",
   "metadata": {},
   "source": [
    "## Load default calib matrix"
   ]
  },
  {
   "cell_type": "code",
   "execution_count": 11,
   "metadata": {},
   "outputs": [
    {
     "name": "stdout",
     "output_type": "stream",
     "text": [
      "0x78c1\n"
     ]
    },
    {
     "data": {
      "text/plain": [
       "True"
      ]
     },
     "execution_count": 11,
     "metadata": {},
     "output_type": "execute_result"
    }
   ],
   "source": [
    "ctrl_status_cmd_str('LOAD_DFLT_CM', iD)"
   ]
  },
  {
   "cell_type": "markdown",
   "metadata": {},
   "source": [
    "## read 1 channel"
   ]
  },
  {
   "cell_type": "code",
   "execution_count": 24,
   "metadata": {},
   "outputs": [
    {
     "data": {
      "text/plain": [
       "{'adc_conv': -4.068583, 'adc_raw': 8196}"
      ]
     },
     "execution_count": 24,
     "metadata": {},
     "output_type": "execute_result"
    }
   ],
   "source": [
    "read_channel(iD,0)"
   ]
  },
  {
   "cell_type": "code",
   "execution_count": null,
   "metadata": {},
   "outputs": [],
   "source": [
    "read_channel_offset(iD,0,0x7FFF)"
   ]
  },
  {
   "cell_type": "code",
   "execution_count": 50,
   "metadata": {},
   "outputs": [
    {
     "name": "stdout",
     "output_type": "stream",
     "text": [
      "0x78af\n"
     ]
    },
    {
     "data": {
      "text/plain": [
       "{'adc_conv': -3.696591, 'adc_raw': 8194, 'force_x': 0.301259}"
      ]
     },
     "execution_count": 50,
     "metadata": {},
     "output_type": "execute_result"
    }
   ],
   "source": [
    "read_channel_adc_offset(iD,0,-4)"
   ]
  },
  {
   "cell_type": "markdown",
   "metadata": {},
   "source": [
    "## read all 6 channels once"
   ]
  },
  {
   "cell_type": "code",
   "execution_count": null,
   "metadata": {},
   "outputs": [],
   "source": [
    "\n",
    "adc_conv = list()\n",
    "adc_raw = list()\n",
    "for j in range(1):\n",
    "    for i in range(6):\n",
    "        yaml_msg = read_channel(iD,i)\n",
    "        adc_raw.append(yaml_msg['adc_raw'])\n",
    "        adc_conv.append(yaml_msg['adc_conv'])\n",
    "        print(yaml_msg)\n",
    "        time.sleep(0.1)\n",
    "        \n",
    "[hex(x) for x in adc_raw]"
   ]
  },
  {
   "cell_type": "markdown",
   "metadata": {},
   "source": [
    "## reset DAC "
   ]
  },
  {
   "cell_type": "code",
   "execution_count": 12,
   "metadata": {},
   "outputs": [
    {
     "name": "stdout",
     "output_type": "stream",
     "text": [
      "{'adc_conv': 0.002745, 'adc_raw': 8209}\n",
      "{'adc_conv': 0.01586, 'adc_raw': 8295}\n",
      "{'adc_conv': -0.001067, 'adc_raw': 8184}\n",
      "{'adc_conv': 0.047885, 'adc_raw': 8505}\n",
      "{'adc_conv': -0.014945, 'adc_raw': 8093}\n",
      "{'adc_conv': 0.046665, 'adc_raw': 8497}\n"
     ]
    }
   ],
   "source": [
    "reset_DAC()"
   ]
  },
  {
   "cell_type": "markdown",
   "metadata": {},
   "source": [
    "## Set all analog channel to Zero using DAC"
   ]
  },
  {
   "cell_type": "code",
   "execution_count": 14,
   "metadata": {},
   "outputs": [
    {
     "name": "stdout",
     "output_type": "stream",
     "text": [
      "--- 0 ---\n",
      "1 0.000610 0x2003 0x7FDD\n",
      "--- 1 ---\n",
      "1 0.000762 0x2004 0x7F3D\n",
      "--- 2 ---\n",
      "1 -0.000610 0x1FFB 0x8009\n",
      "--- 3 ---\n",
      "1 0.000457 0x2002 0x7D8F\n",
      "--- 4 ---\n",
      "1 -0.000762 0x1FFA 0x80B7\n",
      "--- 5 ---\n",
      "1 0.000762 0x2004 0x7DA1\n"
     ]
    }
   ],
   "source": [
    "for ch in range(6) :\n",
    "    print(\"--- {0} ---\".format(ch))\n",
    "    for tuned, adc_raw, adc_conv, offset in tune_adc_chan(iD,ch) :\n",
    "        print(\"\\r%d %f 0x%X 0x%X\"%(tuned, adc_conv, adc_raw, offset), end=\"\")\n",
    "        if tuned :\n",
    "            write_sdo({'adc_idx': ch,'dac_offset':offset},[iD])\n",
    "            reply_cmd(ctrl_cmd_set_dac_flash.set_bid(iD))\n",
    "    print()\n"
   ]
  },
  {
   "cell_type": "code",
   "execution_count": 54,
   "metadata": {},
   "outputs": [
    {
     "name": "stdout",
     "output_type": "stream",
     "text": [
      "--- 0 ---\n",
      "0x78af\n",
      "1 -3.689486 0x2003 -3.689486\n",
      "--- 1 ---\n",
      "0x78af\n",
      "1 2.097554 0x2001 2.097554\n",
      "--- 2 ---\n",
      "0x78af\n",
      "1 -2.479642 0x1FF9 -2.479642\n",
      "--- 3 ---\n",
      "0x78af\n",
      "1 0.030064 0x2003 0.030064\n",
      "--- 4 ---\n",
      "0x78af\n",
      "1 0.071006 0x1FF8 0.071006\n",
      "--- 5 ---\n",
      "0x78af\n",
      "1 0.045806 0x2005 0.045806\n"
     ]
    }
   ],
   "source": [
    "for ch in range(6) :\n",
    "    print(\"--- {0} ---\".format(ch))\n",
    "    for tuned, adc_raw, adc_conv, offset in tune_adc_offset(iD,ch,0) :\n",
    "        print(\"\\r%d %f 0x%X %f\"%(tuned, adc_conv, adc_raw, offset), end=\"\")\n",
    "        if tuned :\n",
    "            pass\n",
    "            #write_sdo({'adc_idx': ch,'dac_offset':offset},[iD])\n",
    "            #reply_cmd(ctrl_cmd_set_dac_flash.set_bid(iD))\n",
    "    print()\n"
   ]
  },
  {
   "cell_type": "code",
   "execution_count": 15,
   "metadata": {},
   "outputs": [
    {
     "data": {
      "text/plain": [
       "'Ok !!!'"
      ]
     },
     "execution_count": 15,
     "metadata": {},
     "output_type": "execute_result"
    }
   ],
   "source": [
    "write_sdo({'dac_tune_bitflag': 0x3F},[iD])\n",
    "reply_cmd(flash_cmd_save_flash.set_bid(iD))"
   ]
  },
  {
   "cell_type": "code",
   "execution_count": 19,
   "metadata": {},
   "outputs": [
    {
     "data": {
      "text/plain": [
       "'Ok !!!'"
      ]
     },
     "execution_count": 19,
     "metadata": {},
     "output_type": "execute_result"
    }
   ],
   "source": [
    "write_sdo({'smpl_num_pow2': 8},[iD])\n",
    "reply_cmd(flash_cmd_save_flash.set_bid(iD))"
   ]
  },
  {
   "cell_type": "code",
   "execution_count": null,
   "metadata": {},
   "outputs": [],
   "source": []
  },
  {
   "cell_type": "code",
   "execution_count": null,
   "metadata": {},
   "outputs": [],
   "source": [
    "cnt = 10\n",
    "dac_offset = 0x7FFF\n",
    "while (cnt) :\n",
    "    cnt -= 1\n",
    "    print(read_channel_offset(iD,0,dac_offset))\n",
    "    dac_offset += 10\n"
   ]
  },
  {
   "cell_type": "code",
   "execution_count": 28,
   "metadata": {},
   "outputs": [
    {
     "name": "stdout",
     "output_type": "stream",
     "text": [
      "0x7812\n"
     ]
    },
    {
     "data": {
      "text/plain": [
       "True"
      ]
     },
     "execution_count": 28,
     "metadata": {},
     "output_type": "execute_result"
    }
   ],
   "source": [
    "ctrl_status_cmd(0x0012, iD)"
   ]
  },
  {
   "cell_type": "code",
   "execution_count": 29,
   "metadata": {},
   "outputs": [
    {
     "name": "stdout",
     "output_type": "stream",
     "text": [
      "0xaa21\n"
     ]
    },
    {
     "data": {
      "text/plain": [
       "False"
      ]
     },
     "execution_count": 29,
     "metadata": {},
     "output_type": "execute_result"
    }
   ],
   "source": [
    "ctrl_status_cmd(0x0021, iD)"
   ]
  },
  {
   "cell_type": "code",
   "execution_count": 30,
   "metadata": {},
   "outputs": [
    {
     "name": "stdout",
     "output_type": "stream",
     "text": [
      "0x78af\n"
     ]
    },
    {
     "data": {
      "text/plain": [
       "True"
      ]
     },
     "execution_count": 30,
     "metadata": {},
     "output_type": "execute_result"
    }
   ],
   "source": [
    "ctrl_status_cmd(0x00AF, iD)"
   ]
  },
  {
   "cell_type": "code",
   "execution_count": 7,
   "metadata": {},
   "outputs": [
    {
     "data": {
      "text/plain": [
       "'Ok !!!'"
      ]
     },
     "execution_count": 7,
     "metadata": {},
     "output_type": "execute_result"
    }
   ],
   "source": [
    "reply_cmd(flash_cmd_load_default.set_bid(696))"
   ]
  },
  {
   "cell_type": "code",
   "execution_count": 16,
   "metadata": {},
   "outputs": [
    {
     "name": "stdout",
     "output_type": "stream",
     "text": [
      "0x78c4\n"
     ]
    },
    {
     "data": {
      "text/plain": [
       "True"
      ]
     },
     "execution_count": 16,
     "metadata": {},
     "output_type": "execute_result"
    }
   ],
   "source": [
    "ctrl_status_cmd_str('LOAD_CM', iD)"
   ]
  },
  {
   "cell_type": "code",
   "execution_count": null,
   "metadata": {},
   "outputs": [],
   "source": []
  }
 ],
 "metadata": {
  "kernelspec": {
   "display_name": "repl",
   "language": "python",
   "name": "repl"
  },
  "language_info": {
   "codemirror_mode": {
    "name": "ipython",
    "version": 3
   },
   "file_extension": ".py",
   "mimetype": "text/x-python",
   "name": "python",
   "nbconvert_exporter": "python",
   "pygments_lexer": "ipython3",
   "version": "3.9.13"
  },
  "vscode": {
   "interpreter": {
    "hash": "47f44d7afcc8b4ecba503cf9a87ab3ab3759046872e9df0e037ccc3bf9e01e14"
   }
  }
 },
 "nbformat": 4,
 "nbformat_minor": 4
}
