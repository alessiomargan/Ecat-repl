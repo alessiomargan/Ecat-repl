{
 "cells": [
  {
   "cell_type": "code",
   "execution_count": null,
   "metadata": {},
   "outputs": [],
   "source": [
    "%run my_import\n",
    "\n",
    "#uri = socket.gethostname()+\".local:5555\"\n",
    "#uri = \"localhost:5555\"\n",
    "#uri = \"nuc-i7.local:5555\"\n",
    "uri = \"com-exp.local:5555\"\n",
    "#uri = \"advantech.local:5555\"\n",
    "\n",
    "io = set_uri(uri)\n",
    "io.debug = False\n",
    "scan_ids = []\n"
   ]
  },
  {
   "cell_type": "code",
   "execution_count": null,
   "metadata": {},
   "outputs": [],
   "source": [
    "scan_ids = reply_cmd(master_cmd_get_slave_descr).keys()\n",
    "ids=list(scan_ids)\n",
    "print(ids)\n",
    "#assert(iD in ids)\n"
   ]
  },
  {
   "cell_type": "code",
   "execution_count": null,
   "metadata": {},
   "outputs": [],
   "source": [
    "iD = ids[0]\n",
    "sdo_objd = reply_cmd(SdoInfo(u'SDO_OBJD').set_bid(iD))\n",
    "sdo_names = reply_cmd(SdoInfo(u'SDO_NAME').set_bid(iD))\n",
    "sdo_dict = reply_cmd(SdoCmd(rd_sdo=sdo_names,wr_sdo={}).set_bid(iD))\n",
    "sdo_dict"
   ]
  },
  {
   "cell_type": "code",
   "execution_count": null,
   "metadata": {},
   "outputs": [],
   "source": [
    "flash_param = ['fw_ver','analog_sample_freq_HZ','dac_tune_bitflag','smpl_num_pow2','dac_tune_hysteresis']\n",
    "sdo_filter(flash_param, sdo_dict)"
   ]
  },
  {
   "cell_type": "code",
   "execution_count": null,
   "metadata": {},
   "outputs": [],
   "source": [
    "read_sdo(['smpl_num_pow2'],[iD])"
   ]
  },
  {
   "cell_type": "code",
   "execution_count": null,
   "metadata": {},
   "outputs": [],
   "source": [
    "write_sdo({'smpl_num_pow2': 6},[iD])"
   ]
  },
  {
   "cell_type": "code",
   "execution_count": null,
   "metadata": {},
   "outputs": [],
   "source": [
    "def read_channel(bid:int, ch:int)->dict:\n",
    "    write_sdo({'adc_idx':ch},[bid])\n",
    "    reply_cmd(ctrl_cmd_get_adc.set_bid(bid))\n",
    "    return read_sdo(['adc_conv','adc_raw'],[bid])[bid]\n",
    "\n",
    "def read_channel_offset(bid:int, ch:int, offset:int) :\n",
    "    write_sdo({'adc_idx': ch,'dac_offset':offset},[bid])\n",
    "    reply_cmd(ctrl_cmd_set_dac.set_bid(bid))\n",
    "    reply_cmd(ctrl_cmd_get_adc.set_bid(bid))\n",
    "    return read_sdo(['adc_conv','adc_raw'],[bid])[bid]"
   ]
  },
  {
   "cell_type": "markdown",
   "metadata": {},
   "source": [
    "## read 1 channel"
   ]
  },
  {
   "cell_type": "code",
   "execution_count": null,
   "metadata": {},
   "outputs": [],
   "source": [
    "read_channel(iD,0)"
   ]
  },
  {
   "cell_type": "code",
   "execution_count": null,
   "metadata": {},
   "outputs": [],
   "source": [
    "read_channel_offset(iD,0,0x7FFF)"
   ]
  },
  {
   "cell_type": "markdown",
   "metadata": {},
   "source": [
    "## read all 6 channels once"
   ]
  },
  {
   "cell_type": "code",
   "execution_count": null,
   "metadata": {},
   "outputs": [],
   "source": [
    "\n",
    "adc_conv = list()\n",
    "adc_raw = list()\n",
    "for j in range(1):\n",
    "    for i in range(6):\n",
    "        yaml_msg = read_channel(iD,i)\n",
    "        adc_raw.append(yaml_msg['adc_raw'])\n",
    "        adc_conv.append(yaml_msg['adc_conv'])\n",
    "        print(yaml_msg)\n",
    "        time.sleep(0.1)\n",
    "        \n",
    "[hex(x) for x in adc_raw]"
   ]
  },
  {
   "cell_type": "markdown",
   "metadata": {},
   "source": [
    "## reset DAC "
   ]
  },
  {
   "cell_type": "code",
   "execution_count": null,
   "metadata": {},
   "outputs": [],
   "source": [
    "for ch in range(6) :\n",
    "    ret = read_channel_offset(iD,ch,0x7FFF)\n",
    "    print(ret)"
   ]
  },
  {
   "cell_type": "code",
   "execution_count": null,
   "metadata": {},
   "outputs": [],
   "source": [
    "def tune_adc_chan(bid:int, adc_idx:int) :\n",
    "    dac_offset = 0x7FFF\n",
    "    hister = 5\n",
    "    tuned = False\n",
    "    while ( not tuned ):\n",
    "        yaml_msg = read_channel_offset(bid,adc_idx,dac_offset)\n",
    "        adc_raw = yaml_msg['adc_raw']\n",
    "        adc_conv = yaml_msg['adc_conv']\n",
    "        if ( adc_raw > 0x1FFF+hister ) :\n",
    "            if ( dac_offset < 0xFFFF ) :\n",
    "                #dac_offset += 2\n",
    "                dac_offset -= 2\n",
    "        elif ( adc_raw < 0x1FFF-hister ) :\n",
    "            if ( dac_offset > 0 ) :\n",
    "                #dac_offset -= 2\n",
    "                dac_offset += 2\n",
    "        else : \n",
    "            tuned = True\n",
    "        time.sleep(0.001)\n",
    "        yield(adc_raw, adc_conv, dac_offset)\n"
   ]
  },
  {
   "cell_type": "code",
   "execution_count": null,
   "metadata": {},
   "outputs": [],
   "source": [
    "for ch in range(6) :\n",
    "    print(\"--- {0} ---\".format(ch))\n",
    "    for adc_raw, adc_conv, offset in tune_adc_chan(iD,ch) :\n",
    "        print(\"\\r%f 0x%X 0x%X\"%(adc_conv, adc_raw, offset), end=\"\")\n",
    "    print()"
   ]
  },
  {
   "cell_type": "code",
   "execution_count": null,
   "metadata": {},
   "outputs": [],
   "source": [
    "cnt = 10\n",
    "dac_offset = 0x7FFF\n",
    "while (cnt) :\n",
    "    cnt -= 1\n",
    "    print(read_channel_offset(iD,0,dac_offset))\n",
    "    dac_offset += 10\n"
   ]
  },
  {
   "cell_type": "code",
   "execution_count": null,
   "metadata": {},
   "outputs": [],
   "source": [
    "io.doit(ctrl_cmd_dac_tune.set_bid(1))"
   ]
  },
  {
   "cell_type": "code",
   "execution_count": null,
   "metadata": {},
   "outputs": [],
   "source": []
  }
 ],
 "metadata": {
  "kernelspec": {
   "display_name": "repl",
   "language": "python",
   "name": "repl"
  },
  "language_info": {
   "codemirror_mode": {
    "name": "ipython",
    "version": 3
   },
   "file_extension": ".py",
   "mimetype": "text/x-python",
   "name": "python",
   "nbconvert_exporter": "python",
   "pygments_lexer": "ipython3",
   "version": "3.7.3"
  },
  "vscode": {
   "interpreter": {
    "hash": "31f2aee4e71d21fbe5cf8b01ff0e069b9275f58929596ceb00d14d90e3e16cd6"
   }
  }
 },
 "nbformat": 4,
 "nbformat_minor": 4
}
