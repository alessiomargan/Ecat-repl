{
 "cells": [
  {
   "cell_type": "code",
   "execution_count": null,
   "metadata": {},
   "outputs": [],
   "source": [
    "%run my_import\n",
    "\n",
    "#uri = socket.gethostname()+\".local:5555\"\n",
    "#uri = \"localhost:5555\"\n",
    "#uri = \"nuc-i7.local:5555\"\n",
    "uri = \"com-exp.local:5555\"\n",
    "#uri = \"advantech.local:5555\"\n",
    "#uri = \"192.168.1.100:5555\"\n",
    "\n",
    "io = set_uri(uri)\n",
    "io.debug = False\n",
    "scan_ids = list(reply_cmd(master_cmd_get_slave_descr).keys())\n",
    "print('Found ESC ids {}'.format(scan_ids))\n"
   ]
  },
  {
   "cell_type": "code",
   "execution_count": null,
   "metadata": {},
   "outputs": [],
   "source": [
    "from simple_pid import PID\n",
    "\n",
    "ch_map = {\n",
    "    0: 'force_x',\n",
    "    1: 'force_y',\n",
    "    2: 'force_z',\n",
    "    3: 'torque_x',\n",
    "    4: 'torque_y',\n",
    "    5: 'torque_z',\n",
    "}\n",
    "\n",
    "def read_channel(bid:int, ch:int)->dict :\n",
    "    write_sdo({'adc_idx':ch},[bid])\n",
    "    reply_cmd(ctrl_cmd_get_adc.set_bid(bid))\n",
    "    return read_sdo(['adc_conv','adc_raw'],[bid])[bid]\n",
    "\n",
    "def read_channel_dac_offset(bid:int, ch:int, offset:int) :\n",
    "    write_sdo({'adc_idx': ch,'dac_offset':offset},[bid])\n",
    "    reply_cmd(ctrl_cmd_set_dac.set_bid(bid))\n",
    "    reply_cmd(ctrl_cmd_get_adc.set_bid(bid))\n",
    "    return read_sdo(['adc_conv','adc_raw'],[bid])[bid]\n",
    "\n",
    "def read_channel_adc_offset(bid:int, ch:int, offset:float) :\n",
    "    write_sdo({'adc_idx': ch,'adc_conv_offset':offset},[bid])\n",
    "    # call Set_adc_offset_flash :\n",
    "    #  - sdo.flash.adc_conv_offs[sdo.ram.adc_idx] = sdo.ram.adc_conv_offset;\n",
    "    ctrl_status_cmd(0x00AF, bid)\n",
    "    reply_cmd(ctrl_cmd_get_adc.set_bid(bid))\n",
    "    return read_sdo([ch_map[ch],'adc_conv','adc_raw'],[bid])[bid]\n",
    "\n",
    "def reset_DAC() :\n",
    "    for ch in range(6) :\n",
    "        ret = read_channel_offset(iD,ch,0x7FFF)\n",
    "        print(ret)\n",
    "\n",
    "def tune_adc_chan(bid:int, adc_idx:int) :\n",
    "    dac_offset = 0x7FFF\n",
    "    hister = 5\n",
    "    tuned = False\n",
    "    while ( not tuned ):\n",
    "        yaml_msg = read_channel_dac_offset(bid,adc_idx,dac_offset)\n",
    "        adc_raw = yaml_msg['adc_raw']\n",
    "        adc_conv = yaml_msg['adc_conv']\n",
    "        if ( adc_raw > 0x1FFF+hister ) :\n",
    "            if ( dac_offset < 0xFFFF ) :\n",
    "                # old pcb see github ticket #56\n",
    "                #dac_offset += 2\n",
    "                dac_offset -= 2\n",
    "        elif ( adc_raw < 0x1FFF-hister ) :\n",
    "            if ( dac_offset > 0 ) :\n",
    "                # old pcb see github ticket #56\n",
    "                #dac_offset -= 2\n",
    "                dac_offset += 2\n",
    "        else : \n",
    "            tuned = True\n",
    "        time.sleep(0.001)\n",
    "        yield(tuned, adc_raw, adc_conv, dac_offset)\n",
    "        \n",
    "def tune_adc_offset(bid:int, adc_idx:int, set_point:float) :\n",
    "    adc_offset = 0.0\n",
    "    hister = 0.05\n",
    "    tuned = False\n",
    "    while ( not tuned ):\n",
    "        yaml_msg = read_channel_adc_offset(bid,adc_idx,adc_offset)\n",
    "        adc_raw = yaml_msg['adc_raw']\n",
    "        adc_conv = yaml_msg['adc_conv']\n",
    "        adc = yaml_msg[ch_map[adc_idx]]\n",
    "        adc_offset = adc_conv\n",
    "        if abs(adc) < hister :\n",
    "            tuned = True\n",
    "        time.sleep(0.001)\n",
    "        yield(tuned, adc_raw, adc_conv, adc_offset)"
   ]
  },
  {
   "cell_type": "code",
   "execution_count": null,
   "metadata": {},
   "outputs": [],
   "source": [
    "iD = scan_ids[0]\n",
    "sdo_objd = reply_cmd(SdoInfo(u'SDO_OBJD').set_bid(iD))\n",
    "sdo_names = reply_cmd(SdoInfo(u'SDO_NAME').set_bid(iD))\n",
    "sdo_dict = reply_cmd(SdoCmd(rd_sdo=sdo_names,wr_sdo={}).set_bid(iD))\n",
    "sdo_dict"
   ]
  },
  {
   "cell_type": "code",
   "execution_count": null,
   "metadata": {},
   "outputs": [],
   "source": [
    "flash_param = ['fw_ver','analog_sample_freq_HZ','dac_tune_bitflag',\n",
    "               'smpl_num_pow2','dac_tune_hysteresis','adc_conv_coeff']\n",
    "sdo_filter(flash_param, sdo_dict)"
   ]
  },
  {
   "cell_type": "code",
   "execution_count": null,
   "metadata": {},
   "outputs": [],
   "source": [
    "read_sdo(['smpl_num_pow2'],[iD])"
   ]
  },
  {
   "cell_type": "code",
   "execution_count": null,
   "metadata": {},
   "outputs": [],
   "source": [
    "write_sdo({'smpl_num_pow2': 1},[iD])"
   ]
  },
  {
   "cell_type": "code",
   "execution_count": null,
   "metadata": {},
   "outputs": [],
   "source": [
    "\n",
    "write_sdo({'adc_conv_coeff': 1.055},[iD])\n",
    "reply_cmd(flash_cmd_save_flash.set_bid(iD))"
   ]
  },
  {
   "cell_type": "markdown",
   "metadata": {},
   "source": [
    "## Load default calib matrix"
   ]
  },
  {
   "cell_type": "code",
   "execution_count": null,
   "metadata": {},
   "outputs": [],
   "source": [
    "ctrl_status_cmd_str('LOAD_DFLT_CM', iD)"
   ]
  },
  {
   "cell_type": "markdown",
   "metadata": {},
   "source": [
    "## read 1 channel"
   ]
  },
  {
   "cell_type": "code",
   "execution_count": null,
   "metadata": {},
   "outputs": [],
   "source": [
    "read_channel(iD,0)"
   ]
  },
  {
   "cell_type": "code",
   "execution_count": null,
   "metadata": {},
   "outputs": [],
   "source": [
    "read_channel_offset(iD,0,0x7FFF)"
   ]
  },
  {
   "cell_type": "code",
   "execution_count": null,
   "metadata": {},
   "outputs": [],
   "source": [
    "read_channel_adc_offset(iD,0,-4)"
   ]
  },
  {
   "cell_type": "markdown",
   "metadata": {},
   "source": [
    "## read all 6 channels once"
   ]
  },
  {
   "cell_type": "code",
   "execution_count": null,
   "metadata": {},
   "outputs": [],
   "source": [
    "\n",
    "adc_conv = list()\n",
    "adc_raw = list()\n",
    "for j in range(1):\n",
    "    for i in range(6):\n",
    "        yaml_msg = read_channel(iD,i)\n",
    "        adc_raw.append(yaml_msg['adc_raw'])\n",
    "        adc_conv.append(yaml_msg['adc_conv'])\n",
    "        print(yaml_msg)\n",
    "        time.sleep(0.1)\n",
    "        \n",
    "[hex(x) for x in adc_raw]"
   ]
  },
  {
   "cell_type": "markdown",
   "metadata": {},
   "source": [
    "## reset DAC "
   ]
  },
  {
   "cell_type": "code",
   "execution_count": null,
   "metadata": {},
   "outputs": [],
   "source": [
    "reset_DAC()"
   ]
  },
  {
   "cell_type": "markdown",
   "metadata": {},
   "source": [
    "## Set all analog channel to Zero using DAC"
   ]
  },
  {
   "cell_type": "code",
   "execution_count": null,
   "metadata": {},
   "outputs": [],
   "source": [
    "for ch in range(6) :\n",
    "    print(\"--- {0} ---\".format(ch))\n",
    "    for tuned, adc_raw, adc_conv, offset in tune_adc_chan(iD,ch) :\n",
    "        print(\"\\r%d %f 0x%X 0x%X\"%(tuned, adc_conv, adc_raw, offset), end=\"\")\n",
    "        if tuned :\n",
    "            write_sdo({'adc_idx': ch,'dac_offset':offset},[iD])\n",
    "            reply_cmd(ctrl_cmd_set_dac_flash.set_bid(iD))\n",
    "    print()\n"
   ]
  },
  {
   "cell_type": "markdown",
   "metadata": {},
   "source": [
    "## Reset ADC offset"
   ]
  },
  {
   "cell_type": "code",
   "execution_count": null,
   "metadata": {},
   "outputs": [],
   "source": [
    "for ch in range(6) :\n",
    "    read_channel_adc_offset(iD,ch,0)"
   ]
  },
  {
   "cell_type": "code",
   "execution_count": null,
   "metadata": {},
   "outputs": [],
   "source": [
    "for ch in range(6) :\n",
    "    print(\"--- {0} ---\".format(ch))\n",
    "    for tuned, adc_raw, adc_conv, offset in tune_adc_offset(iD,ch,0) :\n",
    "        print(\"\\r%d %f 0x%X %f\"%(tuned, adc_conv, adc_raw, offset), end=\"\")\n",
    "        if tuned :\n",
    "            pass\n",
    "            #write_sdo({'adc_idx': ch,'dac_offset':offset},[iD])\n",
    "            #reply_cmd(ctrl_cmd_set_dac_flash.set_bid(iD))\n",
    "    print()\n"
   ]
  },
  {
   "cell_type": "code",
   "execution_count": null,
   "metadata": {},
   "outputs": [],
   "source": [
    "write_sdo({'dac_tune_bitflag': 0x3F},[iD])\n",
    "reply_cmd(flash_cmd_save_flash.set_bid(iD))"
   ]
  },
  {
   "cell_type": "code",
   "execution_count": null,
   "metadata": {},
   "outputs": [],
   "source": [
    "write_sdo({'smpl_num_pow2': 8},[iD])\n",
    "reply_cmd(flash_cmd_save_flash.set_bid(iD))"
   ]
  },
  {
   "cell_type": "code",
   "execution_count": null,
   "metadata": {},
   "outputs": [],
   "source": [
    "cnt = 10\n",
    "dac_offset = 0x7FFF\n",
    "while (cnt) :\n",
    "    cnt -= 1\n",
    "    print(read_channel_offset(iD,0,dac_offset))\n",
    "    dac_offset += 10\n"
   ]
  },
  {
   "cell_type": "code",
   "execution_count": null,
   "metadata": {},
   "outputs": [],
   "source": [
    "ctrl_status_cmd(0x0012, iD)"
   ]
  },
  {
   "cell_type": "code",
   "execution_count": null,
   "metadata": {},
   "outputs": [],
   "source": [
    "ctrl_status_cmd(0x0021, iD)"
   ]
  },
  {
   "cell_type": "code",
   "execution_count": null,
   "metadata": {},
   "outputs": [],
   "source": [
    "ctrl_status_cmd(0x00AF, iD)"
   ]
  },
  {
   "cell_type": "code",
   "execution_count": null,
   "metadata": {},
   "outputs": [],
   "source": [
    "reply_cmd(flash_cmd_load_default.set_bid(696))"
   ]
  },
  {
   "cell_type": "code",
   "execution_count": null,
   "metadata": {},
   "outputs": [],
   "source": [
    "ctrl_status_cmd_str('LOAD_CM', iD)"
   ]
  },
  {
   "cell_type": "code",
   "execution_count": null,
   "metadata": {},
   "outputs": [],
   "source": []
  }
 ],
 "metadata": {
  "kernelspec": {
   "display_name": "Python 3",
   "language": "python",
   "name": "python3"
  },
  "language_info": {
   "codemirror_mode": {
    "name": "ipython",
    "version": 3
   },
   "file_extension": ".py",
   "mimetype": "text/x-python",
   "name": "python",
   "nbconvert_exporter": "python",
   "pygments_lexer": "ipython3",
   "version": "3.7.16"
  },
  "vscode": {
   "interpreter": {
    "hash": "47f44d7afcc8b4ecba503cf9a87ab3ab3759046872e9df0e037ccc3bf9e01e14"
   }
  }
 },
 "nbformat": 4,
 "nbformat_minor": 4
}
