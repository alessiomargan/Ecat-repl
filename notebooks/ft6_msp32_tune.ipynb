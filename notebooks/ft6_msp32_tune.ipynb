{
 "cells": [
  {
   "cell_type": "code",
   "execution_count": 32,
   "metadata": {},
   "outputs": [
    {
     "name": "stdout",
     "output_type": "stream",
     "text": [
      "/home/amargan/work/anaconda3/envs/repl/bin/python\n",
      "new uri localhost:5555\n",
      "Found ESC ids [696]\n"
     ]
    }
   ],
   "source": [
    "%run my_import\n",
    "\n",
    "#uri = socket.gethostname()+\".local:5555\"\n",
    "uri = \"localhost:5555\"\n",
    "#uri = \"nuc-i7.local:5555\"\n",
    "#uri = \"com-exp.local:5555\"\n",
    "#uri = \"advantech.local:5555\"\n",
    "#uri = \"192.168.1.100:5555\"\n",
    "\n",
    "io = set_uri(uri)\n",
    "io.debug = False\n",
    "scan_ids = list(reply_cmd(master_cmd_get_slave_descr).keys())\n",
    "print('Found ESC ids {}'.format(scan_ids))"
   ]
  },
  {
   "cell_type": "code",
   "execution_count": 11,
   "metadata": {},
   "outputs": [
    {
     "data": {
      "text/plain": [
       "{'adc_conv': 0.0,\n",
       " 'adc_idx': 0,\n",
       " 'adc_raw': 0,\n",
       " 'analog_sample_freq_HZ': 20000,\n",
       " 'aux_get': 31969.0,\n",
       " 'aux_set': 31969.0,\n",
       " 'board_id': 696,\n",
       " 'control': 0.0,\n",
       " 'ctrl_status_cmd': 0,\n",
       " 'ctrl_status_cmd_ack': 0,\n",
       " 'dac_offset': 0,\n",
       " 'dac_tune_bitflag': 63,\n",
       " 'dac_tune_hysteresis': 5,\n",
       " 'fault_ack': 0,\n",
       " 'flash_params_cmd': 0,\n",
       " 'flash_params_cmd_ack': 0,\n",
       " 'force_x': -1.595409,\n",
       " 'force_y': -0.099651,\n",
       " 'force_z': 6.978653,\n",
       " 'fw_ver': 23022209,\n",
       " 'module_params': 0,\n",
       " 'offset': 0.0,\n",
       " 'op_idx_ack': 257,\n",
       " 'op_idx_aux': 257,\n",
       " 'rtt': 31969.0,\n",
       " 'smpl_num_pow2': 5,\n",
       " 'status': 0.0,\n",
       " 'temperature': 0.0,\n",
       " 'torque_x': 0.539755,\n",
       " 'torque_y': -7.543643,\n",
       " 'torque_z': 1.277818,\n",
       " 'ts': 31969.0}"
      ]
     },
     "execution_count": 11,
     "metadata": {},
     "output_type": "execute_result"
    }
   ],
   "source": [
    "iD = scan_ids[0]\n",
    "sdo_objd = reply_cmd(SdoInfo(u'SDO_OBJD').set_bid(iD))\n",
    "sdo_names = reply_cmd(SdoInfo(u'SDO_NAME').set_bid(iD))\n",
    "sdo_dict = reply_cmd(SdoCmd(rd_sdo=sdo_names,wr_sdo={}).set_bid(iD))\n",
    "sdo_dict"
   ]
  },
  {
   "cell_type": "code",
   "execution_count": 12,
   "metadata": {},
   "outputs": [
    {
     "data": {
      "text/plain": [
       "{'fw_ver': 23022209,\n",
       " 'analog_sample_freq_HZ': 20000,\n",
       " 'dac_tune_bitflag': 63,\n",
       " 'smpl_num_pow2': 5,\n",
       " 'dac_tune_hysteresis': 5}"
      ]
     },
     "execution_count": 12,
     "metadata": {},
     "output_type": "execute_result"
    }
   ],
   "source": [
    "flash_param = ['fw_ver','analog_sample_freq_HZ','dac_tune_bitflag','smpl_num_pow2','dac_tune_hysteresis']\n",
    "sdo_filter(flash_param, sdo_dict)"
   ]
  },
  {
   "cell_type": "code",
   "execution_count": 20,
   "metadata": {},
   "outputs": [
    {
     "data": {
      "text/plain": [
       "{696: {'smpl_num_pow2': 5}}"
      ]
     },
     "execution_count": 20,
     "metadata": {},
     "output_type": "execute_result"
    }
   ],
   "source": [
    "read_sdo(['smpl_num_pow2'],[iD])"
   ]
  },
  {
   "cell_type": "code",
   "execution_count": 13,
   "metadata": {},
   "outputs": [
    {
     "data": {
      "text/plain": [
       "{696: {'smpl_num_pow2': 1}}"
      ]
     },
     "execution_count": 13,
     "metadata": {},
     "output_type": "execute_result"
    }
   ],
   "source": [
    "write_sdo({'smpl_num_pow2': 1},[iD])"
   ]
  },
  {
   "cell_type": "markdown",
   "metadata": {},
   "source": [
    "## Define funtions"
   ]
  },
  {
   "cell_type": "code",
   "execution_count": 14,
   "metadata": {},
   "outputs": [],
   "source": [
    "def read_channel(bid:int, ch:int)->dict:\n",
    "    write_sdo({'adc_idx':ch},[bid])\n",
    "    reply_cmd(ctrl_cmd_get_adc.set_bid(bid))\n",
    "    return read_sdo(['adc_conv','adc_raw'],[bid])[bid]\n",
    "\n",
    "def read_channel_offset(bid:int, ch:int, offset:int) :\n",
    "    write_sdo({'adc_idx': ch,'dac_offset':offset},[bid])\n",
    "    reply_cmd(ctrl_cmd_set_dac.set_bid(bid))\n",
    "    reply_cmd(ctrl_cmd_get_adc.set_bid(bid))\n",
    "    return read_sdo(['adc_conv','adc_raw'],[bid])[bid]\n",
    "\n",
    "def reset_DAC() :\n",
    "    for ch in range(6) :\n",
    "        ret = read_channel_offset(iD,ch,0x7FFF)\n",
    "        print(ret)\n",
    "\n",
    "def tune_adc_chan(bid:int, adc_idx:int) :\n",
    "    dac_offset = 0x7FFF\n",
    "    hister = 5\n",
    "    tuned = False\n",
    "    while ( not tuned ):\n",
    "        yaml_msg = read_channel_offset(bid,adc_idx,dac_offset)\n",
    "        adc_raw = yaml_msg['adc_raw']\n",
    "        adc_conv = yaml_msg['adc_conv']\n",
    "        if ( adc_raw > 0x1FFF+hister ) :\n",
    "            if ( dac_offset < 0xFFFF ) :\n",
    "                #dac_offset += 2\n",
    "                dac_offset -= 2\n",
    "        elif ( adc_raw < 0x1FFF-hister ) :\n",
    "            if ( dac_offset > 0 ) :\n",
    "                #dac_offset -= 2\n",
    "                dac_offset += 2\n",
    "        else : \n",
    "            tuned = True\n",
    "        time.sleep(0.001)\n",
    "        yield(tuned, adc_raw, adc_conv, dac_offset)"
   ]
  },
  {
   "cell_type": "markdown",
   "metadata": {},
   "source": [
    "## Load default calib matrix"
   ]
  },
  {
   "cell_type": "code",
   "execution_count": 15,
   "metadata": {},
   "outputs": [
    {
     "name": "stdout",
     "output_type": "stream",
     "text": [
      "0x78c1\n"
     ]
    },
    {
     "data": {
      "text/plain": [
       "True"
      ]
     },
     "execution_count": 15,
     "metadata": {},
     "output_type": "execute_result"
    }
   ],
   "source": [
    "ctrl_status_cmd_str('LOAD_DFLT_CM', iD)"
   ]
  },
  {
   "cell_type": "markdown",
   "metadata": {},
   "source": [
    "## read 1 channel"
   ]
  },
  {
   "cell_type": "code",
   "execution_count": 16,
   "metadata": {},
   "outputs": [
    {
     "data": {
      "text/plain": [
       "{'adc_conv': 0.000915, 'adc_raw': 8197}"
      ]
     },
     "execution_count": 16,
     "metadata": {},
     "output_type": "execute_result"
    }
   ],
   "source": [
    "read_channel(iD,0)"
   ]
  },
  {
   "cell_type": "code",
   "execution_count": 17,
   "metadata": {},
   "outputs": [
    {
     "data": {
      "text/plain": [
       "{'adc_conv': 0.003965, 'adc_raw': 8217}"
      ]
     },
     "execution_count": 17,
     "metadata": {},
     "output_type": "execute_result"
    }
   ],
   "source": [
    "read_channel_offset(iD,0,0x7FFF)"
   ]
  },
  {
   "cell_type": "markdown",
   "metadata": {},
   "source": [
    "## read all 6 channels once"
   ]
  },
  {
   "cell_type": "code",
   "execution_count": 18,
   "metadata": {},
   "outputs": [
    {
     "name": "stdout",
     "output_type": "stream",
     "text": [
      "{'adc_conv': 0.00427, 'adc_raw': 8219}\n",
      "{'adc_conv': 0.00305, 'adc_raw': 8211}\n",
      "{'adc_conv': -0.000915, 'adc_raw': 8185}\n",
      "{'adc_conv': 0.009302, 'adc_raw': 8252}\n",
      "{'adc_conv': -0.002135, 'adc_raw': 8177}\n",
      "{'adc_conv': 0.00427, 'adc_raw': 8219}\n"
     ]
    },
    {
     "data": {
      "text/plain": [
       "['0x201b', '0x2013', '0x1ff9', '0x203c', '0x1ff1', '0x201b']"
      ]
     },
     "execution_count": 18,
     "metadata": {},
     "output_type": "execute_result"
    }
   ],
   "source": [
    "\n",
    "adc_conv = list()\n",
    "adc_raw = list()\n",
    "for j in range(1):\n",
    "    for i in range(6):\n",
    "        yaml_msg = read_channel(iD,i)\n",
    "        adc_raw.append(yaml_msg['adc_raw'])\n",
    "        adc_conv.append(yaml_msg['adc_conv'])\n",
    "        print(yaml_msg)\n",
    "        time.sleep(0.1)\n",
    "        \n",
    "[hex(x) for x in adc_raw]"
   ]
  },
  {
   "cell_type": "markdown",
   "metadata": {},
   "source": [
    "## reset DAC "
   ]
  },
  {
   "cell_type": "code",
   "execution_count": 19,
   "metadata": {},
   "outputs": [
    {
     "name": "stdout",
     "output_type": "stream",
     "text": [
      "{'adc_conv': 0.00549, 'adc_raw': 8227}\n",
      "{'adc_conv': 0.014335, 'adc_raw': 8285}\n",
      "{'adc_conv': -0.000152, 'adc_raw': 8190}\n",
      "{'adc_conv': 0.05307, 'adc_raw': 8539}\n",
      "{'adc_conv': -0.016165, 'adc_raw': 8085}\n",
      "{'adc_conv': 0.044682, 'adc_raw': 8484}\n"
     ]
    }
   ],
   "source": [
    "reset_DAC()"
   ]
  },
  {
   "cell_type": "markdown",
   "metadata": {},
   "source": [
    "## Set all analog channel to Zero using DAC"
   ]
  },
  {
   "cell_type": "code",
   "execution_count": 20,
   "metadata": {},
   "outputs": [
    {
     "name": "stdout",
     "output_type": "stream",
     "text": [
      "--- 0 ---\n",
      "1 0.000610 0x2003 0x7FE5\n",
      "--- 1 ---\n",
      "1 -0.000305 0x1FFD 0x7F4D\n",
      "--- 2 ---\n",
      "1 -0.000610 0x1FFB 0x7FFF\n",
      "--- 3 ---\n",
      "1 0.000762 0x2004 0x7D5D\n",
      "--- 4 ---\n",
      "1 -0.000610 0x1FFB 0x80B1\n",
      "--- 5 ---\n",
      "1 -0.000305 0x1FFD 0x7DB3\n"
     ]
    }
   ],
   "source": [
    "for ch in range(6) :\n",
    "    print(\"--- {0} ---\".format(ch))\n",
    "    for tuned, adc_raw, adc_conv, offset in tune_adc_chan(iD,ch) :\n",
    "        print(\"\\r%d %f 0x%X 0x%X\"%(tuned, adc_conv, adc_raw, offset), end=\"\")\n",
    "        if tuned :\n",
    "            write_sdo({'adc_idx': ch,'dac_offset':offset},[iD])\n",
    "            reply_cmd(ctrl_cmd_set_dac_flash.set_bid(iD))\n",
    "    print()\n"
   ]
  },
  {
   "cell_type": "code",
   "execution_count": 23,
   "metadata": {},
   "outputs": [
    {
     "data": {
      "text/plain": [
       "'Ok !!!'"
      ]
     },
     "execution_count": 23,
     "metadata": {},
     "output_type": "execute_result"
    }
   ],
   "source": [
    "write_sdo({'dac_tune_bitflag': 0x3F},[iD])\n",
    "reply_cmd(flash_cmd_save_flash.set_bid(iD))"
   ]
  },
  {
   "cell_type": "code",
   "execution_count": 22,
   "metadata": {},
   "outputs": [
    {
     "data": {
      "text/plain": [
       "{696: {'smpl_num_pow2': 5}}"
      ]
     },
     "execution_count": 22,
     "metadata": {},
     "output_type": "execute_result"
    }
   ],
   "source": [
    "write_sdo({'smpl_num_pow2': 5},[iD])"
   ]
  },
  {
   "cell_type": "code",
   "execution_count": 24,
   "metadata": {},
   "outputs": [
    {
     "data": {
      "text/plain": [
       "'Ok !!!'"
      ]
     },
     "execution_count": 24,
     "metadata": {},
     "output_type": "execute_result"
    }
   ],
   "source": [
    "reply_cmd(ctrl_cmd_set_dac_flash.set_bid(iD))"
   ]
  },
  {
   "cell_type": "code",
   "execution_count": null,
   "metadata": {},
   "outputs": [],
   "source": [
    "cnt = 10\n",
    "dac_offset = 0x7FFF\n",
    "while (cnt) :\n",
    "    cnt -= 1\n",
    "    print(read_channel_offset(iD,0,dac_offset))\n",
    "    dac_offset += 10\n"
   ]
  },
  {
   "cell_type": "code",
   "execution_count": 22,
   "metadata": {},
   "outputs": [
    {
     "name": "stdout",
     "output_type": "stream",
     "text": [
      "0x7812\n"
     ]
    },
    {
     "data": {
      "text/plain": [
       "True"
      ]
     },
     "execution_count": 22,
     "metadata": {},
     "output_type": "execute_result"
    }
   ],
   "source": [
    "ctrl_status_cmd(0x0012, 696)"
   ]
  },
  {
   "cell_type": "code",
   "execution_count": 23,
   "metadata": {},
   "outputs": [
    {
     "name": "stdout",
     "output_type": "stream",
     "text": [
      "0xaa21\n"
     ]
    },
    {
     "data": {
      "text/plain": [
       "False"
      ]
     },
     "execution_count": 23,
     "metadata": {},
     "output_type": "execute_result"
    }
   ],
   "source": [
    "ctrl_status_cmd(0x0021, 696)"
   ]
  },
  {
   "cell_type": "code",
   "execution_count": null,
   "metadata": {},
   "outputs": [],
   "source": []
  }
 ],
 "metadata": {
  "kernelspec": {
   "display_name": "Python 3.7.3 ('repl')",
   "language": "python",
   "name": "python3"
  },
  "language_info": {
   "codemirror_mode": {
    "name": "ipython",
    "version": 3
   },
   "file_extension": ".py",
   "mimetype": "text/x-python",
   "name": "python",
   "nbconvert_exporter": "python",
   "pygments_lexer": "ipython3",
   "version": "3.7.3"
  },
  "vscode": {
   "interpreter": {
    "hash": "47f44d7afcc8b4ecba503cf9a87ab3ab3759046872e9df0e037ccc3bf9e01e14"
   }
  }
 },
 "nbformat": 4,
 "nbformat_minor": 4
}
