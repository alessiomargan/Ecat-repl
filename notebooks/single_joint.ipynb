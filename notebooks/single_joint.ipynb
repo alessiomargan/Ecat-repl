{
 "cells": [
  {
   "cell_type": "code",
   "execution_count": 1,
   "metadata": {},
   "outputs": [],
   "source": [
    "%run my_import\n",
    "\n",
    "#uri = socket.gethostname()+\".local:5555\"\n",
    "uri = \"com-exp.local:5555\"\n",
    "#uri = \"localhost:5555\"\n",
    "io = ZmsgIO(uri)\n",
    "\n",
    "bId = 11\n",
    "ids = [bId]\n",
    "\n",
    "homing = {\"type\": \"TRJ_CMD\",\n",
    "          \"trajectory_cmd\": {\"type\": \"HOMING\", \"name\": \"homing\", \"board_id\": bId,\n",
    "                             \"homing_par\": {\"x\": [0,3]}}}\n",
    "\n",
    "xs = [0,1,2,3,4]\n",
    "xs = [x*2 for x in xs] \n",
    "smooth = {\"type\": \"TRJ_CMD\",\n",
    "             \"trajectory_cmd\": {\"type\": \"SMOOTHER\", \"name\": \"smooth\", \"board_id\": bId,\n",
    "                                \"smooth_par\": {\"x\": xs, \"y\": [0, 0.5, 0, -0.5, 0]}}} \n",
    "sine = {\"type\": \"TRJ_CMD\",\n",
    "        \"trajectory_cmd\": {\"type\": \"SINE\", \"name\": \"sine\", \"board_id\": bId,\n",
    "                           \"period_par\": {\"freq\": 0.2, \"ampl\": 2.79, \"teta\": 0, \"secs\": 500}}}\n",
    "sine = {\"type\": \"TRJ_CMD\",\n",
    "        \"trajectory_cmd\": {\"type\": \"SINE\", \"name\": \"sine\", \"board_id\": bId,\n",
    "                           \"period_par\": {\"freq\": 0.2, \"ampl\": 1.0, \"teta\": 0, \"secs\": 500}}}\n",
    "\n",
    "add_homing = {\"type\": \"TRJ_QUEUE_CMD\",\n",
    "              \"trj_queue_cmd\": {\"type\": \"PUSH_QUE\", \"trj_names\": [\"homing\"]}}\n",
    "add_smooth = {\"type\": \"TRJ_QUEUE_CMD\",\n",
    "              \"trj_queue_cmd\": {\"type\": \"PUSH_QUE\", \"trj_names\": [\"smooth\"]}}\n",
    "add_sine =   {\"type\": \"TRJ_QUEUE_CMD\",\n",
    "              \"trj_queue_cmd\": {\"type\": \"PUSH_QUE\", \"trj_names\": [\"sine\"]}}\n",
    "add_all =   {\"type\": \"TRJ_QUEUE_CMD\",\n",
    "              \"trj_queue_cmd\": {\"type\": \"PUSH_QUE\", \"trj_names\": [\"homing\",\"smooth\",\"sine\"]}}\n",
    "\n",
    "io.debug=0"
   ]
  },
  {
   "cell_type": "code",
   "execution_count": 31,
   "metadata": {},
   "outputs": [],
   "source": [
    "reply = io.doit(ctrl_cmd_set_home.set_bid(bId))"
   ]
  },
  {
   "cell_type": "code",
   "execution_count": 28,
   "metadata": {},
   "outputs": [
    {
     "data": {
      "text/plain": [
       "{'type': 1, 'cmd_type': 2, 'msg': 'Ok !!!'}"
      ]
     },
     "execution_count": 28,
     "metadata": {},
     "output_type": "execute_result"
    }
   ],
   "source": [
    "#io.doit(ctrl_cmd_set_zero.set_value(3.14159).set_bid(bId))"
   ]
  },
  {
   "cell_type": "code",
   "execution_count": 32,
   "metadata": {},
   "outputs": [],
   "source": [
    "#reply = io.doit(ctrl_cmd_start.set_bid(bId).set_value(0x3B).set_gains(u'POSITION',200,0,15,0,0,0))\n",
    "reply = io.doit(ctrl_cmd_start.set_bid(bId).set_value(0x3B))"
   ]
  },
  {
   "cell_type": "code",
   "execution_count": 34,
   "metadata": {},
   "outputs": [],
   "source": [
    "# define trajectories\n",
    "reply = io.doit(homing)\n",
    "reply = io.doit(smooth)\n",
    "reply = io.doit(sine)"
   ]
  },
  {
   "cell_type": "code",
   "execution_count": 35,
   "metadata": {},
   "outputs": [],
   "source": [
    "#reply = io.doit(add_homing)\n",
    "#reply = io.doit(add_smooth)\n",
    "#reply = io.doit(add_sine)\n",
    "reply = io.doit(add_all)"
   ]
  },
  {
   "cell_type": "code",
   "execution_count": 12,
   "metadata": {},
   "outputs": [],
   "source": [
    "reply = io.doit(ctrl_cmd_stop.set_bid(bId))"
   ]
  },
  {
   "cell_type": "code",
   "execution_count": null,
   "metadata": {},
   "outputs": [],
   "source": [
    "reply = io.doit(ctrl_cmd_start.set_bid(bId).set_value(0xD4))"
   ]
  },
  {
   "cell_type": "code",
   "execution_count": null,
   "metadata": {},
   "outputs": [],
   "source": [
    "io.debug=1\n",
    "gains = {}\n",
    "gains['type'] = \"IMPEDANCE\"\n",
    "gains['kp'] = 1\n",
    "gains['kd'] = 0\n",
    "gains['ki'] = 0\n",
    "gains['kkp'] = 5\n",
    "gains['kkd'] = 0.01\n",
    "gains['kki'] = 0.8\n",
    "reply = io.doit(ctrl_cmd_start.set_bid(bId).set_value(0xD4).set_gains(*gains.values()))"
   ]
  },
  {
   "cell_type": "code",
   "execution_count": null,
   "metadata": {},
   "outputs": [],
   "source": [
    "cmd"
   ]
  },
  {
   "cell_type": "code",
   "execution_count": null,
   "metadata": {},
   "outputs": [],
   "source": [
    "xs"
   ]
  },
  {
   "cell_type": "code",
   "execution_count": null,
   "metadata": {},
   "outputs": [],
   "source": [
    "gains.values()"
   ]
  },
  {
   "cell_type": "code",
   "execution_count": 33,
   "metadata": {},
   "outputs": [
    {
     "data": {
      "text/plain": [
       "{'type': 1, 'cmd_type': 2, 'msg': 'Ok !!!'}"
      ]
     },
     "execution_count": 33,
     "metadata": {},
     "output_type": "execute_result"
    }
   ],
   "source": [
    "io.doit(ctrl_cmd_fan.set_bid(bId).set_value(1))"
   ]
  },
  {
   "cell_type": "code",
   "execution_count": null,
   "metadata": {},
   "outputs": [],
   "source": []
  }
 ],
 "metadata": {
  "kernelspec": {
   "display_name": "Python 3",
   "language": "python",
   "name": "python3"
  },
  "language_info": {
   "codemirror_mode": {
    "name": "ipython",
    "version": 3
   },
   "file_extension": ".py",
   "mimetype": "text/x-python",
   "name": "python",
   "nbconvert_exporter": "python",
   "pygments_lexer": "ipython3",
   "version": "3.7.1"
  }
 },
 "nbformat": 4,
 "nbformat_minor": 4
}
