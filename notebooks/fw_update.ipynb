{
 "cells": [
  {
   "cell_type": "code",
   "execution_count": 1,
   "metadata": {},
   "outputs": [],
   "source": [
    "%run my_import\n",
    "\n",
    "#uri = socket.gethostname()+\".local:5555\"\n",
    "uri = \"localhost:5555\"\n",
    "#uri = \"nuc-i7.local:5555\"\n",
    "#uri = \"com-exp.local:5555\"\n",
    "io = ZmsgIO(uri)\n",
    "io.debug = False"
   ]
  },
  {
   "cell_type": "code",
   "execution_count": 2,
   "metadata": {},
   "outputs": [],
   "source": [
    "path = \"../examples/fw_update/fw_test/\"\n",
    "cent_AC_m3  = FoeMaster((path+\"cent_AC_m3.bin\",  0xA550, \"m3\", 1))\n",
    "cent_AC_c28 = FoeMaster((path+\"cent_AC_c28.bin\", 0xDAD0, \"c28\", 1))\n",
    "pow_m3  = FoeMaster((path+\"pow_m3.bin\",  0xF2F2, \"m3\", 1))\n",
    "pow_c28 = FoeMaster((path+\"pow_c28.bin\", 0xF3F3, \"m3\", 1))\n",
    "ft6_msp432  = FoeMaster((path+\"ft6_msp432.bin\", 0xBEFA, \"any\", 1))\n",
    "ain_msp432  = FoeMaster((path+\"ain_msp432.bin\", 0xA1A1, \"any\", 1))\n",
    "T_junct_m3  = FoeMaster((path+\"t_junct_m3.bin\",  0xF2F0, \"m3\", 1))"
   ]
  },
  {
   "cell_type": "code",
   "execution_count": 5,
   "metadata": {},
   "outputs": [
    {
     "data": {
      "text/plain": [
       "{'type': 2, 'cmd_type': 5, 'msg': 'Success'}"
      ]
     },
     "execution_count": 5,
     "metadata": {},
     "output_type": "execute_result"
    }
   ],
   "source": [
    "cmd = cent_AC_c28\n",
    "cmd.set_slave_pos(1)\n",
    "io.doit(cmd)"
   ]
  },
  {
   "cell_type": "code",
   "execution_count": 5,
   "metadata": {},
   "outputs": [
    {
     "data": {
      "text/plain": [
       "{'type': 2, 'cmd_type': 6, 'msg': 'Success'}"
      ]
     },
     "execution_count": 5,
     "metadata": {},
     "output_type": "execute_result"
    }
   ],
   "source": [
    "io.doit(cent_AC_m3.set_slave_pos(3))"
   ]
  },
  {
   "cell_type": "code",
   "execution_count": 6,
   "metadata": {},
   "outputs": [
    {
     "data": {
      "text/plain": [
       "{'type': 2, 'cmd_type': 6, 'msg': 'Success'}"
      ]
     },
     "execution_count": 6,
     "metadata": {},
     "output_type": "execute_result"
    }
   ],
   "source": [
    "io.doit(cent_AC_c28.set_slave_pos(3))"
   ]
  },
  {
   "cell_type": "code",
   "execution_count": null,
   "metadata": {},
   "outputs": [],
   "source": [
    "s=SdoCmd(rd_sdo=['firmware_version'],wr_sdo={'board_id': 33})"
   ]
  },
  {
   "cell_type": "code",
   "execution_count": null,
   "metadata": {},
   "outputs": [],
   "source": [
    "io.doit(s.set_bid(3))"
   ]
  },
  {
   "cell_type": "code",
   "execution_count": 2,
   "metadata": {},
   "outputs": [
    {
     "data": {
      "text/plain": [
       "FlashCmd(flash_cmd=_FlashCmd(type='SAVE_PARAMS_TO_FLASH', board_id=12), type='FLASH_CMD')"
      ]
     },
     "execution_count": 2,
     "metadata": {},
     "output_type": "execute_result"
    }
   ],
   "source": [
    "FlashCmd(\"SAVE_PARAMS_TO_FLASH\").set_bid(12)"
   ]
  },
  {
   "cell_type": "code",
   "execution_count": null,
   "metadata": {},
   "outputs": [],
   "source": []
  },
  {
   "cell_type": "code",
   "execution_count": null,
   "metadata": {},
   "outputs": [],
   "source": [
    "s=SdoCmd(rd_sdo=['m3_fw_ver'],wr_sdo={'robot_id': 33})"
   ]
  },
  {
   "cell_type": "code",
   "execution_count": null,
   "metadata": {},
   "outputs": [],
   "source": []
  },
  {
   "cell_type": "code",
   "execution_count": null,
   "metadata": {},
   "outputs": [],
   "source": [
    "io.doit(s.set_bid(0))"
   ]
  },
  {
   "cell_type": "code",
   "execution_count": null,
   "metadata": {},
   "outputs": [],
   "source": []
  }
 ],
 "metadata": {
  "kernelspec": {
   "display_name": "repl",
   "language": "python",
   "name": "repl"
  },
  "language_info": {
   "codemirror_mode": {
    "name": "ipython",
    "version": 3
   },
   "file_extension": ".py",
   "mimetype": "text/x-python",
   "name": "python",
   "nbconvert_exporter": "python",
   "pygments_lexer": "ipython3",
   "version": "3.7.3"
  }
 },
 "nbformat": 4,
 "nbformat_minor": 2
}
