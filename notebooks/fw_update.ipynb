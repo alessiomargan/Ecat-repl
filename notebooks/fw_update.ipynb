{
 "cells": [
  {
   "cell_type": "code",
   "execution_count": 2,
   "metadata": {},
   "outputs": [],
   "source": [
    "import yaml\n",
    "import argparse\n",
    "from protobuf_to_dict import protobuf_to_dict, dict_to_protobuf\n",
    "\n",
    "from ecat_repl import gen_cmds\n",
    "from ecat_repl import repl_cmd\n",
    "from ecat_repl import ZmsgIO\n",
    "\n",
    "\n",
    "#uri = \"com-exp.local:5555\"\n",
    "uri = \"localhost:5555\"\n",
    "io = ZmsgIO(uri)"
   ]
  },
  {
   "cell_type": "code",
   "execution_count": 3,
   "metadata": {},
   "outputs": [],
   "source": [
    "cent_AC_m3 = {\"type\": \"FOE_MASTER\",\n",
    "              \"foe_master\": {\"filename\": \"../examples/fw_update/fw_test/cent_AC_m3.bin\",\n",
    "                             \"password\": 0xA550, \"mcu_type\": \"m3\",              \n",
    "                             \"slave_pos\": 1}}\n",
    "cent_AC_c28 = {\"type\": \"FOE_MASTER\",\n",
    "               \"foe_master\": {\"filename\": \"../examples/fw_update/fw_test/cent_AC_c28.bin\",\n",
    "                              \"password\": 0xDAD0, \"mcu_type\": \"c28\",\n",
    "                              \"slave_pos\": 1}}\n",
    "ft6_msp432 = {\"type\": \"FOE_MASTER\",\n",
    "               \"foe_master\": {\"filename\": \"../examples/fw_update/fw_test/ft6_msp432.bin\",\n",
    "                              \"password\": 0xBEFA,\n",
    "                              \"slave_pos\": 1}}\n"
   ]
  },
  {
   "cell_type": "code",
   "execution_count": 7,
   "metadata": {},
   "outputs": [],
   "source": [
    "cmd = ft6_msp432\n",
    "''' send cmd '''\n",
    "io.send_to(cmd)\n",
    "''' wait reply ... blocking'''\n",
    "reply = io.recv_from()"
   ]
  },
  {
   "cell_type": "code",
   "execution_count": null,
   "metadata": {},
   "outputs": [],
   "source": []
  }
 ],
 "metadata": {
  "kernelspec": {
   "display_name": "repl",
   "language": "python",
   "name": "repl"
  },
  "language_info": {
   "codemirror_mode": {
    "name": "ipython",
    "version": 3
   },
   "file_extension": ".py",
   "mimetype": "text/x-python",
   "name": "python",
   "nbconvert_exporter": "python",
   "pygments_lexer": "ipython3",
   "version": "3.7.3"
  }
 },
 "nbformat": 4,
 "nbformat_minor": 2
}
