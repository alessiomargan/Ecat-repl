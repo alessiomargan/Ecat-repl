{
 "cells": [
  {
   "cell_type": "code",
   "execution_count": 3,
   "metadata": {},
   "outputs": [],
   "source": [
    "import yaml\n",
    "import argparse\n",
    "from dataclasses import asdict\n",
    "from protobuf_to_dict import protobuf_to_dict, dict_to_protobuf\n",
    "\n",
    "from ecat_repl import gen_cmds\n",
    "from ecat_repl import FoeMaster\n",
    "from ecat_repl import ZmsgIO\n",
    "\n",
    "\n",
    "#uri = \"com-exp.local:5555\"\n",
    "uri = \"localhost:5555\"\n",
    "io = ZmsgIO(uri)"
   ]
  },
  {
   "cell_type": "code",
   "execution_count": 4,
   "metadata": {},
   "outputs": [],
   "source": [
    "path = \"../examples/fw_update/fw_test/\"\n",
    "cent_AC_m3  = FoeMaster((path+\"cent_AC_m3.bin\",  0xA550, \"m3\", 1))\n",
    "cent_AC_c28 = FoeMaster((path+\"cent_AC_c28.bin\", 0xDAD0, \"m3\", 1))\n",
    "ft6_msp432  = FoeMaster((path+\"ft6_msp432.bin\",  0xBEFA, \"m3\", 1))"
   ]
  },
  {
   "cell_type": "code",
   "execution_count": 5,
   "metadata": {},
   "outputs": [
    {
     "data": {
      "text/plain": [
       "{'foe_master': {'filename': '../examples/fw_update/fw_test/ft6_msp432.bin',\n",
       "  'password': 48890,\n",
       "  'mcu_type': 'm3',\n",
       "  'slave_pos': 1},\n",
       " 'type': 'FOE_MASTER'}"
      ]
     },
     "execution_count": 5,
     "metadata": {},
     "output_type": "execute_result"
    }
   ],
   "source": [
    "cmd = ft6_msp432\n",
    "asdict(cmd)"
   ]
  },
  {
   "cell_type": "code",
   "execution_count": null,
   "metadata": {},
   "outputs": [],
   "source": [
    "''' send cmd '''\n",
    "io.send_to(cmd)\n",
    "''' wait reply ... blocking'''\n",
    "reply = io.recv_from()"
   ]
  }
 ],
 "metadata": {
  "kernelspec": {
   "display_name": "repl",
   "language": "python",
   "name": "repl"
  },
  "language_info": {
   "codemirror_mode": {
    "name": "ipython",
    "version": 3
   },
   "file_extension": ".py",
   "mimetype": "text/x-python",
   "name": "python",
   "nbconvert_exporter": "python",
   "pygments_lexer": "ipython3",
   "version": "3.7.3"
  }
 },
 "nbformat": 4,
 "nbformat_minor": 2
}
