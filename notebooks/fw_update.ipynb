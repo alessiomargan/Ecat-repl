{
 "cells": [
  {
   "cell_type": "code",
   "execution_count": 1,
   "metadata": {},
   "outputs": [],
   "source": [
    "import yaml\n",
    "import argparse\n",
    "from dataclasses import asdict\n",
    "from protobuf_to_dict import protobuf_to_dict, dict_to_protobuf\n",
    "\n",
    "from ecat_repl import gen_cmds\n",
    "from ecat_repl import FoeMaster\n",
    "from ecat_repl import FlashCmd\n",
    "from ecat_repl import SdoCmd\n",
    "from ecat_repl import ZmsgIO\n",
    "\n",
    "\n",
    "#uri = \"com-exp.local:5555\"\n",
    "uri = \"localhost:5555\"\n",
    "io = ZmsgIO(uri)\n",
    "io.debug = True"
   ]
  },
  {
   "cell_type": "code",
   "execution_count": 26,
   "metadata": {},
   "outputs": [],
   "source": [
    "path = \"../examples/fw_update/fw_test/\"\n",
    "cent_AC_m3  = FoeMaster((path+\"cent_AC_m3.bin\",  0xA550, \"m3\", 1))\n",
    "cent_AC_c28 = FoeMaster((path+\"cent_AC_c28.bin\", 0xDAD0, \"m3\", 1))\n",
    "pow_m3  = FoeMaster((path+\"pow_m3.bin\",  0xF2F2, \"m3\", 1))\n",
    "pow_c28 = FoeMaster((path+\"pow_c28.bin\", 0xF3F3, \"m3\", 1))\n",
    "ft6_msp432  = FoeMaster((path+\"ft6_msp432.bin\", 0xBEFA, \"any\", 3))"
   ]
  },
  {
   "cell_type": "code",
   "execution_count": 27,
   "metadata": {},
   "outputs": [
    {
     "data": {
      "text/plain": [
       "{'foe_master': {'filename': '../examples/fw_update/fw_test/ft6_msp432.bin',\n",
       "  'password': 48890,\n",
       "  'mcu_type': 'any',\n",
       "  'slave_pos': 3},\n",
       " 'type': 'FOE_MASTER'}"
      ]
     },
     "execution_count": 27,
     "metadata": {},
     "output_type": "execute_result"
    }
   ],
   "source": [
    "cmd = ft6_msp432\n",
    "asdict(cmd)"
   ]
  },
  {
   "cell_type": "code",
   "execution_count": 28,
   "metadata": {},
   "outputs": [],
   "source": [
    "#io.doit(cmd)"
   ]
  },
  {
   "cell_type": "code",
   "execution_count": null,
   "metadata": {},
   "outputs": [],
   "source": []
  },
  {
   "cell_type": "code",
   "execution_count": 18,
   "metadata": {},
   "outputs": [],
   "source": [
    "s=SdoCmd(rd_sdo=['firmware_version'],wr_sdo={'board_id': 33})"
   ]
  },
  {
   "cell_type": "code",
   "execution_count": 20,
   "metadata": {},
   "outputs": [
    {
     "name": "stdout",
     "output_type": "stream",
     "text": [
      "{'slave_sdo_cmd': {'board_id': 3, 'rd_sdo': ['firmware_version'], 'wr_sdo': [{'name': 'board_id', 'value': 33}]}, 'type': 'SLAVE_SDO_CMD'}\n",
      "type: SLAVE_SDO_CMD\n",
      "slave_sdo_cmd {\n",
      "  board_id: 3\n",
      "  rd_sdo: \"firmware_version\"\n",
      "  wr_sdo {\n",
      "    name: \"board_id\"\n",
      "    value: 33.0\n",
      "  }\n",
      "}\n",
      "\n"
     ]
    },
    {
     "data": {
      "text/plain": [
       "{'type': 1, 'cmd_type': 8, 'msg': 'Ok google'}"
      ]
     },
     "execution_count": 20,
     "metadata": {},
     "output_type": "execute_result"
    }
   ],
   "source": [
    "io.doit(s.set_bid(3))"
   ]
  },
  {
   "cell_type": "code",
   "execution_count": 2,
   "metadata": {},
   "outputs": [
    {
     "data": {
      "text/plain": [
       "FlashCmd(flash_cmd=_FlashCmd(type='SAVE_PARAMS_TO_FLASH', board_id=2), type='FLASH_CMD')"
      ]
     },
     "execution_count": 2,
     "metadata": {},
     "output_type": "execute_result"
    }
   ],
   "source": [
    "FlashCmd(\"SAVE_PARAMS_TO_FLASH\").set_bid(2)"
   ]
  },
  {
   "cell_type": "code",
   "execution_count": null,
   "metadata": {},
   "outputs": [],
   "source": []
  }
 ],
 "metadata": {
  "kernelspec": {
   "display_name": "repl",
   "language": "python",
   "name": "repl"
  },
  "language_info": {
   "codemirror_mode": {
    "name": "ipython",
    "version": 3
   },
   "file_extension": ".py",
   "mimetype": "text/x-python",
   "name": "python",
   "nbconvert_exporter": "python",
   "pygments_lexer": "ipython3",
   "version": "3.7.3"
  }
 },
 "nbformat": 4,
 "nbformat_minor": 2
}
