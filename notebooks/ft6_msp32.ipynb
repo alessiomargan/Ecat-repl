{
 "cells": [
  {
   "cell_type": "code",
   "execution_count": 1,
   "metadata": {},
   "outputs": [],
   "source": [
    "%run my_import\n",
    "\n",
    "#uri = socket.gethostname()+\".local:5555\"\n",
    "uri = \"localhost:5555\"\n",
    "#uri = \"nuc-i7.local:5555\"\n",
    "#uri = \"com-exp.local:5555\"\n",
    "io = ZmsgIO(uri)\n",
    "io.debug = False\n",
    "scan_ids = []"
   ]
  },
  {
   "cell_type": "code",
   "execution_count": 3,
   "metadata": {},
   "outputs": [
    {
     "data": {
      "text/plain": [
       "{}"
      ]
     },
     "execution_count": 3,
     "metadata": {},
     "output_type": "execute_result"
    }
   ],
   "source": [
    "io.doit(master_cmd_stop)"
   ]
  },
  {
   "cell_type": "code",
   "execution_count": 5,
   "metadata": {},
   "outputs": [
    {
     "data": {
      "text/plain": [
       "{}"
      ]
     },
     "execution_count": 5,
     "metadata": {},
     "output_type": "execute_result"
    }
   ],
   "source": [
    "c=master_cmd_start.set_args({'app_mode':'run_mode','use_ecat_pos_as_id':'true'})\n",
    "c\n",
    "io.doit(c)"
   ]
  },
  {
   "cell_type": "code",
   "execution_count": 2,
   "metadata": {},
   "outputs": [
    {
     "data": {
      "text/plain": [
       "[321]"
      ]
     },
     "execution_count": 2,
     "metadata": {},
     "output_type": "execute_result"
    }
   ],
   "source": [
    "reply = io.doit(master_cmd_get_slave_descr)\n",
    "yaml_msg = yaml.safe_load(reply['msg'])\n",
    "scan_ids = yaml_msg.keys()\n",
    "ids=list(scan_ids)\n",
    "ids"
   ]
  },
  {
   "cell_type": "code",
   "execution_count": 3,
   "metadata": {},
   "outputs": [
    {
     "data": {
      "text/plain": [
       "['ain_1',\n",
       " 'ain_2',\n",
       " 'ain_3',\n",
       " 'ain_4',\n",
       " 'ain_5',\n",
       " 'ain_6',\n",
       " 'ain_7',\n",
       " 'ain_8',\n",
       " 'ain_9',\n",
       " 'fault',\n",
       " 'rtt',\n",
       " 'status_word',\n",
       " 'ts',\n",
       " 'ctrl_word',\n",
       " 'board_id',\n",
       " 'analog_sample_freq_Hz',\n",
       " 'module_params',\n",
       " 'analog_sample_num_exp2',\n",
       " 'fw_ver',\n",
       " 'ctrl_status_cmd',\n",
       " 'ctrl_status_cmd_ack',\n",
       " 'flash_params_cmd',\n",
       " 'flash_params_cmd_ack',\n",
       " 'fault_ack']"
      ]
     },
     "execution_count": 3,
     "metadata": {},
     "output_type": "execute_result"
    }
   ],
   "source": [
    "reply = io.doit(SdoInfo(u'SDO_NAME').set_bid(ids[0]))\n",
    "yaml_msg = yaml.safe_load(reply['msg'])\n",
    "sdo_names = yaml_msg\n",
    "sdo_names"
   ]
  },
  {
   "cell_type": "code",
   "execution_count": 4,
   "metadata": {},
   "outputs": [],
   "source": [
    "reply = io.doit(SdoInfo(u'SDO_OBJD').set_bid(ids[0]))\n",
    "yaml_msg = yaml.safe_load(reply['msg'])\n",
    "sdo_infos = yaml_msg\n",
    "#sdo_infos"
   ]
  },
  {
   "cell_type": "code",
   "execution_count": 5,
   "metadata": {},
   "outputs": [
    {
     "data": {
      "text/plain": [
       "{'ain_1': 460,\n",
       " 'ain_2': 335,\n",
       " 'ain_3': 318,\n",
       " 'ain_4': 118,\n",
       " 'ain_5': 541,\n",
       " 'ain_6': 398,\n",
       " 'ain_7': 188,\n",
       " 'ain_8': 472,\n",
       " 'ain_9': 490,\n",
       " 'analog_sample_freq_Hz': 5000,\n",
       " 'analog_sample_num_exp2': 3,\n",
       " 'board_id': 321,\n",
       " 'ctrl_status_cmd': 0,\n",
       " 'ctrl_status_cmd_ack': 0,\n",
       " 'ctrl_word': 0,\n",
       " 'fault': 0,\n",
       " 'fault_ack': 0,\n",
       " 'flash_params_cmd': 0,\n",
       " 'flash_params_cmd_ack': 0,\n",
       " 'fw_ver': 20010711,\n",
       " 'module_params': 258,\n",
       " 'rtt': 56971,\n",
       " 'status_word': 0,\n",
       " 'ts': 56971}"
      ]
     },
     "execution_count": 5,
     "metadata": {},
     "output_type": "execute_result"
    }
   ],
   "source": [
    "reply = io.doit(SdoCmd(rd_sdo=sdo_names,wr_sdo={}).set_bid(321))\n",
    "yaml_msg = yaml.safe_load(reply['msg'])\n",
    "yaml_msg"
   ]
  },
  {
   "cell_type": "code",
   "execution_count": 10,
   "metadata": {},
   "outputs": [
    {
     "name": "stdout",
     "output_type": "stream",
     "text": [
      "{ain_1: 549, ain_2: 345, ain_3: 289, ain_4: 227, ain_5: 537, ain_6: 407, ain_7: 357, ain_8: 462, ain_9: 475, analog_sample_freq_Hz: 5000, analog_sample_num_exp2: 3, board_id: 321, ctrl_status_cmd: 0, ctrl_status_cmd_ack: 0, ctrl_word: 10, fault: 0, fault_ack: 0, flash_params_cmd: 0, flash_params_cmd_ack: 0, fw_ver: 19122313, module_params: 258, rtt: 0, status_word: 0, ts: 0}\n",
      "{ain_1: 548, ain_2: 344, ain_3: 286, ain_4: 218, ain_5: 553, ain_6: 389, ain_7: 361, ain_8: 469, ain_9: 473, analog_sample_freq_Hz: 5000, analog_sample_num_exp2: 3, board_id: 321, ctrl_status_cmd: 0, ctrl_status_cmd_ack: 0, ctrl_word: 10, fault: 0, fault_ack: 0, flash_params_cmd: 0, flash_params_cmd_ack: 0, fw_ver: 19122313, module_params: 258, rtt: 0, status_word: 0, ts: 0}\n",
      "{ain_1: 545, ain_2: 348, ain_3: 272, ain_4: 216, ain_5: 554, ain_6: 420, ain_7: 360, ain_8: 460, ain_9: 464, analog_sample_freq_Hz: 5000, analog_sample_num_exp2: 3, board_id: 321, ctrl_status_cmd: 0, ctrl_status_cmd_ack: 0, ctrl_word: 10, fault: 0, fault_ack: 0, flash_params_cmd: 0, flash_params_cmd_ack: 0, fw_ver: 19122313, module_params: 258, rtt: 0, status_word: 0, ts: 0}\n",
      "{ain_1: 550, ain_2: 343, ain_3: 295, ain_4: 218, ain_5: 538, ain_6: 389, ain_7: 360, ain_8: 460, ain_9: 469, analog_sample_freq_Hz: 5000, analog_sample_num_exp2: 3, board_id: 321, ctrl_status_cmd: 0, ctrl_status_cmd_ack: 0, ctrl_word: 10, fault: 0, fault_ack: 0, flash_params_cmd: 0, flash_params_cmd_ack: 0, fw_ver: 19122313, module_params: 258, rtt: 0, status_word: 0, ts: 0}\n",
      "{ain_1: 550, ain_2: 340, ain_3: 286, ain_4: 216, ain_5: 523, ain_6: 390, ain_7: 358, ain_8: 486, ain_9: 461, analog_sample_freq_Hz: 5000, analog_sample_num_exp2: 3, board_id: 321, ctrl_status_cmd: 0, ctrl_status_cmd_ack: 0, ctrl_word: 10, fault: 0, fault_ack: 0, flash_params_cmd: 0, flash_params_cmd_ack: 0, fw_ver: 19122313, module_params: 258, rtt: 0, status_word: 0, ts: 0}\n",
      "{ain_1: 550, ain_2: 345, ain_3: 296, ain_4: 218, ain_5: 533, ain_6: 402, ain_7: 360, ain_8: 465, ain_9: 468, analog_sample_freq_Hz: 5000, analog_sample_num_exp2: 3, board_id: 321, ctrl_status_cmd: 0, ctrl_status_cmd_ack: 0, ctrl_word: 10, fault: 0, fault_ack: 0, flash_params_cmd: 0, flash_params_cmd_ack: 0, fw_ver: 19122313, module_params: 258, rtt: 0, status_word: 0, ts: 0}\n",
      "{ain_1: 548, ain_2: 337, ain_3: 280, ain_4: 215, ain_5: 588, ain_6: 398, ain_7: 357, ain_8: 471, ain_9: 474, analog_sample_freq_Hz: 5000, analog_sample_num_exp2: 3, board_id: 321, ctrl_status_cmd: 0, ctrl_status_cmd_ack: 0, ctrl_word: 10, fault: 0, fault_ack: 0, flash_params_cmd: 0, flash_params_cmd_ack: 0, fw_ver: 19122313, module_params: 258, rtt: 0, status_word: 0, ts: 0}\n",
      "{ain_1: 545, ain_2: 351, ain_3: 282, ain_4: 217, ain_5: 541, ain_6: 384, ain_7: 354, ain_8: 456, ain_9: 468, analog_sample_freq_Hz: 5000, analog_sample_num_exp2: 3, board_id: 321, ctrl_status_cmd: 0, ctrl_status_cmd_ack: 0, ctrl_word: 10, fault: 0, fault_ack: 0, flash_params_cmd: 0, flash_params_cmd_ack: 0, fw_ver: 19122313, module_params: 258, rtt: 0, status_word: 0, ts: 0}\n",
      "{ain_1: 546, ain_2: 342, ain_3: 284, ain_4: 220, ain_5: 573, ain_6: 391, ain_7: 357, ain_8: 460, ain_9: 471, analog_sample_freq_Hz: 5000, analog_sample_num_exp2: 3, board_id: 321, ctrl_status_cmd: 0, ctrl_status_cmd_ack: 0, ctrl_word: 10, fault: 0, fault_ack: 0, flash_params_cmd: 0, flash_params_cmd_ack: 0, fw_ver: 19122313, module_params: 258, rtt: 0, status_word: 0, ts: 0}\n",
      "{ain_1: 551, ain_2: 345, ain_3: 286, ain_4: 214, ain_5: 533, ain_6: 392, ain_7: 356, ain_8: 458, ain_9: 466, analog_sample_freq_Hz: 5000, analog_sample_num_exp2: 3, board_id: 321, ctrl_status_cmd: 0, ctrl_status_cmd_ack: 0, ctrl_word: 10, fault: 0, fault_ack: 0, flash_params_cmd: 0, flash_params_cmd_ack: 0, fw_ver: 19122313, module_params: 258, rtt: 0, status_word: 0, ts: 0}\n",
      "{ain_1: 555, ain_2: 348, ain_3: 294, ain_4: 216, ain_5: 532, ain_6: 397, ain_7: 356, ain_8: 480, ain_9: 462, analog_sample_freq_Hz: 5000, analog_sample_num_exp2: 3, board_id: 321, ctrl_status_cmd: 0, ctrl_status_cmd_ack: 0, ctrl_word: 10, fault: 0, fault_ack: 0, flash_params_cmd: 0, flash_params_cmd_ack: 0, fw_ver: 19122313, module_params: 258, rtt: 0, status_word: 0, ts: 0}\n",
      "{ain_1: 551, ain_2: 344, ain_3: 280, ain_4: 214, ain_5: 529, ain_6: 400, ain_7: 363, ain_8: 462, ain_9: 482, analog_sample_freq_Hz: 5000, analog_sample_num_exp2: 3, board_id: 321, ctrl_status_cmd: 0, ctrl_status_cmd_ack: 0, ctrl_word: 10, fault: 0, fault_ack: 0, flash_params_cmd: 0, flash_params_cmd_ack: 0, fw_ver: 19122313, module_params: 258, rtt: 0, status_word: 0, ts: 0}\n",
      "{ain_1: 548, ain_2: 340, ain_3: 284, ain_4: 222, ain_5: 540, ain_6: 399, ain_7: 365, ain_8: 466, ain_9: 474, analog_sample_freq_Hz: 5000, analog_sample_num_exp2: 3, board_id: 321, ctrl_status_cmd: 0, ctrl_status_cmd_ack: 0, ctrl_word: 10, fault: 0, fault_ack: 0, flash_params_cmd: 0, flash_params_cmd_ack: 0, fw_ver: 19122313, module_params: 258, rtt: 0, status_word: 0, ts: 0}\n",
      "{ain_1: 548, ain_2: 342, ain_3: 293, ain_4: 216, ain_5: 543, ain_6: 410, ain_7: 357, ain_8: 467, ain_9: 462, analog_sample_freq_Hz: 5000, analog_sample_num_exp2: 3, board_id: 321, ctrl_status_cmd: 0, ctrl_status_cmd_ack: 0, ctrl_word: 10, fault: 0, fault_ack: 0, flash_params_cmd: 0, flash_params_cmd_ack: 0, fw_ver: 19122313, module_params: 258, rtt: 0, status_word: 0, ts: 0}\n",
      "{ain_1: 551, ain_2: 342, ain_3: 287, ain_4: 220, ain_5: 533, ain_6: 398, ain_7: 356, ain_8: 478, ain_9: 465, analog_sample_freq_Hz: 5000, analog_sample_num_exp2: 3, board_id: 321, ctrl_status_cmd: 0, ctrl_status_cmd_ack: 0, ctrl_word: 10, fault: 0, fault_ack: 0, flash_params_cmd: 0, flash_params_cmd_ack: 0, fw_ver: 19122313, module_params: 258, rtt: 0, status_word: 0, ts: 0}\n",
      "{ain_1: 548, ain_2: 349, ain_3: 289, ain_4: 216, ain_5: 536, ain_6: 402, ain_7: 355, ain_8: 471, ain_9: 464, analog_sample_freq_Hz: 5000, analog_sample_num_exp2: 3, board_id: 321, ctrl_status_cmd: 0, ctrl_status_cmd_ack: 0, ctrl_word: 10, fault: 0, fault_ack: 0, flash_params_cmd: 0, flash_params_cmd_ack: 0, fw_ver: 19122313, module_params: 258, rtt: 0, status_word: 0, ts: 0}\n",
      "{ain_1: 550, ain_2: 345, ain_3: 289, ain_4: 220, ain_5: 536, ain_6: 406, ain_7: 356, ain_8: 468, ain_9: 466, analog_sample_freq_Hz: 5000, analog_sample_num_exp2: 3, board_id: 321, ctrl_status_cmd: 0, ctrl_status_cmd_ack: 0, ctrl_word: 10, fault: 0, fault_ack: 0, flash_params_cmd: 0, flash_params_cmd_ack: 0, fw_ver: 19122313, module_params: 258, rtt: 0, status_word: 0, ts: 0}\n",
      "{ain_1: 546, ain_2: 354, ain_3: 339, ain_4: 212, ain_5: 539, ain_6: 393, ain_7: 357, ain_8: 464, ain_9: 466, analog_sample_freq_Hz: 5000, analog_sample_num_exp2: 3, board_id: 321, ctrl_status_cmd: 0, ctrl_status_cmd_ack: 0, ctrl_word: 10, fault: 0, fault_ack: 0, flash_params_cmd: 0, flash_params_cmd_ack: 0, fw_ver: 19122313, module_params: 258, rtt: 0, status_word: 0, ts: 0}\n",
      "{ain_1: 551, ain_2: 347, ain_3: 303, ain_4: 219, ain_5: 533, ain_6: 403, ain_7: 360, ain_8: 462, ain_9: 483, analog_sample_freq_Hz: 5000, analog_sample_num_exp2: 3, board_id: 321, ctrl_status_cmd: 0, ctrl_status_cmd_ack: 0, ctrl_word: 10, fault: 0, fault_ack: 0, flash_params_cmd: 0, flash_params_cmd_ack: 0, fw_ver: 19122313, module_params: 258, rtt: 0, status_word: 0, ts: 0}\n",
      "{ain_1: 552, ain_2: 339, ain_3: 282, ain_4: 218, ain_5: 535, ain_6: 405, ain_7: 366, ain_8: 460, ain_9: 469, analog_sample_freq_Hz: 5000, analog_sample_num_exp2: 3, board_id: 321, ctrl_status_cmd: 0, ctrl_status_cmd_ack: 0, ctrl_word: 10, fault: 0, fault_ack: 0, flash_params_cmd: 0, flash_params_cmd_ack: 0, fw_ver: 19122313, module_params: 258, rtt: 0, status_word: 0, ts: 0}\n",
      "{ain_1: 554, ain_2: 344, ain_3: 287, ain_4: 215, ain_5: 525, ain_6: 396, ain_7: 361, ain_8: 476, ain_9: 468, analog_sample_freq_Hz: 5000, analog_sample_num_exp2: 3, board_id: 321, ctrl_status_cmd: 0, ctrl_status_cmd_ack: 0, ctrl_word: 10, fault: 0, fault_ack: 0, flash_params_cmd: 0, flash_params_cmd_ack: 0, fw_ver: 19122313, module_params: 258, rtt: 0, status_word: 0, ts: 0}\n",
      "{ain_1: 548, ain_2: 349, ain_3: 305, ain_4: 220, ain_5: 532, ain_6: 396, ain_7: 360, ain_8: 470, ain_9: 466, analog_sample_freq_Hz: 5000, analog_sample_num_exp2: 3, board_id: 321, ctrl_status_cmd: 0, ctrl_status_cmd_ack: 0, ctrl_word: 10, fault: 0, fault_ack: 0, flash_params_cmd: 0, flash_params_cmd_ack: 0, fw_ver: 19122313, module_params: 258, rtt: 0, status_word: 0, ts: 0}\n",
      "{ain_1: 542, ain_2: 347, ain_3: 295, ain_4: 223, ain_5: 546, ain_6: 393, ain_7: 357, ain_8: 470, ain_9: 464, analog_sample_freq_Hz: 5000, analog_sample_num_exp2: 3, board_id: 321, ctrl_status_cmd: 0, ctrl_status_cmd_ack: 0, ctrl_word: 10, fault: 0, fault_ack: 0, flash_params_cmd: 0, flash_params_cmd_ack: 0, fw_ver: 19122313, module_params: 258, rtt: 0, status_word: 0, ts: 0}\n",
      "{ain_1: 551, ain_2: 344, ain_3: 295, ain_4: 220, ain_5: 536, ain_6: 403, ain_7: 356, ain_8: 469, ain_9: 462, analog_sample_freq_Hz: 5000, analog_sample_num_exp2: 3, board_id: 321, ctrl_status_cmd: 0, ctrl_status_cmd_ack: 0, ctrl_word: 10, fault: 0, fault_ack: 0, flash_params_cmd: 0, flash_params_cmd_ack: 0, fw_ver: 19122313, module_params: 258, rtt: 0, status_word: 0, ts: 0}\n",
      "{ain_1: 552, ain_2: 345, ain_3: 292, ain_4: 217, ain_5: 531, ain_6: 398, ain_7: 360, ain_8: 514, ain_9: 470, analog_sample_freq_Hz: 5000, analog_sample_num_exp2: 3, board_id: 321, ctrl_status_cmd: 0, ctrl_status_cmd_ack: 0, ctrl_word: 10, fault: 0, fault_ack: 0, flash_params_cmd: 0, flash_params_cmd_ack: 0, fw_ver: 19122313, module_params: 258, rtt: 0, status_word: 0, ts: 0}\n",
      "{ain_1: 547, ain_2: 345, ain_3: 280, ain_4: 212, ain_5: 524, ain_6: 399, ain_7: 369, ain_8: 464, ain_9: 491, analog_sample_freq_Hz: 5000, analog_sample_num_exp2: 3, board_id: 321, ctrl_status_cmd: 0, ctrl_status_cmd_ack: 0, ctrl_word: 10, fault: 0, fault_ack: 0, flash_params_cmd: 0, flash_params_cmd_ack: 0, fw_ver: 19122313, module_params: 258, rtt: 0, status_word: 0, ts: 0}\n",
      "{ain_1: 550, ain_2: 343, ain_3: 295, ain_4: 218, ain_5: 539, ain_6: 392, ain_7: 370, ain_8: 471, ain_9: 473, analog_sample_freq_Hz: 5000, analog_sample_num_exp2: 3, board_id: 321, ctrl_status_cmd: 0, ctrl_status_cmd_ack: 0, ctrl_word: 10, fault: 0, fault_ack: 0, flash_params_cmd: 0, flash_params_cmd_ack: 0, fw_ver: 19122313, module_params: 258, rtt: 0, status_word: 0, ts: 0}\n",
      "{ain_1: 556, ain_2: 347, ain_3: 293, ain_4: 215, ain_5: 534, ain_6: 400, ain_7: 351, ain_8: 472, ain_9: 474, analog_sample_freq_Hz: 5000, analog_sample_num_exp2: 3, board_id: 321, ctrl_status_cmd: 0, ctrl_status_cmd_ack: 0, ctrl_word: 10, fault: 0, fault_ack: 0, flash_params_cmd: 0, flash_params_cmd_ack: 0, fw_ver: 19122313, module_params: 258, rtt: 0, status_word: 0, ts: 0}\n",
      "{ain_1: 549, ain_2: 342, ain_3: 296, ain_4: 219, ain_5: 601, ain_6: 391, ain_7: 355, ain_8: 469, ain_9: 472, analog_sample_freq_Hz: 5000, analog_sample_num_exp2: 3, board_id: 321, ctrl_status_cmd: 0, ctrl_status_cmd_ack: 0, ctrl_word: 10, fault: 0, fault_ack: 0, flash_params_cmd: 0, flash_params_cmd_ack: 0, fw_ver: 19122313, module_params: 258, rtt: 0, status_word: 0, ts: 0}\n",
      "{ain_1: 550, ain_2: 352, ain_3: 289, ain_4: 218, ain_5: 525, ain_6: 397, ain_7: 360, ain_8: 466, ain_9: 464, analog_sample_freq_Hz: 5000, analog_sample_num_exp2: 3, board_id: 321, ctrl_status_cmd: 0, ctrl_status_cmd_ack: 0, ctrl_word: 10, fault: 0, fault_ack: 0, flash_params_cmd: 0, flash_params_cmd_ack: 0, fw_ver: 19122313, module_params: 258, rtt: 0, status_word: 0, ts: 0}\n",
      "{ain_1: 554, ain_2: 343, ain_3: 285, ain_4: 217, ain_5: 546, ain_6: 397, ain_7: 356, ain_8: 467, ain_9: 468, analog_sample_freq_Hz: 5000, analog_sample_num_exp2: 3, board_id: 321, ctrl_status_cmd: 0, ctrl_status_cmd_ack: 0, ctrl_word: 10, fault: 0, fault_ack: 0, flash_params_cmd: 0, flash_params_cmd_ack: 0, fw_ver: 19122313, module_params: 258, rtt: 0, status_word: 0, ts: 0}\n",
      "{ain_1: 543, ain_2: 343, ain_3: 286, ain_4: 224, ain_5: 528, ain_6: 399, ain_7: 353, ain_8: 455, ain_9: 466, analog_sample_freq_Hz: 5000, analog_sample_num_exp2: 3, board_id: 321, ctrl_status_cmd: 0, ctrl_status_cmd_ack: 0, ctrl_word: 10, fault: 0, fault_ack: 0, flash_params_cmd: 0, flash_params_cmd_ack: 0, fw_ver: 19122313, module_params: 258, rtt: 0, status_word: 0, ts: 0}\n",
      "{ain_1: 546, ain_2: 345, ain_3: 291, ain_4: 219, ain_5: 523, ain_6: 415, ain_7: 370, ain_8: 470, ain_9: 475, analog_sample_freq_Hz: 5000, analog_sample_num_exp2: 3, board_id: 321, ctrl_status_cmd: 0, ctrl_status_cmd_ack: 0, ctrl_word: 10, fault: 0, fault_ack: 0, flash_params_cmd: 0, flash_params_cmd_ack: 0, fw_ver: 19122313, module_params: 258, rtt: 0, status_word: 0, ts: 0}\n",
      "{ain_1: 546, ain_2: 343, ain_3: 282, ain_4: 214, ain_5: 537, ain_6: 425, ain_7: 357, ain_8: 471, ain_9: 473, analog_sample_freq_Hz: 5000, analog_sample_num_exp2: 3, board_id: 321, ctrl_status_cmd: 0, ctrl_status_cmd_ack: 0, ctrl_word: 10, fault: 0, fault_ack: 0, flash_params_cmd: 0, flash_params_cmd_ack: 0, fw_ver: 19122313, module_params: 258, rtt: 0, status_word: 0, ts: 0}\n",
      "{ain_1: 545, ain_2: 341, ain_3: 346, ain_4: 217, ain_5: 551, ain_6: 396, ain_7: 358, ain_8: 471, ain_9: 462, analog_sample_freq_Hz: 5000, analog_sample_num_exp2: 3, board_id: 321, ctrl_status_cmd: 0, ctrl_status_cmd_ack: 0, ctrl_word: 10, fault: 0, fault_ack: 0, flash_params_cmd: 0, flash_params_cmd_ack: 0, fw_ver: 19122313, module_params: 258, rtt: 0, status_word: 0, ts: 0}\n",
      "{ain_1: 546, ain_2: 348, ain_3: 283, ain_4: 212, ain_5: 537, ain_6: 420, ain_7: 364, ain_8: 465, ain_9: 473, analog_sample_freq_Hz: 5000, analog_sample_num_exp2: 3, board_id: 321, ctrl_status_cmd: 0, ctrl_status_cmd_ack: 0, ctrl_word: 10, fault: 0, fault_ack: 0, flash_params_cmd: 0, flash_params_cmd_ack: 0, fw_ver: 19122313, module_params: 258, rtt: 0, status_word: 0, ts: 0}\n",
      "{ain_1: 547, ain_2: 345, ain_3: 289, ain_4: 219, ain_5: 544, ain_6: 402, ain_7: 362, ain_8: 478, ain_9: 495, analog_sample_freq_Hz: 5000, analog_sample_num_exp2: 3, board_id: 321, ctrl_status_cmd: 0, ctrl_status_cmd_ack: 0, ctrl_word: 10, fault: 0, fault_ack: 0, flash_params_cmd: 0, flash_params_cmd_ack: 0, fw_ver: 19122313, module_params: 258, rtt: 0, status_word: 0, ts: 0}\n",
      "{ain_1: 554, ain_2: 343, ain_3: 297, ain_4: 213, ain_5: 523, ain_6: 484, ain_7: 360, ain_8: 466, ain_9: 468, analog_sample_freq_Hz: 5000, analog_sample_num_exp2: 3, board_id: 321, ctrl_status_cmd: 0, ctrl_status_cmd_ack: 0, ctrl_word: 10, fault: 0, fault_ack: 0, flash_params_cmd: 0, flash_params_cmd_ack: 0, fw_ver: 19122313, module_params: 258, rtt: 0, status_word: 0, ts: 0}\n",
      "{ain_1: 550, ain_2: 342, ain_3: 279, ain_4: 222, ain_5: 537, ain_6: 411, ain_7: 356, ain_8: 459, ain_9: 466, analog_sample_freq_Hz: 5000, analog_sample_num_exp2: 3, board_id: 321, ctrl_status_cmd: 0, ctrl_status_cmd_ack: 0, ctrl_word: 10, fault: 0, fault_ack: 0, flash_params_cmd: 0, flash_params_cmd_ack: 0, fw_ver: 19122313, module_params: 258, rtt: 0, status_word: 0, ts: 0}\n",
      "{ain_1: 555, ain_2: 346, ain_3: 287, ain_4: 215, ain_5: 527, ain_6: 421, ain_7: 368, ain_8: 470, ain_9: 472, analog_sample_freq_Hz: 5000, analog_sample_num_exp2: 3, board_id: 321, ctrl_status_cmd: 0, ctrl_status_cmd_ack: 0, ctrl_word: 10, fault: 0, fault_ack: 0, flash_params_cmd: 0, flash_params_cmd_ack: 0, fw_ver: 19122313, module_params: 258, rtt: 0, status_word: 0, ts: 0}\n",
      "{ain_1: 548, ain_2: 338, ain_3: 289, ain_4: 218, ain_5: 534, ain_6: 388, ain_7: 357, ain_8: 461, ain_9: 467, analog_sample_freq_Hz: 5000, analog_sample_num_exp2: 3, board_id: 321, ctrl_status_cmd: 0, ctrl_status_cmd_ack: 0, ctrl_word: 10, fault: 0, fault_ack: 0, flash_params_cmd: 0, flash_params_cmd_ack: 0, fw_ver: 19122313, module_params: 258, rtt: 0, status_word: 0, ts: 0}\n",
      "{ain_1: 550, ain_2: 337, ain_3: 301, ain_4: 217, ain_5: 533, ain_6: 410, ain_7: 363, ain_8: 477, ain_9: 471, analog_sample_freq_Hz: 5000, analog_sample_num_exp2: 3, board_id: 321, ctrl_status_cmd: 0, ctrl_status_cmd_ack: 0, ctrl_word: 10, fault: 0, fault_ack: 0, flash_params_cmd: 0, flash_params_cmd_ack: 0, fw_ver: 19122313, module_params: 258, rtt: 0, status_word: 0, ts: 0}\n",
      "{ain_1: 547, ain_2: 338, ain_3: 300, ain_4: 217, ain_5: 532, ain_6: 392, ain_7: 356, ain_8: 463, ain_9: 470, analog_sample_freq_Hz: 5000, analog_sample_num_exp2: 3, board_id: 321, ctrl_status_cmd: 0, ctrl_status_cmd_ack: 0, ctrl_word: 10, fault: 0, fault_ack: 0, flash_params_cmd: 0, flash_params_cmd_ack: 0, fw_ver: 19122313, module_params: 258, rtt: 0, status_word: 0, ts: 0}\n",
      "{ain_1: 545, ain_2: 345, ain_3: 285, ain_4: 218, ain_5: 537, ain_6: 398, ain_7: 362, ain_8: 463, ain_9: 462, analog_sample_freq_Hz: 5000, analog_sample_num_exp2: 3, board_id: 321, ctrl_status_cmd: 0, ctrl_status_cmd_ack: 0, ctrl_word: 10, fault: 0, fault_ack: 0, flash_params_cmd: 0, flash_params_cmd_ack: 0, fw_ver: 19122313, module_params: 258, rtt: 0, status_word: 0, ts: 0}\n",
      "{ain_1: 550, ain_2: 346, ain_3: 291, ain_4: 215, ain_5: 551, ain_6: 397, ain_7: 353, ain_8: 469, ain_9: 467, analog_sample_freq_Hz: 5000, analog_sample_num_exp2: 3, board_id: 321, ctrl_status_cmd: 0, ctrl_status_cmd_ack: 0, ctrl_word: 10, fault: 0, fault_ack: 0, flash_params_cmd: 0, flash_params_cmd_ack: 0, fw_ver: 19122313, module_params: 258, rtt: 0, status_word: 0, ts: 0}\n",
      "{ain_1: 555, ain_2: 347, ain_3: 342, ain_4: 219, ain_5: 568, ain_6: 398, ain_7: 360, ain_8: 462, ain_9: 466, analog_sample_freq_Hz: 5000, analog_sample_num_exp2: 3, board_id: 321, ctrl_status_cmd: 0, ctrl_status_cmd_ack: 0, ctrl_word: 10, fault: 0, fault_ack: 0, flash_params_cmd: 0, flash_params_cmd_ack: 0, fw_ver: 19122313, module_params: 258, rtt: 0, status_word: 0, ts: 0}\n",
      "{ain_1: 554, ain_2: 343, ain_3: 285, ain_4: 214, ain_5: 544, ain_6: 395, ain_7: 364, ain_8: 506, ain_9: 469, analog_sample_freq_Hz: 5000, analog_sample_num_exp2: 3, board_id: 321, ctrl_status_cmd: 0, ctrl_status_cmd_ack: 0, ctrl_word: 10, fault: 0, fault_ack: 0, flash_params_cmd: 0, flash_params_cmd_ack: 0, fw_ver: 19122313, module_params: 258, rtt: 0, status_word: 0, ts: 0}\n",
      "{ain_1: 549, ain_2: 347, ain_3: 290, ain_4: 219, ain_5: 538, ain_6: 404, ain_7: 356, ain_8: 475, ain_9: 462, analog_sample_freq_Hz: 5000, analog_sample_num_exp2: 3, board_id: 321, ctrl_status_cmd: 0, ctrl_status_cmd_ack: 0, ctrl_word: 10, fault: 0, fault_ack: 0, flash_params_cmd: 0, flash_params_cmd_ack: 0, fw_ver: 19122313, module_params: 258, rtt: 0, status_word: 0, ts: 0}\n",
      "{ain_1: 547, ain_2: 342, ain_3: 282, ain_4: 213, ain_5: 536, ain_6: 397, ain_7: 355, ain_8: 461, ain_9: 466, analog_sample_freq_Hz: 5000, analog_sample_num_exp2: 3, board_id: 321, ctrl_status_cmd: 0, ctrl_status_cmd_ack: 0, ctrl_word: 10, fault: 0, fault_ack: 0, flash_params_cmd: 0, flash_params_cmd_ack: 0, fw_ver: 19122313, module_params: 258, rtt: 0, status_word: 0, ts: 0}\n",
      "{ain_1: 551, ain_2: 349, ain_3: 280, ain_4: 215, ain_5: 529, ain_6: 405, ain_7: 357, ain_8: 469, ain_9: 460, analog_sample_freq_Hz: 5000, analog_sample_num_exp2: 3, board_id: 321, ctrl_status_cmd: 0, ctrl_status_cmd_ack: 0, ctrl_word: 10, fault: 0, fault_ack: 0, flash_params_cmd: 0, flash_params_cmd_ack: 0, fw_ver: 19122313, module_params: 258, rtt: 0, status_word: 0, ts: 0}\n",
      "{ain_1: 552, ain_2: 343, ain_3: 283, ain_4: 217, ain_5: 593, ain_6: 399, ain_7: 354, ain_8: 488, ain_9: 465, analog_sample_freq_Hz: 5000, analog_sample_num_exp2: 3, board_id: 321, ctrl_status_cmd: 0, ctrl_status_cmd_ack: 0, ctrl_word: 10, fault: 0, fault_ack: 0, flash_params_cmd: 0, flash_params_cmd_ack: 0, fw_ver: 19122313, module_params: 258, rtt: 0, status_word: 0, ts: 0}\n",
      "{ain_1: 550, ain_2: 345, ain_3: 286, ain_4: 214, ain_5: 534, ain_6: 433, ain_7: 362, ain_8: 459, ain_9: 465, analog_sample_freq_Hz: 5000, analog_sample_num_exp2: 3, board_id: 321, ctrl_status_cmd: 0, ctrl_status_cmd_ack: 0, ctrl_word: 10, fault: 0, fault_ack: 0, flash_params_cmd: 0, flash_params_cmd_ack: 0, fw_ver: 19122313, module_params: 258, rtt: 0, status_word: 0, ts: 0}\n",
      "{ain_1: 548, ain_2: 342, ain_3: 295, ain_4: 218, ain_5: 534, ain_6: 395, ain_7: 369, ain_8: 530, ain_9: 497, analog_sample_freq_Hz: 5000, analog_sample_num_exp2: 3, board_id: 321, ctrl_status_cmd: 0, ctrl_status_cmd_ack: 0, ctrl_word: 10, fault: 0, fault_ack: 0, flash_params_cmd: 0, flash_params_cmd_ack: 0, fw_ver: 19122313, module_params: 258, rtt: 0, status_word: 0, ts: 0}\n",
      "{ain_1: 545, ain_2: 342, ain_3: 289, ain_4: 218, ain_5: 545, ain_6: 412, ain_7: 360, ain_8: 468, ain_9: 457, analog_sample_freq_Hz: 5000, analog_sample_num_exp2: 3, board_id: 321, ctrl_status_cmd: 0, ctrl_status_cmd_ack: 0, ctrl_word: 10, fault: 0, fault_ack: 0, flash_params_cmd: 0, flash_params_cmd_ack: 0, fw_ver: 19122313, module_params: 258, rtt: 0, status_word: 0, ts: 0}\n",
      "{ain_1: 549, ain_2: 341, ain_3: 286, ain_4: 216, ain_5: 538, ain_6: 400, ain_7: 358, ain_8: 465, ain_9: 467, analog_sample_freq_Hz: 5000, analog_sample_num_exp2: 3, board_id: 321, ctrl_status_cmd: 0, ctrl_status_cmd_ack: 0, ctrl_word: 10, fault: 0, fault_ack: 0, flash_params_cmd: 0, flash_params_cmd_ack: 0, fw_ver: 19122313, module_params: 258, rtt: 0, status_word: 0, ts: 0}\n",
      "{ain_1: 546, ain_2: 342, ain_3: 291, ain_4: 218, ain_5: 563, ain_6: 396, ain_7: 358, ain_8: 483, ain_9: 462, analog_sample_freq_Hz: 5000, analog_sample_num_exp2: 3, board_id: 321, ctrl_status_cmd: 0, ctrl_status_cmd_ack: 0, ctrl_word: 10, fault: 0, fault_ack: 0, flash_params_cmd: 0, flash_params_cmd_ack: 0, fw_ver: 19122313, module_params: 258, rtt: 0, status_word: 0, ts: 0}\n",
      "{ain_1: 549, ain_2: 345, ain_3: 283, ain_4: 214, ain_5: 550, ain_6: 397, ain_7: 357, ain_8: 467, ain_9: 463, analog_sample_freq_Hz: 5000, analog_sample_num_exp2: 3, board_id: 321, ctrl_status_cmd: 0, ctrl_status_cmd_ack: 0, ctrl_word: 10, fault: 0, fault_ack: 0, flash_params_cmd: 0, flash_params_cmd_ack: 0, fw_ver: 19122313, module_params: 258, rtt: 0, status_word: 0, ts: 0}\n",
      "{ain_1: 546, ain_2: 342, ain_3: 286, ain_4: 220, ain_5: 534, ain_6: 396, ain_7: 359, ain_8: 474, ain_9: 487, analog_sample_freq_Hz: 5000, analog_sample_num_exp2: 3, board_id: 321, ctrl_status_cmd: 0, ctrl_status_cmd_ack: 0, ctrl_word: 10, fault: 0, fault_ack: 0, flash_params_cmd: 0, flash_params_cmd_ack: 0, fw_ver: 19122313, module_params: 258, rtt: 0, status_word: 0, ts: 0}\n",
      "{ain_1: 550, ain_2: 346, ain_3: 297, ain_4: 221, ain_5: 535, ain_6: 393, ain_7: 362, ain_8: 491, ain_9: 461, analog_sample_freq_Hz: 5000, analog_sample_num_exp2: 3, board_id: 321, ctrl_status_cmd: 0, ctrl_status_cmd_ack: 0, ctrl_word: 10, fault: 0, fault_ack: 0, flash_params_cmd: 0, flash_params_cmd_ack: 0, fw_ver: 19122313, module_params: 258, rtt: 0, status_word: 0, ts: 0}\n",
      "{ain_1: 551, ain_2: 346, ain_3: 293, ain_4: 226, ain_5: 538, ain_6: 420, ain_7: 358, ain_8: 465, ain_9: 472, analog_sample_freq_Hz: 5000, analog_sample_num_exp2: 3, board_id: 321, ctrl_status_cmd: 0, ctrl_status_cmd_ack: 0, ctrl_word: 10, fault: 0, fault_ack: 0, flash_params_cmd: 0, flash_params_cmd_ack: 0, fw_ver: 19122313, module_params: 258, rtt: 0, status_word: 0, ts: 0}\n",
      "{ain_1: 551, ain_2: 345, ain_3: 290, ain_4: 217, ain_5: 538, ain_6: 397, ain_7: 356, ain_8: 463, ain_9: 472, analog_sample_freq_Hz: 5000, analog_sample_num_exp2: 3, board_id: 321, ctrl_status_cmd: 0, ctrl_status_cmd_ack: 0, ctrl_word: 10, fault: 0, fault_ack: 0, flash_params_cmd: 0, flash_params_cmd_ack: 0, fw_ver: 19122313, module_params: 258, rtt: 0, status_word: 0, ts: 0}\n",
      "{ain_1: 549, ain_2: 344, ain_3: 286, ain_4: 214, ain_5: 534, ain_6: 429, ain_7: 357, ain_8: 471, ain_9: 470, analog_sample_freq_Hz: 5000, analog_sample_num_exp2: 3, board_id: 321, ctrl_status_cmd: 0, ctrl_status_cmd_ack: 0, ctrl_word: 10, fault: 0, fault_ack: 0, flash_params_cmd: 0, flash_params_cmd_ack: 0, fw_ver: 19122313, module_params: 258, rtt: 0, status_word: 0, ts: 0}\n",
      "{ain_1: 549, ain_2: 345, ain_3: 287, ain_4: 213, ain_5: 531, ain_6: 407, ain_7: 359, ain_8: 458, ain_9: 466, analog_sample_freq_Hz: 5000, analog_sample_num_exp2: 3, board_id: 321, ctrl_status_cmd: 0, ctrl_status_cmd_ack: 0, ctrl_word: 10, fault: 0, fault_ack: 0, flash_params_cmd: 0, flash_params_cmd_ack: 0, fw_ver: 19122313, module_params: 258, rtt: 0, status_word: 0, ts: 0}\n",
      "{ain_1: 546, ain_2: 347, ain_3: 291, ain_4: 215, ain_5: 536, ain_6: 395, ain_7: 358, ain_8: 466, ain_9: 469, analog_sample_freq_Hz: 5000, analog_sample_num_exp2: 3, board_id: 321, ctrl_status_cmd: 0, ctrl_status_cmd_ack: 0, ctrl_word: 10, fault: 0, fault_ack: 0, flash_params_cmd: 0, flash_params_cmd_ack: 0, fw_ver: 19122313, module_params: 258, rtt: 0, status_word: 0, ts: 0}\n",
      "{ain_1: 550, ain_2: 345, ain_3: 291, ain_4: 218, ain_5: 533, ain_6: 422, ain_7: 360, ain_8: 476, ain_9: 454, analog_sample_freq_Hz: 5000, analog_sample_num_exp2: 3, board_id: 321, ctrl_status_cmd: 0, ctrl_status_cmd_ack: 0, ctrl_word: 10, fault: 0, fault_ack: 0, flash_params_cmd: 0, flash_params_cmd_ack: 0, fw_ver: 19122313, module_params: 258, rtt: 0, status_word: 0, ts: 0}\n",
      "{ain_1: 548, ain_2: 348, ain_3: 290, ain_4: 215, ain_5: 539, ain_6: 418, ain_7: 356, ain_8: 458, ain_9: 464, analog_sample_freq_Hz: 5000, analog_sample_num_exp2: 3, board_id: 321, ctrl_status_cmd: 0, ctrl_status_cmd_ack: 0, ctrl_word: 10, fault: 0, fault_ack: 0, flash_params_cmd: 0, flash_params_cmd_ack: 0, fw_ver: 19122313, module_params: 258, rtt: 0, status_word: 0, ts: 0}\n",
      "{ain_1: 545, ain_2: 342, ain_3: 288, ain_4: 213, ain_5: 534, ain_6: 399, ain_7: 357, ain_8: 472, ain_9: 471, analog_sample_freq_Hz: 5000, analog_sample_num_exp2: 3, board_id: 321, ctrl_status_cmd: 0, ctrl_status_cmd_ack: 0, ctrl_word: 10, fault: 0, fault_ack: 0, flash_params_cmd: 0, flash_params_cmd_ack: 0, fw_ver: 19122313, module_params: 258, rtt: 0, status_word: 0, ts: 0}\n",
      "{ain_1: 550, ain_2: 344, ain_3: 291, ain_4: 214, ain_5: 537, ain_6: 455, ain_7: 355, ain_8: 476, ain_9: 463, analog_sample_freq_Hz: 5000, analog_sample_num_exp2: 3, board_id: 321, ctrl_status_cmd: 0, ctrl_status_cmd_ack: 0, ctrl_word: 10, fault: 0, fault_ack: 0, flash_params_cmd: 0, flash_params_cmd_ack: 0, fw_ver: 19122313, module_params: 258, rtt: 0, status_word: 0, ts: 0}\n",
      "{ain_1: 550, ain_2: 341, ain_3: 295, ain_4: 213, ain_5: 542, ain_6: 397, ain_7: 363, ain_8: 460, ain_9: 472, analog_sample_freq_Hz: 5000, analog_sample_num_exp2: 3, board_id: 321, ctrl_status_cmd: 0, ctrl_status_cmd_ack: 0, ctrl_word: 10, fault: 0, fault_ack: 0, flash_params_cmd: 0, flash_params_cmd_ack: 0, fw_ver: 19122313, module_params: 258, rtt: 0, status_word: 0, ts: 0}\n",
      "{ain_1: 550, ain_2: 353, ain_3: 287, ain_4: 214, ain_5: 538, ain_6: 384, ain_7: 353, ain_8: 473, ain_9: 472, analog_sample_freq_Hz: 5000, analog_sample_num_exp2: 3, board_id: 321, ctrl_status_cmd: 0, ctrl_status_cmd_ack: 0, ctrl_word: 10, fault: 0, fault_ack: 0, flash_params_cmd: 0, flash_params_cmd_ack: 0, fw_ver: 19122313, module_params: 258, rtt: 0, status_word: 0, ts: 0}\n",
      "{ain_1: 549, ain_2: 340, ain_3: 288, ain_4: 222, ain_5: 532, ain_6: 402, ain_7: 357, ain_8: 462, ain_9: 482, analog_sample_freq_Hz: 5000, analog_sample_num_exp2: 3, board_id: 321, ctrl_status_cmd: 0, ctrl_status_cmd_ack: 0, ctrl_word: 10, fault: 0, fault_ack: 0, flash_params_cmd: 0, flash_params_cmd_ack: 0, fw_ver: 19122313, module_params: 258, rtt: 0, status_word: 0, ts: 0}\n",
      "{ain_1: 547, ain_2: 344, ain_3: 295, ain_4: 212, ain_5: 540, ain_6: 402, ain_7: 362, ain_8: 466, ain_9: 464, analog_sample_freq_Hz: 5000, analog_sample_num_exp2: 3, board_id: 321, ctrl_status_cmd: 0, ctrl_status_cmd_ack: 0, ctrl_word: 10, fault: 0, fault_ack: 0, flash_params_cmd: 0, flash_params_cmd_ack: 0, fw_ver: 19122313, module_params: 258, rtt: 0, status_word: 0, ts: 0}\n",
      "{ain_1: 549, ain_2: 340, ain_3: 292, ain_4: 216, ain_5: 540, ain_6: 400, ain_7: 358, ain_8: 472, ain_9: 478, analog_sample_freq_Hz: 5000, analog_sample_num_exp2: 3, board_id: 321, ctrl_status_cmd: 0, ctrl_status_cmd_ack: 0, ctrl_word: 10, fault: 0, fault_ack: 0, flash_params_cmd: 0, flash_params_cmd_ack: 0, fw_ver: 19122313, module_params: 258, rtt: 0, status_word: 0, ts: 0}\n",
      "{ain_1: 554, ain_2: 342, ain_3: 350, ain_4: 218, ain_5: 539, ain_6: 401, ain_7: 358, ain_8: 462, ain_9: 465, analog_sample_freq_Hz: 5000, analog_sample_num_exp2: 3, board_id: 321, ctrl_status_cmd: 0, ctrl_status_cmd_ack: 0, ctrl_word: 10, fault: 0, fault_ack: 0, flash_params_cmd: 0, flash_params_cmd_ack: 0, fw_ver: 19122313, module_params: 258, rtt: 0, status_word: 0, ts: 0}\n",
      "{ain_1: 554, ain_2: 345, ain_3: 310, ain_4: 213, ain_5: 540, ain_6: 399, ain_7: 360, ain_8: 474, ain_9: 457, analog_sample_freq_Hz: 5000, analog_sample_num_exp2: 3, board_id: 321, ctrl_status_cmd: 0, ctrl_status_cmd_ack: 0, ctrl_word: 10, fault: 0, fault_ack: 0, flash_params_cmd: 0, flash_params_cmd_ack: 0, fw_ver: 19122313, module_params: 258, rtt: 0, status_word: 0, ts: 0}\n",
      "{ain_1: 548, ain_2: 340, ain_3: 281, ain_4: 211, ain_5: 525, ain_6: 396, ain_7: 355, ain_8: 495, ain_9: 471, analog_sample_freq_Hz: 5000, analog_sample_num_exp2: 3, board_id: 321, ctrl_status_cmd: 0, ctrl_status_cmd_ack: 0, ctrl_word: 10, fault: 0, fault_ack: 0, flash_params_cmd: 0, flash_params_cmd_ack: 0, fw_ver: 19122313, module_params: 258, rtt: 0, status_word: 0, ts: 0}\n",
      "{ain_1: 549, ain_2: 339, ain_3: 288, ain_4: 213, ain_5: 548, ain_6: 386, ain_7: 354, ain_8: 465, ain_9: 463, analog_sample_freq_Hz: 5000, analog_sample_num_exp2: 3, board_id: 321, ctrl_status_cmd: 0, ctrl_status_cmd_ack: 0, ctrl_word: 10, fault: 0, fault_ack: 0, flash_params_cmd: 0, flash_params_cmd_ack: 0, fw_ver: 19122313, module_params: 258, rtt: 0, status_word: 0, ts: 0}\n",
      "{ain_1: 546, ain_2: 343, ain_3: 303, ain_4: 213, ain_5: 534, ain_6: 404, ain_7: 359, ain_8: 487, ain_9: 474, analog_sample_freq_Hz: 5000, analog_sample_num_exp2: 3, board_id: 321, ctrl_status_cmd: 0, ctrl_status_cmd_ack: 0, ctrl_word: 10, fault: 0, fault_ack: 0, flash_params_cmd: 0, flash_params_cmd_ack: 0, fw_ver: 19122313, module_params: 258, rtt: 0, status_word: 0, ts: 0}\n",
      "{ain_1: 549, ain_2: 341, ain_3: 284, ain_4: 221, ain_5: 547, ain_6: 449, ain_7: 355, ain_8: 464, ain_9: 489, analog_sample_freq_Hz: 5000, analog_sample_num_exp2: 3, board_id: 321, ctrl_status_cmd: 0, ctrl_status_cmd_ack: 0, ctrl_word: 10, fault: 0, fault_ack: 0, flash_params_cmd: 0, flash_params_cmd_ack: 0, fw_ver: 19122313, module_params: 258, rtt: 0, status_word: 0, ts: 0}\n",
      "{ain_1: 552, ain_2: 340, ain_3: 288, ain_4: 227, ain_5: 539, ain_6: 427, ain_7: 353, ain_8: 477, ain_9: 476, analog_sample_freq_Hz: 5000, analog_sample_num_exp2: 3, board_id: 321, ctrl_status_cmd: 0, ctrl_status_cmd_ack: 0, ctrl_word: 10, fault: 0, fault_ack: 0, flash_params_cmd: 0, flash_params_cmd_ack: 0, fw_ver: 19122313, module_params: 258, rtt: 0, status_word: 0, ts: 0}\n",
      "{ain_1: 549, ain_2: 345, ain_3: 291, ain_4: 221, ain_5: 530, ain_6: 410, ain_7: 357, ain_8: 466, ain_9: 480, analog_sample_freq_Hz: 5000, analog_sample_num_exp2: 3, board_id: 321, ctrl_status_cmd: 0, ctrl_status_cmd_ack: 0, ctrl_word: 10, fault: 0, fault_ack: 0, flash_params_cmd: 0, flash_params_cmd_ack: 0, fw_ver: 19122313, module_params: 258, rtt: 0, status_word: 0, ts: 0}\n",
      "{ain_1: 557, ain_2: 344, ain_3: 295, ain_4: 221, ain_5: 533, ain_6: 396, ain_7: 359, ain_8: 473, ain_9: 470, analog_sample_freq_Hz: 5000, analog_sample_num_exp2: 3, board_id: 321, ctrl_status_cmd: 0, ctrl_status_cmd_ack: 0, ctrl_word: 10, fault: 0, fault_ack: 0, flash_params_cmd: 0, flash_params_cmd_ack: 0, fw_ver: 19122313, module_params: 258, rtt: 0, status_word: 0, ts: 0}\n",
      "{ain_1: 552, ain_2: 343, ain_3: 273, ain_4: 220, ain_5: 537, ain_6: 396, ain_7: 353, ain_8: 477, ain_9: 515, analog_sample_freq_Hz: 5000, analog_sample_num_exp2: 3, board_id: 321, ctrl_status_cmd: 0, ctrl_status_cmd_ack: 0, ctrl_word: 10, fault: 0, fault_ack: 0, flash_params_cmd: 0, flash_params_cmd_ack: 0, fw_ver: 19122313, module_params: 258, rtt: 0, status_word: 0, ts: 0}\n",
      "{ain_1: 549, ain_2: 343, ain_3: 288, ain_4: 219, ain_5: 537, ain_6: 396, ain_7: 361, ain_8: 462, ain_9: 468, analog_sample_freq_Hz: 5000, analog_sample_num_exp2: 3, board_id: 321, ctrl_status_cmd: 0, ctrl_status_cmd_ack: 0, ctrl_word: 10, fault: 0, fault_ack: 0, flash_params_cmd: 0, flash_params_cmd_ack: 0, fw_ver: 19122313, module_params: 258, rtt: 0, status_word: 0, ts: 0}\n",
      "{ain_1: 548, ain_2: 342, ain_3: 281, ain_4: 222, ain_5: 578, ain_6: 402, ain_7: 357, ain_8: 457, ain_9: 512, analog_sample_freq_Hz: 5000, analog_sample_num_exp2: 3, board_id: 321, ctrl_status_cmd: 0, ctrl_status_cmd_ack: 0, ctrl_word: 10, fault: 0, fault_ack: 0, flash_params_cmd: 0, flash_params_cmd_ack: 0, fw_ver: 19122313, module_params: 258, rtt: 0, status_word: 0, ts: 0}\n",
      "{ain_1: 545, ain_2: 349, ain_3: 299, ain_4: 214, ain_5: 537, ain_6: 395, ain_7: 358, ain_8: 493, ain_9: 472, analog_sample_freq_Hz: 5000, analog_sample_num_exp2: 3, board_id: 321, ctrl_status_cmd: 0, ctrl_status_cmd_ack: 0, ctrl_word: 10, fault: 0, fault_ack: 0, flash_params_cmd: 0, flash_params_cmd_ack: 0, fw_ver: 19122313, module_params: 258, rtt: 0, status_word: 0, ts: 0}\n",
      "{ain_1: 547, ain_2: 341, ain_3: 292, ain_4: 217, ain_5: 541, ain_6: 404, ain_7: 354, ain_8: 468, ain_9: 455, analog_sample_freq_Hz: 5000, analog_sample_num_exp2: 3, board_id: 321, ctrl_status_cmd: 0, ctrl_status_cmd_ack: 0, ctrl_word: 10, fault: 0, fault_ack: 0, flash_params_cmd: 0, flash_params_cmd_ack: 0, fw_ver: 19122313, module_params: 258, rtt: 0, status_word: 0, ts: 0}\n",
      "{ain_1: 546, ain_2: 348, ain_3: 289, ain_4: 212, ain_5: 550, ain_6: 397, ain_7: 358, ain_8: 473, ain_9: 466, analog_sample_freq_Hz: 5000, analog_sample_num_exp2: 3, board_id: 321, ctrl_status_cmd: 0, ctrl_status_cmd_ack: 0, ctrl_word: 10, fault: 0, fault_ack: 0, flash_params_cmd: 0, flash_params_cmd_ack: 0, fw_ver: 19122313, module_params: 258, rtt: 0, status_word: 0, ts: 0}\n",
      "{ain_1: 546, ain_2: 346, ain_3: 296, ain_4: 216, ain_5: 554, ain_6: 394, ain_7: 358, ain_8: 476, ain_9: 470, analog_sample_freq_Hz: 5000, analog_sample_num_exp2: 3, board_id: 321, ctrl_status_cmd: 0, ctrl_status_cmd_ack: 0, ctrl_word: 10, fault: 0, fault_ack: 0, flash_params_cmd: 0, flash_params_cmd_ack: 0, fw_ver: 19122313, module_params: 258, rtt: 0, status_word: 0, ts: 0}\n",
      "{ain_1: 546, ain_2: 342, ain_3: 292, ain_4: 217, ain_5: 547, ain_6: 394, ain_7: 355, ain_8: 460, ain_9: 471, analog_sample_freq_Hz: 5000, analog_sample_num_exp2: 3, board_id: 321, ctrl_status_cmd: 0, ctrl_status_cmd_ack: 0, ctrl_word: 10, fault: 0, fault_ack: 0, flash_params_cmd: 0, flash_params_cmd_ack: 0, fw_ver: 19122313, module_params: 258, rtt: 0, status_word: 0, ts: 0}\n",
      "{ain_1: 551, ain_2: 340, ain_3: 286, ain_4: 217, ain_5: 539, ain_6: 399, ain_7: 358, ain_8: 467, ain_9: 466, analog_sample_freq_Hz: 5000, analog_sample_num_exp2: 3, board_id: 321, ctrl_status_cmd: 0, ctrl_status_cmd_ack: 0, ctrl_word: 10, fault: 0, fault_ack: 0, flash_params_cmd: 0, flash_params_cmd_ack: 0, fw_ver: 19122313, module_params: 258, rtt: 0, status_word: 0, ts: 0}\n",
      "{ain_1: 550, ain_2: 344, ain_3: 282, ain_4: 214, ain_5: 546, ain_6: 397, ain_7: 362, ain_8: 471, ain_9: 530, analog_sample_freq_Hz: 5000, analog_sample_num_exp2: 3, board_id: 321, ctrl_status_cmd: 0, ctrl_status_cmd_ack: 0, ctrl_word: 10, fault: 0, fault_ack: 0, flash_params_cmd: 0, flash_params_cmd_ack: 0, fw_ver: 19122313, module_params: 258, rtt: 0, status_word: 0, ts: 0}\n",
      "{ain_1: 548, ain_2: 349, ain_3: 291, ain_4: 214, ain_5: 548, ain_6: 400, ain_7: 350, ain_8: 467, ain_9: 497, analog_sample_freq_Hz: 5000, analog_sample_num_exp2: 3, board_id: 321, ctrl_status_cmd: 0, ctrl_status_cmd_ack: 0, ctrl_word: 10, fault: 0, fault_ack: 0, flash_params_cmd: 0, flash_params_cmd_ack: 0, fw_ver: 19122313, module_params: 258, rtt: 0, status_word: 0, ts: 0}\n",
      "{ain_1: 545, ain_2: 342, ain_3: 292, ain_4: 217, ain_5: 547, ain_6: 400, ain_7: 360, ain_8: 456, ain_9: 464, analog_sample_freq_Hz: 5000, analog_sample_num_exp2: 3, board_id: 321, ctrl_status_cmd: 0, ctrl_status_cmd_ack: 0, ctrl_word: 10, fault: 0, fault_ack: 0, flash_params_cmd: 0, flash_params_cmd_ack: 0, fw_ver: 19122313, module_params: 258, rtt: 0, status_word: 0, ts: 0}\n",
      "{ain_1: 552, ain_2: 343, ain_3: 294, ain_4: 224, ain_5: 539, ain_6: 401, ain_7: 361, ain_8: 471, ain_9: 465, analog_sample_freq_Hz: 5000, analog_sample_num_exp2: 3, board_id: 321, ctrl_status_cmd: 0, ctrl_status_cmd_ack: 0, ctrl_word: 10, fault: 0, fault_ack: 0, flash_params_cmd: 0, flash_params_cmd_ack: 0, fw_ver: 19122313, module_params: 258, rtt: 0, status_word: 0, ts: 0}\n",
      "{ain_1: 549, ain_2: 345, ain_3: 288, ain_4: 219, ain_5: 538, ain_6: 401, ain_7: 366, ain_8: 510, ain_9: 470, analog_sample_freq_Hz: 5000, analog_sample_num_exp2: 3, board_id: 321, ctrl_status_cmd: 0, ctrl_status_cmd_ack: 0, ctrl_word: 10, fault: 0, fault_ack: 0, flash_params_cmd: 0, flash_params_cmd_ack: 0, fw_ver: 19122313, module_params: 258, rtt: 0, status_word: 0, ts: 0}\n",
      "{ain_1: 553, ain_2: 345, ain_3: 291, ain_4: 216, ain_5: 535, ain_6: 389, ain_7: 365, ain_8: 457, ain_9: 462, analog_sample_freq_Hz: 5000, analog_sample_num_exp2: 3, board_id: 321, ctrl_status_cmd: 0, ctrl_status_cmd_ack: 0, ctrl_word: 10, fault: 0, fault_ack: 0, flash_params_cmd: 0, flash_params_cmd_ack: 0, fw_ver: 19122313, module_params: 258, rtt: 0, status_word: 0, ts: 0}\n",
      "{ain_1: 543, ain_2: 351, ain_3: 280, ain_4: 216, ain_5: 543, ain_6: 448, ain_7: 356, ain_8: 465, ain_9: 471, analog_sample_freq_Hz: 5000, analog_sample_num_exp2: 3, board_id: 321, ctrl_status_cmd: 0, ctrl_status_cmd_ack: 0, ctrl_word: 10, fault: 0, fault_ack: 0, flash_params_cmd: 0, flash_params_cmd_ack: 0, fw_ver: 19122313, module_params: 258, rtt: 0, status_word: 0, ts: 0}\n",
      "{ain_1: 541, ain_2: 339, ain_3: 286, ain_4: 216, ain_5: 525, ain_6: 409, ain_7: 369, ain_8: 469, ain_9: 476, analog_sample_freq_Hz: 5000, analog_sample_num_exp2: 3, board_id: 321, ctrl_status_cmd: 0, ctrl_status_cmd_ack: 0, ctrl_word: 10, fault: 0, fault_ack: 0, flash_params_cmd: 0, flash_params_cmd_ack: 0, fw_ver: 19122313, module_params: 258, rtt: 0, status_word: 0, ts: 0}\n",
      "{ain_1: 549, ain_2: 342, ain_3: 291, ain_4: 220, ain_5: 545, ain_6: 403, ain_7: 359, ain_8: 459, ain_9: 482, analog_sample_freq_Hz: 5000, analog_sample_num_exp2: 3, board_id: 321, ctrl_status_cmd: 0, ctrl_status_cmd_ack: 0, ctrl_word: 10, fault: 0, fault_ack: 0, flash_params_cmd: 0, flash_params_cmd_ack: 0, fw_ver: 19122313, module_params: 258, rtt: 0, status_word: 0, ts: 0}\n"
     ]
    }
   ],
   "source": [
    "for i in range(100):\n",
    "    G = io.doit4ids(scan_ids,SdoCmd(rd_sdo=sdo_names,wr_sdo={}))\n",
    "    #[g for g in G ]\n",
    "    for g in G :\n",
    "        print(g['msg'])\n",
    "    time.sleep(0.1)\n"
   ]
  },
  {
   "cell_type": "code",
   "execution_count": null,
   "metadata": {},
   "outputs": [],
   "source": [
    "io.doit(ctrl_cmd_dac_tune.set_bid(101))"
   ]
  },
  {
   "cell_type": "code",
   "execution_count": 159,
   "metadata": {},
   "outputs": [
    {
     "data": {
      "text/plain": [
       "{'slave_sdo_cmd': {'board_id': 321,\n",
       "  'rd_sdo': ['fw_ver', 'analog_sample_freq_Hz'],\n",
       "  'wr_sdo': [{'name': 'analog_sample_freq_Hz', 'value': '5000'}]},\n",
       " 'type': 'SLAVE_SDO_CMD'}"
      ]
     },
     "execution_count": 159,
     "metadata": {},
     "output_type": "execute_result"
    }
   ],
   "source": [
    "s=SdoCmd(rd_sdo=['fw_ver','analog_sample_freq_Hz'],wr_sdo={'analog_sample_freq_Hz': 5000}).set_bid(321)\n",
    "asdict(s)"
   ]
  },
  {
   "cell_type": "code",
   "execution_count": 160,
   "metadata": {},
   "outputs": [
    {
     "data": {
      "text/plain": [
       "{'type': 1,\n",
       " 'cmd_type': 7,\n",
       " 'msg': '{analog_sample_freq_Hz: 5000, fw_ver: 19122313}'}"
      ]
     },
     "execution_count": 160,
     "metadata": {},
     "output_type": "execute_result"
    }
   ],
   "source": [
    "io.doit(s)"
   ]
  },
  {
   "cell_type": "code",
   "execution_count": null,
   "metadata": {},
   "outputs": [],
   "source": [
    "import time\n",
    "for i in range(100):\n",
    "    G = io.doit4ids(scan_ids,ctrl_cmd_test_done)\n",
    "    #[g for g in G ]\n",
    "    for g in G :\n",
    "        print(g['msg'])\n",
    "    #time.sleep(0.001)\n",
    "    io.doit4ids(scan_ids,SdoCmd(rd_sdo=sdo_names,wr_sdo={}))"
   ]
  },
  {
   "cell_type": "code",
   "execution_count": null,
   "metadata": {},
   "outputs": [],
   "source": [
    "io.doit(SdoCmd(rd_sdo=['fw_ver'],wr_sdo={'board_id': 101}).set_bid(1))\n",
    "io.doit(SdoCmd(rd_sdo=['fw_ver'],wr_sdo={'board_id': 102}).set_bid(2))\n",
    "io.doit(SdoCmd(rd_sdo=['fw_ver'],wr_sdo={'board_id': 103}).set_bid(3))"
   ]
  },
  {
   "cell_type": "code",
   "execution_count": null,
   "metadata": {},
   "outputs": [],
   "source": [
    "g=io.doit4ids([1,2,3],flash_cmd_save_flash)"
   ]
  },
  {
   "cell_type": "code",
   "execution_count": null,
   "metadata": {},
   "outputs": [],
   "source": [
    "next(g)"
   ]
  },
  {
   "cell_type": "code",
   "execution_count": 6,
   "metadata": {},
   "outputs": [
    {
     "data": {
      "text/plain": [
       "{'type': 1, 'cmd_type': 3, 'msg': 'Ok !!!'}"
      ]
     },
     "execution_count": 6,
     "metadata": {},
     "output_type": "execute_result"
    }
   ],
   "source": [
    "io.doit(flash_cmd_save_flash.set_bid(321))"
   ]
  },
  {
   "cell_type": "code",
   "execution_count": null,
   "metadata": {},
   "outputs": [],
   "source": [
    "io.doit(SdoInfo(u'SLAVE_SDO_INFO').set_bid(101))"
   ]
  },
  {
   "cell_type": "code",
   "execution_count": 52,
   "metadata": {},
   "outputs": [
    {
     "data": {
      "text/plain": [
       "{'type': 1, 'cmd_type': 7, 'msg': '{rtt: 999, status_word: 0}'}"
      ]
     },
     "execution_count": 52,
     "metadata": {},
     "output_type": "execute_result"
    }
   ],
   "source": [
    "s=SdoCmd(rd_sdo=['status_word','rtt'],wr_sdo={'ctrl_word': 0,'ts':999}).set_bid(321)\n",
    "io.doit(s)"
   ]
  },
  {
   "cell_type": "code",
   "execution_count": 50,
   "metadata": {},
   "outputs": [
    {
     "data": {
      "text/plain": [
       "{'type': 1, 'cmd_type': 7, 'msg': '{}'}"
      ]
     },
     "execution_count": 50,
     "metadata": {},
     "output_type": "execute_result"
    }
   ],
   "source": [
    "io.doit(SdoCmd(rd_sdo=[],wr_sdo={'ctrl_word': 0x101}).set_bid(321))"
   ]
  },
  {
   "cell_type": "code",
   "execution_count": 4,
   "metadata": {},
   "outputs": [
    {
     "data": {
      "text/plain": [
       "{'type': 2, 'cmd_type': 7, 'msg': 'Slave Id 321 NOT FOUND ==> pos 0'}"
      ]
     },
     "execution_count": 4,
     "metadata": {},
     "output_type": "execute_result"
    }
   ],
   "source": [
    "io.doit(SdoCmd(rd_sdo=['status_word'],wr_sdo={}).set_bid(321))"
   ]
  },
  {
   "cell_type": "code",
   "execution_count": 6,
   "metadata": {},
   "outputs": [
    {
     "data": {
      "text/plain": [
       "MasterCmd(ecat_master_cmd=_MasterCmd(type='START_MASTER', args=[_KWstr(name='app_mode', value='config_mode'), _KWstr(name='use_ecat_pos_as_id', value='true')]), type='ECAT_MASTER_CMD')"
      ]
     },
     "execution_count": 6,
     "metadata": {},
     "output_type": "execute_result"
    }
   ],
   "source": [
    "c=master_cmd_start.set_args({'app_mode':'config_mode','use_ecat_pos_as_id':'true'})\n",
    "c"
   ]
  },
  {
   "cell_type": "code",
   "execution_count": 4,
   "metadata": {},
   "outputs": [
    {
     "data": {
      "text/plain": [
       "{'type': 1, 'cmd_type': 4, 'msg': 'Success'}"
      ]
     },
     "execution_count": 4,
     "metadata": {},
     "output_type": "execute_result"
    }
   ],
   "source": [
    "io.doit(c)"
   ]
  },
  {
   "cell_type": "code",
   "execution_count": null,
   "metadata": {},
   "outputs": [],
   "source": []
  }
 ],
 "metadata": {
  "kernelspec": {
   "display_name": "Python 3",
   "language": "python",
   "name": "python3"
  },
  "language_info": {
   "codemirror_mode": {
    "name": "ipython",
    "version": 3
   },
   "file_extension": ".py",
   "mimetype": "text/x-python",
   "name": "python",
   "nbconvert_exporter": "python",
   "pygments_lexer": "ipython3",
   "version": "3.7.1"
  }
 },
 "nbformat": 4,
 "nbformat_minor": 4
}
