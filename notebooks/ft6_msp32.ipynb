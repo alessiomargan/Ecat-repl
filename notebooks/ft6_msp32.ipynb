{
 "cells": [
  {
   "cell_type": "code",
   "execution_count": 1,
   "metadata": {},
   "outputs": [
    {
     "name": "stdout",
     "output_type": "stream",
     "text": [
      "/home/amargan/work/anaconda3/envs/repl/bin/python\n"
     ]
    }
   ],
   "source": [
    "%run my_import\n",
    "\n",
    "#uri = socket.gethostname()+\".local:5555\"\n",
    "uri = \"localhost:5555\"\n",
    "#uri = \"nuc-i7.local:5555\"\n",
    "#uri = \"com-exp.local:5555\"\n",
    "#uri = \"advantech.local:5555\"\n",
    "io = ZmsgIO(uri)\n",
    "io.debug = False\n",
    "scan_ids = []"
   ]
  },
  {
   "cell_type": "code",
   "execution_count": null,
   "metadata": {},
   "outputs": [],
   "source": [
    "io.doit(master_cmd_stop)"
   ]
  },
  {
   "cell_type": "code",
   "execution_count": null,
   "metadata": {},
   "outputs": [],
   "source": [
    "io.doit(master_cmd_start.set_args({'app_mode':'run_mode','use_ecat_pos_as_id':'false'}))"
   ]
  },
  {
   "cell_type": "code",
   "execution_count": 2,
   "metadata": {},
   "outputs": [
    {
     "data": {
      "text/plain": [
       "[1]"
      ]
     },
     "execution_count": 2,
     "metadata": {},
     "output_type": "execute_result"
    }
   ],
   "source": [
    "reply = io.doit(master_cmd_get_slave_descr)\n",
    "yaml_msg = yaml.safe_load(reply['msg'])\n",
    "scan_ids = yaml_msg.keys()\n",
    "ids=list(scan_ids)\n",
    "ids"
   ]
  },
  {
   "cell_type": "code",
   "execution_count": 4,
   "metadata": {},
   "outputs": [
    {
     "data": {
      "text/plain": [
       "['force_x',\n",
       " 'force_y',\n",
       " 'force_z',\n",
       " 'torque_x',\n",
       " 'torque_y',\n",
       " 'torque_z',\n",
       " 'op_idx_ack',\n",
       " 'aux_get',\n",
       " 'op_idx_aux',\n",
       " 'aux_set',\n",
       " 'board_id',\n",
       " 'module_params',\n",
       " 'analog_sample_freq_HZ',\n",
       " 'dac_tune_bitflag',\n",
       " 'smpl_num_pow2',\n",
       " 'dac_tune_hysteresis',\n",
       " 'fw_ver',\n",
       " 'ctrl_status_cmd',\n",
       " 'ctrl_status_cmd_ack',\n",
       " 'flash_params_cmd',\n",
       " 'flash_params_cmd_ack',\n",
       " 'fault_ack',\n",
       " 'adc_idx',\n",
       " 'adc_conv',\n",
       " 'adc_raw',\n",
       " 'dac_offset',\n",
       " 'rtt',\n",
       " 'status',\n",
       " 'temperature',\n",
       " 'ts',\n",
       " 'control',\n",
       " 'offset']"
      ]
     },
     "execution_count": 4,
     "metadata": {},
     "output_type": "execute_result"
    }
   ],
   "source": [
    "ft_id = ids[0]\n",
    "reply = io.doit(SdoInfo(u'SDO_NAME').set_bid(ft_id))\n",
    "yaml_msg = yaml.safe_load(reply['msg'])\n",
    "sdo_names = yaml_msg\n",
    "sdo_names"
   ]
  },
  {
   "cell_type": "code",
   "execution_count": 18,
   "metadata": {},
   "outputs": [],
   "source": [
    "reply = io.doit(SdoInfo(u'SDO_OBJD').set_bid(ft_id))\n",
    "yaml_msg = yaml.safe_load(reply['msg'])\n",
    "sdo_infos = yaml_msg\n",
    "#sdo_infos"
   ]
  },
  {
   "cell_type": "code",
   "execution_count": 5,
   "metadata": {},
   "outputs": [
    {
     "data": {
      "text/plain": [
       "{'adc_conv': 0.0,\n",
       " 'adc_idx': 0,\n",
       " 'adc_raw': 0,\n",
       " 'analog_sample_freq_HZ': 20000,\n",
       " 'aux_get': 16038.0,\n",
       " 'aux_set': 16038.0,\n",
       " 'board_id': 696,\n",
       " 'control': 0.0,\n",
       " 'ctrl_status_cmd': 0,\n",
       " 'ctrl_status_cmd_ack': 0,\n",
       " 'dac_offset': 0,\n",
       " 'dac_tune_bitflag': 0,\n",
       " 'dac_tune_hysteresis': 5,\n",
       " 'fault_ack': 0,\n",
       " 'flash_params_cmd': 0,\n",
       " 'flash_params_cmd_ack': 0,\n",
       " 'force_x': -1.242113,\n",
       " 'force_y': -1.241655,\n",
       " 'force_z': 1.24928,\n",
       " 'fw_ver': 21110916,\n",
       " 'module_params': 0,\n",
       " 'offset': 0.0,\n",
       " 'op_idx_ack': 257,\n",
       " 'op_idx_aux': 257,\n",
       " 'rtt': 16038.0,\n",
       " 'smpl_num_pow2': 6,\n",
       " 'status': 0.0,\n",
       " 'temperature': 0.0,\n",
       " 'torque_x': -1.241807,\n",
       " 'torque_y': 1.24928,\n",
       " 'torque_z': -1.24196,\n",
       " 'ts': 16038.0}"
      ]
     },
     "execution_count": 5,
     "metadata": {},
     "output_type": "execute_result"
    }
   ],
   "source": [
    "reply = io.doit(SdoCmd(rd_sdo=sdo_names,wr_sdo={}).set_bid(ft_id))\n",
    "yaml_msg = yaml.safe_load(reply['msg'])\n",
    "yaml_msg"
   ]
  },
  {
   "cell_type": "code",
   "execution_count": 20,
   "metadata": {},
   "outputs": [
    {
     "name": "stdout",
     "output_type": "stream",
     "text": [
      "{adc_conv: \"\", adc_idx: \"\", adc_raw: \"\", analog_sample_freq_HZ: 20000, aux_get: 21210.000000, aux_set: 21210.000000, board_id: 696, constrol: 0.000000, ctrl_status_cmd: 0, ctrl_status_cmd_ack: 0, dac_offset: \"\", dac_tune_bitflag: 63, dac_tune_hysteresis: 5, fault_ack: 0, flash_params_cmd: 0, flash_params_cmd_ack: 0, force_x: -1.249128, force_y: -1.249128, force_z: -1.249128, fw_ver: 21110415, module_params: 0, offset: 0.000000, op_idx_ack: 257, op_idx_aux: 257, rtt: 21210.000000, smpl_num_pow2: 56, status: 0.000000, temperature: 0.000000, torque_x: -1.249128, torque_y: -1.249128, torque_z: -1.249128, ts: 21210.000000}\n",
      "{adc_conv: \"\", adc_idx: \"\", adc_raw: \"\", analog_sample_freq_HZ: 20000, aux_get: 56254.000000, aux_set: 56254.000000, board_id: 696, constrol: 0.000000, ctrl_status_cmd: 0, ctrl_status_cmd_ack: 0, dac_offset: \"\", dac_tune_bitflag: 63, dac_tune_hysteresis: 5, fault_ack: 0, flash_params_cmd: 0, flash_params_cmd_ack: 0, force_x: -1.249128, force_y: -1.249128, force_z: -1.249128, fw_ver: 21110415, module_params: 0, offset: 0.000000, op_idx_ack: 257, op_idx_aux: 257, rtt: 56254.000000, smpl_num_pow2: 56, status: 0.000000, temperature: 0.000000, torque_x: -1.249128, torque_y: -1.249128, torque_z: -1.249128, ts: 56254.000000}\n",
      "{adc_conv: \"\", adc_idx: \"\", adc_raw: \"\", analog_sample_freq_HZ: 20000, aux_get: 26765.000000, aux_set: 26765.000000, board_id: 696, constrol: 0.000000, ctrl_status_cmd: 0, ctrl_status_cmd_ack: 0, dac_offset: \"\", dac_tune_bitflag: 63, dac_tune_hysteresis: 5, fault_ack: 0, flash_params_cmd: 0, flash_params_cmd_ack: 0, force_x: -1.249128, force_y: -1.249128, force_z: -1.249128, fw_ver: 21110415, module_params: 0, offset: 0.000000, op_idx_ack: 257, op_idx_aux: 257, rtt: 26765.000000, smpl_num_pow2: 56, status: 0.000000, temperature: 0.000000, torque_x: -1.249128, torque_y: -1.249128, torque_z: -1.249128, ts: 26765.000000}\n",
      "{adc_conv: \"\", adc_idx: \"\", adc_raw: \"\", analog_sample_freq_HZ: 20000, aux_get: 63815.000000, aux_set: 63815.000000, board_id: 696, constrol: 0.000000, ctrl_status_cmd: 0, ctrl_status_cmd_ack: 0, dac_offset: \"\", dac_tune_bitflag: 63, dac_tune_hysteresis: 5, fault_ack: 0, flash_params_cmd: 0, flash_params_cmd_ack: 0, force_x: -1.249128, force_y: -1.249128, force_z: -1.249128, fw_ver: 21110415, module_params: 0, offset: 0.000000, op_idx_ack: 257, op_idx_aux: 257, rtt: 63815.000000, smpl_num_pow2: 56, status: 0.000000, temperature: 0.000000, torque_x: -1.249128, torque_y: -1.249128, torque_z: -1.249128, ts: 63815.000000}\n",
      "{adc_conv: \"\", adc_idx: \"\", adc_raw: \"\", analog_sample_freq_HZ: 20000, aux_get: 34327.000000, aux_set: 34327.000000, board_id: 696, constrol: 0.000000, ctrl_status_cmd: 0, ctrl_status_cmd_ack: 0, dac_offset: \"\", dac_tune_bitflag: 63, dac_tune_hysteresis: 5, fault_ack: 0, flash_params_cmd: 0, flash_params_cmd_ack: 0, force_x: -1.249128, force_y: -1.249128, force_z: -1.249128, fw_ver: 21110415, module_params: 0, offset: 0.000000, op_idx_ack: 257, op_idx_aux: 257, rtt: 34327.000000, smpl_num_pow2: 56, status: 0.000000, temperature: 0.000000, torque_x: -1.249128, torque_y: -1.249128, torque_z: -1.249128, ts: 34327.000000}\n",
      "{adc_conv: \"\", adc_idx: \"\", adc_raw: \"\", analog_sample_freq_HZ: 20000, aux_get: 6842.000000, aux_set: 6842.000000, board_id: 696, constrol: 0.000000, ctrl_status_cmd: 0, ctrl_status_cmd_ack: 0, dac_offset: \"\", dac_tune_bitflag: 63, dac_tune_hysteresis: 5, fault_ack: 0, flash_params_cmd: 0, flash_params_cmd_ack: 0, force_x: -1.249128, force_y: -1.249128, force_z: -1.249128, fw_ver: 21110415, module_params: 0, offset: 0.000000, op_idx_ack: 257, op_idx_aux: 257, rtt: 6842.000000, smpl_num_pow2: 56, status: 0.000000, temperature: 0.000000, torque_x: -1.249128, torque_y: -1.249128, torque_z: -1.249128, ts: 6842.000000}\n",
      "{adc_conv: \"\", adc_idx: \"\", adc_raw: \"\", analog_sample_freq_HZ: 20000, aux_get: 44895.000000, aux_set: 44895.000000, board_id: 696, constrol: 0.000000, ctrl_status_cmd: 0, ctrl_status_cmd_ack: 0, dac_offset: \"\", dac_tune_bitflag: 63, dac_tune_hysteresis: 5, fault_ack: 0, flash_params_cmd: 0, flash_params_cmd_ack: 0, force_x: -1.249128, force_y: -1.249128, force_z: -1.249128, fw_ver: 21110415, module_params: 0, offset: 0.000000, op_idx_ack: 257, op_idx_aux: 257, rtt: 44895.000000, smpl_num_pow2: 56, status: 0.000000, temperature: 0.000000, torque_x: -1.249128, torque_y: -1.249128, torque_z: -1.249128, ts: 44895.000000}\n",
      "{adc_conv: \"\", adc_idx: \"\", adc_raw: \"\", analog_sample_freq_HZ: 20000, aux_get: 17411.000000, aux_set: 17411.000000, board_id: 696, constrol: 0.000000, ctrl_status_cmd: 0, ctrl_status_cmd_ack: 0, dac_offset: \"\", dac_tune_bitflag: 63, dac_tune_hysteresis: 5, fault_ack: 0, flash_params_cmd: 0, flash_params_cmd_ack: 0, force_x: -1.249128, force_y: -1.249128, force_z: -1.249128, fw_ver: 21110415, module_params: 0, offset: 0.000000, op_idx_ack: 257, op_idx_aux: 257, rtt: 17411.000000, smpl_num_pow2: 56, status: 0.000000, temperature: 0.000000, torque_x: -1.249128, torque_y: -1.249128, torque_z: -1.249128, ts: 17411.000000}\n",
      "{adc_conv: \"\", adc_idx: \"\", adc_raw: \"\", analog_sample_freq_HZ: 20000, aux_get: 58473.000000, aux_set: 58473.000000, board_id: 696, constrol: 0.000000, ctrl_status_cmd: 0, ctrl_status_cmd_ack: 0, dac_offset: \"\", dac_tune_bitflag: 63, dac_tune_hysteresis: 5, fault_ack: 0, flash_params_cmd: 0, flash_params_cmd_ack: 0, force_x: -1.249128, force_y: -1.249128, force_z: -1.249128, fw_ver: 21110415, module_params: 0, offset: 0.000000, op_idx_ack: 257, op_idx_aux: 257, rtt: 58473.000000, smpl_num_pow2: 56, status: 0.000000, temperature: 0.000000, torque_x: -1.249128, torque_y: -1.249128, torque_z: -1.249128, ts: 58473.000000}\n",
      "{adc_conv: \"\", adc_idx: \"\", adc_raw: \"\", analog_sample_freq_HZ: 20000, aux_get: 30989.000000, aux_set: 30989.000000, board_id: 696, constrol: 0.000000, ctrl_status_cmd: 0, ctrl_status_cmd_ack: 0, dac_offset: \"\", dac_tune_bitflag: 63, dac_tune_hysteresis: 5, fault_ack: 0, flash_params_cmd: 0, flash_params_cmd_ack: 0, force_x: -1.249128, force_y: -1.249128, force_z: -1.249128, fw_ver: 21110415, module_params: 0, offset: 0.000000, op_idx_ack: 257, op_idx_aux: 257, rtt: 30989.000000, smpl_num_pow2: 56, status: 0.000000, temperature: 0.000000, torque_x: -1.249128, torque_y: -1.249128, torque_z: -1.249128, ts: 30989.000000}\n"
     ]
    }
   ],
   "source": [
    "for i in range(10):\n",
    "    G = io.doit4ids(scan_ids,SdoCmd(rd_sdo=sdo_names,wr_sdo={}))\n",
    "    #[g for g in G ]\n",
    "    for g in G :\n",
    "        print(g['msg'])\n",
    "    time.sleep(0.1)\n"
   ]
  },
  {
   "cell_type": "code",
   "execution_count": 23,
   "metadata": {},
   "outputs": [
    {
     "data": {
      "text/plain": [
       "{'type': 1, 'cmd_type': 2, 'msg': 'Ok !!!'}"
      ]
     },
     "execution_count": 23,
     "metadata": {},
     "output_type": "execute_result"
    }
   ],
   "source": [
    "io.doit(ctrl_cmd_dac_tune.set_bid(696))"
   ]
  },
  {
   "cell_type": "code",
   "execution_count": null,
   "metadata": {},
   "outputs": [],
   "source": [
    "s=SdoCmd(rd_sdo=['fw_ver','analog_sample_freq_HZ'],wr_sdo={'analog_sample_freq_HZ': 20000}).set_bid(696)\n",
    "asdict(s)"
   ]
  },
  {
   "cell_type": "code",
   "execution_count": null,
   "metadata": {},
   "outputs": [],
   "source": [
    "io.doit(s)"
   ]
  },
  {
   "cell_type": "code",
   "execution_count": null,
   "metadata": {},
   "outputs": [],
   "source": [
    "import time\n",
    "for i in range(100):\n",
    "    G = io.doit4ids(scan_ids,ctrl_cmd_test_done)\n",
    "    #[g for g in G ]\n",
    "    for g in G :\n",
    "        print(g['msg'])\n",
    "    #time.sleep(0.001)\n",
    "    io.doit4ids(scan_ids,SdoCmd(rd_sdo=sdo_names,wr_sdo={}))"
   ]
  },
  {
   "cell_type": "code",
   "execution_count": null,
   "metadata": {},
   "outputs": [],
   "source": [
    "io.doit(SdoCmd(rd_sdo=['fw_ver'],wr_sdo={'board_id': 101}).set_bid(1))\n",
    "#io.doit(SdoCmd(rd_sdo=['fw_ver'],wr_sdo={'board_id': 102}).set_bid(2))\n",
    "#io.doit(SdoCmd(rd_sdo=['fw_ver'],wr_sdo={'board_id': 103}).set_bid(3))"
   ]
  },
  {
   "cell_type": "code",
   "execution_count": null,
   "metadata": {},
   "outputs": [],
   "source": [
    "g=io.doit4ids([1,2,3],flash_cmd_save_flash)"
   ]
  },
  {
   "cell_type": "code",
   "execution_count": null,
   "metadata": {},
   "outputs": [],
   "source": [
    "next(g)"
   ]
  },
  {
   "cell_type": "code",
   "execution_count": 7,
   "metadata": {},
   "outputs": [
    {
     "data": {
      "text/plain": [
       "{'type': 1, 'cmd_type': 3, 'msg': 'Ok !!!'}"
      ]
     },
     "execution_count": 7,
     "metadata": {},
     "output_type": "execute_result"
    }
   ],
   "source": [
    "io.doit(flash_cmd_save_flash.set_bid(696))"
   ]
  },
  {
   "cell_type": "code",
   "execution_count": null,
   "metadata": {},
   "outputs": [],
   "source": [
    "io.doit(SdoInfo(u'SLAVE_SDO_INFO').set_bid(101))"
   ]
  },
  {
   "cell_type": "code",
   "execution_count": null,
   "metadata": {},
   "outputs": [],
   "source": [
    "s=SdoCmd(rd_sdo=['status_word','rtt'],wr_sdo={'ctrl_word': 0,'ts':999}).set_bid(321)\n",
    "io.doit(s)"
   ]
  },
  {
   "cell_type": "code",
   "execution_count": null,
   "metadata": {},
   "outputs": [],
   "source": [
    "io.doit(SdoCmd(rd_sdo=[],wr_sdo={'ctrl_word': 0x101}).set_bid(321))"
   ]
  },
  {
   "cell_type": "code",
   "execution_count": null,
   "metadata": {},
   "outputs": [],
   "source": [
    "io.doit(SdoCmd(rd_sdo=['status_word'],wr_sdo={}).set_bid(321))"
   ]
  },
  {
   "cell_type": "code",
   "execution_count": null,
   "metadata": {},
   "outputs": [],
   "source": [
    "c=master_cmd_start.set_args({'app_mode':'config_mode','use_ecat_pos_as_id':'true'})\n",
    "c"
   ]
  },
  {
   "cell_type": "code",
   "execution_count": null,
   "metadata": {},
   "outputs": [],
   "source": [
    "io.doit(c)"
   ]
  },
  {
   "cell_type": "code",
   "execution_count": null,
   "metadata": {},
   "outputs": [],
   "source": [
    "io.doit(SdoCmd(rd_sdo=['m3_fw_ver'],wr_sdo={'Joint_robot_id': 101}).set_bid(1))"
   ]
  },
  {
   "cell_type": "code",
   "execution_count": 34,
   "metadata": {},
   "outputs": [
    {
     "data": {
      "text/plain": [
       "{'type': 1, 'cmd_type': 3, 'msg': 'Ok !!!'}"
      ]
     },
     "execution_count": 34,
     "metadata": {},
     "output_type": "execute_result"
    }
   ],
   "source": [
    "io.doit(flash_cmd_save_flash.set_bid(696))"
   ]
  },
  {
   "cell_type": "code",
   "execution_count": null,
   "metadata": {},
   "outputs": [],
   "source": []
  },
  {
   "cell_type": "code",
   "execution_count": 21,
   "metadata": {},
   "outputs": [
    {
     "data": {
      "text/plain": [
       "{'type': 1, 'cmd_type': 3, 'msg': 'Ok !!!'}"
      ]
     },
     "execution_count": 21,
     "metadata": {},
     "output_type": "execute_result"
    }
   ],
   "source": [
    "io.doit(flash_cmd_load_default.set_bid(696))"
   ]
  },
  {
   "cell_type": "code",
   "execution_count": 26,
   "metadata": {},
   "outputs": [
    {
     "data": {
      "text/plain": [
       "'21-11-08_17:19:37'"
      ]
     },
     "execution_count": 26,
     "metadata": {},
     "output_type": "execute_result"
    }
   ],
   "source": [
    "import datetime\n",
    "datetime.datetime.now().strftime(\"%y-%m-%d_%H:%M:%S\")"
   ]
  },
  {
   "cell_type": "code",
   "execution_count": 32,
   "metadata": {},
   "outputs": [
    {
     "data": {
      "text/plain": [
       "{'type': 1, 'cmd_type': 7, 'msg': '{}'}"
      ]
     },
     "execution_count": 32,
     "metadata": {},
     "output_type": "execute_result"
    }
   ],
   "source": [
    "io.doit(SdoCmd(rd_sdo=[],wr_sdo={'smpl_num_pow2': 7}).set_bid(696))"
   ]
  },
  {
   "cell_type": "code",
   "execution_count": 36,
   "metadata": {},
   "outputs": [
    {
     "data": {
      "text/plain": [
       "{'type': 1, 'cmd_type': 7, 'msg': '{smpl_num_pow2: 8}'}"
      ]
     },
     "execution_count": 36,
     "metadata": {},
     "output_type": "execute_result"
    }
   ],
   "source": [
    "io.doit(SdoCmd(rd_sdo=['smpl_num_pow2'],wr_sdo={}).set_bid(696))"
   ]
  },
  {
   "cell_type": "code",
   "execution_count": null,
   "metadata": {},
   "outputs": [],
   "source": []
  }
 ],
 "metadata": {
  "kernelspec": {
   "display_name": "repl",
   "language": "python",
   "name": "repl"
  },
  "language_info": {
   "codemirror_mode": {
    "name": "ipython",
    "version": 3
   },
   "file_extension": ".py",
   "mimetype": "text/x-python",
   "name": "python",
   "nbconvert_exporter": "python",
   "pygments_lexer": "ipython3",
   "version": "3.7.3"
  }
 },
 "nbformat": 4,
 "nbformat_minor": 4
}
