{
 "cells": [
  {
   "cell_type": "code",
   "execution_count": 10,
   "metadata": {},
   "outputs": [],
   "source": [
    "import socket\n",
    "\n",
    "import ipywidgets.widgets as widgets\n",
    "from IPython.display import display\n",
    "\n",
    "from ecat_repl import ZmsgIO\n",
    "from ecat_repl import CtrlCmd\n",
    "from ecat_repl import SdoCmd\n",
    "from ecat_repl import (\n",
    "    master_cmd_stop,\n",
    "    master_cmd_start,\n",
    "    master_cmd_get_slave_descr,\n",
    "    ctrl_cmd_start,\n",
    "    ctrl_cmd_stop,\n",
    "    ctrl_cmd_fan,\n",
    "    ctrl_cmd_led,\n",
    "    ctrl_cmd_run_torque_calib,\n",
    "    ctrl_cmd_set_zero,\n",
    "    ctrl_cmd_set_min_pos,\n",
    "    ctrl_cmd_set_max_pos,\n",
    "    #\n",
    "    ctrl_cmd_dac_tune,\n",
    "    #\n",
    "    ctrl_cmd_test_done,\n",
    ")\n",
    "\n",
    "#uri = socket.gethostname()+\".local:5555\"\n",
    "uri = \"localhost:5555\"\n",
    "#uri = \"nuc-i7.local:5555\"\n",
    "#uri = \"com-exp.wrt:5555\"\n",
    "io = ZmsgIO(uri)\n",
    "io.debug = False"
   ]
  },
  {
   "cell_type": "code",
   "execution_count": 2,
   "metadata": {},
   "outputs": [
    {
     "name": "stdout",
     "output_type": "stream",
     "text": [
      "{'ecat_master_cmd': {'type': 'GET_SLAVES_DESCR'}, 'type': 'ECAT_MASTER_CMD'}\n",
      "type: ECAT_MASTER_CMD\n",
      "ecat_master_cmd {\n",
      "  type: GET_SLAVES_DESCR\n",
      "}\n",
      "\n"
     ]
    },
    {
     "data": {
      "text/plain": [
       "{'type': 1,\n",
       " 'cmd_type': 5,\n",
       " 'msg': '[{-1: {active_ports: 15, esc_type: 50, mod_id: 0, mod_rev: 0, mod_size: 0, mod_type: 0, poistion: 1, robot_id: -1, topology: 4}}, {122: {active_ports: 3, esc_type: 36, mod_id: 0, mod_rev: 0, mod_size: 0, mod_type: 0, poistion: 2, robot_id: 122, topology: 2}}, {3: {active_ports: 3, esc_type: 36, mod_id: 0, mod_rev: 0, mod_size: 0, mod_type: 0, poistion: 3, robot_id: 3, topology: 2}}, {321: {active_ports: 1, esc_type: 37, mod_id: 0, mod_rev: 0, mod_size: 0, mod_type: 0, poistion: 4, robot_id: 321, topology: 1}}, {1: {active_ports: 1, esc_type: 21, mod_id: 65280, mod_rev: 268369920, mod_size: 240, mod_type: 15, poistion: 5, robot_id: 1, topology: 1}}, {123: {active_ports: 3, esc_type: 21, mod_id: 65280, mod_rev: 268369920, mod_size: 240, mod_type: 15, poistion: 6, robot_id: 123, topology: 2}}, {11: {active_ports: 3, esc_type: 21, mod_id: 65280, mod_rev: 268369920, mod_size: 240, mod_type: 15, poistion: 7, robot_id: 11, topology: 2}}, {12: {active_ports: 3, esc_type: 21, mod_id: 65280, mod_rev: 268369920, mod_size: 240, mod_type: 15, poistion: 8, robot_id: 12, topology: 2}}, {13: {active_ports: 3, esc_type: 21, mod_id: 65280, mod_rev: 268369920, mod_size: 240, mod_type: 15, poistion: 9, robot_id: 13, topology: 2}}, {14: {active_ports: 3, esc_type: 21, mod_id: 65280, mod_rev: 268369920, mod_size: 240, mod_type: 15, poistion: 10, robot_id: 14, topology: 2}}, {15: {active_ports: 1, esc_type: 21, mod_id: 65280, mod_rev: 268369920, mod_size: 240, mod_type: 15, poistion: 11, robot_id: 15, topology: 1}}]'}"
      ]
     },
     "execution_count": 2,
     "metadata": {},
     "output_type": "execute_result"
    }
   ],
   "source": [
    "io.doit(master_cmd_get_slave_descr)"
   ]
  },
  {
   "cell_type": "code",
   "execution_count": 6,
   "metadata": {},
   "outputs": [
    {
     "data": {
      "text/plain": [
       "{'type': 1, 'cmd_type': 3, 'msg': 'Ok google'}"
      ]
     },
     "execution_count": 6,
     "metadata": {},
     "output_type": "execute_result"
    }
   ],
   "source": [
    "io.doit(ctrl_cmd_dac_tune.set_bid(2))"
   ]
  },
  {
   "cell_type": "code",
   "execution_count": 6,
   "metadata": {},
   "outputs": [
    {
     "data": {
      "text/plain": [
       "SdoCmd(slave_sdo_cmd=_SdoCmd(board_id=696, rd_sdo=['fw_ver'], wr_sdo=[_WrSdo(name='analog_sample_freq_HZ', value=10000)]), type='SLAVE_SDO_CMD')"
      ]
     },
     "execution_count": 6,
     "metadata": {},
     "output_type": "execute_result"
    }
   ],
   "source": [
    "s=SdoCmd(rd_sdo=['fw_ver'],wr_sdo={'analog_sample_freq_HZ': 10000}).set_bid(696)\n",
    "s"
   ]
  },
  {
   "cell_type": "code",
   "execution_count": 7,
   "metadata": {},
   "outputs": [
    {
     "data": {
      "text/plain": [
       "{'type': 2, 'cmd_type': 8, 'msg': 'Slave Id 696 NOT FOUND ==> pos 0'}"
      ]
     },
     "execution_count": 7,
     "metadata": {},
     "output_type": "execute_result"
    }
   ],
   "source": [
    "io.doit(s)"
   ]
  },
  {
   "cell_type": "code",
   "execution_count": 16,
   "metadata": {},
   "outputs": [
    {
     "name": "stdout",
     "output_type": "stream",
     "text": [
      "Ok google\n",
      "Ok google\n",
      "Ok google\n",
      "Ok google\n",
      "Ok google\n",
      "Ok google\n",
      "Ok google\n",
      "Ok google\n",
      "Ok google\n",
      "Ok google\n",
      "Ok google\n",
      "Ok google\n",
      "Ok google\n",
      "Ok google\n",
      "Ok google\n",
      "Ok google\n",
      "Ok google\n",
      "Ok google\n",
      "Ok google\n",
      "Ok google\n",
      "Ok google\n",
      "Ok google\n",
      "Ok google\n",
      "Ok google\n",
      "Ok google\n",
      "Ok google\n",
      "Ok google\n",
      "Ok google\n",
      "Ok google\n",
      "Ok google\n",
      "Ok google\n",
      "Ok google\n",
      "Ok google\n",
      "Ok google\n",
      "Ok google\n",
      "Ok google\n",
      "Ok google\n",
      "Ok google\n",
      "Ok google\n",
      "Ok google\n",
      "Ok google\n",
      "Ok google\n",
      "Ok google\n",
      "Ok google\n",
      "Ok google\n",
      "Ok google\n",
      "Ok google\n",
      "Ok google\n",
      "Ok google\n",
      "Ok google\n",
      "Ok google\n",
      "Ok google\n",
      "Ok google\n",
      "Ok google\n",
      "Ok google\n",
      "Ok google\n",
      "Ok google\n",
      "Ok google\n",
      "Ok google\n",
      "Ok google\n",
      "Ok google\n",
      "Ok google\n",
      "Ok google\n",
      "Ok google\n",
      "Ok google\n",
      "Ok google\n",
      "Ok google\n",
      "Ok google\n",
      "Ok google\n",
      "Ok google\n",
      "Ok google\n",
      "Ok google\n",
      "Ok google\n",
      "Ok google\n",
      "Ok google\n",
      "Ok google\n",
      "Ok google\n",
      "Ok google\n",
      "Ok google\n",
      "Ok google\n",
      "Ok google\n",
      "Ok google\n",
      "Ok google\n",
      "Ok google\n",
      "Ok google\n",
      "Ok google\n",
      "Ok google\n",
      "Ok google\n",
      "Ok google\n",
      "Ok google\n",
      "Ok google\n",
      "Ok google\n",
      "Ok google\n",
      "Ok google\n",
      "Ok google\n",
      "Ok google\n",
      "Ok google\n",
      "Ok google\n",
      "Ok google\n",
      "Ok google\n",
      "Ok google\n",
      "Ok google\n",
      "Ok google\n",
      "Ok google\n",
      "Ok google\n",
      "Ok google\n",
      "Ok google\n",
      "Ok google\n",
      "Ok google\n",
      "Ok google\n",
      "Ok google\n",
      "Ok google\n",
      "Ok google\n",
      "Ok google\n",
      "Ok google\n",
      "Ok google\n",
      "Ok google\n",
      "Ok google\n",
      "Ok google\n",
      "Ok google\n",
      "Ok google\n",
      "Ok google\n",
      "Ok google\n",
      "Ok google\n",
      "Ok google\n",
      "Ok google\n",
      "Ok google\n",
      "Ok google\n",
      "Ok google\n",
      "Ok google\n",
      "Ok google\n",
      "Ok google\n",
      "Ok google\n",
      "Ok google\n",
      "Ok google\n",
      "Ok google\n",
      "Ok google\n",
      "Ok google\n",
      "Ok google\n",
      "Ok google\n",
      "Ok google\n",
      "Ok google\n",
      "Ok google\n",
      "Ok google\n",
      "Ok google\n",
      "Ok google\n",
      "Ok google\n",
      "Ok google\n",
      "Ok google\n",
      "Ok google\n",
      "Ok google\n",
      "Ok google\n",
      "Ok google\n",
      "Ok google\n",
      "Ok google\n",
      "Ok google\n",
      "Ok google\n",
      "Ok google\n",
      "Ok google\n",
      "Ok google\n",
      "Ok google\n",
      "Ok google\n",
      "Ok google\n",
      "Ok google\n",
      "Ok google\n",
      "Ok google\n",
      "Ok google\n",
      "Ok google\n",
      "Ok google\n",
      "Ok google\n",
      "Ok google\n",
      "Ok google\n",
      "Ok google\n",
      "Ok google\n",
      "Ok google\n",
      "Ok google\n",
      "Ok google\n",
      "Ok google\n",
      "Ok google\n",
      "Ok google\n",
      "Ok google\n",
      "Ok google\n",
      "Ok google\n",
      "Ok google\n",
      "Ok google\n",
      "Ok google\n",
      "Ok google\n",
      "Ok google\n",
      "Ok google\n",
      "Ok google\n",
      "Ok google\n",
      "Ok google\n",
      "Ok google\n",
      "Ok google\n",
      "Ok google\n",
      "Ok google\n",
      "Ok google\n",
      "Ok google\n",
      "Ok google\n",
      "Ok google\n",
      "Ok google\n",
      "Ok google\n",
      "Ok google\n",
      "Ok google\n",
      "Ok google\n",
      "Ok google\n",
      "Ok google\n",
      "Ok google\n",
      "Ok google\n",
      "Ok google\n",
      "Ok google\n",
      "Ok google\n",
      "Ok google\n",
      "Ok google\n",
      "Ok google\n",
      "Ok google\n",
      "Ok google\n",
      "Ok google\n",
      "Ok google\n",
      "Ok google\n",
      "Ok google\n",
      "Ok google\n",
      "Ok google\n",
      "Ok google\n",
      "Ok google\n",
      "Ok google\n",
      "Ok google\n",
      "Ok google\n",
      "Ok google\n",
      "Ok google\n",
      "Ok google\n",
      "Ok google\n",
      "Ok google\n",
      "Ok google\n",
      "Ok google\n",
      "Ok google\n",
      "Ok google\n",
      "Ok google\n",
      "Ok google\n",
      "Ok google\n",
      "Ok google\n",
      "Ok google\n",
      "Ok google\n",
      "Ok google\n",
      "Ok google\n",
      "Ok google\n",
      "Ok google\n",
      "Ok google\n",
      "Ok google\n",
      "Ok google\n",
      "Ok google\n",
      "Ok google\n",
      "Ok google\n",
      "Ok google\n",
      "Ok google\n",
      "Ok google\n",
      "Ok google\n",
      "Ok google\n",
      "Ok google\n",
      "Ok google\n",
      "Ok google\n",
      "Ok google\n",
      "Ok google\n",
      "Ok google\n",
      "Ok google\n",
      "Ok google\n",
      "Ok google\n",
      "Ok google\n",
      "Ok google\n",
      "Ok google\n",
      "Ok google\n",
      "Ok google\n",
      "Ok google\n",
      "Ok google\n",
      "Ok google\n",
      "Ok google\n",
      "Ok google\n",
      "Ok google\n",
      "Ok google\n",
      "Ok google\n",
      "Ok google\n",
      "Ok google\n",
      "Ok google\n",
      "Ok google\n",
      "Ok google\n",
      "Ok google\n",
      "Ok google\n",
      "Ok google\n",
      "Ok google\n",
      "Ok google\n",
      "Ok google\n",
      "Ok google\n",
      "Ok google\n",
      "Ok google\n",
      "Ok google\n",
      "Ok google\n",
      "Ok google\n",
      "Ok google\n",
      "Ok google\n",
      "Ok google\n"
     ]
    }
   ],
   "source": [
    "import time\n",
    "for i in range(100):\n",
    "    G = io.doit4ids([101,102,321],ctrl_cmd_test_done)\n",
    "    #[g for g in G ]\n",
    "    for g in G :\n",
    "        print(g['msg'])\n",
    "    #time.sleep(0.001)"
   ]
  },
  {
   "cell_type": "code",
   "execution_count": 6,
   "metadata": {},
   "outputs": [
    {
     "name": "stdout",
     "output_type": "stream",
     "text": [
      "{'slave_sdo_cmd': {'board_id': 3, 'rd_sdo': ['fw_ver'], 'wr_sdo': [{'name': 'board_id', 'value': '102'}]}, 'type': 'SLAVE_SDO_CMD'}\n",
      "type: SLAVE_SDO_CMD\n",
      "slave_sdo_cmd {\n",
      "  board_id: 3\n",
      "  rd_sdo: \"fw_ver\"\n",
      "  wr_sdo {\n",
      "    name: \"board_id\"\n",
      "    value: \"102\"\n",
      "  }\n",
      "}\n",
      "\n"
     ]
    },
    {
     "data": {
      "text/plain": [
       "{'type': 1, 'cmd_type': 8, 'msg': 'Ok google'}"
      ]
     },
     "execution_count": 6,
     "metadata": {},
     "output_type": "execute_result"
    }
   ],
   "source": [
    "io.doit(SdoCmd(rd_sdo=['fw_ver'],wr_sdo={'board_id': 102}).set_bid(3))"
   ]
  },
  {
   "cell_type": "code",
   "execution_count": 8,
   "metadata": {},
   "outputs": [],
   "source": [
    "g=io.doit4ids([101,102],ctrl_cmd_test_done)"
   ]
  },
  {
   "cell_type": "code",
   "execution_count": 12,
   "metadata": {},
   "outputs": [
    {
     "ename": "StopIteration",
     "evalue": "",
     "output_type": "error",
     "traceback": [
      "\u001b[0;31m---------------------------------------------------------------------------\u001b[0m",
      "\u001b[0;31mStopIteration\u001b[0m                             Traceback (most recent call last)",
      "\u001b[0;32m<ipython-input-12-e734f8aca5ac>\u001b[0m in \u001b[0;36m<module>\u001b[0;34m\u001b[0m\n\u001b[0;32m----> 1\u001b[0;31m \u001b[0mnext\u001b[0m\u001b[0;34m(\u001b[0m\u001b[0mg\u001b[0m\u001b[0;34m)\u001b[0m\u001b[0;34m\u001b[0m\u001b[0;34m\u001b[0m\u001b[0m\n\u001b[0m",
      "\u001b[0;31mStopIteration\u001b[0m: "
     ]
    }
   ],
   "source": [
    "next(g)"
   ]
  },
  {
   "cell_type": "code",
   "execution_count": null,
   "metadata": {},
   "outputs": [],
   "source": []
  }
 ],
 "metadata": {
  "kernelspec": {
   "display_name": "Python 3",
   "language": "python",
   "name": "python3"
  },
  "language_info": {
   "codemirror_mode": {
    "name": "ipython",
    "version": 3
   },
   "file_extension": ".py",
   "mimetype": "text/x-python",
   "name": "python",
   "nbconvert_exporter": "python",
   "pygments_lexer": "ipython3",
   "version": "3.7.3"
  }
 },
 "nbformat": 4,
 "nbformat_minor": 4
}
