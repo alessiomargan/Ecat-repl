{
 "cells": [
  {
   "cell_type": "code",
   "execution_count": 1,
   "metadata": {},
   "outputs": [],
   "source": [
    "%run my_import\n",
    "\n",
    "#uri = socket.gethostname()+\".local:5555\"\n",
    "uri = \"localhost:5555\"\n",
    "#uri = \"nuc-i7.local:5555\"\n",
    "#uri = \"com-exp.wrt:5555\"\n",
    "io = ZmsgIO(uri)\n",
    "io.debug = False\n",
    "scan_ids = []"
   ]
  },
  {
   "cell_type": "code",
   "execution_count": 29,
   "metadata": {},
   "outputs": [
    {
     "data": {
      "text/plain": [
       "{'type': 1, 'cmd_type': 4, 'msg': 'Success'}"
      ]
     },
     "execution_count": 29,
     "metadata": {},
     "output_type": "execute_result"
    }
   ],
   "source": [
    "io.doit(master_cmd_stop)\n",
    "io.doit(master_cmd_start)"
   ]
  },
  {
   "cell_type": "code",
   "execution_count": 36,
   "metadata": {},
   "outputs": [
    {
     "data": {
      "text/plain": [
       "dict_keys([101, 102])"
      ]
     },
     "execution_count": 36,
     "metadata": {},
     "output_type": "execute_result"
    }
   ],
   "source": [
    "reply = io.doit(master_cmd_get_slave_descr)\n",
    "yaml_msg = yaml.safe_load(reply['msg'])\n",
    "scan_ids = yaml_msg.keys()\n",
    "scan_ids"
   ]
  },
  {
   "cell_type": "code",
   "execution_count": 42,
   "metadata": {},
   "outputs": [
    {
     "data": {
      "text/plain": [
       "['force_x',\n",
       " 'force_y',\n",
       " 'force_z',\n",
       " 'torque_x',\n",
       " 'torque_y',\n",
       " 'torque_z',\n",
       " 'fault',\n",
       " 'rtt',\n",
       " 'ts',\n",
       " 'board_id',\n",
       " 'analog_sample_freq_HZ',\n",
       " 'dac_tune_bitflag',\n",
       " 'module_params',\n",
       " 'fw_ver',\n",
       " 'ctrl_status_cmd',\n",
       " 'ctrl_status_cmd_ack',\n",
       " 'flash_params_cmd',\n",
       " 'flash_params_cmd_ack',\n",
       " 'fault_ack']"
      ]
     },
     "execution_count": 42,
     "metadata": {},
     "output_type": "execute_result"
    }
   ],
   "source": [
    "reply = io.doit(SdoInfo(u'SDO_NAME').set_bid(101))\n",
    "yaml_msg = yaml.safe_load(reply['msg'])\n",
    "sdo_names = yaml_msg\n",
    "sdo_names"
   ]
  },
  {
   "cell_type": "code",
   "execution_count": 46,
   "metadata": {},
   "outputs": [
    {
     "data": {
      "text/plain": [
       "[{'access': 17,\n",
       "  'bitlength': 32,\n",
       "  'datatype': 8,\n",
       "  'index': 24576,\n",
       "  'name': 'force_x',\n",
       "  'subindex': 1},\n",
       " {'access': 17,\n",
       "  'bitlength': 32,\n",
       "  'datatype': 8,\n",
       "  'index': 24576,\n",
       "  'name': 'force_y',\n",
       "  'subindex': 2},\n",
       " {'access': 17,\n",
       "  'bitlength': 32,\n",
       "  'datatype': 8,\n",
       "  'index': 24576,\n",
       "  'name': 'force_z',\n",
       "  'subindex': 3},\n",
       " {'access': 17,\n",
       "  'bitlength': 32,\n",
       "  'datatype': 8,\n",
       "  'index': 24576,\n",
       "  'name': 'torque_x',\n",
       "  'subindex': 4},\n",
       " {'access': 17,\n",
       "  'bitlength': 32,\n",
       "  'datatype': 8,\n",
       "  'index': 24576,\n",
       "  'name': 'torque_y',\n",
       "  'subindex': 5},\n",
       " {'access': 17,\n",
       "  'bitlength': 32,\n",
       "  'datatype': 8,\n",
       "  'index': 24576,\n",
       "  'name': 'torque_z',\n",
       "  'subindex': 6},\n",
       " {'access': 17,\n",
       "  'bitlength': 16,\n",
       "  'datatype': 6,\n",
       "  'index': 24576,\n",
       "  'name': 'fault',\n",
       "  'subindex': 7},\n",
       " {'access': 17,\n",
       "  'bitlength': 16,\n",
       "  'datatype': 6,\n",
       "  'index': 24576,\n",
       "  'name': 'rtt',\n",
       "  'subindex': 8},\n",
       " {'access': 18,\n",
       "  'bitlength': 16,\n",
       "  'datatype': 6,\n",
       "  'index': 28672,\n",
       "  'name': 'ts',\n",
       "  'subindex': 1},\n",
       " {'access': 18,\n",
       "  'bitlength': 16,\n",
       "  'datatype': 6,\n",
       "  'index': 32768,\n",
       "  'name': 'board_id',\n",
       "  'subindex': 2},\n",
       " {'access': 18,\n",
       "  'bitlength': 32,\n",
       "  'datatype': 7,\n",
       "  'index': 32768,\n",
       "  'name': 'analog_sample_freq_HZ',\n",
       "  'subindex': 3},\n",
       " {'access': 18,\n",
       "  'bitlength': 32,\n",
       "  'datatype': 7,\n",
       "  'index': 32768,\n",
       "  'name': 'dac_tune_bitflag',\n",
       "  'subindex': 4},\n",
       " {'access': 18,\n",
       "  'bitlength': 32,\n",
       "  'datatype': 7,\n",
       "  'index': 32768,\n",
       "  'name': 'module_params',\n",
       "  'subindex': 5},\n",
       " {'access': 17,\n",
       "  'bitlength': 64,\n",
       "  'datatype': 9,\n",
       "  'index': 32769,\n",
       "  'name': 'fw_ver',\n",
       "  'subindex': 1},\n",
       " {'access': 18,\n",
       "  'bitlength': 16,\n",
       "  'datatype': 6,\n",
       "  'index': 32769,\n",
       "  'name': 'ctrl_status_cmd',\n",
       "  'subindex': 2},\n",
       " {'access': 17,\n",
       "  'bitlength': 16,\n",
       "  'datatype': 6,\n",
       "  'index': 32769,\n",
       "  'name': 'ctrl_status_cmd_ack',\n",
       "  'subindex': 3},\n",
       " {'access': 18,\n",
       "  'bitlength': 16,\n",
       "  'datatype': 6,\n",
       "  'index': 32769,\n",
       "  'name': 'flash_params_cmd',\n",
       "  'subindex': 4},\n",
       " {'access': 17,\n",
       "  'bitlength': 16,\n",
       "  'datatype': 6,\n",
       "  'index': 32769,\n",
       "  'name': 'flash_params_cmd_ack',\n",
       "  'subindex': 5},\n",
       " {'access': 18,\n",
       "  'bitlength': 16,\n",
       "  'datatype': 6,\n",
       "  'index': 32769,\n",
       "  'name': 'fault_ack',\n",
       "  'subindex': 6}]"
      ]
     },
     "execution_count": 46,
     "metadata": {},
     "output_type": "execute_result"
    }
   ],
   "source": [
    "reply = io.doit(SdoInfo(u'SDO_OBJD').set_bid(101))\n",
    "yaml_msg = yaml.safe_load(reply['msg'])\n",
    "sdo_infos = yaml_msg\n",
    "sdo_infos"
   ]
  },
  {
   "cell_type": "code",
   "execution_count": 34,
   "metadata": {},
   "outputs": [
    {
     "data": {
      "text/plain": [
       "{'analog_sample_freq_HZ': 10000,\n",
       " 'board_id': 101,\n",
       " 'ctrl_status_cmd': 205,\n",
       " 'ctrl_status_cmd_ack': 30925,\n",
       " 'dac_tune_bitflag': 63,\n",
       " 'fault': 1,\n",
       " 'fault_ack': 0,\n",
       " 'flash_params_cmd': 0,\n",
       " 'flash_params_cmd_ack': 0,\n",
       " 'force_x': 1.269715,\n",
       " 'force_y': 1.25843,\n",
       " 'force_z': 1.261175,\n",
       " 'fw_ver': 19110413,\n",
       " 'module_params': 0,\n",
       " 'rtt': 15249,\n",
       " 'torque_x': 1.272918,\n",
       " 'torque_y': 1.260412,\n",
       " 'torque_z': 1.263615,\n",
       " 'ts': 15249}"
      ]
     },
     "execution_count": 34,
     "metadata": {},
     "output_type": "execute_result"
    }
   ],
   "source": [
    "reply = io.doit(SdoCmd(rd_sdo=sdo_names,wr_sdo={}).set_bid(101))\n",
    "yaml_msg = yaml.safe_load(reply['msg'])\n",
    "yaml_msg"
   ]
  },
  {
   "cell_type": "code",
   "execution_count": 21,
   "metadata": {},
   "outputs": [
    {
     "name": "stdout",
     "output_type": "stream",
     "text": [
      "{'ctrl_cmd': {'type': 'CTRL_DAC_TUNE', 'board_id': 101, 'value': 0.0, 'gains': {}}, 'type': 'CTRL_CMD'}\n",
      "type: CTRL_CMD\n",
      "ctrl_cmd {\n",
      "  type: CTRL_DAC_TUNE\n",
      "  board_id: 101\n",
      "  value: 0.0\n",
      "}\n",
      "\n"
     ]
    },
    {
     "data": {
      "text/plain": [
       "{'type': 1, 'cmd_type': 2, 'msg': 'Ok !!!'}"
      ]
     },
     "execution_count": 21,
     "metadata": {},
     "output_type": "execute_result"
    }
   ],
   "source": [
    "io.doit(ctrl_cmd_dac_tune.set_bid(101))"
   ]
  },
  {
   "cell_type": "code",
   "execution_count": 22,
   "metadata": {},
   "outputs": [
    {
     "data": {
      "text/plain": [
       "SdoCmd(slave_sdo_cmd=_SdoCmd(board_id=101, rd_sdo=['fw_ver'], wr_sdo=[_WrSdo(name='analog_sample_freq_HZ', value='10000')]), type='SLAVE_SDO_CMD')"
      ]
     },
     "execution_count": 22,
     "metadata": {},
     "output_type": "execute_result"
    }
   ],
   "source": [
    "s=SdoCmd(rd_sdo=['fw_ver'],wr_sdo={'analog_sample_freq_HZ': 10000}).set_bid(101)\n",
    "s"
   ]
  },
  {
   "cell_type": "code",
   "execution_count": null,
   "metadata": {},
   "outputs": [],
   "source": [
    "io.doit(s)"
   ]
  },
  {
   "cell_type": "code",
   "execution_count": null,
   "metadata": {},
   "outputs": [],
   "source": [
    "import time\n",
    "for i in range(100):\n",
    "    G = io.doit4ids([101,102,321],ctrl_cmd_test_done)\n",
    "    #[g for g in G ]\n",
    "    for g in G :\n",
    "        print(g['msg'])\n",
    "    #time.sleep(0.001)"
   ]
  },
  {
   "cell_type": "code",
   "execution_count": null,
   "metadata": {},
   "outputs": [],
   "source": [
    "io.doit(SdoCmd(rd_sdo=['fw_ver'],wr_sdo={'board_id': 101}).set_bid(1))\n",
    "io.doit(SdoCmd(rd_sdo=['fw_ver'],wr_sdo={'board_id': 102}).set_bid(2))\n",
    "io.doit(SdoCmd(rd_sdo=['fw_ver'],wr_sdo={'board_id': 103}).set_bid(3))"
   ]
  },
  {
   "cell_type": "code",
   "execution_count": null,
   "metadata": {},
   "outputs": [],
   "source": [
    "g=io.doit4ids([1,2,3],flash_cmd_save_flash)"
   ]
  },
  {
   "cell_type": "code",
   "execution_count": null,
   "metadata": {},
   "outputs": [],
   "source": [
    "next(g)"
   ]
  },
  {
   "cell_type": "code",
   "execution_count": null,
   "metadata": {},
   "outputs": [],
   "source": [
    "io.doit(flash_cmd_save_flash.set_bid(101))"
   ]
  },
  {
   "cell_type": "code",
   "execution_count": 4,
   "metadata": {},
   "outputs": [
    {
     "name": "stdout",
     "output_type": "stream",
     "text": [
      "{'slave_sdo_info': {'board_id': 101, 'slave_objd': {}}, 'type': 'SLAVE_SDO_INFO'}\n",
      "type: SLAVE_SDO_INFO\n",
      "slave_sdo_info {\n",
      "  board_id: 101\n",
      "}\n",
      "\n"
     ]
    },
    {
     "data": {
      "text/plain": [
       "{'type': 2, 'cmd_type': 8, 'msg': 'Slave Id 0 NOT FOUND ==> pos 0'}"
      ]
     },
     "execution_count": 4,
     "metadata": {},
     "output_type": "execute_result"
    }
   ],
   "source": [
    "io.doit(SdoInfo(u'SLAVE_SDO_INFO').set_bid(101))"
   ]
  },
  {
   "cell_type": "code",
   "execution_count": null,
   "metadata": {},
   "outputs": [],
   "source": []
  },
  {
   "cell_type": "code",
   "execution_count": null,
   "metadata": {},
   "outputs": [],
   "source": []
  },
  {
   "cell_type": "code",
   "execution_count": null,
   "metadata": {},
   "outputs": [],
   "source": []
  },
  {
   "cell_type": "code",
   "execution_count": null,
   "metadata": {},
   "outputs": [],
   "source": []
  }
 ],
 "metadata": {
  "kernelspec": {
   "display_name": "Python 3",
   "language": "python",
   "name": "python3"
  },
  "language_info": {
   "codemirror_mode": {
    "name": "ipython",
    "version": 3
   },
   "file_extension": ".py",
   "mimetype": "text/x-python",
   "name": "python",
   "nbconvert_exporter": "python",
   "pygments_lexer": "ipython3",
   "version": "3.7.1"
  }
 },
 "nbformat": 4,
 "nbformat_minor": 4
}
