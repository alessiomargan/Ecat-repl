{
 "cells": [
  {
   "cell_type": "code",
   "execution_count": 7,
   "metadata": {},
   "outputs": [
    {
     "name": "stdout",
     "output_type": "stream",
     "text": [
      "/home/amargan/work/anaconda3/envs/repl/bin/python\n"
     ]
    }
   ],
   "source": [
    "%run my_import\n",
    "\n",
    "#uri = socket.gethostname()+\".local:5555\"\n",
    "uri = \"localhost:5555\"\n",
    "#uri = \"nuc-i7.local:5555\"\n",
    "#uri = \"com-exp.local:5555\"\n",
    "#uri = \"advantech.local:5555\"\n",
    "io = ZmsgIO(uri)\n",
    "io.debug = False\n",
    "scan_ids = []"
   ]
  },
  {
   "cell_type": "code",
   "execution_count": 8,
   "metadata": {},
   "outputs": [
    {
     "data": {
      "text/plain": [
       "{'type': 1, 'cmd_type': 4, 'msg': 'Success'}"
      ]
     },
     "execution_count": 8,
     "metadata": {},
     "output_type": "execute_result"
    }
   ],
   "source": [
    "io.doit(master_cmd_stop)"
   ]
  },
  {
   "cell_type": "code",
   "execution_count": 15,
   "metadata": {},
   "outputs": [
    {
     "data": {
      "text/plain": [
       "{'type': 1, 'cmd_type': 4, 'msg': 'Success'}"
      ]
     },
     "execution_count": 15,
     "metadata": {},
     "output_type": "execute_result"
    }
   ],
   "source": [
    "io.doit(master_cmd_start.set_args({'app_mode':'run_mode','use_ecat_pos_as_id':'false'}))"
   ]
  },
  {
   "cell_type": "code",
   "execution_count": 10,
   "metadata": {},
   "outputs": [
    {
     "data": {
      "text/plain": [
       "{'type': 1, 'cmd_type': 4, 'msg': 'Success'}"
      ]
     },
     "execution_count": 10,
     "metadata": {},
     "output_type": "execute_result"
    }
   ],
   "source": [
    "io.doit(master_cmd_start.set_args({'app_mode':'config_mode','use_ecat_pos_as_id':'false'}))"
   ]
  },
  {
   "cell_type": "code",
   "execution_count": 11,
   "metadata": {},
   "outputs": [
    {
     "data": {
      "text/plain": [
       "[201, 123, 696]"
      ]
     },
     "execution_count": 11,
     "metadata": {},
     "output_type": "execute_result"
    }
   ],
   "source": [
    "reply = io.doit(master_cmd_get_slave_descr)\n",
    "yaml_msg = yaml.safe_load(reply['msg'])\n",
    "scan_ids = yaml_msg.keys()\n",
    "ids=list(scan_ids)\n",
    "ids"
   ]
  },
  {
   "cell_type": "code",
   "execution_count": 12,
   "metadata": {},
   "outputs": [
    {
     "data": {
      "text/plain": [
       "['V_batt',\n",
       " 'V_load',\n",
       " 'I_load',\n",
       " 'Temp_pcb',\n",
       " 'Temp_heatsink',\n",
       " 'Temp_batt',\n",
       " 'status',\n",
       " 'fault',\n",
       " 'op_idx_ack',\n",
       " 'tx_aux',\n",
       " 'master_cmd',\n",
       " 'fault_ack',\n",
       " 'op_idx_aux',\n",
       " 'rx_aux',\n",
       " 'Hardware_config',\n",
       " 'Serial_Number_A',\n",
       " 'module_params',\n",
       " 'TA_LEM_Offset',\n",
       " 'TA_LEM_Sign',\n",
       " 'm3_fw_ver',\n",
       " 'c28_fw_ver',\n",
       " 'ctrl_status_cmd',\n",
       " 'ctrl_status_cmd_ack',\n",
       " 'flash_params_cmd',\n",
       " 'flash_params_cmd_ack',\n",
       " 'v_batt',\n",
       " 'v_load',\n",
       " 'i_load',\n",
       " 't_board',\n",
       " 't_heat',\n",
       " 't_batt',\n",
       " 'board_status',\n",
       " 'board_fault',\n",
       " 'FSM',\n",
       " 'rtt',\n",
       " 'fsm_aux',\n",
       " 'ts',\n",
       " 'adc_0',\n",
       " 'adc_2',\n",
       " 'adc_3',\n",
       " 'adc_8',\n",
       " 'adc_10',\n",
       " 'adc_11']"
      ]
     },
     "execution_count": 12,
     "metadata": {},
     "output_type": "execute_result"
    }
   ],
   "source": [
    "ft_id = ids[0]\n",
    "reply = io.doit(SdoInfo(u'SDO_NAME').set_bid(ft_id))\n",
    "yaml_msg = yaml.safe_load(reply['msg'])\n",
    "sdo_names = yaml_msg\n",
    "sdo_names"
   ]
  },
  {
   "cell_type": "code",
   "execution_count": 13,
   "metadata": {},
   "outputs": [],
   "source": [
    "reply = io.doit(SdoInfo(u'SDO_OBJD').set_bid(ft_id))\n",
    "yaml_msg = yaml.safe_load(reply['msg'])\n",
    "sdo_infos = yaml_msg\n",
    "#sdo_infos"
   ]
  },
  {
   "cell_type": "code",
   "execution_count": 14,
   "metadata": {},
   "outputs": [
    {
     "data": {
      "text/plain": [
       "{'FSM': 5,\n",
       " 'Hardware_config': 0,\n",
       " 'I_load': -2060,\n",
       " 'Serial_Number_A': 0,\n",
       " 'TA_LEM_Offset': 0.0,\n",
       " 'TA_LEM_Sign': 1.0,\n",
       " 'Temp_batt': 65526,\n",
       " 'Temp_heatsink': 250,\n",
       " 'Temp_pcb': 550,\n",
       " 'V_batt': 490,\n",
       " 'V_load': 490,\n",
       " 'adc_0': 3098,\n",
       " 'adc_10': 3100,\n",
       " 'adc_11': 2,\n",
       " 'adc_2': 1213,\n",
       " 'adc_3': 1201,\n",
       " 'adc_8': 1580,\n",
       " 'board_fault': 0,\n",
       " 'board_status': 1491,\n",
       " 'c28_fw_ver': '210402**',\n",
       " 'ctrl_status_cmd': 39,\n",
       " 'ctrl_status_cmd_ack': 30759,\n",
       " 'fault': 0,\n",
       " 'fault_ack': 44336,\n",
       " 'flash_params_cmd': 0,\n",
       " 'flash_params_cmd_ack': 0,\n",
       " 'fsm_aux': 5.0,\n",
       " 'i_load': -206.731186,\n",
       " 'm3_fw_ver': 21041314,\n",
       " 'master_cmd': 0,\n",
       " 'module_params': 0,\n",
       " 'op_idx_ack': 257,\n",
       " 'op_idx_aux': 257,\n",
       " 'rtt': 32917.0,\n",
       " 'rx_aux': 32917.0,\n",
       " 'status': 1491,\n",
       " 't_batt': 'inf',\n",
       " 't_board': 55.598389,\n",
       " 't_heat': 25.051371,\n",
       " 'ts': 32917.0,\n",
       " 'tx_aux': 32917.0,\n",
       " 'v_batt': 49.646584,\n",
       " 'v_load': 49.735954}"
      ]
     },
     "execution_count": 14,
     "metadata": {},
     "output_type": "execute_result"
    }
   ],
   "source": [
    "reply = io.doit(SdoCmd(rd_sdo=sdo_names,wr_sdo={}).set_bid(ft_id))\n",
    "yaml_msg = yaml.safe_load(reply['msg'])\n",
    "yaml_msg"
   ]
  },
  {
   "cell_type": "code",
   "execution_count": 20,
   "metadata": {},
   "outputs": [
    {
     "name": "stdout",
     "output_type": "stream",
     "text": [
      "{adc_conv: \"\", adc_idx: \"\", adc_raw: \"\", analog_sample_freq_HZ: 20000, aux_get: 21210.000000, aux_set: 21210.000000, board_id: 696, constrol: 0.000000, ctrl_status_cmd: 0, ctrl_status_cmd_ack: 0, dac_offset: \"\", dac_tune_bitflag: 63, dac_tune_hysteresis: 5, fault_ack: 0, flash_params_cmd: 0, flash_params_cmd_ack: 0, force_x: -1.249128, force_y: -1.249128, force_z: -1.249128, fw_ver: 21110415, module_params: 0, offset: 0.000000, op_idx_ack: 257, op_idx_aux: 257, rtt: 21210.000000, smpl_num_pow2: 56, status: 0.000000, temperature: 0.000000, torque_x: -1.249128, torque_y: -1.249128, torque_z: -1.249128, ts: 21210.000000}\n",
      "{adc_conv: \"\", adc_idx: \"\", adc_raw: \"\", analog_sample_freq_HZ: 20000, aux_get: 56254.000000, aux_set: 56254.000000, board_id: 696, constrol: 0.000000, ctrl_status_cmd: 0, ctrl_status_cmd_ack: 0, dac_offset: \"\", dac_tune_bitflag: 63, dac_tune_hysteresis: 5, fault_ack: 0, flash_params_cmd: 0, flash_params_cmd_ack: 0, force_x: -1.249128, force_y: -1.249128, force_z: -1.249128, fw_ver: 21110415, module_params: 0, offset: 0.000000, op_idx_ack: 257, op_idx_aux: 257, rtt: 56254.000000, smpl_num_pow2: 56, status: 0.000000, temperature: 0.000000, torque_x: -1.249128, torque_y: -1.249128, torque_z: -1.249128, ts: 56254.000000}\n",
      "{adc_conv: \"\", adc_idx: \"\", adc_raw: \"\", analog_sample_freq_HZ: 20000, aux_get: 26765.000000, aux_set: 26765.000000, board_id: 696, constrol: 0.000000, ctrl_status_cmd: 0, ctrl_status_cmd_ack: 0, dac_offset: \"\", dac_tune_bitflag: 63, dac_tune_hysteresis: 5, fault_ack: 0, flash_params_cmd: 0, flash_params_cmd_ack: 0, force_x: -1.249128, force_y: -1.249128, force_z: -1.249128, fw_ver: 21110415, module_params: 0, offset: 0.000000, op_idx_ack: 257, op_idx_aux: 257, rtt: 26765.000000, smpl_num_pow2: 56, status: 0.000000, temperature: 0.000000, torque_x: -1.249128, torque_y: -1.249128, torque_z: -1.249128, ts: 26765.000000}\n",
      "{adc_conv: \"\", adc_idx: \"\", adc_raw: \"\", analog_sample_freq_HZ: 20000, aux_get: 63815.000000, aux_set: 63815.000000, board_id: 696, constrol: 0.000000, ctrl_status_cmd: 0, ctrl_status_cmd_ack: 0, dac_offset: \"\", dac_tune_bitflag: 63, dac_tune_hysteresis: 5, fault_ack: 0, flash_params_cmd: 0, flash_params_cmd_ack: 0, force_x: -1.249128, force_y: -1.249128, force_z: -1.249128, fw_ver: 21110415, module_params: 0, offset: 0.000000, op_idx_ack: 257, op_idx_aux: 257, rtt: 63815.000000, smpl_num_pow2: 56, status: 0.000000, temperature: 0.000000, torque_x: -1.249128, torque_y: -1.249128, torque_z: -1.249128, ts: 63815.000000}\n",
      "{adc_conv: \"\", adc_idx: \"\", adc_raw: \"\", analog_sample_freq_HZ: 20000, aux_get: 34327.000000, aux_set: 34327.000000, board_id: 696, constrol: 0.000000, ctrl_status_cmd: 0, ctrl_status_cmd_ack: 0, dac_offset: \"\", dac_tune_bitflag: 63, dac_tune_hysteresis: 5, fault_ack: 0, flash_params_cmd: 0, flash_params_cmd_ack: 0, force_x: -1.249128, force_y: -1.249128, force_z: -1.249128, fw_ver: 21110415, module_params: 0, offset: 0.000000, op_idx_ack: 257, op_idx_aux: 257, rtt: 34327.000000, smpl_num_pow2: 56, status: 0.000000, temperature: 0.000000, torque_x: -1.249128, torque_y: -1.249128, torque_z: -1.249128, ts: 34327.000000}\n",
      "{adc_conv: \"\", adc_idx: \"\", adc_raw: \"\", analog_sample_freq_HZ: 20000, aux_get: 6842.000000, aux_set: 6842.000000, board_id: 696, constrol: 0.000000, ctrl_status_cmd: 0, ctrl_status_cmd_ack: 0, dac_offset: \"\", dac_tune_bitflag: 63, dac_tune_hysteresis: 5, fault_ack: 0, flash_params_cmd: 0, flash_params_cmd_ack: 0, force_x: -1.249128, force_y: -1.249128, force_z: -1.249128, fw_ver: 21110415, module_params: 0, offset: 0.000000, op_idx_ack: 257, op_idx_aux: 257, rtt: 6842.000000, smpl_num_pow2: 56, status: 0.000000, temperature: 0.000000, torque_x: -1.249128, torque_y: -1.249128, torque_z: -1.249128, ts: 6842.000000}\n",
      "{adc_conv: \"\", adc_idx: \"\", adc_raw: \"\", analog_sample_freq_HZ: 20000, aux_get: 44895.000000, aux_set: 44895.000000, board_id: 696, constrol: 0.000000, ctrl_status_cmd: 0, ctrl_status_cmd_ack: 0, dac_offset: \"\", dac_tune_bitflag: 63, dac_tune_hysteresis: 5, fault_ack: 0, flash_params_cmd: 0, flash_params_cmd_ack: 0, force_x: -1.249128, force_y: -1.249128, force_z: -1.249128, fw_ver: 21110415, module_params: 0, offset: 0.000000, op_idx_ack: 257, op_idx_aux: 257, rtt: 44895.000000, smpl_num_pow2: 56, status: 0.000000, temperature: 0.000000, torque_x: -1.249128, torque_y: -1.249128, torque_z: -1.249128, ts: 44895.000000}\n",
      "{adc_conv: \"\", adc_idx: \"\", adc_raw: \"\", analog_sample_freq_HZ: 20000, aux_get: 17411.000000, aux_set: 17411.000000, board_id: 696, constrol: 0.000000, ctrl_status_cmd: 0, ctrl_status_cmd_ack: 0, dac_offset: \"\", dac_tune_bitflag: 63, dac_tune_hysteresis: 5, fault_ack: 0, flash_params_cmd: 0, flash_params_cmd_ack: 0, force_x: -1.249128, force_y: -1.249128, force_z: -1.249128, fw_ver: 21110415, module_params: 0, offset: 0.000000, op_idx_ack: 257, op_idx_aux: 257, rtt: 17411.000000, smpl_num_pow2: 56, status: 0.000000, temperature: 0.000000, torque_x: -1.249128, torque_y: -1.249128, torque_z: -1.249128, ts: 17411.000000}\n",
      "{adc_conv: \"\", adc_idx: \"\", adc_raw: \"\", analog_sample_freq_HZ: 20000, aux_get: 58473.000000, aux_set: 58473.000000, board_id: 696, constrol: 0.000000, ctrl_status_cmd: 0, ctrl_status_cmd_ack: 0, dac_offset: \"\", dac_tune_bitflag: 63, dac_tune_hysteresis: 5, fault_ack: 0, flash_params_cmd: 0, flash_params_cmd_ack: 0, force_x: -1.249128, force_y: -1.249128, force_z: -1.249128, fw_ver: 21110415, module_params: 0, offset: 0.000000, op_idx_ack: 257, op_idx_aux: 257, rtt: 58473.000000, smpl_num_pow2: 56, status: 0.000000, temperature: 0.000000, torque_x: -1.249128, torque_y: -1.249128, torque_z: -1.249128, ts: 58473.000000}\n",
      "{adc_conv: \"\", adc_idx: \"\", adc_raw: \"\", analog_sample_freq_HZ: 20000, aux_get: 30989.000000, aux_set: 30989.000000, board_id: 696, constrol: 0.000000, ctrl_status_cmd: 0, ctrl_status_cmd_ack: 0, dac_offset: \"\", dac_tune_bitflag: 63, dac_tune_hysteresis: 5, fault_ack: 0, flash_params_cmd: 0, flash_params_cmd_ack: 0, force_x: -1.249128, force_y: -1.249128, force_z: -1.249128, fw_ver: 21110415, module_params: 0, offset: 0.000000, op_idx_ack: 257, op_idx_aux: 257, rtt: 30989.000000, smpl_num_pow2: 56, status: 0.000000, temperature: 0.000000, torque_x: -1.249128, torque_y: -1.249128, torque_z: -1.249128, ts: 30989.000000}\n"
     ]
    }
   ],
   "source": [
    "for i in range(10):\n",
    "    G = io.doit4ids(scan_ids,SdoCmd(rd_sdo=sdo_names,wr_sdo={}))\n",
    "    #[g for g in G ]\n",
    "    for g in G :\n",
    "        print(g['msg'])\n",
    "    time.sleep(0.1)\n"
   ]
  },
  {
   "cell_type": "code",
   "execution_count": 23,
   "metadata": {},
   "outputs": [
    {
     "data": {
      "text/plain": [
       "{'type': 1, 'cmd_type': 2, 'msg': 'Ok !!!'}"
      ]
     },
     "execution_count": 23,
     "metadata": {},
     "output_type": "execute_result"
    }
   ],
   "source": [
    "io.doit(ctrl_cmd_dac_tune.set_bid(696))"
   ]
  },
  {
   "cell_type": "code",
   "execution_count": null,
   "metadata": {},
   "outputs": [],
   "source": [
    "s=SdoCmd(rd_sdo=['fw_ver','analog_sample_freq_HZ'],wr_sdo={'analog_sample_freq_HZ': 20000}).set_bid(696)\n",
    "asdict(s)"
   ]
  },
  {
   "cell_type": "code",
   "execution_count": null,
   "metadata": {},
   "outputs": [],
   "source": [
    "io.doit(s)"
   ]
  },
  {
   "cell_type": "code",
   "execution_count": null,
   "metadata": {},
   "outputs": [],
   "source": [
    "import time\n",
    "for i in range(100):\n",
    "    G = io.doit4ids(scan_ids,ctrl_cmd_test_done)\n",
    "    #[g for g in G ]\n",
    "    for g in G :\n",
    "        print(g['msg'])\n",
    "    #time.sleep(0.001)\n",
    "    io.doit4ids(scan_ids,SdoCmd(rd_sdo=sdo_names,wr_sdo={}))"
   ]
  },
  {
   "cell_type": "code",
   "execution_count": null,
   "metadata": {},
   "outputs": [],
   "source": [
    "io.doit(SdoCmd(rd_sdo=['fw_ver'],wr_sdo={'board_id': 101}).set_bid(1))\n",
    "#io.doit(SdoCmd(rd_sdo=['fw_ver'],wr_sdo={'board_id': 102}).set_bid(2))\n",
    "#io.doit(SdoCmd(rd_sdo=['fw_ver'],wr_sdo={'board_id': 103}).set_bid(3))"
   ]
  },
  {
   "cell_type": "code",
   "execution_count": null,
   "metadata": {},
   "outputs": [],
   "source": [
    "g=io.doit4ids([1,2,3],flash_cmd_save_flash)"
   ]
  },
  {
   "cell_type": "code",
   "execution_count": null,
   "metadata": {},
   "outputs": [],
   "source": [
    "next(g)"
   ]
  },
  {
   "cell_type": "code",
   "execution_count": 7,
   "metadata": {},
   "outputs": [
    {
     "data": {
      "text/plain": [
       "{'type': 1, 'cmd_type': 3, 'msg': 'Ok !!!'}"
      ]
     },
     "execution_count": 7,
     "metadata": {},
     "output_type": "execute_result"
    }
   ],
   "source": [
    "io.doit(flash_cmd_save_flash.set_bid(696))"
   ]
  },
  {
   "cell_type": "code",
   "execution_count": null,
   "metadata": {},
   "outputs": [],
   "source": [
    "io.doit(SdoInfo(u'SLAVE_SDO_INFO').set_bid(101))"
   ]
  },
  {
   "cell_type": "code",
   "execution_count": null,
   "metadata": {},
   "outputs": [],
   "source": [
    "s=SdoCmd(rd_sdo=['status_word','rtt'],wr_sdo={'ctrl_word': 0,'ts':999}).set_bid(321)\n",
    "io.doit(s)"
   ]
  },
  {
   "cell_type": "code",
   "execution_count": null,
   "metadata": {},
   "outputs": [],
   "source": [
    "io.doit(SdoCmd(rd_sdo=[],wr_sdo={'ctrl_word': 0x101}).set_bid(321))"
   ]
  },
  {
   "cell_type": "code",
   "execution_count": null,
   "metadata": {},
   "outputs": [],
   "source": [
    "io.doit(SdoCmd(rd_sdo=['status_word'],wr_sdo={}).set_bid(321))"
   ]
  },
  {
   "cell_type": "code",
   "execution_count": null,
   "metadata": {},
   "outputs": [],
   "source": [
    "c=master_cmd_start.set_args({'app_mode':'config_mode','use_ecat_pos_as_id':'true'})\n",
    "c"
   ]
  },
  {
   "cell_type": "code",
   "execution_count": null,
   "metadata": {},
   "outputs": [],
   "source": [
    "io.doit(c)"
   ]
  },
  {
   "cell_type": "code",
   "execution_count": null,
   "metadata": {},
   "outputs": [],
   "source": [
    "io.doit(SdoCmd(rd_sdo=['m3_fw_ver'],wr_sdo={'Joint_robot_id': 101}).set_bid(1))"
   ]
  },
  {
   "cell_type": "code",
   "execution_count": 34,
   "metadata": {},
   "outputs": [
    {
     "data": {
      "text/plain": [
       "{'type': 1, 'cmd_type': 3, 'msg': 'Ok !!!'}"
      ]
     },
     "execution_count": 34,
     "metadata": {},
     "output_type": "execute_result"
    }
   ],
   "source": [
    "io.doit(flash_cmd_save_flash.set_bid(696))"
   ]
  },
  {
   "cell_type": "code",
   "execution_count": null,
   "metadata": {},
   "outputs": [],
   "source": []
  },
  {
   "cell_type": "code",
   "execution_count": 21,
   "metadata": {},
   "outputs": [
    {
     "data": {
      "text/plain": [
       "{'type': 1, 'cmd_type': 3, 'msg': 'Ok !!!'}"
      ]
     },
     "execution_count": 21,
     "metadata": {},
     "output_type": "execute_result"
    }
   ],
   "source": [
    "io.doit(flash_cmd_load_default.set_bid(696))"
   ]
  },
  {
   "cell_type": "code",
   "execution_count": 26,
   "metadata": {},
   "outputs": [
    {
     "data": {
      "text/plain": [
       "'21-11-08_17:19:37'"
      ]
     },
     "execution_count": 26,
     "metadata": {},
     "output_type": "execute_result"
    }
   ],
   "source": [
    "import datetime\n",
    "datetime.datetime.now().strftime(\"%y-%m-%d_%H:%M:%S\")"
   ]
  },
  {
   "cell_type": "code",
   "execution_count": 32,
   "metadata": {},
   "outputs": [
    {
     "data": {
      "text/plain": [
       "{'type': 1, 'cmd_type': 7, 'msg': '{}'}"
      ]
     },
     "execution_count": 32,
     "metadata": {},
     "output_type": "execute_result"
    }
   ],
   "source": [
    "io.doit(SdoCmd(rd_sdo=[],wr_sdo={'smpl_num_pow2': 7}).set_bid(696))"
   ]
  },
  {
   "cell_type": "code",
   "execution_count": 36,
   "metadata": {},
   "outputs": [
    {
     "data": {
      "text/plain": [
       "{'type': 1, 'cmd_type': 7, 'msg': '{smpl_num_pow2: 8}'}"
      ]
     },
     "execution_count": 36,
     "metadata": {},
     "output_type": "execute_result"
    }
   ],
   "source": [
    "io.doit(SdoCmd(rd_sdo=['smpl_num_pow2'],wr_sdo={}).set_bid(696))"
   ]
  },
  {
   "cell_type": "code",
   "execution_count": null,
   "metadata": {},
   "outputs": [],
   "source": []
  }
 ],
 "metadata": {
  "kernelspec": {
   "display_name": "repl",
   "language": "python",
   "name": "repl"
  },
  "language_info": {
   "codemirror_mode": {
    "name": "ipython",
    "version": 3
   },
   "file_extension": ".py",
   "mimetype": "text/x-python",
   "name": "python",
   "nbconvert_exporter": "python",
   "pygments_lexer": "ipython3",
   "version": "3.7.3"
  }
 },
 "nbformat": 4,
 "nbformat_minor": 4
}
