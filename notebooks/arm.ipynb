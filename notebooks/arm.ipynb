{
 "cells": [
  {
   "cell_type": "code",
   "execution_count": 5,
   "metadata": {
    "pycharm": {}
   },
   "outputs": [],
   "source": [
    "%run my_import\n",
    "\n",
    "#uri = socket.gethostname()+\".local:5555\"\n",
    "#uri = \"localhost:5555\"\n",
    "#uri = \"com-exp.local:5555\"\n",
    "#uri = \"advantech.local:5555\"\n",
    "uri = \"hhcm-mio.local:5555\"\n",
    "io = ZmsgIO(uri)\n",
    "\n",
    "#ids = [123,11,12,13,15]\n",
    "ids = [123,11,12,13]\n",
    "\n",
    "homing = {\"type\": \"TRJ_CMD\",\n",
    "          \"trajectory_cmd\": {\"type\": \"HOMING\", \"name\": \"homing\", \"board_id\": 1,\n",
    "                             \"homing_par\": {\"x\": [0,3]}}}\n",
    "\n",
    "xs = [0,1,2,3,4]\n",
    "smooth = {\"type\": \"TRJ_CMD\",\n",
    "          \"trajectory_cmd\": {\"type\": \"SMOOTHER\",\"name\": \"smooth\", \"board_id\": 1,\n",
    "                             \"smooth_par\": {\"x\": xs,\n",
    "                                            \"y\": [0,-0.3,0,-0.3,0]}}} \n",
    "\n",
    "smooth_12 = {\"type\": \"TRJ_CMD\",\n",
    "             \"trajectory_cmd\": {\"type\": \"SMOOTHER\",\n",
    "                                \"name\": \"smooth\",\n",
    "                                \"board_id\": 12,\n",
    "                                \"smooth_par\": {\"x\": xs,\n",
    "                                               \"y\": [-0.6,-0.4,-0.6,-0.8,-0.6]}\n",
    "                               }\n",
    "            } \n",
    "\n",
    "\n",
    "add_homing = {\"type\": \"TRJ_QUEUE_CMD\",\n",
    "              \"trj_queue_cmd\": {\"type\": \"PUSH_QUE\", \"trj_names\": [\"homing\"]}}\n",
    "\n",
    "add_smooth = {\"type\": \"TRJ_QUEUE_CMD\",\n",
    "              \"trj_queue_cmd\": {\"type\": \"PUSH_QUE\", \"trj_names\": [\"smooth\"]}}\n",
    "\n",
    "io.debug=0"
   ]
  },
  {
   "cell_type": "code",
   "execution_count": 6,
   "metadata": {
    "pycharm": {}
   },
   "outputs": [
    {
     "data": {
      "text/plain": [
       "{201: {'active_ports': 5,\n",
       "  'esc_type': 50,\n",
       "  'mod_id': 0,\n",
       "  'mod_rev': 0,\n",
       "  'mod_size': 0,\n",
       "  'mod_type': 0,\n",
       "  'poistion': 1,\n",
       "  'robot_id': 201,\n",
       "  'topology': 2},\n",
       " 123: {'active_ports': 3,\n",
       "  'esc_type': 21,\n",
       "  'mod_id': 65280,\n",
       "  'mod_rev': 268369920,\n",
       "  'mod_size': 240,\n",
       "  'mod_type': 15,\n",
       "  'poistion': 2,\n",
       "  'robot_id': 123,\n",
       "  'topology': 2},\n",
       " 11: {'active_ports': 3,\n",
       "  'esc_type': 21,\n",
       "  'mod_id': 65280,\n",
       "  'mod_rev': 268369920,\n",
       "  'mod_size': 240,\n",
       "  'mod_type': 15,\n",
       "  'poistion': 3,\n",
       "  'robot_id': 11,\n",
       "  'topology': 2},\n",
       " 12: {'active_ports': 3,\n",
       "  'esc_type': 21,\n",
       "  'mod_id': 65280,\n",
       "  'mod_rev': 268369920,\n",
       "  'mod_size': 240,\n",
       "  'mod_type': 15,\n",
       "  'poistion': 4,\n",
       "  'robot_id': 12,\n",
       "  'topology': 2},\n",
       " 13: {'active_ports': 3,\n",
       "  'esc_type': 21,\n",
       "  'mod_id': 65280,\n",
       "  'mod_rev': 268369920,\n",
       "  'mod_size': 240,\n",
       "  'mod_type': 15,\n",
       "  'poistion': 5,\n",
       "  'robot_id': 13,\n",
       "  'topology': 2},\n",
       " 14: {'active_ports': 3,\n",
       "  'esc_type': 21,\n",
       "  'mod_id': 65280,\n",
       "  'mod_rev': 268369920,\n",
       "  'mod_size': 240,\n",
       "  'mod_type': 15,\n",
       "  'poistion': 6,\n",
       "  'robot_id': 14,\n",
       "  'topology': 2},\n",
       " 15: {'active_ports': 1,\n",
       "  'esc_type': 21,\n",
       "  'mod_id': 65280,\n",
       "  'mod_rev': 268369920,\n",
       "  'mod_size': 240,\n",
       "  'mod_type': 15,\n",
       "  'poistion': 7,\n",
       "  'robot_id': 15,\n",
       "  'topology': 1}}"
      ]
     },
     "execution_count": 6,
     "metadata": {},
     "output_type": "execute_result"
    }
   ],
   "source": [
    "reply = io.doit(master_cmd_get_slave_descr)\n",
    "yaml_msg = yaml.safe_load(reply['msg'])\n",
    "scan_ids = yaml_msg.keys()\n",
    "#scan_ids\n",
    "yaml_msg"
   ]
  },
  {
   "cell_type": "code",
   "execution_count": 7,
   "metadata": {
    "pycharm": {}
   },
   "outputs": [],
   "source": [
    "[g for g in io.doit4ids(ids,ctrl_cmd_set_home)]\n",
    "reply = io.doit(ctrl_cmd_set_home.set_value(-0.6).set_bid(12))"
   ]
  },
  {
   "cell_type": "code",
   "execution_count": 18,
   "metadata": {
    "pycharm": {}
   },
   "outputs": [
    {
     "data": {
      "text/plain": [
       "[{'type': 1, 'cmd_type': 2, 'msg': 'Ok !!!'},\n",
       " {'type': 1, 'cmd_type': 2, 'msg': 'Ok !!!'},\n",
       " {'type': 1, 'cmd_type': 2, 'msg': 'Ok !!!'},\n",
       " {'type': 1, 'cmd_type': 2, 'msg': 'Ok !!!'}]"
      ]
     },
     "execution_count": 18,
     "metadata": {},
     "output_type": "execute_result"
    }
   ],
   "source": [
    "[g for g in io.doit4ids(ids,ctrl_cmd_start().set_value(0x3B))]"
   ]
  },
  {
   "cell_type": "code",
   "execution_count": 19,
   "metadata": {
    "pycharm": {}
   },
   "outputs": [],
   "source": [
    "# define trajectories\n",
    "[g for g in io.doit4ids(ids,homing)]\n",
    "[g for g in io.doit4ids(ids,smooth)]\n",
    "reply = io.doit(smooth_12)"
   ]
  },
  {
   "cell_type": "code",
   "execution_count": 20,
   "metadata": {
    "pycharm": {}
   },
   "outputs": [],
   "source": [
    "reply = io.doit(add_homing)\n"
   ]
  },
  {
   "cell_type": "code",
   "execution_count": 21,
   "metadata": {
    "pycharm": {}
   },
   "outputs": [],
   "source": [
    "reply = io.doit(add_smooth)"
   ]
  },
  {
   "cell_type": "code",
   "execution_count": 22,
   "metadata": {
    "pycharm": {}
   },
   "outputs": [
    {
     "data": {
      "text/plain": [
       "[{'type': 2, 'cmd_type': 2, 'msg': 'Error !!!'},\n",
       " {'type': 1, 'cmd_type': 2, 'msg': 'Ok !!!'},\n",
       " {'type': 1, 'cmd_type': 2, 'msg': 'Ok !!!'},\n",
       " {'type': 1, 'cmd_type': 2, 'msg': 'Ok !!!'},\n",
       " {'type': 1, 'cmd_type': 2, 'msg': 'Ok !!!'},\n",
       " {'type': 2, 'cmd_type': 2, 'msg': 'Error !!!'},\n",
       " {'type': 1, 'cmd_type': 2, 'msg': 'Ok !!!'}]"
      ]
     },
     "execution_count": 22,
     "metadata": {},
     "output_type": "execute_result"
    }
   ],
   "source": [
    "[g for g in io.doit4ids(scan_ids,ctrl_cmd_stop)]"
   ]
  },
  {
   "cell_type": "code",
   "execution_count": 13,
   "metadata": {
    "pycharm": {}
   },
   "outputs": [
    {
     "data": {
      "text/plain": [
       "{'type': 1, 'cmd_type': 2, 'msg': 'Ok !!!'}"
      ]
     },
     "execution_count": 13,
     "metadata": {},
     "output_type": "execute_result"
    }
   ],
   "source": [
    "gains = {}\n",
    "gains['type'] = \"IMPEDANCE\"\n",
    "gains['pos_kp'] = 0\n",
    "gains['pos_kd'] = 0\n",
    "gains['tor_kp'] = 5\n",
    "gains['tor_kd'] = 0.001\n",
    "gains['tor_ki'] = 0.08\n",
    "io.doit(ctrl_cmd_start().set_bid(123).set_value(0xD4).set_gains(*gains.values()))"
   ]
  },
  {
   "cell_type": "code",
   "execution_count": 14,
   "metadata": {},
   "outputs": [
    {
     "data": {
      "text/plain": [
       "{'type': 1, 'cmd_type': 2, 'msg': 'Ok !!!'}"
      ]
     },
     "execution_count": 14,
     "metadata": {},
     "output_type": "execute_result"
    }
   ],
   "source": [
    "io.doit(ctrl_cmd_start().set_bid(123).set_value(0xD4))"
   ]
  },
  {
   "cell_type": "code",
   "execution_count": null,
   "metadata": {},
   "outputs": [],
   "source": [
    "reply = io.doit(ctrl_cmd_start().set_bid(123))"
   ]
  },
  {
   "cell_type": "code",
   "execution_count": null,
   "metadata": {},
   "outputs": [],
   "source": [
    "ctrl_cmd_start"
   ]
  },
  {
   "cell_type": "code",
   "execution_count": 15,
   "metadata": {},
   "outputs": [
    {
     "data": {
      "text/plain": [
       "{'type': 1, 'cmd_type': 2, 'msg': 'Ok !!!'}"
      ]
     },
     "execution_count": 15,
     "metadata": {},
     "output_type": "execute_result"
    }
   ],
   "source": [
    "io.doit(ctrl_cmd_set_torque.set_bid(123).set_value(-5))"
   ]
  },
  {
   "cell_type": "code",
   "execution_count": 16,
   "metadata": {},
   "outputs": [],
   "source": [
    "import time\n",
    "for i in range(20):\n",
    "    v = 5 if i%2 else -5\n",
    "    io.doit(ctrl_cmd_set_torque.set_bid(123).set_value(v))\n",
    "    time.sleep(1)"
   ]
  },
  {
   "cell_type": "code",
   "execution_count": null,
   "metadata": {},
   "outputs": [],
   "source": [
    "io.doit(ctrl_cmd_start().set_bid(14).set_value(0xD4))"
   ]
  },
  {
   "cell_type": "code",
   "execution_count": null,
   "metadata": {},
   "outputs": [],
   "source": [
    "reply = io.doit(SdoInfo(u'SDO_NAME').set_bid(14))\n",
    "yaml_msg = yaml.safe_load(reply['msg'])\n",
    "sdo_names = yaml_msg\n",
    "sdo_names"
   ]
  },
  {
   "cell_type": "code",
   "execution_count": null,
   "metadata": {},
   "outputs": [],
   "source": [
    "reply = io.doit(SdoCmd(rd_sdo=['torque','torqueFixedOffset'],wr_sdo={}).set_bid(123))\n",
    "reply"
   ]
  },
  {
   "cell_type": "code",
   "execution_count": null,
   "metadata": {},
   "outputs": [],
   "source": [
    "reply = io.doit(SdoCmd(rd_sdo=['torque','torqueFixedOffset'],wr_sdo={'torqueFixedOffset':0.0}).set_bid(123))\n",
    "reply"
   ]
  },
  {
   "cell_type": "code",
   "execution_count": null,
   "metadata": {},
   "outputs": [],
   "source": [
    "reply = io.doit(SdoCmd(rd_sdo=['m3_fw_ver','c28_fw_ver'],wr_sdo={}).set_bid(123))\n",
    "reply"
   ]
  },
  {
   "cell_type": "code",
   "execution_count": null,
   "metadata": {},
   "outputs": [],
   "source": []
  }
 ],
 "metadata": {
  "kernelspec": {
   "display_name": "Python 3",
   "language": "python",
   "name": "python3"
  },
  "language_info": {
   "codemirror_mode": {
    "name": "ipython",
    "version": 3
   },
   "file_extension": ".py",
   "mimetype": "text/x-python",
   "name": "python",
   "nbconvert_exporter": "python",
   "pygments_lexer": "ipython3",
   "version": "3.7.9"
  }
 },
 "nbformat": 4,
 "nbformat_minor": 4
}
