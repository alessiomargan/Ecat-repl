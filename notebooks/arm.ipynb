{
  "cells": [
    {
      "cell_type": "code",
      "execution_count": 14,
      "metadata": {
        "pycharm": {}
      },
      "outputs": [],
      "source": "import yaml\nimport argparse\nfrom protobuf_to_dict import protobuf_to_dict, dict_to_protobuf\n\nimport repl_cmd_pb2 as repl_cmd\nfrom repl_in import repl_option\nfrom zmsg_io import ZmsgIO\nfrom base_io import ctrl_cmd_start, ctrl_cmd_stop, ctrl_cmd_set_home, ctrl_cmd_set_zero \n\nuri \u003d socket.gethostname()+\".local:5555\"\n#uri \u003d \"localhost:5555\"\nio \u003d ZmsgIO(uri)\n\n#ids \u003d [123,11,12,13,15]\nids \u003d [123,11,12,13,15]\n\nhoming \u003d {\"type\": \"TRJ_CMD\",\n          \"trajectory_cmd\": {\"type\": \"HOMING\", \"name\": \"homing\", \"board_id\": 1,\n                             \"homing_par\": {\"x\": [0,3]}}}\n\nxs \u003d [0,1,2,3,4]\nsmooth \u003d {\"type\": \"TRJ_CMD\",\n          \"trajectory_cmd\": {\"type\": \"SMOOTHER\",\"name\": \"smooth\", \"board_id\": 1,\n                             \"smooth_par\": {\"x\": xs,\n                                            \"y\": [0,-0.3,0,-0.3,0]}}} \n\nsmooth_12 \u003d {\"type\": \"TRJ_CMD\",\n             \"trajectory_cmd\": {\"type\": \"SMOOTHER\",\n                                \"name\": \"smooth\",\n                                \"board_id\": 12,\n                                \"smooth_par\": {\"x\": xs,\n                                               \"y\": [-0.6,-0.4,-0.6,-0.8,-0.6]}\n                               }\n            } \n\n\nadd_homing \u003d {\"type\": \"TRJ_QUEUE_CMD\",\n              \"trj_queue_cmd\": {\"type\": \"PUSH_QUE\", \"trj_names\": [\"homing\"]}}\n\nadd_smooth \u003d {\"type\": \"TRJ_QUEUE_CMD\",\n              \"trj_queue_cmd\": {\"type\": \"PUSH_QUE\", \"trj_names\": [\"smooth\"]}}\n"
    },
    {
      "cell_type": "code",
      "execution_count": 8,
      "metadata": {
        "pycharm": {}
      },
      "outputs": [],
      "source": [
        "reply \u003d io.doit4ids(ids,ctrl_cmd_set_home())\n",
        "reply \u003d io.doit(ctrl_cmd_set_home(12,-0.6))"
      ]
    },
    {
      "cell_type": "code",
      "execution_count": 9,
      "metadata": {
        "pycharm": {}
      },
      "outputs": [],
      "source": [
        "reply \u003d io.doit4ids(ids,ctrl_cmd_start())"
      ]
    },
    {
      "cell_type": "code",
      "execution_count": 15,
      "metadata": {
        "pycharm": {}
      },
      "outputs": [],
      "source": [
        "# define trajectories\n",
        "reply \u003d io.doit4ids(ids,homing)\n",
        "reply \u003d io.doit4ids(ids,smooth)\n",
        "reply \u003d io.doit(smooth_12)"
      ]
    },
    {
      "cell_type": "code",
      "execution_count": 12,
      "metadata": {
        "pycharm": {}
      },
      "outputs": [],
      "source": [
        "reply \u003d io.doit(add_homing)\n"
      ]
    },
    {
      "cell_type": "code",
      "execution_count": 16,
      "metadata": {
        "pycharm": {}
      },
      "outputs": [],
      "source": [
        "reply \u003d io.doit(add_smooth)"
      ]
    },
    {
      "cell_type": "code",
      "execution_count": 17,
      "metadata": {
        "pycharm": {}
      },
      "outputs": [],
      "source": [
        "reply \u003d io.doit4ids(ids,ctrl_cmd_stop())"
      ]
    },
    {
      "cell_type": "code",
      "execution_count": null,
      "metadata": {
        "pycharm": {}
      },
      "outputs": [],
      "source": []
    }
  ],
  "metadata": {
    "kernelspec": {
      "display_name": "Python 3",
      "language": "python",
      "name": "python3"
    },
    "language_info": {
      "codemirror_mode": {
        "name": "ipython",
        "version": 3
      },
      "file_extension": ".py",
      "mimetype": "text/x-python",
      "name": "python",
      "nbconvert_exporter": "python",
      "pygments_lexer": "ipython3",
      "version": "3.7.1"
    }
  },
  "nbformat": 4,
  "nbformat_minor": 2
}