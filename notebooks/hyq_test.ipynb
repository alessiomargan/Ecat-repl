{
 "cells": [
  {
   "cell_type": "code",
   "execution_count": 2,
   "metadata": {},
   "outputs": [
    {
     "name": "stdout",
     "output_type": "stream",
     "text": [
      "Python path : /home/amargan/work/anaconda3/envs/repl/bin/python\n",
      "Python version : 3.11.0 | packaged by conda-forge | (main, Jan 14 2023, 12:28:47) [GCC 11.3.0]\n",
      "new uri localhost:5555\n",
      "Found ESC ids [1]\n"
     ]
    }
   ],
   "source": [
    "%run my_import\n",
    "\n",
    "#uri = socket.gethostname()+\".local:5555\"\n",
    "uri = \"localhost:5555\"\n",
    "#uri = \"nuc-i7.local:5555\"\n",
    "#uri = \"com-exp.local:5555\"\n",
    "#uri = \"advantech.local:5555\"\n",
    "#uri = \"192.168.1.100:5555\"\n",
    "\n",
    "io = set_uri(uri)\n",
    "io.debug = False\n",
    "scan_ids = list(reply_cmd(master_cmd_get_slave_descr).keys())\n",
    "print('Found ESC ids {}'.format(scan_ids))\n"
   ]
  },
  {
   "cell_type": "code",
   "execution_count": 3,
   "metadata": {},
   "outputs": [
    {
     "data": {
      "text/plain": [
       "{'board_id': 44,\n",
       " 'ctrl_status_cmd': 0,\n",
       " 'ctrl_status_cmd_ack': 0,\n",
       " 'current_ref': 0.0,\n",
       " 'dout': 0,\n",
       " 'enc_pos': 0.0,\n",
       " 'fault': 0,\n",
       " 'fault_ack': 0,\n",
       " 'flash_params_cmd': 0,\n",
       " 'flash_params_cmd_ack': 0,\n",
       " 'fw_ver': 24021516,\n",
       " 'op_idx_ack': 0,\n",
       " 'op_idx_aux': 0,\n",
       " 'pressure_1': 22.0,\n",
       " 'pressure_2': 7.0,\n",
       " 'pwm_1': 0,\n",
       " 'pwm_2': 0,\n",
       " 'rtt': 37665,\n",
       " 'rx_aux': 0.0,\n",
       " 'temperature': 10.0,\n",
       " 'torque': 65535.0,\n",
       " 'ts': 37665,\n",
       " 'tx_aux': 0.0}"
      ]
     },
     "execution_count": 3,
     "metadata": {},
     "output_type": "execute_result"
    }
   ],
   "source": [
    "iD = scan_ids[0]\n",
    "sdo_objd = reply_cmd(SdoInfo(u'SDO_OBJD').set_bid(iD))\n",
    "sdo_names = reply_cmd(SdoInfo(u'SDO_NAME').set_bid(iD))\n",
    "sdo_dict = reply_cmd(SdoCmd(rd_sdo=sdo_names,wr_sdo={}).set_bid(iD))\n",
    "sdo_dict"
   ]
  },
  {
   "cell_type": "code",
   "execution_count": 27,
   "metadata": {},
   "outputs": [
    {
     "name": "stdout",
     "output_type": "stream",
     "text": [
      "{'current_ref': 0.25, 'pwm_1': 0, 'pwm_2': 0, 'dout': 0}\n",
      "{1: {'enc_pos': 0.0, 'pressure_1': 19.0, 'pressure_2': 6.0, 'torque': 65535.0}}\n",
      "{'current_ref': 0.5, 'pwm_1': 0, 'pwm_2': 0, 'dout': 0}\n",
      "{1: {'enc_pos': 0.0, 'pressure_1': 21.0, 'pressure_2': 7.0, 'torque': 65535.0}}\n",
      "{'current_ref': 0.75, 'pwm_1': 0, 'pwm_2': 0, 'dout': 0}\n",
      "{1: {'enc_pos': 0.0, 'pressure_1': 23.0, 'pressure_2': 7.0, 'torque': 65535.0}}\n",
      "{'current_ref': 1.0, 'pwm_1': 0, 'pwm_2': 0, 'dout': 0}\n",
      "{1: {'enc_pos': 0.0, 'pressure_1': 23.0, 'pressure_2': 8.0, 'torque': 65535.0}}\n",
      "{'current_ref': 1.25, 'pwm_1': 0, 'pwm_2': 0, 'dout': 0}\n",
      "{1: {'enc_pos': 0.0, 'pressure_1': 22.0, 'pressure_2': 8.0, 'torque': 65535.0}}\n"
     ]
    }
   ],
   "source": [
    "rx_pdo_k =  ['enc_pos','pressure_1','pressure_2','torque']\n",
    "tx_pdo_d = {'current_ref': 0.0, 'pwm_1': 0, 'pwm_2': 0, 'dout': 0,}\n",
    "tx_pdo_d['current_ref'] = 0\n",
    "tx_pdo_d['pwm_1'] = 0\n",
    "tx_pdo_d['pwm_2'] = 0\n",
    "cnt = 5\n",
    "while (cnt := cnt-1) >= 0:\n",
    "    tx_pdo_d['current_ref'] += 0.25\n",
    "    tx_pdo_d['pwm_1'] += 10\n",
    "    tx_pdo_d['pwm_2'] += 10\n",
    "    write_sdo(tx_pdo_d,[iD])\n",
    "    data = read_sdo(rx_pdo_k,[1])\n",
    "    print(tx_pdo_d)\n",
    "    print(data)\n",
    "    time.sleep(1)"
   ]
  },
  {
   "cell_type": "code",
   "execution_count": null,
   "metadata": {},
   "outputs": [],
   "source": []
  }
 ],
 "metadata": {
  "kernelspec": {
   "display_name": "Python 3",
   "language": "python",
   "name": "python3"
  },
  "language_info": {
   "codemirror_mode": {
    "name": "ipython",
    "version": 3
   },
   "file_extension": ".py",
   "mimetype": "text/x-python",
   "name": "python",
   "nbconvert_exporter": "python",
   "pygments_lexer": "ipython3",
   "version": "3.11.0"
  }
 },
 "nbformat": 4,
 "nbformat_minor": 4
}
