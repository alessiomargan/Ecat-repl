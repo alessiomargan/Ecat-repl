{
 "cells": [
  {
   "cell_type": "code",
   "execution_count": null,
   "metadata": {},
   "outputs": [],
   "source": [
    "%run my_import\n",
    "\n",
    "#uri = socket.gethostname()+\".local:5555\"\n",
    "uri = \"localhost:5555\"\n",
    "#uri = \"nuc-i7.local:5555\"\n",
    "#uri = \"com-exp.local:5555\"\n",
    "#uri = \"advantech.local:5555\"\n",
    "#uri = \"192.168.1.100:5555\"\n",
    "\n",
    "io = set_uri(uri)\n",
    "io.debug = False\n",
    "scan_ids = list(reply_cmd(master_cmd_get_slave_descr).keys())\n",
    "print('Found ESC ids {}'.format(scan_ids))\n"
   ]
  },
  {
   "cell_type": "code",
   "execution_count": null,
   "metadata": {},
   "outputs": [],
   "source": [
    "iD = scan_ids[0]\n",
    "sdo_objd = reply_cmd(SdoInfo(u'SDO_OBJD').set_bid(iD))\n",
    "sdo_names = reply_cmd(SdoInfo(u'SDO_NAME').set_bid(iD))\n",
    "sdo_dict = reply_cmd(SdoCmd(rd_sdo=sdo_names,wr_sdo={}).set_bid(iD))\n",
    "sdo_dict"
   ]
  },
  {
   "cell_type": "code",
   "execution_count": null,
   "metadata": {},
   "outputs": [],
   "source": [
    "start = 0xA5\n",
    "write_sdo({'ctrl_status_cmd': start},[iD])\n",
    "read_sdo(['ctrl_status_cmd_ack'],[1])"
   ]
  },
  {
   "cell_type": "code",
   "execution_count": null,
   "metadata": {},
   "outputs": [],
   "source": [
    "stop = 0x5A\n",
    "write_sdo({'ctrl_status_cmd': stop},[iD])\n",
    "read_sdo(['ctrl_status_cmd_ack'],[1])"
   ]
  },
  {
   "cell_type": "code",
   "execution_count": null,
   "metadata": {},
   "outputs": [],
   "source": [
    "tx_pdo_d = {'current_ref': 0.0, 'pwm_1': 0, 'pwm_2': 0, 'dout': 0,}\n",
    "rx_pdo_k =  ['enc_pos','pressure_1','pressure_2','torque']\n",
    "read_sdo(rx_pdo_k,[1])"
   ]
  },
  {
   "cell_type": "code",
   "execution_count": null,
   "metadata": {},
   "outputs": [],
   "source": [
    "tx_pdo_d['current_ref'] = 2\n",
    "write_sdo(tx_pdo_d,[iD])\n",
    "data = read_sdo(rx_pdo_k,[1])\n",
    "print(tx_pdo_d)\n",
    "print(data)\n",
    "    "
   ]
  },
  {
   "cell_type": "code",
   "execution_count": null,
   "metadata": {},
   "outputs": [],
   "source": [
    "tx_pdo_d['current_ref'] = 0\n",
    "tx_pdo_d['pwm_1'] = 0\n",
    "tx_pdo_d['pwm_2'] = 0\n",
    "cnt = 5\n",
    "while (cnt := cnt-1) >= 0:\n",
    "    tx_pdo_d['current_ref'] -= 0.5\n",
    "    #tx_pdo_d['pwm_1'] += 10\n",
    "    #tx_pdo_d['pwm_2'] += 10\n",
    "    write_sdo(tx_pdo_d,[iD])\n",
    "    data = read_sdo(rx_pdo_k,[1])\n",
    "    print(tx_pdo_d)\n",
    "    print(data)\n",
    "    time.sleep(1)"
   ]
  },
  {
   "cell_type": "code",
   "execution_count": null,
   "metadata": {},
   "outputs": [],
   "source": [
    "hex(30885)"
   ]
  },
  {
   "cell_type": "code",
   "execution_count": null,
   "metadata": {},
   "outputs": [],
   "source": []
  }
 ],
 "metadata": {
  "kernelspec": {
   "display_name": "repl",
   "language": "python",
   "name": "repl"
  },
  "language_info": {
   "codemirror_mode": {
    "name": "ipython",
    "version": 3
   },
   "file_extension": ".py",
   "mimetype": "text/x-python",
   "name": "python",
   "nbconvert_exporter": "python",
   "pygments_lexer": "ipython3",
   "version": "3.11.8"
  }
 },
 "nbformat": 4,
 "nbformat_minor": 4
}
