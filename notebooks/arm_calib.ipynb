{
 "cells": [
  {
   "cell_type": "code",
   "execution_count": 3,
   "metadata": {},
   "outputs": [],
   "source": [
    "import socket\n",
    "\n",
    "import ipywidgets.widgets as widgets\n",
    "from IPython.display import display\n",
    "\n",
    "from ecat_repl import ZmsgIO\n",
    "from ecat_repl import CtrlCmd\n",
    "from ecat_repl import SdoCmd\n",
    "from ecat_repl import (\n",
    "    master_cmd_stop,\n",
    "    master_cmd_start,\n",
    "    master_cmd_get_slave_descr,\n",
    "    ctrl_cmd_start,\n",
    "    ctrl_cmd_stop,\n",
    "    ctrl_cmd_fan,\n",
    "    ctrl_cmd_led,\n",
    "    ctrl_cmd_set_zero,\n",
    "    ctrl_cmd_set_min_pos,\n",
    "    ctrl_cmd_set_max_pos,\n",
    ")\n",
    "\n",
    "uri = \"com-exp.local:5555\"\n",
    "#uri = socket.gethostname()+\".local:5555\"\n",
    "#uri = \"localhost:5555\"\n",
    "io = ZmsgIO(uri)\n",
    "io.debug = True\n",
    "    \n",
    "ids = [1,2,3,4,5]\n",
    "\n",
    "id = 1"
   ]
  },
  {
   "cell_type": "code",
   "execution_count": 8,
   "metadata": {},
   "outputs": [
    {
     "name": "stdout",
     "output_type": "stream",
     "text": [
      "{'ecat_master_cmd': {'type': 'GET_SLAVES_DESCR'}, 'type': 'ECAT_MASTER_CMD'}\n",
      "type: ECAT_MASTER_CMD\n",
      "ecat_master_cmd {\n",
      "  type: GET_SLAVES_DESCR\n",
      "}\n",
      "\n"
     ]
    },
    {
     "data": {
      "text/plain": [
       "{'type': 1,\n",
       " 'cmd_type': 5,\n",
       " 'msg': '[{1: {active_ports: 1, esc_type: 21, poistion: 1, robot_id: 1, topology: 1}}]'}"
      ]
     },
     "execution_count": 8,
     "metadata": {},
     "output_type": "execute_result"
    }
   ],
   "source": [
    "io.doit(master_cmd_get_slave_descr)"
   ]
  },
  {
   "cell_type": "code",
   "execution_count": 16,
   "metadata": {},
   "outputs": [
    {
     "data": {
      "text/plain": [
       "SdoCmd(slave_sdo_cmd=_SdoCmd(board_id=-1, rd_sdo=['Joint_robot_id', 'm3_fw_ver', 'c28_fw_ver', 'Min_pos', 'Max_pos'], wr_sdo=[]), type='SLAVE_SDO_CMD')"
      ]
     },
     "execution_count": 16,
     "metadata": {},
     "output_type": "execute_result"
    }
   ],
   "source": [
    "rd_sdo = ['Joint_robot_id','m3_fw_ver','c28_fw_ver','Min_pos','Max_pos']\n",
    "#wr_sdo = {'analog_sample_freq_HZ':10000,'xyz':2.123}\n",
    "wr_sdo = {}\n",
    "s=SdoCmd(rd_sdo=rd_sdo, wr_sdo=wr_sdo)\n",
    "s"
   ]
  },
  {
   "cell_type": "code",
   "execution_count": 23,
   "metadata": {},
   "outputs": [
    {
     "name": "stdout",
     "output_type": "stream",
     "text": [
      "{'slave_sdo_cmd': {'board_id': 12, 'rd_sdo': ['Joint_robot_id', 'm3_fw_ver', 'c28_fw_ver', 'Min_pos', 'Max_pos'], 'wr_sdo': []}, 'type': 'SLAVE_SDO_CMD'}\n",
      "type: SLAVE_SDO_CMD\n",
      "slave_sdo_cmd {\n",
      "  board_id: 12\n",
      "  rd_sdo: \"Joint_robot_id\"\n",
      "  rd_sdo: \"m3_fw_ver\"\n",
      "  rd_sdo: \"c28_fw_ver\"\n",
      "  rd_sdo: \"Min_pos\"\n",
      "  rd_sdo: \"Max_pos\"\n",
      "}\n",
      "\n"
     ]
    },
    {
     "data": {
      "text/plain": [
       "{'type': 1, 'cmd_type': 8, 'msg': 'Ok google'}"
      ]
     },
     "execution_count": 23,
     "metadata": {},
     "output_type": "execute_result"
    }
   ],
   "source": [
    "io.doit(s.set_bid(id))"
   ]
  },
  {
   "cell_type": "code",
   "execution_count": null,
   "metadata": {},
   "outputs": [],
   "source": []
  },
  {
   "cell_type": "code",
   "execution_count": 18,
   "metadata": {},
   "outputs": [
    {
     "name": "stdout",
     "output_type": "stream",
     "text": [
      "{'ctrl_cmd': {'type': 'CTRL_FAN', 'board_id': 11, 'value': 1, 'gains': {}}, 'type': 'CTRL_CMD'}\n",
      "type: CTRL_CMD\n",
      "ctrl_cmd {\n",
      "  type: CTRL_FAN\n",
      "  board_id: 11\n",
      "  value: 1.0\n",
      "}\n",
      "\n",
      "CPU times: user 1.02 ms, sys: 1.09 ms, total: 2.11 ms\n",
      "Wall time: 13.4 ms\n"
     ]
    },
    {
     "data": {
      "text/plain": [
       "{'type': 1, 'cmd_type': 3, 'msg': 'Ok google'}"
      ]
     },
     "execution_count": 18,
     "metadata": {},
     "output_type": "execute_result"
    }
   ],
   "source": [
    "%time io.doit(ctrl_cmd_fan.set_bid(id).set_value(1))"
   ]
  },
  {
   "cell_type": "code",
   "execution_count": 19,
   "metadata": {},
   "outputs": [
    {
     "name": "stdout",
     "output_type": "stream",
     "text": [
      "{'ctrl_cmd': {'type': 'CTRL_FAN', 'board_id': 11, 'value': 0, 'gains': {}}, 'type': 'CTRL_CMD'}\n",
      "type: CTRL_CMD\n",
      "ctrl_cmd {\n",
      "  type: CTRL_FAN\n",
      "  board_id: 11\n",
      "  value: 0.0\n",
      "}\n",
      "\n",
      "CPU times: user 2.24 ms, sys: 96 µs, total: 2.34 ms\n",
      "Wall time: 14.8 ms\n"
     ]
    },
    {
     "data": {
      "text/plain": [
       "{'type': 1, 'cmd_type': 3, 'msg': 'Ok google'}"
      ]
     },
     "execution_count": 19,
     "metadata": {},
     "output_type": "execute_result"
    }
   ],
   "source": [
    "%time io.doit(ctrl_cmd_fan.set_bid(id).set_value(0))"
   ]
  },
  {
   "cell_type": "code",
   "execution_count": null,
   "metadata": {},
   "outputs": [],
   "source": [
    "io.doit4ids([id],ctrl_cmd_fan.set_value(1))"
   ]
  },
  {
   "cell_type": "code",
   "execution_count": 35,
   "metadata": {},
   "outputs": [
    {
     "name": "stdout",
     "output_type": "stream",
     "text": [
      "{'ctrl_cmd': {'type': 'CTRL_SET_ZERO_POSITION', 'board_id': 16, 'value': 3.14159, 'gains': {}}, 'type': 'CTRL_CMD'}\n",
      "type: CTRL_CMD\n",
      "ctrl_cmd {\n",
      "  type: CTRL_SET_ZERO_POSITION\n",
      "  board_id: 16\n",
      "  value: 3.141590118408203\n",
      "}\n",
      "\n"
     ]
    },
    {
     "data": {
      "text/plain": [
       "{'type': 1, 'cmd_type': 3, 'msg': 'Ok google'}"
      ]
     },
     "execution_count": 35,
     "metadata": {},
     "output_type": "execute_result"
    }
   ],
   "source": [
    "io.doit(ctrl_cmd_set_zero.set_value(3.14159).set_bid(id))"
   ]
  },
  {
   "cell_type": "code",
   "execution_count": null,
   "metadata": {},
   "outputs": [],
   "source": [
    "io.doit(ctrl_cmd_start.set_bid(12).set_value(0x3b))"
   ]
  },
  {
   "cell_type": "code",
   "execution_count": 36,
   "metadata": {},
   "outputs": [
    {
     "name": "stdout",
     "output_type": "stream",
     "text": [
      "{'ctrl_cmd': {'type': 'CTRL_SET_MIN_POSITION', 'board_id': 16, 'value': -2.79, 'gains': {}}, 'type': 'CTRL_CMD'}\n",
      "type: CTRL_CMD\n",
      "ctrl_cmd {\n",
      "  type: CTRL_SET_MIN_POSITION\n",
      "  board_id: 16\n",
      "  value: -2.7899999618530273\n",
      "}\n",
      "\n"
     ]
    },
    {
     "data": {
      "text/plain": [
       "{'type': 1, 'cmd_type': 3, 'msg': 'Ok google'}"
      ]
     },
     "execution_count": 36,
     "metadata": {},
     "output_type": "execute_result"
    }
   ],
   "source": [
    "#io.doit(ctrl_cmd_set_min_pos.set_bid(id))\n",
    "io.doit(ctrl_cmd_set_min_pos.set_value(-2.79).set_bid(id))"
   ]
  },
  {
   "cell_type": "code",
   "execution_count": 37,
   "metadata": {},
   "outputs": [
    {
     "name": "stdout",
     "output_type": "stream",
     "text": [
      "{'ctrl_cmd': {'type': 'CTRL_SET_MAX_POSITION', 'board_id': 16, 'value': 2.79, 'gains': {}}, 'type': 'CTRL_CMD'}\n",
      "type: CTRL_CMD\n",
      "ctrl_cmd {\n",
      "  type: CTRL_SET_MAX_POSITION\n",
      "  board_id: 16\n",
      "  value: 2.7899999618530273\n",
      "}\n",
      "\n"
     ]
    },
    {
     "data": {
      "text/plain": [
       "{'type': 1, 'cmd_type': 3, 'msg': 'Ok google'}"
      ]
     },
     "execution_count": 37,
     "metadata": {},
     "output_type": "execute_result"
    }
   ],
   "source": [
    "#io.doit(ctrl_cmd_set_max_pos.set_bid(id))\n",
    "io.doit(ctrl_cmd_set_max_pos.set_value(2.79).set_bid(id))"
   ]
  },
  {
   "cell_type": "code",
   "execution_count": null,
   "metadata": {},
   "outputs": [],
   "source": [
    "#reply = io.doit(flash_cmd_save2flash(1))"
   ]
  },
  {
   "cell_type": "code",
   "execution_count": null,
   "metadata": {},
   "outputs": [],
   "source": [
    "io.doit(ctrl_cmd_stop.set_bid(id))"
   ]
  },
  {
   "cell_type": "code",
   "execution_count": null,
   "metadata": {},
   "outputs": [],
   "source": [
    "io.doit(ctrl_cmd_start.set_bid(id).set_value(0x3b).set_gains(u'POSITION',200,0,15,0,0,0))"
   ]
  },
  {
   "cell_type": "code",
   "execution_count": null,
   "metadata": {},
   "outputs": [],
   "source": []
  },
  {
   "cell_type": "code",
   "execution_count": null,
   "metadata": {},
   "outputs": [],
   "source": []
  },
  {
   "cell_type": "code",
   "execution_count": null,
   "metadata": {},
   "outputs": [],
   "source": [
    "SdoCmd"
   ]
  },
  {
   "cell_type": "code",
   "execution_count": 11,
   "metadata": {},
   "outputs": [
    {
     "name": "stdout",
     "output_type": "stream",
     "text": [
      "{'ecat_master_cmd': {'type': 'STOP_MASTER'}, 'type': 'ECAT_MASTER_CMD'}\n",
      "type: ECAT_MASTER_CMD\n",
      "ecat_master_cmd {\n",
      "  type: STOP_MASTER\n",
      "}\n",
      "\n"
     ]
    },
    {
     "data": {
      "text/plain": [
       "{'type': 1, 'cmd_type': 5, 'msg': 'Success'}"
      ]
     },
     "execution_count": 11,
     "metadata": {},
     "output_type": "execute_result"
    }
   ],
   "source": [
    "io.doit(master_cmd_stop)"
   ]
  },
  {
   "cell_type": "code",
   "execution_count": 10,
   "metadata": {},
   "outputs": [
    {
     "name": "stdout",
     "output_type": "stream",
     "text": [
      "{'ecat_master_cmd': {'type': 'START_MASTER'}, 'type': 'ECAT_MASTER_CMD'}\n",
      "type: ECAT_MASTER_CMD\n",
      "ecat_master_cmd {\n",
      "  type: START_MASTER\n",
      "}\n",
      "\n"
     ]
    },
    {
     "data": {
      "text/plain": [
       "{'type': 1, 'cmd_type': 5, 'msg': 'Success'}"
      ]
     },
     "execution_count": 10,
     "metadata": {},
     "output_type": "execute_result"
    }
   ],
   "source": [
    "io.doit(master_cmd_start)"
   ]
  },
  {
   "cell_type": "code",
   "execution_count": null,
   "metadata": {},
   "outputs": [],
   "source": []
  }
 ],
 "metadata": {
  "kernelspec": {
   "display_name": "repl",
   "language": "python",
   "name": "repl"
  },
  "language_info": {
   "codemirror_mode": {
    "name": "ipython",
    "version": 3
   },
   "file_extension": ".py",
   "mimetype": "text/x-python",
   "name": "python",
   "nbconvert_exporter": "python",
   "pygments_lexer": "ipython3",
   "version": "3.7.3"
  }
 },
 "nbformat": 4,
 "nbformat_minor": 2
}
