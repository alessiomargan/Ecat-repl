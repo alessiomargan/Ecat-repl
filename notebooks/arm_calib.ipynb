{
 "cells": [
  {
   "cell_type": "code",
   "execution_count": 10,
   "metadata": {},
   "outputs": [],
   "source": [
    "import socket\n",
    "\n",
    "import ipywidgets.widgets as widgets\n",
    "from IPython.display import display\n",
    "\n",
    "from ecat_repl import ZmsgIO\n",
    "from ecat_repl import CtrlCmd\n",
    "from ecat_repl import SdoCmd\n",
    "from ecat_repl import (\n",
    "    ctrl_cmd_start,\n",
    "    ctrl_cmd_stop,\n",
    "    ctrl_cmd_fan,\n",
    "    ctrl_cmd_led,\n",
    "    ctrl_cmd_set_zero,\n",
    "    ctrl_cmd_set_min_pos,\n",
    "    ctrl_cmd_set_max_pos,\n",
    ")\n",
    "\n",
    "uri = socket.gethostname()+\".local:5555\"\n",
    "#uri = \"localhost:5555\"\n",
    "io = ZmsgIO(uri)\n",
    "io.debug = True\n",
    "    \n",
    "ids = [1,2,3,4,5]\n",
    "\n",
    "id = 1"
   ]
  },
  {
   "cell_type": "code",
   "execution_count": 11,
   "metadata": {},
   "outputs": [
    {
     "data": {
      "text/plain": [
       "SdoCmd(slave_sdo_cmd=_SdoCmd(board_id=696, rd_sdo=['board_id', 'fw_ver'], wr_sdo=[_WrSdo(name='analog_sample_freq_HZ', value=10000), _WrSdo(name='xyz', value=2.123)]), type='SLAVE_SDO_CMD')"
      ]
     },
     "execution_count": 11,
     "metadata": {},
     "output_type": "execute_result"
    }
   ],
   "source": [
    "rd_sdo = ['board_id','fw_ver']\n",
    "wr_sdo = [('analog_sample_freq_HZ',10000),('xyz',2.123)]\n",
    "s=SdoCmd(rd_sdo=rd_sdo, wr_sdo=wr_sdo)\n",
    "#s=SdoCmd(rd_sdo=rd_sdo, wr_sdo=[])\n",
    "s.set_bid(696)\n",
    "s"
   ]
  },
  {
   "cell_type": "code",
   "execution_count": 12,
   "metadata": {},
   "outputs": [
    {
     "name": "stdout",
     "output_type": "stream",
     "text": [
      "{'slave_sdo_cmd': {'board_id': 696, 'rd_sdo': ['board_id', 'fw_ver'], 'wr_sdo': [{'name': 'analog_sample_freq_HZ', 'value': 10000}, {'name': 'xyz', 'value': 2.123}]}, 'type': 'SLAVE_SDO_CMD'}\n",
      "type: SLAVE_SDO_CMD\n",
      "slave_sdo_cmd {\n",
      "  board_id: 696\n",
      "  rd_sdo: \"board_id\"\n",
      "  rd_sdo: \"fw_ver\"\n",
      "  wr_sdo {\n",
      "    name: \"analog_sample_freq_HZ\"\n",
      "    value: 10000.0\n",
      "  }\n",
      "  wr_sdo {\n",
      "    name: \"xyz\"\n",
      "    value: 2.122999906539917\n",
      "  }\n",
      "}\n",
      "\n"
     ]
    },
    {
     "data": {
      "text/plain": [
       "{'type': 1, 'cmd_type': 8, 'msg': 'Ok google'}"
      ]
     },
     "execution_count": 12,
     "metadata": {},
     "output_type": "execute_result"
    }
   ],
   "source": [
    "io.doit(s)"
   ]
  },
  {
   "cell_type": "code",
   "execution_count": null,
   "metadata": {},
   "outputs": [],
   "source": []
  },
  {
   "cell_type": "code",
   "execution_count": 2,
   "metadata": {},
   "outputs": [
    {
     "name": "stdout",
     "output_type": "stream",
     "text": [
      "{'ctrl_cmd': {'type': 'CTRL_FAN', 'board_id': 1, 'value': 1, 'gains': {}}, 'type': 'CTRL_CMD'}\n",
      "type: CTRL_CMD\n",
      "ctrl_cmd {\n",
      "  type: CTRL_FAN\n",
      "  board_id: 1\n",
      "  value: 1.0\n",
      "}\n",
      "\n",
      "CPU times: user 1.21 ms, sys: 1.1 ms, total: 2.31 ms\n",
      "Wall time: 2.44 ms\n"
     ]
    },
    {
     "data": {
      "text/plain": [
       "{'type': 2, 'cmd_type': 3, 'msg': 'Slave Id 1 NOT FOUND ==> pos 0'}"
      ]
     },
     "execution_count": 2,
     "metadata": {},
     "output_type": "execute_result"
    }
   ],
   "source": [
    "%time io.doit(ctrl_cmd_fan.set_bid(id).set_value(1))"
   ]
  },
  {
   "cell_type": "code",
   "execution_count": 17,
   "metadata": {},
   "outputs": [
    {
     "name": "stdout",
     "output_type": "stream",
     "text": [
      "CPU times: user 1.11 ms, sys: 176 µs, total: 1.29 ms\n",
      "Wall time: 1.7 ms\n"
     ]
    },
    {
     "data": {
      "text/plain": [
       "{'type': 2, 'cmd_type': 3, 'msg': 'Slave Id 1 NOT FOUND ==> pos 0'}"
      ]
     },
     "execution_count": 17,
     "metadata": {},
     "output_type": "execute_result"
    }
   ],
   "source": [
    "%time io.doit(ctrl_cmd_fan.set_bid(id).set_value(0))"
   ]
  },
  {
   "cell_type": "code",
   "execution_count": 18,
   "metadata": {},
   "outputs": [],
   "source": [
    "io.doit4ids([id],ctrl_cmd_fan.set_value(1))"
   ]
  },
  {
   "cell_type": "code",
   "execution_count": 19,
   "metadata": {},
   "outputs": [
    {
     "data": {
      "text/plain": [
       "{'type': 2, 'cmd_type': 3, 'msg': 'Slave Id 1 NOT FOUND ==> pos 0'}"
      ]
     },
     "execution_count": 19,
     "metadata": {},
     "output_type": "execute_result"
    }
   ],
   "source": [
    "io.doit(ctrl_cmd_set_zero.set_bid(id))"
   ]
  },
  {
   "cell_type": "code",
   "execution_count": 20,
   "metadata": {},
   "outputs": [
    {
     "data": {
      "text/plain": [
       "{'type': 2, 'cmd_type': 3, 'msg': 'Slave Id 1 NOT FOUND ==> pos 0'}"
      ]
     },
     "execution_count": 20,
     "metadata": {},
     "output_type": "execute_result"
    }
   ],
   "source": [
    "io.doit(ctrl_cmd_start.set_bid(1).set_value(0x3b))"
   ]
  },
  {
   "cell_type": "code",
   "execution_count": 21,
   "metadata": {},
   "outputs": [
    {
     "data": {
      "text/plain": [
       "{'type': 2, 'cmd_type': 3, 'msg': 'Slave Id 1 NOT FOUND ==> pos 0'}"
      ]
     },
     "execution_count": 21,
     "metadata": {},
     "output_type": "execute_result"
    }
   ],
   "source": [
    "io.doit(ctrl_cmd_set_min_pos.set_bid(id))"
   ]
  },
  {
   "cell_type": "code",
   "execution_count": 22,
   "metadata": {},
   "outputs": [
    {
     "data": {
      "text/plain": [
       "{'type': 2, 'cmd_type': 3, 'msg': 'Slave Id 1 NOT FOUND ==> pos 0'}"
      ]
     },
     "execution_count": 22,
     "metadata": {},
     "output_type": "execute_result"
    }
   ],
   "source": [
    "io.doit(ctrl_cmd_set_max_pos.set_bid(id))"
   ]
  },
  {
   "cell_type": "code",
   "execution_count": 23,
   "metadata": {},
   "outputs": [],
   "source": [
    "#reply = io.doit(flash_cmd_save2flash(1))"
   ]
  },
  {
   "cell_type": "code",
   "execution_count": 24,
   "metadata": {},
   "outputs": [
    {
     "data": {
      "text/plain": [
       "{'type': 2, 'cmd_type': 3, 'msg': 'Slave Id 1 NOT FOUND ==> pos 0'}"
      ]
     },
     "execution_count": 24,
     "metadata": {},
     "output_type": "execute_result"
    }
   ],
   "source": [
    "io.doit(ctrl_cmd_stop.set_bid(1))"
   ]
  },
  {
   "cell_type": "code",
   "execution_count": 25,
   "metadata": {},
   "outputs": [
    {
     "data": {
      "text/plain": [
       "{'type': 2, 'cmd_type': 3, 'msg': 'Slave Id 1 NOT FOUND ==> pos 0'}"
      ]
     },
     "execution_count": 25,
     "metadata": {},
     "output_type": "execute_result"
    }
   ],
   "source": [
    "io.doit(ctrl_cmd_start.set_bid(1).set_value(0x3b).set_gains(u'POSITION',200,0,15,0,0,0))"
   ]
  },
  {
   "cell_type": "code",
   "execution_count": null,
   "metadata": {},
   "outputs": [],
   "source": []
  },
  {
   "cell_type": "code",
   "execution_count": 2,
   "metadata": {},
   "outputs": [
    {
     "data": {
      "text/plain": [
       "SdoCmd(slave_sdo_cmd=_SdoCmd(board_id=696, rd_sdo=[{'a': 1}, {'b': 2}], wr_sdo=[]), type='SLAVE_SDO_CMD')"
      ]
     },
     "execution_count": 2,
     "metadata": {},
     "output_type": "execute_result"
    }
   ],
   "source": []
  },
  {
   "cell_type": "code",
   "execution_count": 5,
   "metadata": {},
   "outputs": [
    {
     "data": {
      "text/plain": [
       "ecat_repl.base_cmd.SdoCmd"
      ]
     },
     "execution_count": 5,
     "metadata": {},
     "output_type": "execute_result"
    }
   ],
   "source": [
    "SdoCmd"
   ]
  },
  {
   "cell_type": "code",
   "execution_count": null,
   "metadata": {},
   "outputs": [],
   "source": []
  }
 ],
 "metadata": {
  "kernelspec": {
   "display_name": "repl",
   "language": "python",
   "name": "repl"
  },
  "language_info": {
   "codemirror_mode": {
    "name": "ipython",
    "version": 3
   },
   "file_extension": ".py",
   "mimetype": "text/x-python",
   "name": "python",
   "nbconvert_exporter": "python",
   "pygments_lexer": "ipython3",
   "version": "3.7.3"
  }
 },
 "nbformat": 4,
 "nbformat_minor": 2
}
