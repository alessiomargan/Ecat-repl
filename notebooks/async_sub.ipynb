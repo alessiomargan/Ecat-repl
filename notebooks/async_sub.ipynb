{
 "cells": [
  {
   "cell_type": "code",
   "execution_count": null,
   "metadata": {},
   "outputs": [],
   "source": [
    "%run my_import\n",
    "\n",
    "uri = socket.gethostname()+\".local:5555\"\n",
    "#uri = \"com-exp.local:5555\"\n",
    "#uri = \"ipc3-xeno.local:5555\"\n",
    "\n",
    "#uri = \"localhost:5555\"\n",
    "\n",
    "io = set_uri(uri)\n",
    "io.debug = False\n",
    "scan_ids = list(reply_cmd(master_cmd_get_slave_descr).keys())\n",
    "print('Found ESC ids {}'.format(scan_ids))"
   ]
  },
  {
   "cell_type": "code",
   "execution_count": null,
   "metadata": {},
   "outputs": [],
   "source": [
    "import asyncio\n",
    "\n",
    "import zmq\n",
    "import zmq.asyncio\n",
    "import pprint\n",
    "import json\n",
    "from protobuf_to_dict import protobuf_to_dict\n",
    "\n",
    "import sys\n",
    "sys.path.append('/home/amargan/work/code/ecat_dev/ecat_master_advr/build/protobuf')\n",
    "import ecat_pdo_pb2\n",
    "#from ecat_repl import ecat_pdo_pb2\n",
    "\n",
    "# Define a global variable to store the last received data\n",
    "last_recv_data = None,None\n",
    "\n",
    "def process_data(msg_id, data):\n",
    "    rx_pdo = ecat_pdo_pb2.Ec_slave_pdo()\n",
    "    rx_pdo.ParseFromString(data)\n",
    "    pb_dict = protobuf_to_dict(rx_pdo)\n",
    "    return msg_id,pb_dict\n",
    "\n",
    "#from utils import get_address\n",
    "def get_address():\n",
    "    protocol = \"tcp\"\n",
    "    address = \"127.0.0.1\"\n",
    "    port = 9601\n",
    "    return f\"{protocol}://{address}:{port}\"\n",
    "\n",
    "async def zsub():\n",
    "    global last_recv_data\n",
    "    subscriber = zmq.asyncio.Context().socket(zmq.SUB)\n",
    "    subscriber.connect(get_address())\n",
    "    subscriber.subscribe(b\"\")\n",
    "\n",
    "    while True:\n",
    "        msg_id, data = await subscriber.recv_multipart()\n",
    "        # store the last received data\n",
    "        last_recv_data = process_data(msg_id, data)\n",
    "        #pprint.pprint((msg_id, pb_dict))\n",
    "\n"
   ]
  },
  {
   "cell_type": "code",
   "execution_count": null,
   "metadata": {},
   "outputs": [],
   "source": [
    "import nest_asyncio\n",
    "nest_asyncio.apply()\n",
    "\n",
    "# Create a background task for the zsub coroutine\n",
    "zsub_task = asyncio.create_task(zsub())"
   ]
  },
  {
   "cell_type": "code",
   "execution_count": null,
   "metadata": {},
   "outputs": [],
   "source": [
    "last_recv_data"
   ]
  },
  {
   "cell_type": "code",
   "execution_count": null,
   "metadata": {},
   "outputs": [],
   "source": [
    "pprint.pprint(last_recv_data[1]['header'])"
   ]
  },
  {
   "cell_type": "code",
   "execution_count": null,
   "metadata": {},
   "outputs": [],
   "source": [
    "zsub_task.cancel()"
   ]
  },
  {
   "cell_type": "code",
   "execution_count": null,
   "metadata": {},
   "outputs": [],
   "source": []
  }
 ],
 "metadata": {
  "kernelspec": {
   "display_name": "repl",
   "language": "python",
   "name": "python3"
  },
  "language_info": {
   "codemirror_mode": {
    "name": "ipython",
    "version": 3
   },
   "file_extension": ".py",
   "mimetype": "text/x-python",
   "name": "python",
   "nbconvert_exporter": "python",
   "pygments_lexer": "ipython3",
   "version": "3.11.0"
  }
 },
 "nbformat": 4,
 "nbformat_minor": 4
}
