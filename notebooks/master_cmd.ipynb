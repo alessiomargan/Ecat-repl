{
 "cells": [
  {
   "cell_type": "code",
   "execution_count": null,
   "metadata": {},
   "outputs": [],
   "source": [
    "from ctypes import *"
   ]
  },
  {
   "cell_type": "markdown",
   "metadata": {},
   "source": [
    "```cpp\n",
    "typedef struct {\n",
    "\tuint32_t brk:2;\n",
    "\tuint32_t led:1;\n",
    "} pdo_cmd_t;\n",
    "\n",
    "typedef union {\n",
    "\tfloat\t\tf_val;\n",
    "\tuint32_t\tu32_val;\n",
    "\tpdo_cmd_t\tpdo_cmd;\n",
    "} pdo_cmd_union_t;\n",
    "```"
   ]
  },
  {
   "cell_type": "code",
   "execution_count": null,
   "metadata": {},
   "outputs": [],
   "source": [
    "class PDO_CMD(Structure):\n",
    "    _fields_ = [(\"brk\", c_int, 2),\n",
    "                (\"led\", c_int, 1),\n",
    "                (\"spare\", c_int, 29)]\n",
    "\n",
    "class PDO_CMD_U(Union):\n",
    "    _fields_ = [(\"f_val\", c_float),\n",
    "                (\"u32_val\", c_int),\n",
    "                (\"pdo_cmd\", PDO_CMD)]"
   ]
  },
  {
   "cell_type": "code",
   "execution_count": null,
   "metadata": {},
   "outputs": [],
   "source": [
    "c = PDO_CMD\n",
    "c.brk = 1"
   ]
  },
  {
   "cell_type": "code",
   "execution_count": null,
   "metadata": {},
   "outputs": [],
   "source": [
    "u = PDO_CMD_U\n",
    "u.pdo_cmd = c"
   ]
  },
  {
   "cell_type": "code",
   "execution_count": null,
   "metadata": {},
   "outputs": [],
   "source": [
    "print(u.pdo_cmd.brk)"
   ]
  },
  {
   "cell_type": "code",
   "execution_count": null,
   "metadata": {},
   "outputs": [],
   "source": [
    "print(u.f_val)"
   ]
  },
  {
   "cell_type": "code",
   "execution_count": null,
   "metadata": {},
   "outputs": [],
   "source": [
    "print(u.u32_val)"
   ]
  },
  {
   "cell_type": "code",
   "execution_count": null,
   "metadata": {},
   "outputs": [],
   "source": [
    "from struct import pack, unpack"
   ]
  },
  {
   "cell_type": "code",
   "execution_count": null,
   "metadata": {},
   "outputs": [],
   "source": [
    "unpack('f',pack('i',1))[0]"
   ]
  },
  {
   "cell_type": "code",
   "execution_count": null,
   "metadata": {},
   "outputs": [],
   "source": [
    "unpack('i',pack('f',1.401298464324817e-45))[0]"
   ]
  },
  {
   "cell_type": "code",
   "execution_count": null,
   "metadata": {},
   "outputs": [],
   "source": []
  }
 ],
 "metadata": {
  "interpreter": {
   "hash": "0661147acd60ac1af4d14d0b1678c7ff1f1efca3307322eb73cd4bef6b383191"
  },
  "kernelspec": {
   "display_name": "Python 3.7.12 ('repl')",
   "language": "python",
   "name": "python3"
  },
  "language_info": {
   "codemirror_mode": {
    "name": "ipython",
    "version": 3
   },
   "file_extension": ".py",
   "mimetype": "text/x-python",
   "name": "python",
   "nbconvert_exporter": "python",
   "pygments_lexer": "ipython3",
   "version": "3.7.13"
  }
 },
 "nbformat": 4,
 "nbformat_minor": 2
}
