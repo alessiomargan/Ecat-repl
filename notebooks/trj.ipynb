{
 "cells": [
  {
   "cell_type": "code",
   "execution_count": 5,
   "metadata": {
    "pycharm": {
     "is_executing": false
    }
   },
   "outputs": [],
   "source": [
    "%run my_import\n",
    "\n",
    "#uri = socket.gethostname()+\".local:5555\"\n",
    "#uri = \"com-exp.local:5555\"\n",
    "uri = \"localhost:5555\"\n",
    "io = ZmsgIO(uri)\n",
    "\n",
    "ids = [13]\n",
    "bId = ids[0]\n",
    "\n",
    "homing = {\"type\": \"TRJ_CMD\",\n",
    "          \"trajectory_cmd\": {\"type\": \"HOMING\", \"name\": \"homing\", \"board_id\": bId,\n",
    "                             \"homing_par\": {\"x\": [0,3]}}}\n",
    "smooth_1 = {\"type\": \"TRJ_CMD\",\n",
    "          \"trajectory_cmd\": {\"type\": \"SMOOTHER\",\"name\": \"smooth_1\", \"board_id\": bId,\n",
    "                             \"smooth_par\": {\"x\": [0,1,2,3,4], \"y\": [0, 1, 0, 1, 0]}}} \n",
    "smooth_2 = {\"type\": \"TRJ_CMD\",\n",
    "          \"trajectory_cmd\": {\"type\": \"SMOOTHER\",\"name\": \"smooth_2\", \"board_id\": bId,\n",
    "                             \"smooth_par\": {\"x\": [0,1,3,5,7], \"y\": [0,-1, 1,-1, 0]}}} \n",
    "smooth_3 = {\"type\": \"TRJ_CMD\",\n",
    "          \"trajectory_cmd\": {\"type\": \"SMOOTHER\",\"name\": \"smooth_3\", \"board_id\": bId,\n",
    "                             \"smooth_par\": {\"x\": [0,3], \"y\": [1,-1]}}} \n",
    "sine = {\"type\": \"TRJ_CMD\",\n",
    "        \"trajectory_cmd\": {\"type\": \"SINE\", \"name\": \"sine\", \"board_id\": bId,\n",
    "                           \"period_par\": {\"freq\": 0.2, \"ampl\": 2.79, \"teta\": 0, \"secs\": 500}}}\n",
    "\n",
    "add_homing = {\"type\": \"TRJ_QUEUE_CMD\",\n",
    "              \"trj_queue_cmd\": {\"type\": \"PUSH_QUE\", \"trj_names\": [\"homing\"]}}\n",
    "add_sine =   {\"type\": \"TRJ_QUEUE_CMD\",\n",
    "              \"trj_queue_cmd\": {\"type\": \"PUSH_QUE\", \"trj_names\": [\"sine\"]}}\n",
    "add_smooth = {\"type\": \"TRJ_QUEUE_CMD\",\n",
    "              \"trj_queue_cmd\": {\"type\": \"PUSH_QUE\", \"trj_names\": [\"smooth_1\",\"smooth_2\"]}}\n",
    "add_smooth_3 = {\"type\": \"TRJ_QUEUE_CMD\",\n",
    "              \"trj_queue_cmd\": {\"type\": \"PUSH_QUE\", \"trj_names\": [\"smooth_3\"]}}\n",
    "add_all =    {\"type\": \"TRJ_QUEUE_CMD\",\n",
    "              \"trj_queue_cmd\": {\"type\": \"PUSH_QUE\",\n",
    "                                \"trj_names\": [\"homing\",\"smooth_1\",\"smooth_2\",\"smooth_3\"]}}\n",
    "\n",
    "\n"
   ]
  },
  {
   "cell_type": "code",
   "execution_count": 6,
   "metadata": {
    "pycharm": {
     "is_executing": false
    }
   },
   "outputs": [],
   "source": [
    "reply = io.doit4ids(ids,ctrl_cmd_set_home)\n",
    "reply = io.doit4ids(ids,ctrl_cmd_start.set_value(0x3B).set_gains(u'POSITION',200,0,15,0,0,0))"
   ]
  },
  {
   "cell_type": "code",
   "execution_count": 7,
   "metadata": {
    "pycharm": {}
   },
   "outputs": [],
   "source": [
    "# define trajectories\n",
    "reply = io.doit4ids(ids,homing)\n",
    "reply = io.doit4ids(ids,smooth_1)\n",
    "reply = io.doit4ids(ids,smooth_2)\n",
    "reply = io.doit4ids(ids,smooth_3)\n",
    "reply = io.doit4ids(ids,sine)\n"
   ]
  },
  {
   "cell_type": "code",
   "execution_count": 8,
   "metadata": {
    "pycharm": {}
   },
   "outputs": [],
   "source": [
    "reply = io.doit4ids(ids,add_all)\n",
    "reply = io.doit4ids(ids,add_homing)\n",
    "reply = io.doit4ids(ids,add_sine)\n",
    "reply = io.doit4ids(ids,add_homing)"
   ]
  },
  {
   "cell_type": "code",
   "execution_count": 9,
   "metadata": {
    "pycharm": {}
   },
   "outputs": [],
   "source": [
    "reply = io.doit4ids(ids,add_homing)\n",
    "reply = io.doit4ids(ids,add_sine)"
   ]
  },
  {
   "cell_type": "code",
   "execution_count": 8,
   "metadata": {
    "pycharm": {}
   },
   "outputs": [],
   "source": [
    "reply = io.doit4ids(ids,add_homing)"
   ]
  },
  {
   "cell_type": "code",
   "execution_count": 9,
   "metadata": {
    "pycharm": {}
   },
   "outputs": [],
   "source": [
    "reply = io.doit4ids(ids,add_smooth_3)"
   ]
  },
  {
   "cell_type": "code",
   "execution_count": null,
   "metadata": {
    "pycharm": {}
   },
   "outputs": [],
   "source": [
    "reply = io.doit4ids(ids,add_smooth)"
   ]
  },
  {
   "cell_type": "code",
   "execution_count": 55,
   "metadata": {
    "pycharm": {}
   },
   "outputs": [],
   "source": [
    "reply = io.doit4ids(ids,ctrl_cmd_stop)"
   ]
  },
  {
   "cell_type": "code",
   "execution_count": 62,
   "metadata": {
    "pycharm": {}
   },
   "outputs": [],
   "source": [
    "io.doit4ids(ids,ctrl_cmd_fan.set_value(1))"
   ]
  },
  {
   "cell_type": "code",
   "execution_count": 61,
   "metadata": {
    "pycharm": {}
   },
   "outputs": [],
   "source": [
    "io.doit4ids(ids,ctrl_cmd_fan.set_value(0))"
   ]
  },
  {
   "cell_type": "code",
   "execution_count": null,
   "metadata": {
    "pycharm": {}
   },
   "outputs": [],
   "source": []
  }
 ],
 "metadata": {
  "kernelspec": {
   "display_name": "Python 3",
   "language": "python",
   "name": "python3"
  },
  "language_info": {
   "codemirror_mode": {
    "name": "ipython",
    "version": 3
   },
   "file_extension": ".py",
   "mimetype": "text/x-python",
   "name": "python",
   "nbconvert_exporter": "python",
   "pygments_lexer": "ipython3",
   "version": "3.7.1"
  }
 },
 "nbformat": 4,
 "nbformat_minor": 2
}
