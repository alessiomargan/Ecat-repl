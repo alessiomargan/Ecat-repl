{
 "cells": [
  {
   "cell_type": "code",
   "execution_count": 18,
   "metadata": {},
   "outputs": [
    {
     "name": "stdout",
     "output_type": "stream",
     "text": [
      "/home/amargan/work/anaconda3/bin/python\n"
     ]
    }
   ],
   "source": [
    "%run my_import\n",
    "\n",
    "#uri = socket.gethostname()+\".local:5555\"\n",
    "uri = \"localhost:5555\"\n",
    "#uri = \"nuc-i7.local:5555\"\n",
    "#uri = \"com-exp.local:5555\"\n",
    "#uri = \"cogimon-rt-exp:5555\"\n",
    "io = ZmsgIO(uri)\n",
    "io.debug = False"
   ]
  },
  {
   "cell_type": "code",
   "execution_count": 19,
   "metadata": {},
   "outputs": [
    {
     "data": {
      "text/plain": [
       "[201]"
      ]
     },
     "execution_count": 19,
     "metadata": {},
     "output_type": "execute_result"
    }
   ],
   "source": [
    "reply = io.doit(master_cmd_get_slave_descr)\n",
    "yaml_msg = yaml.safe_load(reply['msg'])\n",
    "scan_ids = yaml_msg.keys()\n",
    "ids=list(scan_ids)\n",
    "ids"
   ]
  },
  {
   "cell_type": "code",
   "execution_count": 20,
   "metadata": {},
   "outputs": [
    {
     "data": {
      "text/plain": [
       "['V_batt',\n",
       " 'V_load',\n",
       " 'I_load',\n",
       " 'Temp_pcb',\n",
       " 'Temp_heatsink',\n",
       " 'Temp_batt',\n",
       " 'status',\n",
       " 'fault',\n",
       " 'op_idx_ack',\n",
       " 'tx_aux',\n",
       " 'master_cmd',\n",
       " 'fault_ack',\n",
       " 'op_idx_aux',\n",
       " 'rx_aux',\n",
       " 'Hardware_config',\n",
       " 'Serial_Number_A',\n",
       " 'module_params',\n",
       " 'TA_LEM_Offset',\n",
       " 'TA_LEM_Sign',\n",
       " 'm3_fw_ver',\n",
       " 'c28_fw_ver',\n",
       " 'ctrl_status_cmd',\n",
       " 'ctrl_status_cmd_ack',\n",
       " 'flash_params_cmd',\n",
       " 'flash_params_cmd_ack',\n",
       " 'v_batt',\n",
       " 'v_load',\n",
       " 'i_load',\n",
       " 't_board',\n",
       " 't_heat',\n",
       " 't_batt',\n",
       " 'board_status',\n",
       " 'board_fault',\n",
       " 'FSM',\n",
       " 'rtt',\n",
       " 'fsm_aux',\n",
       " 'ts',\n",
       " 'adc_0',\n",
       " 'adc_2',\n",
       " 'adc_3',\n",
       " 'adc_8',\n",
       " 'adc_10',\n",
       " 'adc_11']"
      ]
     },
     "execution_count": 20,
     "metadata": {},
     "output_type": "execute_result"
    }
   ],
   "source": [
    "reply = io.doit(SdoInfo(u'SDO_NAME').set_bid(ids[0]))\n",
    "yaml_msg = yaml.safe_load(reply['msg'])\n",
    "sdo_names = yaml_msg\n",
    "sdo_names"
   ]
  },
  {
   "cell_type": "code",
   "execution_count": 21,
   "metadata": {},
   "outputs": [],
   "source": [
    "reply = io.doit(SdoInfo(u'SDO_OBJD').set_bid(ids[0]))\n",
    "yaml_msg = yaml.safe_load(reply['msg'])\n",
    "sdo_objd = yaml_msg\n",
    "#sdo_objd"
   ]
  },
  {
   "cell_type": "code",
   "execution_count": 22,
   "metadata": {},
   "outputs": [
    {
     "data": {
      "text/plain": [
       "{'type': 1,\n",
       " 'cmd_type': 7,\n",
       " 'msg': '{c28_fw_ver: 210402**, m3_fw_ver: 21041314, module_params: 0}'}"
      ]
     },
     "execution_count": 22,
     "metadata": {},
     "output_type": "execute_result"
    }
   ],
   "source": [
    "s=SdoCmd(rd_sdo=['m3_fw_ver','c28_fw_ver','module_params'],wr_sdo={}).set_bid(ids[0])\n",
    "io.doit(s)"
   ]
  },
  {
   "cell_type": "code",
   "execution_count": 23,
   "metadata": {},
   "outputs": [
    {
     "data": {
      "text/plain": [
       "{'type': 1,\n",
       " 'cmd_type': 7,\n",
       " 'msg': '{FSM: 7, Hardware_config: 0, I_load: -2100, Serial_Number_A: 0, TA_LEM_Offset: 3.145000, TA_LEM_Sign: 1.000000, Temp_batt: 0, Temp_heatsink: 0, Temp_pcb: 0, V_batt: 0, V_load: 0, adc_0: 0, adc_10: 1, adc_11: 0, adc_2: 0, adc_3: 0, adc_8: 978, board_fault: 0, board_status: 51, c28_fw_ver: 210402**, ctrl_status_cmd: 39, ctrl_status_cmd_ack: 30759, fault: 0, fault_ack: 0, flash_params_cmd: 0, flash_params_cmd_ack: 0, fsm_aux: 7.000000, i_load: -210.011215, m3_fw_ver: 21041314, master_cmd: 0, module_params: 0, op_idx_ack: 259, op_idx_aux: 2, rtt: 29815.000000, rx_aux: 0.000000, status: 51, t_batt: 0.000000, t_board: 0.000000, t_heat: 0.000000, ts: 29815.000000, tx_aux: 7.000000, v_batt: 0.000000, v_load: 0.000000}'}"
      ]
     },
     "execution_count": 23,
     "metadata": {},
     "output_type": "execute_result"
    }
   ],
   "source": [
    "s=SdoCmd(rd_sdo=sdo_names,wr_sdo={}).set_bid(ids[0])\n",
    "io.doit(s)"
   ]
  },
  {
   "cell_type": "code",
   "execution_count": null,
   "metadata": {},
   "outputs": [],
   "source": [
    "adc_name=['adc_0','adc_2','adc_3','adc_8','adc_10','adc_11',]\n",
    "cmd=SdoCmd(rd_sdo=adc_name,wr_sdo={}).set_bid(ids[0])\n",
    "for i in range(100) :\n",
    "    reply=io.doit(cmd)\n",
    "    print(reply['msg'])\n"
   ]
  },
  {
   "cell_type": "code",
   "execution_count": 15,
   "metadata": {},
   "outputs": [
    {
     "data": {
      "text/plain": [
       "{'type': 1,\n",
       " 'cmd_type': 7,\n",
       " 'msg': '{FSM: 7, Hardware_config: 0, I_load: -2060, Serial_Number_A: 0, TA_LEM_Offset: 3.145000, TA_LEM_Sign: 1.000000, Temp_batt: 0, Temp_heatsink: 0, Temp_pcb: 0, V_batt: 0, V_load: 0, adc_0: 0, adc_10: 1, adc_11: 2, adc_2: 0, adc_3: 0, adc_8: 995, board_fault: 0, board_status: 51, c28_fw_ver: 210402**, ctrl_status_cmd: 39, ctrl_status_cmd_ack: 30759, fault: 0, fault_ack: 0, flash_params_cmd: 0, flash_params_cmd_ack: 0, fsm_aux: 7.000000, i_load: -206.857925, m3_fw_ver: 21041314, master_cmd: 0, module_params: 0, op_idx_ack: 259, op_idx_aux: 2, rtt: 42763.000000, rx_aux: 0.000000, status: 51, t_batt: 0.000000, t_board: 0.000000, t_heat: 0.000000, ts: 42763.000000, tx_aux: 7.000000, v_batt: 0.000000, v_load: 0.000000}'}"
      ]
     },
     "execution_count": 15,
     "metadata": {},
     "output_type": "execute_result"
    }
   ],
   "source": [
    "s=SdoCmd(rd_sdo=sdo_names,wr_sdo={\"TA_LEM_Offset\":3.145}).set_bid(ids[0])\n",
    "io.doit(s)"
   ]
  },
  {
   "cell_type": "code",
   "execution_count": null,
   "metadata": {},
   "outputs": [],
   "source": []
  },
  {
   "cell_type": "code",
   "execution_count": 16,
   "metadata": {},
   "outputs": [
    {
     "data": {
      "text/plain": [
       "{'type': 1, 'cmd_type': 3, 'msg': 'Ok !!!'}"
      ]
     },
     "execution_count": 16,
     "metadata": {},
     "output_type": "execute_result"
    }
   ],
   "source": [
    "io.doit(flash_cmd_save_flash.set_bid(ids[0]))\n",
    "#g=io.doit4ids([1],flash_cmd_save_flash)"
   ]
  },
  {
   "cell_type": "code",
   "execution_count": null,
   "metadata": {},
   "outputs": [],
   "source": []
  },
  {
   "cell_type": "code",
   "execution_count": null,
   "metadata": {},
   "outputs": [],
   "source": []
  },
  {
   "cell_type": "code",
   "execution_count": null,
   "metadata": {},
   "outputs": [],
   "source": []
  },
  {
   "cell_type": "code",
   "execution_count": null,
   "metadata": {},
   "outputs": [],
   "source": []
  },
  {
   "cell_type": "code",
   "execution_count": null,
   "metadata": {},
   "outputs": [],
   "source": []
  },
  {
   "cell_type": "code",
   "execution_count": null,
   "metadata": {},
   "outputs": [],
   "source": []
  },
  {
   "cell_type": "code",
   "execution_count": null,
   "metadata": {},
   "outputs": [],
   "source": []
  }
 ],
 "metadata": {
  "kernelspec": {
   "display_name": "Python 3",
   "language": "python",
   "name": "python3"
  },
  "language_info": {
   "codemirror_mode": {
    "name": "ipython",
    "version": 3
   },
   "file_extension": ".py",
   "mimetype": "text/x-python",
   "name": "python",
   "nbconvert_exporter": "python",
   "pygments_lexer": "ipython3",
   "version": "3.7.9"
  }
 },
 "nbformat": 4,
 "nbformat_minor": 4
}
