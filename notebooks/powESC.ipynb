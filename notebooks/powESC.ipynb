{
 "cells": [
  {
   "cell_type": "code",
   "execution_count": null,
   "metadata": {},
   "outputs": [],
   "source": [
    "%run my_import\n",
    "\n",
    "#uri = socket.gethostname()+\".local:5555\"\n",
    "#uri = \"localhost:5555\"\n",
    "#uri = \"nuc-i7.local:5555\"\n",
    "uri = \"com-exp.local:5555\"\n",
    "#uri = \"cogimon-rt-exp:5555\"\n",
    "io = ZmsgIO(uri)\n",
    "io.debug = False"
   ]
  },
  {
   "cell_type": "code",
   "execution_count": null,
   "metadata": {},
   "outputs": [],
   "source": [
    "reply = io.doit(master_cmd_get_slave_descr)\n",
    "yaml_msg = yaml.safe_load(reply['msg'])\n",
    "scan_ids = yaml_msg.keys()\n",
    "ids=list(scan_ids)\n",
    "ids"
   ]
  },
  {
   "cell_type": "code",
   "execution_count": null,
   "metadata": {},
   "outputs": [],
   "source": [
    "reply = io.doit(SdoInfo(u'SDO_NAME').set_bid(ids[0]))\n",
    "yaml_msg = yaml.safe_load(reply['msg'])\n",
    "sdo_names = yaml_msg\n",
    "sdo_names"
   ]
  },
  {
   "cell_type": "code",
   "execution_count": null,
   "metadata": {},
   "outputs": [],
   "source": [
    "reply = io.doit(SdoInfo(u'SDO_OBJD').set_bid(ids[0]))\n",
    "yaml_msg = yaml.safe_load(reply['msg'])\n",
    "sdo_objd = yaml_msg\n",
    "sdo_objd"
   ]
  },
  {
   "cell_type": "code",
   "execution_count": null,
   "metadata": {},
   "outputs": [],
   "source": [
    "s=SdoCmd(rd_sdo=['m3_fw_ver','c28_fw_ver','module_params'],wr_sdo={}).set_bid(ids[0])\n",
    "io.doit(s)"
   ]
  },
  {
   "cell_type": "code",
   "execution_count": null,
   "metadata": {},
   "outputs": [],
   "source": [
    "s=SdoCmd(rd_sdo=sdo_names,wr_sdo={}).set_bid(ids[0])\n",
    "io.doit(s)"
   ]
  },
  {
   "cell_type": "code",
   "execution_count": 10,
   "metadata": {},
   "outputs": [
    {
     "name": "stdout",
     "output_type": "stream",
     "text": [
      "{adc_0: 2575, adc_10: 2573, adc_11: 2850, adc_2: 1182, adc_3: 0, adc_8: 1529}\n",
      "{adc_0: 2576, adc_10: 2573, adc_11: 2851, adc_2: 1182, adc_3: 33, adc_8: 1532}\n",
      "{adc_0: 2578, adc_10: 2571, adc_11: 2850, adc_2: 1185, adc_3: 0, adc_8: 1532}\n",
      "{adc_0: 2577, adc_10: 2573, adc_11: 2850, adc_2: 1183, adc_3: 0, adc_8: 1543}\n",
      "{adc_0: 2576, adc_10: 2572, adc_11: 2850, adc_2: 1179, adc_3: 0, adc_8: 1530}\n",
      "{adc_0: 2571, adc_10: 2572, adc_11: 2849, adc_2: 1183, adc_3: 0, adc_8: 1534}\n",
      "{adc_0: 2578, adc_10: 2572, adc_11: 2853, adc_2: 1178, adc_3: 0, adc_8: 1530}\n",
      "{adc_0: 2562, adc_10: 2571, adc_11: 2851, adc_2: 1181, adc_3: 0, adc_8: 1529}\n",
      "{adc_0: 2576, adc_10: 2572, adc_11: 2851, adc_2: 1198, adc_3: 17, adc_8: 1532}\n",
      "{adc_0: 2576, adc_10: 2573, adc_11: 2850, adc_2: 1179, adc_3: 0, adc_8: 1530}\n",
      "{adc_0: 2577, adc_10: 2572, adc_11: 2850, adc_2: 1185, adc_3: 0, adc_8: 1540}\n",
      "{adc_0: 2577, adc_10: 2572, adc_11: 2850, adc_2: 1175, adc_3: 0, adc_8: 1532}\n",
      "{adc_0: 2577, adc_10: 2574, adc_11: 2850, adc_2: 1210, adc_3: 0, adc_8: 1541}\n",
      "{adc_0: 2576, adc_10: 2572, adc_11: 2850, adc_2: 1180, adc_3: 0, adc_8: 1532}\n",
      "{adc_0: 2576, adc_10: 2573, adc_11: 2850, adc_2: 1182, adc_3: 0, adc_8: 1531}\n",
      "{adc_0: 2578, adc_10: 2572, adc_11: 2851, adc_2: 1177, adc_3: 0, adc_8: 1529}\n",
      "{adc_0: 2583, adc_10: 2574, adc_11: 2840, adc_2: 1184, adc_3: 0, adc_8: 1532}\n",
      "{adc_0: 2578, adc_10: 2573, adc_11: 2851, adc_2: 1180, adc_3: 0, adc_8: 1531}\n",
      "{adc_0: 2575, adc_10: 2573, adc_11: 2851, adc_2: 1178, adc_3: 0, adc_8: 1531}\n",
      "{adc_0: 2572, adc_10: 2574, adc_11: 2850, adc_2: 1180, adc_3: 0, adc_8: 1533}\n",
      "{adc_0: 2576, adc_10: 2573, adc_11: 2851, adc_2: 1178, adc_3: 0, adc_8: 1526}\n",
      "{adc_0: 2573, adc_10: 2573, adc_11: 2851, adc_2: 1182, adc_3: 4, adc_8: 1532}\n",
      "{adc_0: 2575, adc_10: 2573, adc_11: 2850, adc_2: 1172, adc_3: 0, adc_8: 1530}\n",
      "{adc_0: 2576, adc_10: 2572, adc_11: 2850, adc_2: 1056, adc_3: 0, adc_8: 1530}\n",
      "{adc_0: 2582, adc_10: 2573, adc_11: 2851, adc_2: 1185, adc_3: 0, adc_8: 1532}\n",
      "{adc_0: 2576, adc_10: 2573, adc_11: 2850, adc_2: 1182, adc_3: 0, adc_8: 1532}\n",
      "{adc_0: 2576, adc_10: 2573, adc_11: 2851, adc_2: 1169, adc_3: 0, adc_8: 1528}\n",
      "{adc_0: 2577, adc_10: 2572, adc_11: 2850, adc_2: 1192, adc_3: 0, adc_8: 1533}\n",
      "{adc_0: 2574, adc_10: 2571, adc_11: 2850, adc_2: 1142, adc_3: 0, adc_8: 1530}\n",
      "{adc_0: 2575, adc_10: 2572, adc_11: 2849, adc_2: 1192, adc_3: 0, adc_8: 1533}\n",
      "{adc_0: 2577, adc_10: 2572, adc_11: 2851, adc_2: 1182, adc_3: 0, adc_8: 1529}\n",
      "{adc_0: 2576, adc_10: 2573, adc_11: 2850, adc_2: 1183, adc_3: 0, adc_8: 1530}\n",
      "{adc_0: 2576, adc_10: 2572, adc_11: 2851, adc_2: 1182, adc_3: 0, adc_8: 1533}\n",
      "{adc_0: 2575, adc_10: 2572, adc_11: 2851, adc_2: 1187, adc_3: 0, adc_8: 1525}\n",
      "{adc_0: 2575, adc_10: 2572, adc_11: 2854, adc_2: 1178, adc_3: 0, adc_8: 1530}\n",
      "{adc_0: 2576, adc_10: 2573, adc_11: 2850, adc_2: 1182, adc_3: 0, adc_8: 1533}\n",
      "{adc_0: 2575, adc_10: 2570, adc_11: 2851, adc_2: 1179, adc_3: 0, adc_8: 1530}\n",
      "{adc_0: 2591, adc_10: 2572, adc_11: 2851, adc_2: 1178, adc_3: 0, adc_8: 1532}\n",
      "{adc_0: 2577, adc_10: 2573, adc_11: 2850, adc_2: 1187, adc_3: 0, adc_8: 1536}\n",
      "{adc_0: 2578, adc_10: 2570, adc_11: 2851, adc_2: 1180, adc_3: 0, adc_8: 1533}\n",
      "{adc_0: 2577, adc_10: 2572, adc_11: 2852, adc_2: 1168, adc_3: 0, adc_8: 1531}\n",
      "{adc_0: 2575, adc_10: 2571, adc_11: 2851, adc_2: 1180, adc_3: 2, adc_8: 1531}\n",
      "{adc_0: 2576, adc_10: 2573, adc_11: 2843, adc_2: 1180, adc_3: 0, adc_8: 1546}\n",
      "{adc_0: 2577, adc_10: 2573, adc_11: 2850, adc_2: 1181, adc_3: 0, adc_8: 1539}\n",
      "{adc_0: 2574, adc_10: 2573, adc_11: 2849, adc_2: 1180, adc_3: 21, adc_8: 1531}\n",
      "{adc_0: 2576, adc_10: 2573, adc_11: 2851, adc_2: 1181, adc_3: 0, adc_8: 1532}\n",
      "{adc_0: 2577, adc_10: 2574, adc_11: 2851, adc_2: 1178, adc_3: 0, adc_8: 1530}\n",
      "{adc_0: 2576, adc_10: 2572, adc_11: 2854, adc_2: 1168, adc_3: 0, adc_8: 1523}\n",
      "{adc_0: 2576, adc_10: 2572, adc_11: 2849, adc_2: 1199, adc_3: 0, adc_8: 1527}\n",
      "{adc_0: 2579, adc_10: 2572, adc_11: 2850, adc_2: 1167, adc_3: 0, adc_8: 1531}\n",
      "{adc_0: 2576, adc_10: 2574, adc_11: 2851, adc_2: 1181, adc_3: 0, adc_8: 1531}\n",
      "{adc_0: 2574, adc_10: 2573, adc_11: 2850, adc_2: 1183, adc_3: 0, adc_8: 1531}\n",
      "{adc_0: 2575, adc_10: 2572, adc_11: 2851, adc_2: 1184, adc_3: 0, adc_8: 1532}\n",
      "{adc_0: 2575, adc_10: 2572, adc_11: 2851, adc_2: 1164, adc_3: 0, adc_8: 1534}\n",
      "{adc_0: 2574, adc_10: 2575, adc_11: 2851, adc_2: 1180, adc_3: 0, adc_8: 1530}\n",
      "{adc_0: 2577, adc_10: 2573, adc_11: 2851, adc_2: 1232, adc_3: 0, adc_8: 1532}\n",
      "{adc_0: 2576, adc_10: 2573, adc_11: 2850, adc_2: 1178, adc_3: 0, adc_8: 1525}\n",
      "{adc_0: 2574, adc_10: 2572, adc_11: 2849, adc_2: 1180, adc_3: 0, adc_8: 1533}\n",
      "{adc_0: 2573, adc_10: 2573, adc_11: 2851, adc_2: 1182, adc_3: 0, adc_8: 1530}\n",
      "{adc_0: 2577, adc_10: 2571, adc_11: 2848, adc_2: 1186, adc_3: 0, adc_8: 1532}\n",
      "{adc_0: 2577, adc_10: 2572, adc_11: 2850, adc_2: 1181, adc_3: 0, adc_8: 1530}\n",
      "{adc_0: 2576, adc_10: 2569, adc_11: 2851, adc_2: 1178, adc_3: 0, adc_8: 1529}\n",
      "{adc_0: 2576, adc_10: 2574, adc_11: 2850, adc_2: 1184, adc_3: 0, adc_8: 1503}\n",
      "{adc_0: 2576, adc_10: 2574, adc_11: 2851, adc_2: 1176, adc_3: 0, adc_8: 1541}\n",
      "{adc_0: 2573, adc_10: 2574, adc_11: 2850, adc_2: 1181, adc_3: 0, adc_8: 1531}\n",
      "{adc_0: 2571, adc_10: 2571, adc_11: 2852, adc_2: 1179, adc_3: 0, adc_8: 1532}\n",
      "{adc_0: 2577, adc_10: 2572, adc_11: 2850, adc_2: 1181, adc_3: 0, adc_8: 1530}\n",
      "{adc_0: 2577, adc_10: 2572, adc_11: 2851, adc_2: 1183, adc_3: 0, adc_8: 1538}\n",
      "{adc_0: 2573, adc_10: 2573, adc_11: 2850, adc_2: 1176, adc_3: 0, adc_8: 1532}\n",
      "{adc_0: 2576, adc_10: 2573, adc_11: 2849, adc_2: 1177, adc_3: 0, adc_8: 1532}\n",
      "{adc_0: 2576, adc_10: 2573, adc_11: 2850, adc_2: 1180, adc_3: 0, adc_8: 1564}\n",
      "{adc_0: 2575, adc_10: 2573, adc_11: 2851, adc_2: 1181, adc_3: 0, adc_8: 1532}\n",
      "{adc_0: 2575, adc_10: 2572, adc_11: 2850, adc_2: 1182, adc_3: 0, adc_8: 1532}\n",
      "{adc_0: 2577, adc_10: 2573, adc_11: 2852, adc_2: 1183, adc_3: 0, adc_8: 1533}\n",
      "{adc_0: 2575, adc_10: 2573, adc_11: 2846, adc_2: 1179, adc_3: 0, adc_8: 1530}\n",
      "{adc_0: 2577, adc_10: 2573, adc_11: 2851, adc_2: 1179, adc_3: 0, adc_8: 1532}\n",
      "{adc_0: 2577, adc_10: 2573, adc_11: 2868, adc_2: 1183, adc_3: 0, adc_8: 1533}\n",
      "{adc_0: 2577, adc_10: 2572, adc_11: 2851, adc_2: 1169, adc_3: 0, adc_8: 1533}\n",
      "{adc_0: 2576, adc_10: 2573, adc_11: 2850, adc_2: 1180, adc_3: 0, adc_8: 1529}\n",
      "{adc_0: 2577, adc_10: 2578, adc_11: 2850, adc_2: 1176, adc_3: 0, adc_8: 1556}\n",
      "{adc_0: 2576, adc_10: 2573, adc_11: 2850, adc_2: 1176, adc_3: 0, adc_8: 1531}\n",
      "{adc_0: 2573, adc_10: 2571, adc_11: 2850, adc_2: 1211, adc_3: 0, adc_8: 1533}\n",
      "{adc_0: 2573, adc_10: 2576, adc_11: 2850, adc_2: 1181, adc_3: 0, adc_8: 1519}\n",
      "{adc_0: 2576, adc_10: 2573, adc_11: 2851, adc_2: 1187, adc_3: 0, adc_8: 1533}\n",
      "{adc_0: 2575, adc_10: 2571, adc_11: 2850, adc_2: 1182, adc_3: 0, adc_8: 1533}\n",
      "{adc_0: 2577, adc_10: 2572, adc_11: 2851, adc_2: 1181, adc_3: 0, adc_8: 1529}\n",
      "{adc_0: 2577, adc_10: 2573, adc_11: 2850, adc_2: 1181, adc_3: 0, adc_8: 1531}\n",
      "{adc_0: 2577, adc_10: 2578, adc_11: 2847, adc_2: 1193, adc_3: 0, adc_8: 1531}\n",
      "{adc_0: 2574, adc_10: 2573, adc_11: 2849, adc_2: 1179, adc_3: 0, adc_8: 1529}\n",
      "{adc_0: 2575, adc_10: 2573, adc_11: 2850, adc_2: 1152, adc_3: 0, adc_8: 1531}\n",
      "{adc_0: 2576, adc_10: 2567, adc_11: 2851, adc_2: 1181, adc_3: 3, adc_8: 1545}\n",
      "{adc_0: 2576, adc_10: 2573, adc_11: 2851, adc_2: 1178, adc_3: 0, adc_8: 1529}\n",
      "{adc_0: 2578, adc_10: 2573, adc_11: 2849, adc_2: 1178, adc_3: 0, adc_8: 1530}\n",
      "{adc_0: 2577, adc_10: 2573, adc_11: 2845, adc_2: 1179, adc_3: 0, adc_8: 1526}\n",
      "{adc_0: 2576, adc_10: 2572, adc_11: 2850, adc_2: 1182, adc_3: 0, adc_8: 1530}\n",
      "{adc_0: 2576, adc_10: 2572, adc_11: 2850, adc_2: 1165, adc_3: 0, adc_8: 1535}\n",
      "{adc_0: 2576, adc_10: 2572, adc_11: 2852, adc_2: 1159, adc_3: 0, adc_8: 1532}\n",
      "{adc_0: 2577, adc_10: 2574, adc_11: 2851, adc_2: 1178, adc_3: 0, adc_8: 1529}\n",
      "{adc_0: 2560, adc_10: 2571, adc_11: 2850, adc_2: 1183, adc_3: 0, adc_8: 1532}\n",
      "{adc_0: 2574, adc_10: 2573, adc_11: 2850, adc_2: 1180, adc_3: 0, adc_8: 1568}\n"
     ]
    }
   ],
   "source": [
    "adc_name=['adc_0','adc_2','adc_3','adc_8','adc_10','adc_11',]\n",
    "cmd=SdoCmd(rd_sdo=adc_name,wr_sdo={}).set_bid(ids[0])\n",
    "for i in range(100) :\n",
    "    reply=io.doit(cmd)\n",
    "    print(reply['msg'])\n"
   ]
  },
  {
   "cell_type": "code",
   "execution_count": null,
   "metadata": {},
   "outputs": [],
   "source": []
  },
  {
   "cell_type": "code",
   "execution_count": null,
   "metadata": {},
   "outputs": [],
   "source": []
  },
  {
   "cell_type": "code",
   "execution_count": null,
   "metadata": {},
   "outputs": [],
   "source": []
  },
  {
   "cell_type": "code",
   "execution_count": null,
   "metadata": {},
   "outputs": [],
   "source": []
  },
  {
   "cell_type": "code",
   "execution_count": null,
   "metadata": {},
   "outputs": [],
   "source": []
  },
  {
   "cell_type": "code",
   "execution_count": null,
   "metadata": {},
   "outputs": [],
   "source": []
  },
  {
   "cell_type": "code",
   "execution_count": null,
   "metadata": {},
   "outputs": [],
   "source": []
  },
  {
   "cell_type": "code",
   "execution_count": null,
   "metadata": {},
   "outputs": [],
   "source": []
  },
  {
   "cell_type": "code",
   "execution_count": null,
   "metadata": {},
   "outputs": [],
   "source": []
  }
 ],
 "metadata": {
  "kernelspec": {
   "display_name": "Python 3",
   "language": "python",
   "name": "python3"
  },
  "language_info": {
   "codemirror_mode": {
    "name": "ipython",
    "version": 3
   },
   "file_extension": ".py",
   "mimetype": "text/x-python",
   "name": "python",
   "nbconvert_exporter": "python",
   "pygments_lexer": "ipython3",
   "version": "3.7.9"
  }
 },
 "nbformat": 4,
 "nbformat_minor": 4
}
