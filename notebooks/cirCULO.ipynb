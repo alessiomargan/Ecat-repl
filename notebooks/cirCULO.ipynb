{
 "cells": [
  {
   "cell_type": "code",
   "execution_count": 1,
   "metadata": {},
   "outputs": [
    {
     "name": "stdout",
     "output_type": "stream",
     "text": [
      "Python path : /home/amargan/work/anaconda3/envs/repl/bin/python\n",
      "Python version : 3.11.0 | packaged by conda-forge | (main, Jan 14 2023, 12:28:47) [GCC 11.3.0]\n"
     ]
    },
    {
     "ename": "ModuleNotFoundError",
     "evalue": "No module named 'header_pb2'",
     "output_type": "error",
     "traceback": [
      "\u001b[0;31m---------------------------------------------------------------------------\u001b[0m",
      "\u001b[0;31mModuleNotFoundError\u001b[0m                       Traceback (most recent call last)",
      "File \u001b[0;32m~/work/code/python/ecat_repl/notebooks/my_import.py:14\u001b[0m\n\u001b[1;32m     11\u001b[0m \u001b[39mprint\u001b[39m(\u001b[39m\"\u001b[39m\u001b[39mPython path :\u001b[39m\u001b[39m\"\u001b[39m, sys\u001b[39m.\u001b[39mexecutable)\n\u001b[1;32m     12\u001b[0m \u001b[39mprint\u001b[39m(\u001b[39m\"\u001b[39m\u001b[39mPython version :\u001b[39m\u001b[39m\"\u001b[39m, sys\u001b[39m.\u001b[39mversion)\n\u001b[0;32m---> 14\u001b[0m \u001b[39mfrom\u001b[39;00m \u001b[39mecat_repl\u001b[39;00m \u001b[39mimport\u001b[39;00m ZmsgIO\n\u001b[1;32m     15\u001b[0m \u001b[39mfrom\u001b[39;00m \u001b[39mecat_repl\u001b[39;00m \u001b[39mimport\u001b[39;00m FoeMaster\n\u001b[1;32m     16\u001b[0m \u001b[39mfrom\u001b[39;00m \u001b[39mecat_repl\u001b[39;00m \u001b[39mimport\u001b[39;00m CtrlCmd\n",
      "File \u001b[0;32m~/work/code/python/ecat_repl/ecat_repl/__init__.py:53\u001b[0m\n\u001b[1;32m     14\u001b[0m \u001b[39mfrom\u001b[39;00m \u001b[39m.\u001b[39;00m base_cmd \u001b[39mimport\u001b[39;00m (\n\u001b[1;32m     15\u001b[0m     MasterCmd,\n\u001b[1;32m     16\u001b[0m     FoeMaster,\n\u001b[0;32m   (...)\u001b[0m\n\u001b[1;32m     20\u001b[0m     SdoInfo,\n\u001b[1;32m     21\u001b[0m )\n\u001b[1;32m     22\u001b[0m \u001b[39mfrom\u001b[39;00m \u001b[39m.\u001b[39;00m base_io \u001b[39mimport\u001b[39;00m (\n\u001b[1;32m     23\u001b[0m     gen_cmds,\n\u001b[1;32m     24\u001b[0m     master_cmd_start,\n\u001b[0;32m   (...)\u001b[0m\n\u001b[1;32m     51\u001b[0m     ctrl_cmd_test_done,\n\u001b[1;32m     52\u001b[0m )\n\u001b[0;32m---> 53\u001b[0m \u001b[39mfrom\u001b[39;00m \u001b[39mecat_repl\u001b[39;00m \u001b[39mimport\u001b[39;00m repl_cmd_pb2 \u001b[39mas\u001b[39;00m repl_cmd\n\u001b[1;32m     54\u001b[0m \u001b[39mfrom\u001b[39;00m \u001b[39m.\u001b[39;00m zmsg_io \u001b[39mimport\u001b[39;00m \u001b[39mZmsgIO\u001b[39;00m\n\u001b[1;32m     55\u001b[0m \u001b[39mfrom\u001b[39;00m \u001b[39m.\u001b[39;00m pipe_io \u001b[39mimport\u001b[39;00m \u001b[39mPipeIO\u001b[39;00m\n",
      "File \u001b[0;32m~/work/code/python/ecat_repl/ecat_repl/repl_cmd_pb2.py:16\u001b[0m\n\u001b[1;32m     11\u001b[0m \u001b[39m# @@protoc_insertion_point(imports)\u001b[39;00m\n\u001b[1;32m     13\u001b[0m _sym_db \u001b[39m=\u001b[39m _symbol_database\u001b[39m.\u001b[39mDefault()\n\u001b[0;32m---> 16\u001b[0m \u001b[39mimport\u001b[39;00m \u001b[39mheader_pb2\u001b[39;00m \u001b[39mas\u001b[39;00m \u001b[39mheader__pb2\u001b[39;00m\n\u001b[1;32m     17\u001b[0m \u001b[39mimport\u001b[39;00m \u001b[39mtime_pb2\u001b[39;00m \u001b[39mas\u001b[39;00m \u001b[39mtime__pb2\u001b[39;00m\n\u001b[1;32m     20\u001b[0m DESCRIPTOR \u001b[39m=\u001b[39m _descriptor\u001b[39m.\u001b[39mFileDescriptor(\n\u001b[1;32m     21\u001b[0m   name\u001b[39m=\u001b[39m\u001b[39m'\u001b[39m\u001b[39mrepl_cmd.proto\u001b[39m\u001b[39m'\u001b[39m,\n\u001b[1;32m     22\u001b[0m   package\u001b[39m=\u001b[39m\u001b[39m'\u001b[39m\u001b[39miit.advr\u001b[39m\u001b[39m'\u001b[39m,\n\u001b[0;32m   (...)\u001b[0m\n\u001b[1;32m     26\u001b[0m   ,\n\u001b[1;32m     27\u001b[0m   dependencies\u001b[39m=\u001b[39m[header__pb2\u001b[39m.\u001b[39mDESCRIPTOR,time__pb2\u001b[39m.\u001b[39mDESCRIPTOR,])\n",
      "\u001b[0;31mModuleNotFoundError\u001b[0m: No module named 'header_pb2'"
     ]
    },
    {
     "ename": "NameError",
     "evalue": "name 'set_uri' is not defined",
     "output_type": "error",
     "traceback": [
      "\u001b[0;31m---------------------------------------------------------------------------\u001b[0m",
      "\u001b[0;31mNameError\u001b[0m                                 Traceback (most recent call last)",
      "\u001b[1;32m/home/amargan/work/code/python/ecat_repl/notebooks/cirCULO.ipynb Cell 1\u001b[0m in \u001b[0;36m9\n\u001b[1;32m      <a href='vscode-notebook-cell:/home/amargan/work/code/python/ecat_repl/notebooks/cirCULO.ipynb#W0sZmlsZQ%3D%3D?line=2'>3</a>\u001b[0m uri \u001b[39m=\u001b[39m socket\u001b[39m.\u001b[39mgethostname()\u001b[39m+\u001b[39m\u001b[39m\"\u001b[39m\u001b[39m.local:5555\u001b[39m\u001b[39m\"\u001b[39m\n\u001b[1;32m      <a href='vscode-notebook-cell:/home/amargan/work/code/python/ecat_repl/notebooks/cirCULO.ipynb#W0sZmlsZQ%3D%3D?line=3'>4</a>\u001b[0m \u001b[39m#uri = \"com-exp.local:5555\"\u001b[39;00m\n\u001b[1;32m      <a href='vscode-notebook-cell:/home/amargan/work/code/python/ecat_repl/notebooks/cirCULO.ipynb#W0sZmlsZQ%3D%3D?line=4'>5</a>\u001b[0m \u001b[39m#uri = \"ipc3-xeno.local:5555\"\u001b[39;00m\n\u001b[1;32m      <a href='vscode-notebook-cell:/home/amargan/work/code/python/ecat_repl/notebooks/cirCULO.ipynb#W0sZmlsZQ%3D%3D?line=5'>6</a>\u001b[0m \n\u001b[1;32m      <a href='vscode-notebook-cell:/home/amargan/work/code/python/ecat_repl/notebooks/cirCULO.ipynb#W0sZmlsZQ%3D%3D?line=6'>7</a>\u001b[0m \u001b[39m#uri = \"localhost:5555\"\u001b[39;00m\n\u001b[0;32m----> <a href='vscode-notebook-cell:/home/amargan/work/code/python/ecat_repl/notebooks/cirCULO.ipynb#W0sZmlsZQ%3D%3D?line=8'>9</a>\u001b[0m io \u001b[39m=\u001b[39m set_uri(uri)\n\u001b[1;32m     <a href='vscode-notebook-cell:/home/amargan/work/code/python/ecat_repl/notebooks/cirCULO.ipynb#W0sZmlsZQ%3D%3D?line=9'>10</a>\u001b[0m io\u001b[39m.\u001b[39mdebug \u001b[39m=\u001b[39m \u001b[39mFalse\u001b[39;00m\n\u001b[1;32m     <a href='vscode-notebook-cell:/home/amargan/work/code/python/ecat_repl/notebooks/cirCULO.ipynb#W0sZmlsZQ%3D%3D?line=10'>11</a>\u001b[0m scan_ids \u001b[39m=\u001b[39m \u001b[39mlist\u001b[39m(reply_cmd(master_cmd_get_slave_descr)\u001b[39m.\u001b[39mkeys())\n",
      "\u001b[0;31mNameError\u001b[0m: name 'set_uri' is not defined"
     ]
    }
   ],
   "source": [
    "%run my_import\n",
    "\n",
    "uri = socket.gethostname()+\".local:5555\"\n",
    "#uri = \"com-exp.local:5555\"\n",
    "#uri = \"ipc3-xeno.local:5555\"\n",
    "\n",
    "#uri = \"localhost:5555\"\n",
    "\n",
    "io = set_uri(uri)\n",
    "io.debug = False\n",
    "scan_ids = list(reply_cmd(master_cmd_get_slave_descr).keys())\n",
    "print('Found ESC ids {}'.format(scan_ids))"
   ]
  },
  {
   "cell_type": "code",
   "execution_count": null,
   "metadata": {},
   "outputs": [],
   "source": [
    "iD = 1\n",
    "sdo_objd = reply_cmd(SdoInfo(u'SDO_OBJD').set_bid(iD))\n",
    "sdo_names = reply_cmd(SdoInfo(u'SDO_NAME').set_bid(iD))\n",
    "sdo_dict = reply_cmd(SdoCmd(rd_sdo=sdo_names,wr_sdo={}).set_bid(iD))"
   ]
  },
  {
   "cell_type": "code",
   "execution_count": null,
   "metadata": {},
   "outputs": [],
   "source": [
    "sdo_filter([\"Position_actual_value_x6064\",\"Target_position_x607A\"],sdo_dict)"
   ]
  },
  {
   "cell_type": "code",
   "execution_count": null,
   "metadata": {},
   "outputs": [],
   "source": [
    "sdo = ['Statusword_x6041','Position_actual_value_x6064','Target_position_x607A'] #torque','motor_pos','link_pos','Min_pos','Max_pos','Max_cur']\n",
    "read_sdo(sdo,[iD])[iD]"
   ]
  },
  {
   "cell_type": "code",
   "execution_count": null,
   "metadata": {},
   "outputs": [],
   "source": [
    "#io.doit(ctrl_cmd_start.set_bid(bId).set_value(0x3B).set_gains(u'POSITION',200,0,15,0,0,0))\n",
    "io.doit(ctrl_cmd_start().set_bid(iD).set_value(0x3B))"
   ]
  },
  {
   "cell_type": "code",
   "execution_count": null,
   "metadata": {},
   "outputs": [],
   "source": [
    "reply = io.doit(ctrl_cmd_stop.set_bid(iD))"
   ]
  },
  {
   "cell_type": "code",
   "execution_count": null,
   "metadata": {},
   "outputs": [],
   "source": [
    "data = read_sdo(sdo,[iD])[iD]\n",
    "pos_ref = data['Position_actual_value_x6064']\n",
    "io.doit(ctrl_cmd_set_position.set_bid(iD).set_value(0.01))\n",
    "#read_sdo(sdo,[iD])[iD]"
   ]
  },
  {
   "cell_type": "code",
   "execution_count": null,
   "metadata": {},
   "outputs": [],
   "source": [
    "# read from pdo publisher\n",
    "start_pos = 0.01\n"
   ]
  },
  {
   "cell_type": "code",
   "execution_count": 1,
   "metadata": {},
   "outputs": [
    {
     "ename": "ImportError",
     "evalue": "cannot import name 'ecat_pdo_pb2' from 'ecat_repl' (/home/amargan/work/code/python/ecat_repl/ecat_repl/__init__.py)",
     "output_type": "error",
     "traceback": [
      "\u001b[0;31m---------------------------------------------------------------------------\u001b[0m",
      "\u001b[0;31mImportError\u001b[0m                               Traceback (most recent call last)",
      "\u001b[1;32m/home/amargan/work/code/python/ecat_repl/notebooks/cirCULO.ipynb Cell 9\u001b[0m in \u001b[0;36m1\n\u001b[1;32m      <a href='vscode-notebook-cell:/home/amargan/work/code/python/ecat_repl/notebooks/cirCULO.ipynb#X11sZmlsZQ%3D%3D?line=6'>7</a>\u001b[0m \u001b[39mfrom\u001b[39;00m \u001b[39mprotobuf_to_dict\u001b[39;00m \u001b[39mimport\u001b[39;00m protobuf_to_dict\n\u001b[1;32m      <a href='vscode-notebook-cell:/home/amargan/work/code/python/ecat_repl/notebooks/cirCULO.ipynb#X11sZmlsZQ%3D%3D?line=8'>9</a>\u001b[0m \u001b[39m#import sys\u001b[39;00m\n\u001b[1;32m     <a href='vscode-notebook-cell:/home/amargan/work/code/python/ecat_repl/notebooks/cirCULO.ipynb#X11sZmlsZQ%3D%3D?line=9'>10</a>\u001b[0m \u001b[39m#sys.path.append('/home/amargan/work/code/ecat_dev/ecat_master_advr/build/protobuf')\u001b[39;00m\n\u001b[1;32m     <a href='vscode-notebook-cell:/home/amargan/work/code/python/ecat_repl/notebooks/cirCULO.ipynb#X11sZmlsZQ%3D%3D?line=10'>11</a>\u001b[0m \u001b[39m#import ecat_pdo_pb2\u001b[39;00m\n\u001b[0;32m---> <a href='vscode-notebook-cell:/home/amargan/work/code/python/ecat_repl/notebooks/cirCULO.ipynb#X11sZmlsZQ%3D%3D?line=11'>12</a>\u001b[0m \u001b[39mfrom\u001b[39;00m \u001b[39mecat_repl\u001b[39;00m \u001b[39mimport\u001b[39;00m ecat_pdo_pb2\n\u001b[1;32m     <a href='vscode-notebook-cell:/home/amargan/work/code/python/ecat_repl/notebooks/cirCULO.ipynb#X11sZmlsZQ%3D%3D?line=13'>14</a>\u001b[0m \u001b[39m# Define a global variable to store the last received data\u001b[39;00m\n\u001b[1;32m     <a href='vscode-notebook-cell:/home/amargan/work/code/python/ecat_repl/notebooks/cirCULO.ipynb#X11sZmlsZQ%3D%3D?line=14'>15</a>\u001b[0m last_recv_data \u001b[39m=\u001b[39m \u001b[39mNone\u001b[39;00m,\u001b[39mNone\u001b[39;00m\n",
      "\u001b[0;31mImportError\u001b[0m: cannot import name 'ecat_pdo_pb2' from 'ecat_repl' (/home/amargan/work/code/python/ecat_repl/ecat_repl/__init__.py)"
     ]
    }
   ],
   "source": [
    "import asyncio\n",
    "\n",
    "import zmq\n",
    "import zmq.asyncio\n",
    "import pprint\n",
    "import json\n",
    "from protobuf_to_dict import protobuf_to_dict\n",
    "\n",
    "#import sys\n",
    "#sys.path.append('/home/amargan/work/code/ecat_dev/ecat_master_advr/build/protobuf')\n",
    "#import ecat_pdo_pb2\n",
    "from ecat_repl import ecat_pdo_pb2\n",
    "\n",
    "# Define a global variable to store the last received data\n",
    "last_recv_data = None,None\n",
    "\n",
    "def process_data(msg_id, data):\n",
    "    rx_pdo = ecat_pdo_pb2.Ec_slave_pdo()\n",
    "    rx_pdo.ParseFromString(data)\n",
    "    pb_dict = protobuf_to_dict(rx_pdo)\n",
    "    return msg_id,pb_dict\n",
    "\n",
    "#from utils import get_address\n",
    "def get_address():\n",
    "    protocol = \"tcp\"\n",
    "    address = \"127.0.0.1\"\n",
    "    port = 9601\n",
    "    return f\"{protocol}://{address}:{port}\"\n",
    "\n",
    "async def zsub():\n",
    "    global last_recv_data\n",
    "    subscriber = zmq.asyncio.Context().socket(zmq.SUB)\n",
    "    subscriber.connect(get_address())\n",
    "    subscriber.subscribe(b\"\")\n",
    "\n",
    "    while True:\n",
    "        msg_id, data = await subscriber.recv_multipart()\n",
    "        # store the last received data\n",
    "        last_recv_data = process_data(msg_id, data)\n",
    "        #pprint.pprint((msg_id, pb_dict))\n",
    "\n"
   ]
  },
  {
   "cell_type": "code",
   "execution_count": null,
   "metadata": {},
   "outputs": [],
   "source": [
    "import nest_asyncio\n",
    "nest_asyncio.apply()\n",
    "\n",
    "# Create a background task for the zsub coroutine\n",
    "zsub_task = asyncio.create_task(zsub())"
   ]
  },
  {
   "cell_type": "code",
   "execution_count": null,
   "metadata": {},
   "outputs": [],
   "source": [
    "last_recv_data"
   ]
  },
  {
   "cell_type": "code",
   "execution_count": null,
   "metadata": {},
   "outputs": [],
   "source": [
    "pprint.pprint(last_recv_data[1]['header'])"
   ]
  },
  {
   "cell_type": "code",
   "execution_count": null,
   "metadata": {},
   "outputs": [],
   "source": []
  }
 ],
 "metadata": {
  "kernelspec": {
   "display_name": "repl",
   "language": "python",
   "name": "python3"
  },
  "language_info": {
   "codemirror_mode": {
    "name": "ipython",
    "version": 3
   },
   "file_extension": ".py",
   "mimetype": "text/x-python",
   "name": "python",
   "nbconvert_exporter": "python",
   "pygments_lexer": "ipython3",
   "version": "3.11.0"
  }
 },
 "nbformat": 4,
 "nbformat_minor": 4
}
