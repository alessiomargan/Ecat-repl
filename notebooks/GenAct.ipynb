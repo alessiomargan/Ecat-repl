{
 "cells": [
  {
   "cell_type": "code",
   "execution_count": null,
   "metadata": {},
   "outputs": [],
   "source": [
    "%run my_import\n",
    "\n",
    "#uri = socket.gethostname()+\".local:5555\"\n",
    "uri = \"localhost:5555\"\n",
    "#uri = \"nuc-i7.local:5555\"\n",
    "#uri = \"com-exp.local:5555\"\n",
    "#uri = \"advantech.local:5555\"\n",
    "#uri = \"192.168.1.100:5555\"\n",
    "\n",
    "io = set_uri(uri)\n",
    "io.debug = False\n",
    "scan_ids = list(reply_cmd(master_cmd_get_slave_descr).keys())\n",
    "print('Found ESC ids {}'.format(scan_ids))\n"
   ]
  },
  {
   "cell_type": "code",
   "execution_count": null,
   "metadata": {},
   "outputs": [],
   "source": [
    "io.debug=0\n",
    "io.doit(ctrl_cmd_start().set_bid(1).set_value(0x3B).set_gains(u'POSITION',0,0,0,0.0,0))\n"
   ]
  },
  {
   "cell_type": "code",
   "execution_count": null,
   "metadata": {},
   "outputs": [],
   "source": [
    "read_sdo(['Max_tor'],[1])"
   ]
  },
  {
   "cell_type": "code",
   "execution_count": null,
   "metadata": {},
   "outputs": [],
   "source": [
    "current = 0.0\n",
    "speed = 0\n",
    "while speed < 2500 :\n",
    "    current += 0.25\n",
    "    io.doit(ctrl_cmd_set_torque.set_bid(1).set_value(current))\n",
    "    data = read_sdo(['motor_vel','motor_pos','link_pos'],[1])\n",
    "    speed = data[1]['motor_vel']\n",
    "    motor_pos = data[1]['motor_pos']\n",
    "    link_pos = data[1]['link_pos']\n",
    "    print(speed,motor_pos,link_pos,current)\n",
    "    time.sleep(1)"
   ]
  },
  {
   "cell_type": "code",
   "execution_count": null,
   "metadata": {},
   "outputs": [],
   "source": [
    "for _ in range(100) :\n",
    "    data = read_sdo(['motor_vel','motor_pos','link_pos'],[1])\n",
    "    speed = data[1]['motor_vel']\n",
    "    motor_pos = data[1]['motor_pos']\n",
    "    link_pos = data[1]['link_pos']\n",
    "    print(speed,motor_pos,link_pos,current)\n",
    "    time.sleep(0.1)"
   ]
  },
  {
   "cell_type": "code",
   "execution_count": null,
   "metadata": {},
   "outputs": [],
   "source": [
    "read_sdo(['motor_vel'],[1])[1]['motor_vel']\n",
    "read_sdo(['motor_pos'],[1])[1]['motor_pos']"
   ]
  },
  {
   "cell_type": "code",
   "execution_count": null,
   "metadata": {},
   "outputs": [],
   "source": [
    "io.doit(ctrl_cmd_set_torque.set_bid(1).set_value(0))"
   ]
  },
  {
   "cell_type": "code",
   "execution_count": null,
   "metadata": {},
   "outputs": [],
   "source": [
    "io.doit(ctrl_cmd_stop.set_bid(1))"
   ]
  },
  {
   "cell_type": "code",
   "execution_count": null,
   "metadata": {},
   "outputs": [],
   "source": []
  }
 ],
 "metadata": {
  "kernelspec": {
   "display_name": "Python 3",
   "language": "python",
   "name": "python3"
  },
  "language_info": {
   "codemirror_mode": {
    "name": "ipython",
    "version": 3
   },
   "file_extension": ".py",
   "mimetype": "text/x-python",
   "name": "python",
   "nbconvert_exporter": "python",
   "pygments_lexer": "ipython3",
   "version": "3.7.16"
  }
 },
 "nbformat": 4,
 "nbformat_minor": 4
}
