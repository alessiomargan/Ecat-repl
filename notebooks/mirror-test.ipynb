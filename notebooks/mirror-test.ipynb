{
 "cells": [
  {
   "cell_type": "code",
   "execution_count": null,
   "metadata": {
    "pycharm": {}
   },
   "outputs": [],
   "source": [
    "from my_import import *\n",
    "import numpy as np\n",
    "\n",
    "uri = socket.gethostname()+\".local:5555\"\n",
    "#uri = \"localhost:5555\"\n",
    "#uri = \"com-exp.local:5555\"\n",
    "#uri = \"mirror-ecat-srv.local:5555\"\n",
    "#uri = \"192.168.99.10:5555\"\n",
    "io = ZmsgIO(uri)\n",
    "\n",
    "_1stL = [11,12,13,14,15,16]\n",
    "_2ndL = [21,22,23,24,25,26]\n",
    "_3rdL = [31,32,33,34,35,36]\n",
    "\n",
    "mk_ids = lambda s,v: [s+x for x in v] \n",
    "mk_pitch = lambda s : mk_ids(s, [2,3,5])\n",
    "mk_yaw = lambda s: mk_ids(s, [1,4,6])\n",
    "legs_pitch_ids =  mk_pitch(10) + mk_pitch(20) + mk_pitch(30)  \n",
    "legs_yaw_ids =  mk_yaw(10) + mk_yaw(20)+ mk_yaw(30)  \n",
    "\n",
    "\n",
    "# all \n",
    "robot_ids = _1stL + _2ndL + _3rdL \n",
    "#robot_ids = _2ndL\n",
    "#robot_ids = legs_pitch_ids\n",
    "#robot_ids = [13]\n",
    "\n",
    "homing = {\"type\": \"TRJ_CMD\",\n",
    "          \"trajectory_cmd\": {\"type\": \"HOMING\", \"name\": \"homing\", \"board_id\": 1, \"homing_par\": {\"x\": [0,3]}}}\n",
    "\n",
    "xs = list(range(9))\n",
    "xs = np.multiply(xs,3)\n",
    "smooth = {\"type\": \"TRJ_CMD\",\n",
    "          \"trajectory_cmd\": {\"type\": \"SMOOTHER\", \"name\": \"smooth\", \"board_id\": 1,\n",
    "                             \"smooth_par\": {\"x\": xs,\n",
    "                                            #\"y\": [0,-0.5, 0, 0.5, 0, -0.8, 0, 0.8, 0]}\n",
    "                                            \"y\": [0,-0.2, 0, 0.2, 0, -0.2, 0, 0.2, 0]}\n",
    "                            }\n",
    "         } \n",
    "\n",
    "xss = [0,4,8]\n",
    "xss = np.multiply(xss,3)\n",
    "smooth_x2 = {\"type\": \"TRJ_CMD\",\n",
    "             \"trajectory_cmd\": {\"type\": \"SMOOTHER\", \"name\": \"smooth\", \"board_id\": 12,\n",
    "                                \"smooth_par\": {\"x\": xss,\n",
    "                                               \"y\": [0, -2.25, 0]}\n",
    "                               }\n",
    "            } \n",
    "smooth_x3 = {\"type\": \"TRJ_CMD\",\n",
    "             \"trajectory_cmd\": {\"type\": \"SMOOTHER\", \"name\": \"smooth\", \"board_id\": 13,\n",
    "                                \"smooth_par\": {\"x\": xss,\n",
    "                                               \"y\": [0, -1.75, 0]}\n",
    "                               }\n",
    "            } \n",
    "smooth_x5 = {\"type\": \"TRJ_CMD\",\n",
    "             \"trajectory_cmd\": {\"type\": \"SMOOTHER\", \"name\": \"smooth\", \"board_id\": 15,\n",
    "                                \"smooth_par\": {\"x\": xss,\n",
    "                                               #\"y\": [0, 1.75, 0]}\n",
    "                                               \"y\": [0, 1.25, 0]}\n",
    "                               }\n",
    "            } \n",
    "\n",
    "up_x2 = {\"type\": \"TRJ_CMD\",\n",
    "             \"trajectory_cmd\": {\"type\": \"SMOOTHER\", \"name\": \"up_smooth\", \"board_id\": 12,\n",
    "                                \"smooth_par\": {\"x\": xss,\n",
    "                                               \"y\": [0, -math.radians(120), 0]}\n",
    "                               }\n",
    "        } \n",
    "up_x3 = {\"type\": \"TRJ_CMD\",\n",
    "             \"trajectory_cmd\": {\"type\": \"SMOOTHER\", \"name\": \"up_smooth\", \"board_id\": 13,\n",
    "                                \"smooth_par\": {\"x\": xss,\n",
    "                                               \"y\": [0, math.radians(60), 0]}\n",
    "                               }\n",
    "        } \n",
    "up_x5 = {\"type\": \"TRJ_CMD\",\n",
    "             \"trajectory_cmd\": {\"type\": \"SMOOTHER\", \"name\": \"up_smooth\", \"board_id\": 15,\n",
    "                                \"smooth_par\": {\"x\": xss,\n",
    "                                               \"y\": [0, -math.radians(45), 0]}\n",
    "                               }\n",
    "        } \n",
    "\n",
    "park_x3 = {\"type\": \"TRJ_CMD\",\n",
    "             \"trajectory_cmd\": {\"type\": \"SMOOTHER\", \"name\": \"park_smooth\", \"board_id\": 13,\n",
    "                                \"smooth_par\": {\"x\": [0,3],\n",
    "                                               \"y\": [0, math.radians(140)]}\n",
    "                               }\n",
    "    }\n",
    "\n",
    "sup_x2 = {\"type\": \"TRJ_CMD\",\n",
    "             \"trajectory_cmd\": {\"type\": \"SMOOTHER\", \"name\": \"stand_up\", \"board_id\": -1,\n",
    "                                \"smooth_par\": {\"x\": [0,3],\n",
    "                                               \"y\": [0, -math.radians(50)]}\n",
    "                               }\n",
    "    }\n",
    "sup_x3 = {\"type\": \"TRJ_CMD\",\n",
    "             \"trajectory_cmd\": {\"type\": \"SMOOTHER\", \"name\": \"stand_up\", \"board_id\": -1,\n",
    "                                \"smooth_par\": {\"x\": [0,3],\n",
    "                                               \"y\": [0, -math.radians(30)]}\n",
    "                               }\n",
    "    }\n",
    "sup_x5 = {\"type\": \"TRJ_CMD\",\n",
    "             \"trajectory_cmd\": {\"type\": \"SMOOTHER\", \"name\": \"stand_up\", \"board_id\": -1,\n",
    "                                \"smooth_par\": {\"x\": [0,3],\n",
    "                                               \"y\": [0, math.radians(20)]}\n",
    "                               }\n",
    "    }\n",
    "\n",
    "\n",
    "add_homing = {\"type\": \"TRJ_QUEUE_CMD\",\n",
    "              \"trj_queue_cmd\": {\"type\": \"PUSH_QUE\", \"trj_names\": [\"homing\"]}}\n",
    "\n",
    "add_smooth = {\"type\": \"TRJ_QUEUE_CMD\",\n",
    "              \"trj_queue_cmd\": {\"type\": \"PUSH_QUE\", \"trj_names\": [\"smooth\",\"up_smooth\"]}}\n",
    "\n",
    "add_park = {\"type\": \"TRJ_QUEUE_CMD\",\n",
    "              \"trj_queue_cmd\": {\"type\": \"PUSH_QUE\", \"trj_names\": [\"park_smooth\"]}}\n",
    "\n",
    "add_sup = {\"type\": \"TRJ_QUEUE_CMD\",\n",
    "              \"trj_queue_cmd\": {\"type\": \"PUSH_QUE\", \"trj_names\": [\"stand_up\"]}}\n",
    "\n",
    "io.debug=0\n",
    "\n",
    "def reply_cmd(cmd):\n",
    "    reply = io.doit(cmd)\n",
    "    yaml_msg = yaml.safe_load(reply['msg'])\n",
    "    return yaml_msg\n",
    "\n",
    "status_cmds = {\n",
    "    'FAN_ON':           0x0026,\n",
    "    'FAN_OFF':\t\t\t0x0062,\n",
    "    'LED_ON':           0x0019,\n",
    "    'LED_OFF':          0x0091,\n",
    "    'RELEASE_BRAKE':    0x00BD,\n",
    "    'ENGAGE_BRAKE':     0x00DB,\n",
    "}\n",
    "reply_cmds = {\n",
    "    'CMD_DONE':         0x7800,\n",
    "    'CMD_WORKING':\t\t0xD000,\n",
    "    'CMD_ERROR':\t\t0xAA00,\n",
    "    'CMD_NOCOND':       0xBB00,\n",
    "}\n",
    "\n",
    "def ctrl_status_cmd(ctrl_cmd: int, bid: int):\n",
    "    msg = reply_cmd(SdoCmd(rd_sdo=[],wr_sdo={'ctrl_status_cmd': ctrl_cmd}).set_bid(bid))\n",
    "    msg = reply_cmd(SdoCmd(rd_sdo=['ctrl_status_cmd_ack'],wr_sdo={}).set_bid(bid))\n",
    "    print(hex(msg['ctrl_status_cmd_ack']))\n",
    "    return msg['ctrl_status_cmd_ack'] == ctrl_cmd + reply_cmds['CMD_DONE']\n",
    "\n",
    "def ctrl_status_cmd_str(ctrl_cmd: str, bid: int):\n",
    "    return ctrl_status_cmd(status_cmds[ctrl_cmd], bid) \n",
    "\n",
    "def sdo_filter(snames:list, sdos:dict):\n",
    "    return {key:sdos[key] for key in snames}"
   ]
  },
  {
   "cell_type": "code",
   "execution_count": null,
   "metadata": {
    "pycharm": {}
   },
   "outputs": [],
   "source": [
    "reply = io.doit(master_cmd_get_slave_descr)\n",
    "slave_descr = yaml.safe_load(reply['msg'])\n",
    "scan_ids = slave_descr.keys()\n",
    "scan_ids"
   ]
  },
  {
   "cell_type": "markdown",
   "metadata": {},
   "source": [
    "# Define trajectories"
   ]
  },
  {
   "cell_type": "code",
   "execution_count": null,
   "metadata": {
    "pycharm": {}
   },
   "outputs": [],
   "source": [
    "# define trajectories\n",
    "# reset trj names ???\n",
    "[g for g in io.doit4ids(robot_ids,homing)]\n",
    "[g for g in io.doit4ids(robot_ids,smooth)]\n",
    "# overwrite \"smooth\" for pitch(s) \n",
    "[g for g in io.doit4ids([12,22,32],smooth_x2)]\n",
    "[g for g in io.doit4ids([13,23,33],smooth_x3)]\n",
    "[g for g in io.doit4ids([15,25,35],smooth_x5)]\n",
    "#\n",
    "[g for g in io.doit4ids([12,22,32],up_x2)]\n",
    "[g for g in io.doit4ids([13,23,33],up_x3)]\n",
    "[g for g in io.doit4ids([15,25,35],up_x5)]\n",
    "#\n",
    "[g for g in io.doit4ids([13,23,33],park_x3)]\n",
    "# stand up \n",
    "[g for g in io.doit4ids([12,22,32],sup_x2)]\n",
    "[g for g in io.doit4ids([13,23,33],sup_x3)]\n",
    "[g for g in io.doit4ids([15,25,35],sup_x5)]\n"
   ]
  },
  {
   "cell_type": "code",
   "execution_count": null,
   "metadata": {
    "pycharm": {}
   },
   "outputs": [],
   "source": [
    "#[g for g in io.doit4ids(robot_ids,ctrl_cmd_set_home)]\n",
    "for iD in robot_ids :\n",
    "    io.doit(ctrl_cmd_set_home.set_value(0).set_bid(iD))"
   ]
  },
  {
   "cell_type": "markdown",
   "metadata": {},
   "source": [
    "# Position test"
   ]
  },
  {
   "cell_type": "code",
   "execution_count": null,
   "metadata": {},
   "outputs": [],
   "source": [
    "# start motors in POSITION\n",
    "[g for g in io.doit4ids(robot_ids,ctrl_cmd_start().set_value(0x3B).set_gains(u'POSITION',220,35,0,0,0))]\n",
    "#[g for g in io.doit4ids(robot_ids,ctrl_cmd_start().set_value(0x4D).set_gains(u'IMPEDANCE',2000,40,1,0.4,0.01))]\n"
   ]
  },
  {
   "cell_type": "code",
   "execution_count": null,
   "metadata": {},
   "outputs": [],
   "source": [
    "for iD in robot_ids :\n",
    "    ctrl_status_cmd_str('RELEASE_BRAKE', iD)"
   ]
  },
  {
   "cell_type": "code",
   "execution_count": null,
   "metadata": {
    "pycharm": {}
   },
   "outputs": [],
   "source": [
    "reply = io.doit(add_homing)"
   ]
  },
  {
   "cell_type": "code",
   "execution_count": null,
   "metadata": {
    "pycharm": {}
   },
   "outputs": [],
   "source": [
    "reply = io.doit(add_smooth)"
   ]
  },
  {
   "cell_type": "code",
   "execution_count": null,
   "metadata": {},
   "outputs": [],
   "source": [
    "reply = io.doit(add_sup)"
   ]
  },
  {
   "cell_type": "code",
   "execution_count": null,
   "metadata": {
    "pycharm": {}
   },
   "outputs": [],
   "source": [
    "for i in range(3):\n",
    "    reply = io.doit(add_smooth)\n",
    "    reply = io.doit(add_sup)\n",
    "    reply = io.doit(add_homing)\n",
    "    reply = io.doit(add_park)\n",
    "    reply = io.doit(add_homing)\n",
    "    print (\"CICLO \", i)\n",
    "    #time.sleep(1)"
   ]
  },
  {
   "cell_type": "code",
   "execution_count": null,
   "metadata": {},
   "outputs": [],
   "source": [
    "reply = io.doit(add_park)"
   ]
  },
  {
   "cell_type": "code",
   "execution_count": null,
   "metadata": {},
   "outputs": [],
   "source": [
    "for iD in robot_ids :\n",
    "    ctrl_status_cmd_str('ENGAGE_BRAKE', iD)"
   ]
  },
  {
   "cell_type": "code",
   "execution_count": null,
   "metadata": {
    "pycharm": {}
   },
   "outputs": [],
   "source": [
    "[g for g in io.doit4ids(robot_ids,ctrl_cmd_stop)]"
   ]
  },
  {
   "cell_type": "code",
   "execution_count": null,
   "metadata": {},
   "outputs": [],
   "source": []
  },
  {
   "cell_type": "code",
   "execution_count": null,
   "metadata": {},
   "outputs": [],
   "source": [
    "io.debug=0\n",
    "gains = {}\n",
    "gains['type'] = \"POSITION\"\n",
    "gains['pos_kp'] = 200\n",
    "gains['pos_kd'] = 10\n",
    "gains['tor_kp'] = 0\n",
    "gains['tor_kd'] = 0\n",
    "gains['tor_ki'] = 0\n",
    "#[g for g in io.doit4ids(robot_ids,ctrl_cmd_start().set_value(0x3B).set_gains(u'POSITION',200,15,0,0,0))]\n",
    "[g for g in io.doit4ids(robot_ids,ctrl_cmd_start().set_value(0x4D).set_gains(u'IMPEDANCE',300,10,1,0.75,0.005))]\n",
    "#[g for g in io.doit4ids(robot_ids,ctrl_cmd_start().set_value(0x3B).set_gains(*gains))]"
   ]
  },
  {
   "cell_type": "code",
   "execution_count": null,
   "metadata": {},
   "outputs": [],
   "source": [
    "for iD in robot_ids:\n",
    "    reply = io.doit(SdoCmd(rd_sdo=['motor_pos','motor_vel','link_pos','fault'],wr_sdo={}).set_bid(iD))\n",
    "    yaml_msg = yaml.safe_load(reply['msg'])\n",
    "    print(iD,yaml_msg)"
   ]
  },
  {
   "cell_type": "code",
   "execution_count": null,
   "metadata": {},
   "outputs": [],
   "source": [
    "io.debug=0\n",
    "for iD in robot_ids:\n",
    "    reply = io.doit(SdoCmd(rd_sdo=['gain_0','gain_1','gain_2','gain_','gain_4'],wr_sdo={}).set_bid(iD))\n",
    "    yaml_msg = yaml.safe_load(reply['msg'])\n",
    "    print(iD,yaml_msg)"
   ]
  },
  {
   "cell_type": "code",
   "execution_count": null,
   "metadata": {},
   "outputs": [],
   "source": [
    "reply = io.doit(SdoInfo(u'SDO_NAME').set_bid(robot_ids[0]))\n",
    "yaml_msg = yaml.safe_load(reply['msg'])\n",
    "sdo_names = yaml_msg\n",
    "sdo_names"
   ]
  },
  {
   "cell_type": "markdown",
   "metadata": {},
   "source": [
    "# Impedance"
   ]
  },
  {
   "cell_type": "code",
   "execution_count": null,
   "metadata": {},
   "outputs": [],
   "source": [
    "# start motors in IMPEDANCE\n",
    "# 1st yaws stiff 200 or 70 damp 10\n",
    "[g for g in io.doit4ids([11,21,31],ctrl_cmd_start().set_value(0x4D).set_gains(u'IMPEDANCE',200,10,1,0.75,0.007))]\n",
    "# other yaws + last pitch stiff 100 or 30 damp 10\n",
    "[g for g in io.doit4ids([14,16,24,26,34,36]+[15,25,35],ctrl_cmd_start().set_value(0x4D).set_gains(u'IMPEDANCE',100,10,1,0.75,0.007))]\n",
    "# 1st 2nd pitches stiff 700 or 250 damp 10\n",
    "[g for g in io.doit4ids([12,13,22,23,32,33],ctrl_cmd_start().set_value(0x4D).set_gains(u'IMPEDANCE',700,10,1,0.75,0.007))]\n",
    "# 3rd leg\n",
    "#[g for g in io.doit4ids(_3rdL,ctrl_cmd_stop)]\n",
    "#[g for g in io.doit4ids(_3rdL,ctrl_cmd_start().set_value(0x4D).set_gains(u'IMPEDANCE',0,2,1,0.85,0.005))]\n"
   ]
  },
  {
   "cell_type": "code",
   "execution_count": null,
   "metadata": {},
   "outputs": [],
   "source": [
    "for iD in robot_ids :\n",
    "    ctrl_status_cmd_str('RELEASE_BRAKE', iD)"
   ]
  },
  {
   "cell_type": "code",
   "execution_count": null,
   "metadata": {},
   "outputs": [],
   "source": [
    "reply = io.doit(add_homing)"
   ]
  },
  {
   "cell_type": "code",
   "execution_count": null,
   "metadata": {},
   "outputs": [],
   "source": [
    "reply = io.doit(add_smooth)"
   ]
  },
  {
   "cell_type": "code",
   "execution_count": null,
   "metadata": {},
   "outputs": [],
   "source": [
    "reply = io.doit(add_sup)"
   ]
  },
  {
   "cell_type": "code",
   "execution_count": null,
   "metadata": {},
   "outputs": [],
   "source": [
    "for i in range(5):\n",
    "    reply = io.doit(add_smooth)\n",
    "    reply = io.doit(add_sup)\n",
    "    reply = io.doit(add_homing)\n",
    "    print (\"CICLO \", i)"
   ]
  },
  {
   "cell_type": "code",
   "execution_count": null,
   "metadata": {},
   "outputs": [],
   "source": [
    "for iD in robot_ids :\n",
    "    ctrl_status_cmd_str('ENGAGE_BRAKE', iD)"
   ]
  },
  {
   "cell_type": "code",
   "execution_count": null,
   "metadata": {},
   "outputs": [],
   "source": [
    "[g for g in io.doit4ids(robot_ids,ctrl_cmd_stop)]"
   ]
  },
  {
   "cell_type": "code",
   "execution_count": null,
   "metadata": {},
   "outputs": [],
   "source": [
    "np.multiply(list(range(9)),10)"
   ]
  },
  {
   "cell_type": "code",
   "execution_count": null,
   "metadata": {},
   "outputs": [],
   "source": []
  }
 ],
 "metadata": {
  "kernelspec": {
   "display_name": "repl",
   "language": "python",
   "name": "repl"
  },
  "language_info": {
   "codemirror_mode": {
    "name": "ipython",
    "version": 3
   },
   "file_extension": ".py",
   "mimetype": "text/x-python",
   "name": "python",
   "nbconvert_exporter": "python",
   "pygments_lexer": "ipython3",
   "version": "3.7.13"
  }
 },
 "nbformat": 4,
 "nbformat_minor": 4
}
