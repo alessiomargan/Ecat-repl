{
 "cells": [
  {
   "cell_type": "code",
   "execution_count": null,
   "metadata": {
    "pycharm": {}
   },
   "outputs": [],
   "source": [
    "%run my_import\n",
    "\n",
    "uri = socket.gethostname()+\".local:5555\"\n",
    "#uri = \"localhost:5555\"\n",
    "#uri = \"com-exp.local:5555\"\n",
    "#uri = \"advantech.local:5555\"\n",
    "#uri = \"hhcm-mio.local:5555\"\n",
    "io = ZmsgIO(uri)\n",
    "\n",
    "# Right Front Leg \n",
    "RFL = [41,42,43,44,45]\n",
    "# Left Front Leg \n",
    "LFL = [71,72,73,74,75]\n",
    "# Right Rear Leg \n",
    "RRL = [51,52,53,54,55]\n",
    "# Left Rear Leg \n",
    "LRL = [61,62,63,64,65]\n",
    "# Right Arm \n",
    "RA = [11,12,13,14,15,16]\n",
    "# Left Arm \n",
    "LA = [21,22,23,24,25,26]\n",
    "# wheels\n",
    "WEE = [46,56,66,76] \n",
    "\n",
    "legs_ids = RFL + LFL + RRL + LRL\n",
    "arms_ids = RA + LA\n",
    "# all \n",
    "robot_ids = legs_ids + arms_ids \n",
    "#robot_ids = RA\n",
    "#robot_ids = list(map(lambda x: x[-1],(RFL,LFL,RRL,LRL)))\n",
    "\n",
    "legs_pitch_ids = RFL[1:-1] + LFL[1:-1] + RRL[1:-1] + LRL[1:-1]\n",
    "\n",
    "# Right Arm home \n",
    "RA_home = [-1.25, 0.25, 0, 1.25, 0, 0]\n",
    "# Left Arm home\n",
    "LA_home = [ 0.75,-0.25, 0,-0.75, 0, 0]\n",
    "\n",
    "homing = {\"type\": \"TRJ_CMD\",\n",
    "          \"trajectory_cmd\": {\"type\": \"HOMING\", \"name\": \"homing\", \"board_id\": 1,\n",
    "                             \"homing_par\": {\"x\": [0,3]}}}\n",
    "\n",
    "xs = [0,1,2,3,4]\n",
    "smooth = {\"type\": \"TRJ_CMD\",\n",
    "          \"trajectory_cmd\": {\"type\": \"SMOOTHER\", \"name\": \"smooth\", \"board_id\": 1,\n",
    "                             \"smooth_par\": {\"x\": xs,\n",
    "                                            \"y\": [0,-0.5,0,0.5,0]}\n",
    "                            }\n",
    "         } \n",
    "\n",
    "smooth_11= {\"type\": \"TRJ_CMD\",\n",
    "             \"trajectory_cmd\": {\"type\": \"SMOOTHER\", \"name\": \"smooth\", \"board_id\": 11,\n",
    "                                \"smooth_par\": {\"x\": xs,\n",
    "                                               \"y\": [-1.25,-2.0,-1.25,-0.25,-1.25]}\n",
    "                               }\n",
    "            } \n",
    "smooth_12 = {\"type\": \"TRJ_CMD\",\n",
    "             \"trajectory_cmd\": {\"type\": \"SMOOTHER\", \"name\": \"smooth\", \"board_id\": 12,\n",
    "                                \"smooth_par\": {\"x\": xs,\n",
    "                                               \"y\": [0.25,-0.25,0.25,0.75,0.25]}\n",
    "                               }\n",
    "            } \n",
    "smooth_14 = {\"type\": \"TRJ_CMD\",\n",
    "             \"trajectory_cmd\": {\"type\": \"SMOOTHER\", \"name\": \"smooth\", \"board_id\": 14,\n",
    "                                \"smooth_par\": {\"x\": xs,\n",
    "                                               \"y\": [1.25,0.25,1.25,2.0,1.25]}\n",
    "                               }\n",
    "            } \n",
    "smooth_21= {\"type\": \"TRJ_CMD\",\n",
    "             \"trajectory_cmd\": {\"type\": \"SMOOTHER\", \"name\": \"smooth\", \"board_id\": 21,\n",
    "                                \"smooth_par\": {\"x\": xs,\n",
    "                                               \"y\": [0.75,1.5,0.75,-0.25,0.75]}\n",
    "                               }\n",
    "            } \n",
    "smooth_22 = {\"type\": \"TRJ_CMD\",\n",
    "             \"trajectory_cmd\": {\"type\": \"SMOOTHER\", \"name\": \"smooth\", \"board_id\": 22,\n",
    "                                \"smooth_par\": {\"x\": xs,\n",
    "                                               \"y\": [-0.25,0.25,-0.25,-0.75,-0.25]}\n",
    "                               }\n",
    "            } \n",
    "smooth_24 = {\"type\": \"TRJ_CMD\",\n",
    "             \"trajectory_cmd\": {\"type\": \"SMOOTHER\", \"name\": \"smooth\", \"board_id\": 24,\n",
    "                                \"smooth_par\": {\"x\": xs,\n",
    "                                               \"y\": [-0.75,-1.5,-0.75,0,-0.75]}\n",
    "                               }\n",
    "            } \n",
    "# 24 -2.5 chiuso 0.35 aperto\n",
    "\n",
    "leg_pitch_pos = {\"type\": \"TRJ_CMD\",\n",
    "                 \"trajectory_cmd\": {\"type\": \"SMOOTHER\",\n",
    "                                    \"name\": \"leg_pitch_pos\",\n",
    "                                    \"board_id\": 1,\n",
    "                                    \"smooth_par\": {\"x\": [0,  1, 2],\n",
    "                                                   \"y\": [0,1.0, 0]}}} \n",
    "\n",
    "leg_pitch_neg = {\"type\": \"TRJ_CMD\",\n",
    "                 \"trajectory_cmd\": {\"type\": \"SMOOTHER\",\n",
    "                                    \"name\": \"leg_pitch_neg\",\n",
    "                                    \"board_id\": 1,\n",
    "                                    \"smooth_par\": {\"x\": [0,   1, 2],\n",
    "                                                   \"y\": [0,-1.0, 0]}\n",
    "                                   }\n",
    "                } \n",
    "\n",
    "\n",
    "\n",
    "add_homing = {\"type\": \"TRJ_QUEUE_CMD\",\n",
    "              \"trj_queue_cmd\": {\"type\": \"PUSH_QUE\", \"trj_names\": [\"homing\"]}}\n",
    "\n",
    "add_smooth = {\"type\": \"TRJ_QUEUE_CMD\",\n",
    "              \"trj_queue_cmd\": {\"type\": \"PUSH_QUE\", \"trj_names\": [\"smooth\"]}}\n",
    "\n",
    "add_leg_pitch = {\"type\": \"TRJ_QUEUE_CMD\",\n",
    "                 \"trj_queue_cmd\": {\"type\": \"PUSH_QUE\", \"trj_names\": [\"leg_pitch_pos\",\"leg_pitch_neg\"]}}\n",
    "\n",
    "io.debug=0"
   ]
  },
  {
   "cell_type": "code",
   "execution_count": null,
   "metadata": {
    "pycharm": {}
   },
   "outputs": [],
   "source": [
    "reply = io.doit(master_cmd_get_slave_descr)\n",
    "slave_descr = yaml.safe_load(reply['msg'])\n",
    "scan_ids = slave_descr.keys()\n",
    "scan_ids"
   ]
  },
  {
   "cell_type": "code",
   "execution_count": null,
   "metadata": {
    "pycharm": {}
   },
   "outputs": [],
   "source": [
    "slave_descr[31]"
   ]
  },
  {
   "cell_type": "code",
   "execution_count": null,
   "metadata": {
    "pycharm": {}
   },
   "outputs": [],
   "source": [
    "[g for g in io.doit4ids(robot_ids,ctrl_cmd_set_home)]\n",
    "\n",
    "for iD,h in zip(RA,RA_home) :\n",
    "    io.doit(ctrl_cmd_set_home.set_value(h).set_bid(iD))\n",
    "\n",
    "for iD,h in zip(LA,LA_home) :\n",
    "    io.doit(ctrl_cmd_set_home.set_value(h).set_bid(iD))"
   ]
  },
  {
   "cell_type": "code",
   "execution_count": null,
   "metadata": {
    "pycharm": {}
   },
   "outputs": [],
   "source": [
    "[g for g in io.doit4ids(robot_ids,ctrl_cmd_fan.set_value(1))]"
   ]
  },
  {
   "cell_type": "code",
   "execution_count": null,
   "metadata": {
    "pycharm": {}
   },
   "outputs": [],
   "source": [
    "[g for g in io.doit4ids(robot_ids,ctrl_cmd_start().set_value(0x3B))]"
   ]
  },
  {
   "cell_type": "code",
   "execution_count": null,
   "metadata": {
    "pycharm": {}
   },
   "outputs": [],
   "source": [
    "# define trajectories\n",
    "# reset trj names ???\n",
    "[g for g in io.doit4ids(robot_ids,homing)]\n",
    "[g for g in io.doit4ids(legs_pitch_ids,leg_pitch_pos)]\n",
    "[g for g in io.doit4ids(legs_pitch_ids,leg_pitch_neg)]\n",
    "[g for g in io.doit4ids(legs_ids,smooth)]\n",
    "[g for g in io.doit4ids(RA,smooth)]\n",
    "io.doit(smooth_11)\n",
    "io.doit(smooth_12)\n",
    "io.doit(smooth_14)\n",
    "[g for g in io.doit4ids(LA,smooth)]\n",
    "io.doit(smooth_21)\n",
    "io.doit(smooth_22)\n",
    "io.doit(smooth_24)"
   ]
  },
  {
   "cell_type": "code",
   "execution_count": null,
   "metadata": {
    "pycharm": {}
   },
   "outputs": [],
   "source": [
    "reply = io.doit(add_homing)"
   ]
  },
  {
   "cell_type": "code",
   "execution_count": null,
   "metadata": {
    "pycharm": {}
   },
   "outputs": [],
   "source": [
    "reply = io.doit(add_smooth)"
   ]
  },
  {
   "cell_type": "code",
   "execution_count": null,
   "metadata": {
    "pycharm": {}
   },
   "outputs": [],
   "source": [
    "reply = io.doit(add_leg_pitch)"
   ]
  },
  {
   "cell_type": "code",
   "execution_count": null,
   "metadata": {
    "pycharm": {}
   },
   "outputs": [],
   "source": [
    "for i in range(100):\n",
    "    reply = io.doit(add_smooth)\n",
    "    reply = io.doit(add_leg_pitch)\n",
    "    print (\"CICLO \", i)\n",
    "    time.sleep(10)\n"
   ]
  },
  {
   "cell_type": "code",
   "execution_count": null,
   "metadata": {
    "pycharm": {}
   },
   "outputs": [],
   "source": [
    "[g for g in io.doit4ids(robot_ids,ctrl_cmd_stop)]"
   ]
  },
  {
   "cell_type": "code",
   "execution_count": null,
   "metadata": {},
   "outputs": [],
   "source": [
    "for iD in robot_ids:\n",
    "    reply = io.doit(SdoCmd(rd_sdo=['motor_pos','motor_vel','link_pos','fault'],wr_sdo={}).set_bid(iD))\n",
    "    yaml_msg = yaml.safe_load(reply['msg'])\n",
    "    print(iD,yaml_msg)"
   ]
  },
  {
   "cell_type": "code",
   "execution_count": null,
   "metadata": {},
   "outputs": [],
   "source": []
  },
  {
   "cell_type": "code",
   "execution_count": null,
   "metadata": {},
   "outputs": [],
   "source": [
    "io.debug=0\n",
    "gains = {}\n",
    "gains['type'] = \"POSITION\"\n",
    "gains['pos_kp'] = 200\n",
    "gains['pos_kd'] = 10\n",
    "gains['tor_kp'] = 0\n",
    "gains['tor_kd'] = 0\n",
    "gains['tor_ki'] = 0\n",
    "[g for g in io.doit4ids(robot_ids,ctrl_cmd_start().set_value(0x3B).set_gains(u'POSITION',200,15,0,0,0))]\n",
    "#[g for g in io.doit4ids(robot_ids,ctrl_cmd_start().set_value(0x3B).set_gains(*gains))]"
   ]
  },
  {
   "cell_type": "code",
   "execution_count": null,
   "metadata": {},
   "outputs": [],
   "source": [
    "io.debug=0\n",
    "for iD in robot_ids:\n",
    "    reply = io.doit(SdoCmd(rd_sdo=['gain_0','gain_1','gain_2','gain_','gain_4'],wr_sdo={}).set_bid(iD))\n",
    "    yaml_msg = yaml.safe_load(reply['msg'])\n",
    "    print(iD,yaml_msg)"
   ]
  },
  {
   "cell_type": "code",
   "execution_count": null,
   "metadata": {},
   "outputs": [],
   "source": []
  },
  {
   "cell_type": "code",
   "execution_count": null,
   "metadata": {},
   "outputs": [],
   "source": [
    "legs_pitch_ids"
   ]
  },
  {
   "cell_type": "code",
   "execution_count": null,
   "metadata": {},
   "outputs": [],
   "source": [
    "rf_pitch = RFL[1:-1]\n",
    "rf_pitch"
   ]
  },
  {
   "cell_type": "code",
   "execution_count": null,
   "metadata": {},
   "outputs": [],
   "source": [
    "list(zip(RA,RA_home))"
   ]
  },
  {
   "cell_type": "code",
   "execution_count": null,
   "metadata": {},
   "outputs": [],
   "source": [
    "list(map(lambda x: x[-1],(RFL,LFL,RRL,LRL)))"
   ]
  },
  {
   "cell_type": "code",
   "execution_count": null,
   "metadata": {},
   "outputs": [],
   "source": []
  },
  {
   "cell_type": "code",
   "execution_count": null,
   "metadata": {},
   "outputs": [],
   "source": []
  },
  {
   "cell_type": "code",
   "execution_count": null,
   "metadata": {},
   "outputs": [],
   "source": [
    "reply = io.doit(SdoInfo(u'SDO_NAME').set_bid(robot_ids[0]))\n",
    "yaml_msg = yaml.safe_load(reply['msg'])\n",
    "sdo_names = yaml_msg\n",
    "sdo_names"
   ]
  },
  {
   "cell_type": "code",
   "execution_count": null,
   "metadata": {},
   "outputs": [],
   "source": []
  }
 ],
 "metadata": {
  "kernelspec": {
   "display_name": "repl",
   "language": "python",
   "name": "repl"
  },
  "language_info": {
   "codemirror_mode": {
    "name": "ipython",
    "version": 3
   },
   "file_extension": ".py",
   "mimetype": "text/x-python",
   "name": "python",
   "nbconvert_exporter": "python",
   "pygments_lexer": "ipython3",
   "version": "3.7.3"
  }
 },
 "nbformat": 4,
 "nbformat_minor": 4
}
